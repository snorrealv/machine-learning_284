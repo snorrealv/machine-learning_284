{
 "cells": [
  {
   "cell_type": "markdown",
   "metadata": {},
   "source": [
    "# *Group Exam INFO284 V21*\n",
    "\n",
    "# *SALE PRICE PREDICTION NYC SALES*\n",
    "# -----------------------------------------------------------------------------------------------------------"
   ]
  },
  {
   "cell_type": "markdown",
   "metadata": {},
   "source": [
    "## Table of contents:\n",
    "\n",
    "#### 1.0 [Introduction](#ex1)\n",
    "> ##### 1.1 [Imports](#imprt)\n",
    "\n",
    "#### 2.0 [Exploring the Data](#explr)\n",
    ">##### 2.1 [The Countinous features](#2.1)\n",
    ">##### 2.2 [The Catagorical features](#2.2)\n",
    "\n",
    "#### 3.0 [Cleaning the Data](#3.0)\n",
    ">##### 3.1 [Dropping Data](#3.1)\n",
    ">##### 3.2 [Cleaning Sales Price](#3.2)\n",
    ">##### 3.3 [Cleaning Square Feet](#3.3)\n",
    ">##### 3.4 [Cleaning Sale Date](#3.4)\n",
    ">##### 3.5 [Cleaning ...Units](#3.5)\n",
    ">##### 3.6 [Cleaning Tax Class](#3.6)\n",
    ">##### 3.7 [Cleaning Building Class](#3.7)\n",
    ">##### 3.8 [Cleaning Borough](#3.8)\n",
    ">##### 3.9 [Cleaning Year Built](#3.9)\n",
    ">##### 3.10 [Cleaning Nieghborhood](#3.10)\n",
    ">##### 3.11 [Cleaning Overview](#3.11)\n",
    "\n",
    "#### 4.0 [Data Pre-Processing](#4.0)\n",
    ">##### 4.1 [Making Categorical Data more Appropriate For Regression Models](#4.0)\n",
    ">##### 4.2 [K-means Unsupervised Learning](#4.2)\n",
    ">##### 4.3 [PCA](#4.3)\n",
    ">##### 4.4 [Categorical Pre Proccesing](#4.4)\n",
    "\n",
    "#### 5.0 [Model Predictions](#5.0)\n",
    ">##### 5.1 [Gaussian and Bernoully Naive Bayes](#5.1)\n",
    ">>##### 5.1.0 [Pre Processing](#5.1.0) \n",
    ">>##### 5.1.1 [Grid Search](#5.1.1)\n",
    ">>##### 5.1.2 [Combined Naive Bayes](#5.1.2)\n",
    ">>##### 5.1.4 [Analysis](#5.1.4)\n",
    "\n",
    ">##### 5.2 [Support Vector Regressor](#5.2)\n",
    ">>##### 5.2.0[Pre Processing](#5.2.0)\n",
    ">>##### 5.2.1[Grid Search](#5.2.1)\n",
    ">>##### 5.2.2[Fitting the Models](#5.2.2)\n",
    ">>##### 5.2.3[SVR()](#5.2.3)\n",
    ">>##### 5.2.4[LinearSVR()](#5.2.4)\n",
    ">>##### 5.2.5[NuSVR()](#5.2.5)\n",
    ">>##### 5.2.6[Analysis](#5.2.6)\n",
    "\n",
    ">##### 5.3 [K-Nearest Neighbor Model](#5.3)\n",
    ">>##### 5.3.0[Pre Processing](#5.3.0)\n",
    ">>##### 5.3.1[Grid Search](#5.3.1)\n",
    ">>##### 5.3.2[KneighborsRegressor()](#5.3.2)\n",
    ">>##### 5.3.3[Analysis](#5.3.3)\n",
    "\n",
    ">##### 5.4 [Linear Regression](#5.4)\n",
    ">>##### 5.4.0[Pre Processing](#5.4.0)\n",
    ">>##### 5.4.1[LinearRegression()](#5.4.1)\n",
    ">>##### 5.4.2[Grid Search](#5.4.2)\n",
    ">>##### 5.4.3[Ridge()](#5.4.3)\n",
    ">>##### 5.4.4[Lasso()](#5.4.4)\n",
    ">>##### 5.4.5[Analysing](#5.4.5)\n",
    "\n",
    ">##### 5.5 [Neural Network](#5.5)\n",
    ">>##### 5.5.0[Pre Processing](#5.5.0)\n",
    ">>##### 5.5.1[Grid Search](#5.5.1)\n",
    ">>##### 5.5.2[MLPRegressor()](#5.5.2)\n",
    ">>##### 5.5.3[Analysing](#5.5.3)\n",
    "\n",
    ">##### 5.6 [Tree Models](#5.6)\n",
    ">>##### 5.6.0[Pre Processing](#5.5.0)\n",
    ">>##### 5.6.1[Grid Search](#5.5.1)\n",
    ">>##### 5.6.2[DecisionTreeRegressor()](#5.4.2)\n",
    ">>##### 5.6.3[RandomForestRegressor()](#5.4.3)\n",
    ">>##### 5.6.4[GradientBoostingRegressor()](#5.4.4)\n",
    ">>##### 5.6.5[Analysing](#5.6.5)\n",
    "\n",
    ">##### 6.0 [Analysis and Conclusion](#6.0)"
   ]
  },
  {
   "cell_type": "code",
   "execution_count": null,
   "metadata": {},
   "outputs": [],
   "source": []
  },
  {
   "cell_type": "code",
   "execution_count": null,
   "metadata": {},
   "outputs": [],
   "source": []
  },
  {
   "cell_type": "markdown",
   "metadata": {},
   "source": [
    "### **Members: Didrik Nettelhorst Krog, Jonas Bech Holtan, Gunnar Hole Gjengedal, Snorre Alvsvåg**\n",
    "\n",
    "\n",
    "## 1.0 Introduction\n",
    "### The task\n",
    "You are supposed to build at least five machine learning models from the NYC Property Sales dataset to predict or\n",
    "classify one relevant target feature for new data points. You can choose target feature yourself, but\n",
    "sales price is perhaps the most suitable. You may also reduce the number of data points somewhat\n",
    "by focusing on only specific meaningful parts of the data. Or perhaps you will try dimension\n",
    "reduction.\n",
    "\n",
    "### Our Approach\n",
    "\n",
    "We will explore our data by conducting a *Exploratory Data Analysis*. Here we will look at the data and make note of important features, non important features, and in general inform ourselves with the data. In part 2, we will generally clean the data, remove empty or unique columns and so on. In part 3 we will start to fit the models, we will also change the data in preparation of each model. And at last we will present the results, and analyze the different approaches we took with out models.\n",
    "\n",
    "We have chosen these supervised machine learning algorythms:\n",
    "\n",
    "1.\n",
    "- K-Nearest Neighbor\n",
    "\n",
    "2.\n",
    "- Decision Tree Regressor\n",
    "- Random Forest Regressor\n",
    "- Gradient Boosting Regressor\n",
    "\n",
    "3.\n",
    "- Linear Reggresion \n",
    "- Ridge Reggression\n",
    "- Lasso Regression\n",
    "\n",
    "4.\n",
    "- Neural Network (MLPRegressor)\n",
    "\n",
    "5.\n",
    "- Support Vector Machine (SVR, LinearSVR, NuSVC, SVC)\n",
    "\n",
    "6.\n",
    "- Gaussian Naive Bayes\n",
    "- Bernoulli Naive Bayes\n",
    "\n",
    "We have chosen one unsupervised machine learning algorythms:\n",
    "\n",
    "- Clustering\n",
    "\n",
    "Moving forward we will start by learing about our data"
   ]
  },
  {
   "cell_type": "markdown",
   "metadata": {},
   "source": [
    "<a name=\"imprt\"></a>\n",
    "### 1.1 Importing Dataset and Others"
   ]
  },
  {
   "cell_type": "code",
   "execution_count": 3,
   "metadata": {},
   "outputs": [
    {
     "ename": "FileNotFoundError",
     "evalue": "[Errno 2] No such file or directory: 'C:\\\\Users\\\\Eier\\\\desktop\\\\Info284\\\\nyc-rolling-sales.csv'",
     "output_type": "error",
     "traceback": [
      "\u001b[0;31m---------------------------------------------------------------------------\u001b[0m",
      "\u001b[0;31mFileNotFoundError\u001b[0m                         Traceback (most recent call last)",
      "\u001b[0;32m<ipython-input-3-974aa49f8839>\u001b[0m in \u001b[0;36m<module>\u001b[0;34m\u001b[0m\n\u001b[1;32m     39\u001b[0m \u001b[0;34m\u001b[0m\u001b[0m\n\u001b[1;32m     40\u001b[0m \u001b[0;31m#Dataset import\u001b[0m\u001b[0;34m\u001b[0m\u001b[0;34m\u001b[0m\u001b[0;34m\u001b[0m\u001b[0m\n\u001b[0;32m---> 41\u001b[0;31m \u001b[0mdf\u001b[0m \u001b[0;34m=\u001b[0m \u001b[0mpd\u001b[0m\u001b[0;34m.\u001b[0m\u001b[0mread_csv\u001b[0m\u001b[0;34m(\u001b[0m\u001b[0;34mr\"C:\\Users\\Eier\\desktop\\Info284\\nyc-rolling-sales.csv\"\u001b[0m\u001b[0;34m)\u001b[0m\u001b[0;34m\u001b[0m\u001b[0;34m\u001b[0m\u001b[0m\n\u001b[0m",
      "\u001b[0;32m~/Documents/machine_learning/machine-learning_284/.venv/lib/python3.9/site-packages/pandas/io/parsers.py\u001b[0m in \u001b[0;36mread_csv\u001b[0;34m(filepath_or_buffer, sep, delimiter, header, names, index_col, usecols, squeeze, prefix, mangle_dupe_cols, dtype, engine, converters, true_values, false_values, skipinitialspace, skiprows, skipfooter, nrows, na_values, keep_default_na, na_filter, verbose, skip_blank_lines, parse_dates, infer_datetime_format, keep_date_col, date_parser, dayfirst, cache_dates, iterator, chunksize, compression, thousands, decimal, lineterminator, quotechar, quoting, doublequote, escapechar, comment, encoding, dialect, error_bad_lines, warn_bad_lines, delim_whitespace, low_memory, memory_map, float_precision, storage_options)\u001b[0m\n\u001b[1;32m    603\u001b[0m     \u001b[0mkwds\u001b[0m\u001b[0;34m.\u001b[0m\u001b[0mupdate\u001b[0m\u001b[0;34m(\u001b[0m\u001b[0mkwds_defaults\u001b[0m\u001b[0;34m)\u001b[0m\u001b[0;34m\u001b[0m\u001b[0;34m\u001b[0m\u001b[0m\n\u001b[1;32m    604\u001b[0m \u001b[0;34m\u001b[0m\u001b[0m\n\u001b[0;32m--> 605\u001b[0;31m     \u001b[0;32mreturn\u001b[0m \u001b[0m_read\u001b[0m\u001b[0;34m(\u001b[0m\u001b[0mfilepath_or_buffer\u001b[0m\u001b[0;34m,\u001b[0m \u001b[0mkwds\u001b[0m\u001b[0;34m)\u001b[0m\u001b[0;34m\u001b[0m\u001b[0;34m\u001b[0m\u001b[0m\n\u001b[0m\u001b[1;32m    606\u001b[0m \u001b[0;34m\u001b[0m\u001b[0m\n\u001b[1;32m    607\u001b[0m \u001b[0;34m\u001b[0m\u001b[0m\n",
      "\u001b[0;32m~/Documents/machine_learning/machine-learning_284/.venv/lib/python3.9/site-packages/pandas/io/parsers.py\u001b[0m in \u001b[0;36m_read\u001b[0;34m(filepath_or_buffer, kwds)\u001b[0m\n\u001b[1;32m    455\u001b[0m \u001b[0;34m\u001b[0m\u001b[0m\n\u001b[1;32m    456\u001b[0m     \u001b[0;31m# Create the parser.\u001b[0m\u001b[0;34m\u001b[0m\u001b[0;34m\u001b[0m\u001b[0;34m\u001b[0m\u001b[0m\n\u001b[0;32m--> 457\u001b[0;31m     \u001b[0mparser\u001b[0m \u001b[0;34m=\u001b[0m \u001b[0mTextFileReader\u001b[0m\u001b[0;34m(\u001b[0m\u001b[0mfilepath_or_buffer\u001b[0m\u001b[0;34m,\u001b[0m \u001b[0;34m**\u001b[0m\u001b[0mkwds\u001b[0m\u001b[0;34m)\u001b[0m\u001b[0;34m\u001b[0m\u001b[0;34m\u001b[0m\u001b[0m\n\u001b[0m\u001b[1;32m    458\u001b[0m \u001b[0;34m\u001b[0m\u001b[0m\n\u001b[1;32m    459\u001b[0m     \u001b[0;32mif\u001b[0m \u001b[0mchunksize\u001b[0m \u001b[0;32mor\u001b[0m \u001b[0miterator\u001b[0m\u001b[0;34m:\u001b[0m\u001b[0;34m\u001b[0m\u001b[0;34m\u001b[0m\u001b[0m\n",
      "\u001b[0;32m~/Documents/machine_learning/machine-learning_284/.venv/lib/python3.9/site-packages/pandas/io/parsers.py\u001b[0m in \u001b[0;36m__init__\u001b[0;34m(self, f, engine, **kwds)\u001b[0m\n\u001b[1;32m    812\u001b[0m             \u001b[0mself\u001b[0m\u001b[0;34m.\u001b[0m\u001b[0moptions\u001b[0m\u001b[0;34m[\u001b[0m\u001b[0;34m\"has_index_names\"\u001b[0m\u001b[0;34m]\u001b[0m \u001b[0;34m=\u001b[0m \u001b[0mkwds\u001b[0m\u001b[0;34m[\u001b[0m\u001b[0;34m\"has_index_names\"\u001b[0m\u001b[0;34m]\u001b[0m\u001b[0;34m\u001b[0m\u001b[0;34m\u001b[0m\u001b[0m\n\u001b[1;32m    813\u001b[0m \u001b[0;34m\u001b[0m\u001b[0m\n\u001b[0;32m--> 814\u001b[0;31m         \u001b[0mself\u001b[0m\u001b[0;34m.\u001b[0m\u001b[0m_engine\u001b[0m \u001b[0;34m=\u001b[0m \u001b[0mself\u001b[0m\u001b[0;34m.\u001b[0m\u001b[0m_make_engine\u001b[0m\u001b[0;34m(\u001b[0m\u001b[0mself\u001b[0m\u001b[0;34m.\u001b[0m\u001b[0mengine\u001b[0m\u001b[0;34m)\u001b[0m\u001b[0;34m\u001b[0m\u001b[0;34m\u001b[0m\u001b[0m\n\u001b[0m\u001b[1;32m    815\u001b[0m \u001b[0;34m\u001b[0m\u001b[0m\n\u001b[1;32m    816\u001b[0m     \u001b[0;32mdef\u001b[0m \u001b[0mclose\u001b[0m\u001b[0;34m(\u001b[0m\u001b[0mself\u001b[0m\u001b[0;34m)\u001b[0m\u001b[0;34m:\u001b[0m\u001b[0;34m\u001b[0m\u001b[0;34m\u001b[0m\u001b[0m\n",
      "\u001b[0;32m~/Documents/machine_learning/machine-learning_284/.venv/lib/python3.9/site-packages/pandas/io/parsers.py\u001b[0m in \u001b[0;36m_make_engine\u001b[0;34m(self, engine)\u001b[0m\n\u001b[1;32m   1043\u001b[0m             )\n\u001b[1;32m   1044\u001b[0m         \u001b[0;31m# error: Too many arguments for \"ParserBase\"\u001b[0m\u001b[0;34m\u001b[0m\u001b[0;34m\u001b[0m\u001b[0;34m\u001b[0m\u001b[0m\n\u001b[0;32m-> 1045\u001b[0;31m         \u001b[0;32mreturn\u001b[0m \u001b[0mmapping\u001b[0m\u001b[0;34m[\u001b[0m\u001b[0mengine\u001b[0m\u001b[0;34m]\u001b[0m\u001b[0;34m(\u001b[0m\u001b[0mself\u001b[0m\u001b[0;34m.\u001b[0m\u001b[0mf\u001b[0m\u001b[0;34m,\u001b[0m \u001b[0;34m**\u001b[0m\u001b[0mself\u001b[0m\u001b[0;34m.\u001b[0m\u001b[0moptions\u001b[0m\u001b[0;34m)\u001b[0m  \u001b[0;31m# type: ignore[call-arg]\u001b[0m\u001b[0;34m\u001b[0m\u001b[0;34m\u001b[0m\u001b[0m\n\u001b[0m\u001b[1;32m   1046\u001b[0m \u001b[0;34m\u001b[0m\u001b[0m\n\u001b[1;32m   1047\u001b[0m     \u001b[0;32mdef\u001b[0m \u001b[0m_failover_to_python\u001b[0m\u001b[0;34m(\u001b[0m\u001b[0mself\u001b[0m\u001b[0;34m)\u001b[0m\u001b[0;34m:\u001b[0m\u001b[0;34m\u001b[0m\u001b[0;34m\u001b[0m\u001b[0m\n",
      "\u001b[0;32m~/Documents/machine_learning/machine-learning_284/.venv/lib/python3.9/site-packages/pandas/io/parsers.py\u001b[0m in \u001b[0;36m__init__\u001b[0;34m(self, src, **kwds)\u001b[0m\n\u001b[1;32m   1860\u001b[0m \u001b[0;34m\u001b[0m\u001b[0m\n\u001b[1;32m   1861\u001b[0m         \u001b[0;31m# open handles\u001b[0m\u001b[0;34m\u001b[0m\u001b[0;34m\u001b[0m\u001b[0;34m\u001b[0m\u001b[0m\n\u001b[0;32m-> 1862\u001b[0;31m         \u001b[0mself\u001b[0m\u001b[0;34m.\u001b[0m\u001b[0m_open_handles\u001b[0m\u001b[0;34m(\u001b[0m\u001b[0msrc\u001b[0m\u001b[0;34m,\u001b[0m \u001b[0mkwds\u001b[0m\u001b[0;34m)\u001b[0m\u001b[0;34m\u001b[0m\u001b[0;34m\u001b[0m\u001b[0m\n\u001b[0m\u001b[1;32m   1863\u001b[0m         \u001b[0;32massert\u001b[0m \u001b[0mself\u001b[0m\u001b[0;34m.\u001b[0m\u001b[0mhandles\u001b[0m \u001b[0;32mis\u001b[0m \u001b[0;32mnot\u001b[0m \u001b[0;32mNone\u001b[0m\u001b[0;34m\u001b[0m\u001b[0;34m\u001b[0m\u001b[0m\n\u001b[1;32m   1864\u001b[0m         \u001b[0;32mfor\u001b[0m \u001b[0mkey\u001b[0m \u001b[0;32min\u001b[0m \u001b[0;34m(\u001b[0m\u001b[0;34m\"storage_options\"\u001b[0m\u001b[0;34m,\u001b[0m \u001b[0;34m\"encoding\"\u001b[0m\u001b[0;34m,\u001b[0m \u001b[0;34m\"memory_map\"\u001b[0m\u001b[0;34m,\u001b[0m \u001b[0;34m\"compression\"\u001b[0m\u001b[0;34m)\u001b[0m\u001b[0;34m:\u001b[0m\u001b[0;34m\u001b[0m\u001b[0;34m\u001b[0m\u001b[0m\n",
      "\u001b[0;32m~/Documents/machine_learning/machine-learning_284/.venv/lib/python3.9/site-packages/pandas/io/parsers.py\u001b[0m in \u001b[0;36m_open_handles\u001b[0;34m(self, src, kwds)\u001b[0m\n\u001b[1;32m   1355\u001b[0m         \u001b[0mLet\u001b[0m \u001b[0mthe\u001b[0m \u001b[0mreaders\u001b[0m \u001b[0mopen\u001b[0m \u001b[0mIOHanldes\u001b[0m \u001b[0mafter\u001b[0m \u001b[0mthey\u001b[0m \u001b[0mare\u001b[0m \u001b[0mdone\u001b[0m \u001b[0;32mwith\u001b[0m \u001b[0mtheir\u001b[0m \u001b[0mpotential\u001b[0m \u001b[0mraises\u001b[0m\u001b[0;34m.\u001b[0m\u001b[0;34m\u001b[0m\u001b[0;34m\u001b[0m\u001b[0m\n\u001b[1;32m   1356\u001b[0m         \"\"\"\n\u001b[0;32m-> 1357\u001b[0;31m         self.handles = get_handle(\n\u001b[0m\u001b[1;32m   1358\u001b[0m             \u001b[0msrc\u001b[0m\u001b[0;34m,\u001b[0m\u001b[0;34m\u001b[0m\u001b[0;34m\u001b[0m\u001b[0m\n\u001b[1;32m   1359\u001b[0m             \u001b[0;34m\"r\"\u001b[0m\u001b[0;34m,\u001b[0m\u001b[0;34m\u001b[0m\u001b[0;34m\u001b[0m\u001b[0m\n",
      "\u001b[0;32m~/Documents/machine_learning/machine-learning_284/.venv/lib/python3.9/site-packages/pandas/io/common.py\u001b[0m in \u001b[0;36mget_handle\u001b[0;34m(path_or_buf, mode, encoding, compression, memory_map, is_text, errors, storage_options)\u001b[0m\n\u001b[1;32m    637\u001b[0m         \u001b[0;32mif\u001b[0m \u001b[0mioargs\u001b[0m\u001b[0;34m.\u001b[0m\u001b[0mencoding\u001b[0m \u001b[0;32mand\u001b[0m \u001b[0;34m\"b\"\u001b[0m \u001b[0;32mnot\u001b[0m \u001b[0;32min\u001b[0m \u001b[0mioargs\u001b[0m\u001b[0;34m.\u001b[0m\u001b[0mmode\u001b[0m\u001b[0;34m:\u001b[0m\u001b[0;34m\u001b[0m\u001b[0;34m\u001b[0m\u001b[0m\n\u001b[1;32m    638\u001b[0m             \u001b[0;31m# Encoding\u001b[0m\u001b[0;34m\u001b[0m\u001b[0;34m\u001b[0m\u001b[0;34m\u001b[0m\u001b[0m\n\u001b[0;32m--> 639\u001b[0;31m             handle = open(\n\u001b[0m\u001b[1;32m    640\u001b[0m                 \u001b[0mhandle\u001b[0m\u001b[0;34m,\u001b[0m\u001b[0;34m\u001b[0m\u001b[0;34m\u001b[0m\u001b[0m\n\u001b[1;32m    641\u001b[0m                 \u001b[0mioargs\u001b[0m\u001b[0;34m.\u001b[0m\u001b[0mmode\u001b[0m\u001b[0;34m,\u001b[0m\u001b[0;34m\u001b[0m\u001b[0;34m\u001b[0m\u001b[0m\n",
      "\u001b[0;31mFileNotFoundError\u001b[0m: [Errno 2] No such file or directory: 'C:\\\\Users\\\\Eier\\\\desktop\\\\Info284\\\\nyc-rolling-sales.csv'"
     ]
    }
   ],
   "source": [
    "#General imports\n",
    "import pandas as pd\n",
    "import numpy as np\n",
    "import matplotlib.pyplot as plt\n",
    "import seaborn as sns\n",
    "from sklearn.metrics import plot_confusion_matrix\n",
    "\n",
    "#Training and test imports\n",
    "from sklearn.model_selection import train_test_split\n",
    "\n",
    "#Machine Learning Models imports\n",
    "from sklearn.neighbors import KNeighborsRegressor\n",
    "from sklearn.linear_model import LinearRegression\n",
    "from sklearn.linear_model import Ridge\n",
    "from sklearn.linear_model import Lasso\n",
    "from sklearn.linear_model import LogisticRegression\n",
    "from sklearn.ensemble import RandomForestRegressor\n",
    "from sklearn.tree import DecisionTreeRegressor\n",
    "from sklearn.ensemble import GradientBoostingRegressor\n",
    "from sklearn.neural_network import MLPRegressor\n",
    "from sklearn.naive_bayes import GaussianNB\n",
    "from sklearn.naive_bayes import BernoulliNB\n",
    "from sklearn.cluster import KMeans\n",
    "from sklearn.svm import SVC\n",
    "from sklearn.svm import LinearSVR, SVR, NuSVR\n",
    "\n",
    "#Encoder import\n",
    "from sklearn.preprocessing import LabelEncoder\n",
    "\n",
    "#Scaling import\n",
    "from sklearn.preprocessing import StandardScaler\n",
    "from sklearn.preprocessing import MinMaxScaler\n",
    "\n",
    "#Grid Search import\n",
    "from sklearn.model_selection import GridSearchCV\n",
    "\n",
    "#PCA import\n",
    "from sklearn.decomposition import PCA\n",
    "\n",
    "#Dataset import\n",
    "df = pd.read_csv(r\"C:\\Users\\Eier\\desktop\\Info284\\nyc-rolling-sales.csv\")"
   ]
  },
  {
   "cell_type": "markdown",
   "metadata": {},
   "source": [
    "<a name=\"explr\"></a>\n",
    "## 2.0 Exploration of the Data"
   ]
  },
  {
   "cell_type": "markdown",
   "metadata": {},
   "source": [
    "**The first thing we need to do is to look at the data to know what we are handling.**"
   ]
  },
  {
   "cell_type": "code",
   "execution_count": 429,
   "metadata": {},
   "outputs": [
    {
     "data": {
      "text/html": [
       "<div>\n",
       "<style scoped>\n",
       "    .dataframe tbody tr th:only-of-type {\n",
       "        vertical-align: middle;\n",
       "    }\n",
       "\n",
       "    .dataframe tbody tr th {\n",
       "        vertical-align: top;\n",
       "    }\n",
       "\n",
       "    .dataframe thead th {\n",
       "        text-align: right;\n",
       "    }\n",
       "</style>\n",
       "<table border=\"1\" class=\"dataframe\">\n",
       "  <thead>\n",
       "    <tr style=\"text-align: right;\">\n",
       "      <th></th>\n",
       "      <th>Unnamed: 0</th>\n",
       "      <th>BOROUGH</th>\n",
       "      <th>NEIGHBORHOOD</th>\n",
       "      <th>BUILDING CLASS CATEGORY</th>\n",
       "      <th>TAX CLASS AT PRESENT</th>\n",
       "      <th>BLOCK</th>\n",
       "      <th>LOT</th>\n",
       "      <th>EASE-MENT</th>\n",
       "      <th>BUILDING CLASS AT PRESENT</th>\n",
       "      <th>ADDRESS</th>\n",
       "      <th>...</th>\n",
       "      <th>RESIDENTIAL UNITS</th>\n",
       "      <th>COMMERCIAL UNITS</th>\n",
       "      <th>TOTAL UNITS</th>\n",
       "      <th>LAND SQUARE FEET</th>\n",
       "      <th>GROSS SQUARE FEET</th>\n",
       "      <th>YEAR BUILT</th>\n",
       "      <th>TAX CLASS AT TIME OF SALE</th>\n",
       "      <th>BUILDING CLASS AT TIME OF SALE</th>\n",
       "      <th>SALE PRICE</th>\n",
       "      <th>SALE DATE</th>\n",
       "    </tr>\n",
       "  </thead>\n",
       "  <tbody>\n",
       "    <tr>\n",
       "      <th>0</th>\n",
       "      <td>4</td>\n",
       "      <td>1</td>\n",
       "      <td>ALPHABET CITY</td>\n",
       "      <td>07 RENTALS - WALKUP APARTMENTS</td>\n",
       "      <td>2A</td>\n",
       "      <td>392</td>\n",
       "      <td>6</td>\n",
       "      <td></td>\n",
       "      <td>C2</td>\n",
       "      <td>153 AVENUE B</td>\n",
       "      <td>...</td>\n",
       "      <td>5</td>\n",
       "      <td>0</td>\n",
       "      <td>5</td>\n",
       "      <td>1633</td>\n",
       "      <td>6440</td>\n",
       "      <td>1900</td>\n",
       "      <td>2</td>\n",
       "      <td>C2</td>\n",
       "      <td>6625000</td>\n",
       "      <td>2017-07-19 00:00:00</td>\n",
       "    </tr>\n",
       "    <tr>\n",
       "      <th>1</th>\n",
       "      <td>5</td>\n",
       "      <td>1</td>\n",
       "      <td>ALPHABET CITY</td>\n",
       "      <td>07 RENTALS - WALKUP APARTMENTS</td>\n",
       "      <td>2</td>\n",
       "      <td>399</td>\n",
       "      <td>26</td>\n",
       "      <td></td>\n",
       "      <td>C7</td>\n",
       "      <td>234 EAST 4TH   STREET</td>\n",
       "      <td>...</td>\n",
       "      <td>28</td>\n",
       "      <td>3</td>\n",
       "      <td>31</td>\n",
       "      <td>4616</td>\n",
       "      <td>18690</td>\n",
       "      <td>1900</td>\n",
       "      <td>2</td>\n",
       "      <td>C7</td>\n",
       "      <td>-</td>\n",
       "      <td>2016-12-14 00:00:00</td>\n",
       "    </tr>\n",
       "    <tr>\n",
       "      <th>2</th>\n",
       "      <td>6</td>\n",
       "      <td>1</td>\n",
       "      <td>ALPHABET CITY</td>\n",
       "      <td>07 RENTALS - WALKUP APARTMENTS</td>\n",
       "      <td>2</td>\n",
       "      <td>399</td>\n",
       "      <td>39</td>\n",
       "      <td></td>\n",
       "      <td>C7</td>\n",
       "      <td>197 EAST 3RD   STREET</td>\n",
       "      <td>...</td>\n",
       "      <td>16</td>\n",
       "      <td>1</td>\n",
       "      <td>17</td>\n",
       "      <td>2212</td>\n",
       "      <td>7803</td>\n",
       "      <td>1900</td>\n",
       "      <td>2</td>\n",
       "      <td>C7</td>\n",
       "      <td>-</td>\n",
       "      <td>2016-12-09 00:00:00</td>\n",
       "    </tr>\n",
       "    <tr>\n",
       "      <th>3</th>\n",
       "      <td>7</td>\n",
       "      <td>1</td>\n",
       "      <td>ALPHABET CITY</td>\n",
       "      <td>07 RENTALS - WALKUP APARTMENTS</td>\n",
       "      <td>2B</td>\n",
       "      <td>402</td>\n",
       "      <td>21</td>\n",
       "      <td></td>\n",
       "      <td>C4</td>\n",
       "      <td>154 EAST 7TH STREET</td>\n",
       "      <td>...</td>\n",
       "      <td>10</td>\n",
       "      <td>0</td>\n",
       "      <td>10</td>\n",
       "      <td>2272</td>\n",
       "      <td>6794</td>\n",
       "      <td>1913</td>\n",
       "      <td>2</td>\n",
       "      <td>C4</td>\n",
       "      <td>3936272</td>\n",
       "      <td>2016-09-23 00:00:00</td>\n",
       "    </tr>\n",
       "    <tr>\n",
       "      <th>4</th>\n",
       "      <td>8</td>\n",
       "      <td>1</td>\n",
       "      <td>ALPHABET CITY</td>\n",
       "      <td>07 RENTALS - WALKUP APARTMENTS</td>\n",
       "      <td>2A</td>\n",
       "      <td>404</td>\n",
       "      <td>55</td>\n",
       "      <td></td>\n",
       "      <td>C2</td>\n",
       "      <td>301 EAST 10TH   STREET</td>\n",
       "      <td>...</td>\n",
       "      <td>6</td>\n",
       "      <td>0</td>\n",
       "      <td>6</td>\n",
       "      <td>2369</td>\n",
       "      <td>4615</td>\n",
       "      <td>1900</td>\n",
       "      <td>2</td>\n",
       "      <td>C2</td>\n",
       "      <td>8000000</td>\n",
       "      <td>2016-11-17 00:00:00</td>\n",
       "    </tr>\n",
       "    <tr>\n",
       "      <th>5</th>\n",
       "      <td>9</td>\n",
       "      <td>1</td>\n",
       "      <td>ALPHABET CITY</td>\n",
       "      <td>07 RENTALS - WALKUP APARTMENTS</td>\n",
       "      <td>2</td>\n",
       "      <td>405</td>\n",
       "      <td>16</td>\n",
       "      <td></td>\n",
       "      <td>C4</td>\n",
       "      <td>516 EAST 12TH   STREET</td>\n",
       "      <td>...</td>\n",
       "      <td>20</td>\n",
       "      <td>0</td>\n",
       "      <td>20</td>\n",
       "      <td>2581</td>\n",
       "      <td>9730</td>\n",
       "      <td>1900</td>\n",
       "      <td>2</td>\n",
       "      <td>C4</td>\n",
       "      <td>-</td>\n",
       "      <td>2017-07-20 00:00:00</td>\n",
       "    </tr>\n",
       "    <tr>\n",
       "      <th>6</th>\n",
       "      <td>10</td>\n",
       "      <td>1</td>\n",
       "      <td>ALPHABET CITY</td>\n",
       "      <td>07 RENTALS - WALKUP APARTMENTS</td>\n",
       "      <td>2B</td>\n",
       "      <td>406</td>\n",
       "      <td>32</td>\n",
       "      <td></td>\n",
       "      <td>C4</td>\n",
       "      <td>210 AVENUE B</td>\n",
       "      <td>...</td>\n",
       "      <td>8</td>\n",
       "      <td>0</td>\n",
       "      <td>8</td>\n",
       "      <td>1750</td>\n",
       "      <td>4226</td>\n",
       "      <td>1920</td>\n",
       "      <td>2</td>\n",
       "      <td>C4</td>\n",
       "      <td>3192840</td>\n",
       "      <td>2016-09-23 00:00:00</td>\n",
       "    </tr>\n",
       "    <tr>\n",
       "      <th>7</th>\n",
       "      <td>11</td>\n",
       "      <td>1</td>\n",
       "      <td>ALPHABET CITY</td>\n",
       "      <td>07 RENTALS - WALKUP APARTMENTS</td>\n",
       "      <td>2</td>\n",
       "      <td>407</td>\n",
       "      <td>18</td>\n",
       "      <td></td>\n",
       "      <td>C7</td>\n",
       "      <td>520 EAST 14TH   STREET</td>\n",
       "      <td>...</td>\n",
       "      <td>44</td>\n",
       "      <td>2</td>\n",
       "      <td>46</td>\n",
       "      <td>5163</td>\n",
       "      <td>21007</td>\n",
       "      <td>1900</td>\n",
       "      <td>2</td>\n",
       "      <td>C7</td>\n",
       "      <td>-</td>\n",
       "      <td>2017-07-20 00:00:00</td>\n",
       "    </tr>\n",
       "    <tr>\n",
       "      <th>8</th>\n",
       "      <td>12</td>\n",
       "      <td>1</td>\n",
       "      <td>ALPHABET CITY</td>\n",
       "      <td>08 RENTALS - ELEVATOR APARTMENTS</td>\n",
       "      <td>2</td>\n",
       "      <td>379</td>\n",
       "      <td>34</td>\n",
       "      <td></td>\n",
       "      <td>D5</td>\n",
       "      <td>141 AVENUE D</td>\n",
       "      <td>...</td>\n",
       "      <td>15</td>\n",
       "      <td>0</td>\n",
       "      <td>15</td>\n",
       "      <td>1534</td>\n",
       "      <td>9198</td>\n",
       "      <td>1920</td>\n",
       "      <td>2</td>\n",
       "      <td>D5</td>\n",
       "      <td>-</td>\n",
       "      <td>2017-06-20 00:00:00</td>\n",
       "    </tr>\n",
       "    <tr>\n",
       "      <th>9</th>\n",
       "      <td>13</td>\n",
       "      <td>1</td>\n",
       "      <td>ALPHABET CITY</td>\n",
       "      <td>08 RENTALS - ELEVATOR APARTMENTS</td>\n",
       "      <td>2</td>\n",
       "      <td>387</td>\n",
       "      <td>153</td>\n",
       "      <td></td>\n",
       "      <td>D9</td>\n",
       "      <td>629 EAST 5TH STREET</td>\n",
       "      <td>...</td>\n",
       "      <td>24</td>\n",
       "      <td>0</td>\n",
       "      <td>24</td>\n",
       "      <td>4489</td>\n",
       "      <td>18523</td>\n",
       "      <td>1920</td>\n",
       "      <td>2</td>\n",
       "      <td>D9</td>\n",
       "      <td>16232000</td>\n",
       "      <td>2016-11-07 00:00:00</td>\n",
       "    </tr>\n",
       "  </tbody>\n",
       "</table>\n",
       "<p>10 rows × 22 columns</p>\n",
       "</div>"
      ],
      "text/plain": [
       "   Unnamed: 0  BOROUGH   NEIGHBORHOOD  \\\n",
       "0           4        1  ALPHABET CITY   \n",
       "1           5        1  ALPHABET CITY   \n",
       "2           6        1  ALPHABET CITY   \n",
       "3           7        1  ALPHABET CITY   \n",
       "4           8        1  ALPHABET CITY   \n",
       "5           9        1  ALPHABET CITY   \n",
       "6          10        1  ALPHABET CITY   \n",
       "7          11        1  ALPHABET CITY   \n",
       "8          12        1  ALPHABET CITY   \n",
       "9          13        1  ALPHABET CITY   \n",
       "\n",
       "                       BUILDING CLASS CATEGORY TAX CLASS AT PRESENT  BLOCK  \\\n",
       "0  07 RENTALS - WALKUP APARTMENTS                                2A    392   \n",
       "1  07 RENTALS - WALKUP APARTMENTS                                 2    399   \n",
       "2  07 RENTALS - WALKUP APARTMENTS                                 2    399   \n",
       "3  07 RENTALS - WALKUP APARTMENTS                                2B    402   \n",
       "4  07 RENTALS - WALKUP APARTMENTS                                2A    404   \n",
       "5  07 RENTALS - WALKUP APARTMENTS                                 2    405   \n",
       "6  07 RENTALS - WALKUP APARTMENTS                                2B    406   \n",
       "7  07 RENTALS - WALKUP APARTMENTS                                 2    407   \n",
       "8  08 RENTALS - ELEVATOR APARTMENTS                               2    379   \n",
       "9  08 RENTALS - ELEVATOR APARTMENTS                               2    387   \n",
       "\n",
       "   LOT EASE-MENT BUILDING CLASS AT PRESENT                 ADDRESS  ...  \\\n",
       "0    6                                  C2            153 AVENUE B  ...   \n",
       "1   26                                  C7   234 EAST 4TH   STREET  ...   \n",
       "2   39                                  C7   197 EAST 3RD   STREET  ...   \n",
       "3   21                                  C4     154 EAST 7TH STREET  ...   \n",
       "4   55                                  C2  301 EAST 10TH   STREET  ...   \n",
       "5   16                                  C4  516 EAST 12TH   STREET  ...   \n",
       "6   32                                  C4            210 AVENUE B  ...   \n",
       "7   18                                  C7  520 EAST 14TH   STREET  ...   \n",
       "8   34                                  D5            141 AVENUE D  ...   \n",
       "9  153                                  D9     629 EAST 5TH STREET  ...   \n",
       "\n",
       "  RESIDENTIAL UNITS  COMMERCIAL UNITS  TOTAL UNITS  LAND SQUARE FEET  \\\n",
       "0                 5                 0            5              1633   \n",
       "1                28                 3           31              4616   \n",
       "2                16                 1           17              2212   \n",
       "3                10                 0           10              2272   \n",
       "4                 6                 0            6              2369   \n",
       "5                20                 0           20              2581   \n",
       "6                 8                 0            8              1750   \n",
       "7                44                 2           46              5163   \n",
       "8                15                 0           15              1534   \n",
       "9                24                 0           24              4489   \n",
       "\n",
       "   GROSS SQUARE FEET YEAR BUILT TAX CLASS AT TIME OF SALE  \\\n",
       "0               6440       1900                         2   \n",
       "1              18690       1900                         2   \n",
       "2               7803       1900                         2   \n",
       "3               6794       1913                         2   \n",
       "4               4615       1900                         2   \n",
       "5               9730       1900                         2   \n",
       "6               4226       1920                         2   \n",
       "7              21007       1900                         2   \n",
       "8               9198       1920                         2   \n",
       "9              18523       1920                         2   \n",
       "\n",
       "   BUILDING CLASS AT TIME OF SALE  SALE PRICE            SALE DATE  \n",
       "0                              C2     6625000  2017-07-19 00:00:00  \n",
       "1                              C7         -    2016-12-14 00:00:00  \n",
       "2                              C7         -    2016-12-09 00:00:00  \n",
       "3                              C4     3936272  2016-09-23 00:00:00  \n",
       "4                              C2     8000000  2016-11-17 00:00:00  \n",
       "5                              C4         -    2017-07-20 00:00:00  \n",
       "6                              C4     3192840  2016-09-23 00:00:00  \n",
       "7                              C7         -    2017-07-20 00:00:00  \n",
       "8                              D5         -    2017-06-20 00:00:00  \n",
       "9                              D9    16232000  2016-11-07 00:00:00  \n",
       "\n",
       "[10 rows x 22 columns]"
      ]
     },
     "execution_count": 429,
     "metadata": {},
     "output_type": "execute_result"
    }
   ],
   "source": [
    "df.head(10)"
   ]
  },
  {
   "cell_type": "code",
   "execution_count": 430,
   "metadata": {},
   "outputs": [
    {
     "data": {
      "text/plain": [
       "(84548, 22)"
      ]
     },
     "execution_count": 430,
     "metadata": {},
     "output_type": "execute_result"
    }
   ],
   "source": [
    "df.shape"
   ]
  },
  {
   "cell_type": "markdown",
   "metadata": {},
   "source": [
    "**As the shape above shows, this dataset is extremely large and this will affect our Models.**"
   ]
  },
  {
   "cell_type": "code",
   "execution_count": 431,
   "metadata": {},
   "outputs": [
    {
     "name": "stdout",
     "output_type": "stream",
     "text": [
      "<class 'pandas.core.frame.DataFrame'>\n",
      "RangeIndex: 84548 entries, 0 to 84547\n",
      "Data columns (total 22 columns):\n",
      "Unnamed: 0                        84548 non-null int64\n",
      "BOROUGH                           84548 non-null int64\n",
      "NEIGHBORHOOD                      84548 non-null object\n",
      "BUILDING CLASS CATEGORY           84548 non-null object\n",
      "TAX CLASS AT PRESENT              84548 non-null object\n",
      "BLOCK                             84548 non-null int64\n",
      "LOT                               84548 non-null int64\n",
      "EASE-MENT                         84548 non-null object\n",
      "BUILDING CLASS AT PRESENT         84548 non-null object\n",
      "ADDRESS                           84548 non-null object\n",
      "APARTMENT NUMBER                  84548 non-null object\n",
      "ZIP CODE                          84548 non-null int64\n",
      "RESIDENTIAL UNITS                 84548 non-null int64\n",
      "COMMERCIAL UNITS                  84548 non-null int64\n",
      "TOTAL UNITS                       84548 non-null int64\n",
      "LAND SQUARE FEET                  84548 non-null object\n",
      "GROSS SQUARE FEET                 84548 non-null object\n",
      "YEAR BUILT                        84548 non-null int64\n",
      "TAX CLASS AT TIME OF SALE         84548 non-null int64\n",
      "BUILDING CLASS AT TIME OF SALE    84548 non-null object\n",
      "SALE PRICE                        84548 non-null object\n",
      "SALE DATE                         84548 non-null object\n",
      "dtypes: int64(10), object(12)\n",
      "memory usage: 14.2+ MB\n"
     ]
    }
   ],
   "source": [
    "df.info()"
   ]
  },
  {
   "cell_type": "markdown",
   "metadata": {},
   "source": [
    "**We have several different types of data that are both object  and continous. Before going on cleaning the data, it is necassary for this assignment that we convert them to the appropriate types.**\n",
    "\n",
    "**For our models to work, we need to clean up every single feature and check if the feature has to be categorical or continous. Just by looking at the list above, we can get some sense off which features that need to be categorical and continous.**\n",
    "<a name=\"2.1\"></a>\n",
    "### 2.1 **The countinous features**\n",
    "\n",
    "- SALE PRICE\n",
    "    - Depending on which models we are using, 'SALE PRICE' will be continous and categorical. This is because this feature will       serve as our target feature and must be the apprioriate type for the specific models. \n",
    "    \n",
    "- LAND SQUARE FEET\n",
    "    - The land area of the property listed in square feet.\n",
    "    \n",
    "- GROSS SQUARE FEET \n",
    "    - The total area of all the floors of a building as measured from the exterior surfaces of the outside walls of the\n",
    "      building, including the land area and space within any building or structure on the property.\n",
    "      \n",
    "- SALE DATE \n",
    "    - This is going to be categorical and converted to 'MONTH SOLD' and 'YEAR SOLD' because of the feature having the type           TimeStamp. 'MONTH SOLD' is the month of when the property is sold. 'YEAR SOLD' is the year the\n",
    "      property was sold.\n",
    "    \n",
    "- COMMERCIAL UNITS\n",
    "    - The number of commercial units at the listed property.\n",
    "    \n",
    "- RESIDENTIAL UNITS \n",
    "    - The number of residential units at the listed property.\n",
    "    \n",
    "- TOTAL UNITS\n",
    "    - The total number of units at the listed property.\n",
    "    \n",
    "- BLOCK\n",
    "    - Because there are more than 11k unique blocks in the dataset, it doesn't make sense to define it as a categorical \n",
    "      variable\n",
    "      \n",
    "- LOT\n",
    "    - The same reason as 'BLOCK' feature\n",
    "<a name = \"2.2\"></a>\n",
    "\n",
    "### 2.2 **The categorical features**\n",
    "\n",
    "- BOROUGH\n",
    "    - A digit code for the borough the property is located in. In order, these are Manhattan (1), Bronx (2), Brooklyn (3),\n",
    "      Queens (4), and Staten Island (5).\n",
    "      \n",
    "- NEIGHBORHOOD\n",
    "    - Names of the neighboohoods, these will work better as a categorical feature than a numerical\n",
    "    \n",
    "- ZIP CODE\n",
    "    - The property’s postal code. Makes more sense being categorical because it contains a finite number of distinct groups.\n",
    "    \n",
    "- BUILDING CLASS CATEGORY\n",
    "    - Easier identifiable categories of the possible types of buldings.\n",
    "    \n",
    "- TAX CLASS AT PRESENT\n",
    "    - Every property in the city is assigned to one of four tax classes, based on the use of the property.\n",
    "    \n",
    "- BUILDING CLASS AT PRESENT\n",
    "    - The Building Classification is used to describe a property’s constructive use. The first position of the Building Class\n",
    "      is a letter that is used to describe a general class of properties. The second position, a number, adds more specific\n",
    "      information about the property’s use or construction style.\n",
    "      \n",
    "- YEAR BUILT\n",
    "    - Year the structure on the property was built.\n",
    "    \n",
    "- TAX CLASS AT TIME OF SALE\n",
    "    - See 'TAX CLASS AT PRESENT'\n",
    "    \n",
    "- BUILDING CLASS AT TIME OF SALE\n",
    "    - See 'BUILDING CLASS AT PRSENT'\n",
    "\n",
    "**The features we defintely dont need is :**\n",
    "\n",
    "- Unnamed: 0 \n",
    "    - Dropping it because it just looks like an iterator\n",
    "    \n",
    "- EASE-MENT \n",
    "    - Because it doesn't contains any values\n",
    "    \n",
    "- APARTMENT NUMBER \n",
    "    - The number of the apartment is not relevant for sale price\n",
    "    \n",
    "- ADDRESS\n",
    "    - Address is just listed as names and we feel that it won't affect the sales price prediction at all."
   ]
  },
  {
   "cell_type": "markdown",
   "metadata": {},
   "source": [
    "<a name=\"3.0\"></a>\n",
    "## 3.0 Cleaning the Overall Data"
   ]
  },
  {
   "cell_type": "markdown",
   "metadata": {},
   "source": [
    "**The next session is about converting, reducing and cleaning the features we are going to use in our models. The type of cleaning we are doing here is for the Regression and Tree Models we are using later in the code. Since we also are using Gaussian and Bernoulli Naive Bayes Models, there will be a second data cleaning and pre-processing later in the code after the codes mentioned above.**\n",
    "\n",
    "**Either way, the most important in this data cleaning here is to convert the necessary features to more appropriate types and remove most of the outliers. We will end up with some outliers either way because of the complexity of our dataset. However, with our Unsupervised Machine Learning Model, k-means, the models is expected to perform good even with many outliers.** "
   ]
  },
  {
   "cell_type": "markdown",
   "metadata": {},
   "source": [
    "<a name=\"3.1\"></a>\n",
    "### 3.1 Dropping Data"
   ]
  },
  {
   "cell_type": "markdown",
   "metadata": {},
   "source": [
    "Dropping the features we definetly dont need"
   ]
  },
  {
   "cell_type": "code",
   "execution_count": 432,
   "metadata": {},
   "outputs": [],
   "source": [
    "df = df.drop(['EASE-MENT', 'Unnamed: 0', 'APARTMENT NUMBER', \"ADDRESS\"], axis=1)"
   ]
  },
  {
   "cell_type": "markdown",
   "metadata": {},
   "source": [
    "Checking the dataset for any duplicates"
   ]
  },
  {
   "cell_type": "code",
   "execution_count": 433,
   "metadata": {},
   "outputs": [
    {
     "data": {
      "text/plain": [
       "956"
      ]
     },
     "execution_count": 433,
     "metadata": {},
     "output_type": "execute_result"
    }
   ],
   "source": [
    "sum(df.duplicated(df.columns))"
   ]
  },
  {
   "cell_type": "markdown",
   "metadata": {},
   "source": [
    "Removing the duplicates"
   ]
  },
  {
   "cell_type": "code",
   "execution_count": 434,
   "metadata": {},
   "outputs": [
    {
     "data": {
      "text/plain": [
       "0"
      ]
     },
     "execution_count": 434,
     "metadata": {},
     "output_type": "execute_result"
    }
   ],
   "source": [
    "df = df.drop_duplicates(df.columns, keep='last')\n",
    "sum(df.duplicated(df.columns))"
   ]
  },
  {
   "cell_type": "markdown",
   "metadata": {},
   "source": [
    "Checking if there are any null values in the dataframe"
   ]
  },
  {
   "cell_type": "code",
   "execution_count": 435,
   "metadata": {},
   "outputs": [
    {
     "data": {
      "text/plain": [
       "(BOROUGH                           False\n",
       " NEIGHBORHOOD                      False\n",
       " BUILDING CLASS CATEGORY           False\n",
       " TAX CLASS AT PRESENT              False\n",
       " BLOCK                             False\n",
       " LOT                               False\n",
       " BUILDING CLASS AT PRESENT         False\n",
       " ZIP CODE                          False\n",
       " RESIDENTIAL UNITS                 False\n",
       " COMMERCIAL UNITS                  False\n",
       " TOTAL UNITS                       False\n",
       " LAND SQUARE FEET                  False\n",
       " GROSS SQUARE FEET                 False\n",
       " YEAR BUILT                        False\n",
       " TAX CLASS AT TIME OF SALE         False\n",
       " BUILDING CLASS AT TIME OF SALE    False\n",
       " SALE PRICE                        False\n",
       " SALE DATE                         False\n",
       " dtype: bool, BOROUGH                           False\n",
       " NEIGHBORHOOD                      False\n",
       " BUILDING CLASS CATEGORY           False\n",
       " TAX CLASS AT PRESENT              False\n",
       " BLOCK                             False\n",
       " LOT                               False\n",
       " BUILDING CLASS AT PRESENT         False\n",
       " ZIP CODE                          False\n",
       " RESIDENTIAL UNITS                 False\n",
       " COMMERCIAL UNITS                  False\n",
       " TOTAL UNITS                       False\n",
       " LAND SQUARE FEET                  False\n",
       " GROSS SQUARE FEET                 False\n",
       " YEAR BUILT                        False\n",
       " TAX CLASS AT TIME OF SALE         False\n",
       " BUILDING CLASS AT TIME OF SALE    False\n",
       " SALE PRICE                        False\n",
       " SALE DATE                         False\n",
       " dtype: bool)"
      ]
     },
     "execution_count": 435,
     "metadata": {},
     "output_type": "execute_result"
    }
   ],
   "source": [
    "df.isna().any(), df.isnull().any()"
   ]
  },
  {
   "cell_type": "markdown",
   "metadata": {},
   "source": [
    "Replacing empty or '-' values with NaN"
   ]
  },
  {
   "cell_type": "code",
   "execution_count": 436,
   "metadata": {},
   "outputs": [],
   "source": [
    "df = df.replace(' ', np.nan)\n",
    "df = df.replace(' -  ', np.nan)"
   ]
  },
  {
   "cell_type": "markdown",
   "metadata": {},
   "source": [
    "An overview of where the NaN values are. "
   ]
  },
  {
   "cell_type": "code",
   "execution_count": 437,
   "metadata": {},
   "outputs": [
    {
     "name": "stdout",
     "output_type": "stream",
     "text": [
      "Percentage null or na values in Dataset\n",
      "-------------------------------------\n"
     ]
    },
    {
     "data": {
      "text/plain": [
       "BOROUGH                            0.00\n",
       "NEIGHBORHOOD                       0.00\n",
       "BUILDING CLASS CATEGORY            0.00\n",
       "TAX CLASS AT PRESENT               0.88\n",
       "BLOCK                              0.00\n",
       "LOT                                0.00\n",
       "BUILDING CLASS AT PRESENT          0.88\n",
       "ZIP CODE                           0.00\n",
       "RESIDENTIAL UNITS                  0.00\n",
       "COMMERCIAL UNITS                   0.00\n",
       "TOTAL UNITS                        0.00\n",
       "LAND SQUARE FEET                  31.05\n",
       "GROSS SQUARE FEET                 32.64\n",
       "YEAR BUILT                         0.00\n",
       "TAX CLASS AT TIME OF SALE          0.00\n",
       "BUILDING CLASS AT TIME OF SALE     0.00\n",
       "SALE PRICE                        16.84\n",
       "SALE DATE                          0.00\n",
       "dtype: float64"
      ]
     },
     "execution_count": 437,
     "metadata": {},
     "output_type": "execute_result"
    }
   ],
   "source": [
    "print(\"Percentage null or na values in Dataset\\n-------------------------------------\")\n",
    "((df.isnull() | df.isna()).sum() * 100 / df.index.size).round(2)"
   ]
  },
  {
   "cell_type": "markdown",
   "metadata": {},
   "source": [
    "** Removing some of the features **\n",
    "\n",
    "Before further inspections, we decided to remove some more of the features because we dont think they are necessary and by that reducing some complexity in this dataset. These are:\n",
    "\n",
    "- \"ZIP CODE\" : \n",
    "\n",
    "- \"BLOCK\" :\n",
    "\n",
    "- \"LOT\" : "
   ]
  },
  {
   "cell_type": "code",
   "execution_count": 438,
   "metadata": {},
   "outputs": [],
   "source": [
    "df = df.drop(['ZIP CODE', 'BLOCK', 'LOT'], axis=1)"
   ]
  },
  {
   "cell_type": "markdown",
   "metadata": {},
   "source": [
    "<a name=\"3.2\"></a>\n",
    "### 3.2 Cleaning Sale Price"
   ]
  },
  {
   "cell_type": "markdown",
   "metadata": {},
   "source": [
    "Dropping all the NaN values"
   ]
  },
  {
   "cell_type": "code",
   "execution_count": 439,
   "metadata": {},
   "outputs": [],
   "source": [
    "df = df.dropna(subset=['SALE PRICE'])"
   ]
  },
  {
   "cell_type": "markdown",
   "metadata": {},
   "source": [
    "Converting 'SALE PRICE' to a more appropriate type"
   ]
  },
  {
   "cell_type": "code",
   "execution_count": 440,
   "metadata": {},
   "outputs": [],
   "source": [
    "df[\"SALE PRICE\"] = df[\"SALE PRICE\"].astype(float)"
   ]
  },
  {
   "cell_type": "markdown",
   "metadata": {},
   "source": [
    "Making a diagram to get a view of how 'SALE PRICE' is distributed"
   ]
  },
  {
   "cell_type": "code",
   "execution_count": 441,
   "metadata": {},
   "outputs": [
    {
     "data": {
      "image/png": "[encoded data removed]",
      "text/plain": [
       "<Figure size 864x432 with 1 Axes>"
      ]
     },
     "metadata": {
      "needs_background": "light"
     },
     "output_type": "display_data"
    }
   ],
   "source": [
    "plt.figure(figsize=(12,6))\n",
    "sns.distplot(df['SALE PRICE'], kde=True, bins=50, rug=True)\n",
    "plt.show()"
   ]
  },
  {
   "cell_type": "markdown",
   "metadata": {},
   "source": [
    "From the distribution above, there are a lot of outliers around 2.000.000 and above. At the same time, the majority of the values are close to 0. The most optimal place seems to be between 3.000.000 and 0."
   ]
  },
  {
   "cell_type": "code",
   "execution_count": 442,
   "metadata": {},
   "outputs": [
    {
     "data": {
      "text/plain": [
       "0.22136712793808797"
      ]
     },
     "execution_count": 442,
     "metadata": {},
     "output_type": "execute_result"
    }
   ],
   "source": [
    "df[(df['SALE PRICE'] < 10000) | (df['SALE PRICE'] > 3000000)]['SALE PRICE'].count() /len(df) "
   ]
  },
  {
   "cell_type": "markdown",
   "metadata": {},
   "source": [
    "This shows that 22% of the values are either greater than 3.000.000 or less than 10.000. We remove this to get a better distribution of 'SALE PRICE'"
   ]
  },
  {
   "cell_type": "code",
   "execution_count": 443,
   "metadata": {},
   "outputs": [],
   "source": [
    "df= df[(df['SALE PRICE'] > 10000) & (df['SALE PRICE']<3000000)]"
   ]
  },
  {
   "cell_type": "code",
   "execution_count": 444,
   "metadata": {},
   "outputs": [
    {
     "data": {
      "text/plain": [
       "450000.0    426\n",
       "550000.0    416\n",
       "650000.0    413\n",
       "600000.0    409\n",
       "700000.0    382\n",
       "400000.0    377\n",
       "750000.0    376\n",
       "500000.0    350\n",
       "300000.0    348\n",
       "350000.0    341\n",
       "Name: SALE PRICE, dtype: int64"
      ]
     },
     "execution_count": 444,
     "metadata": {},
     "output_type": "execute_result"
    }
   ],
   "source": [
    "df['SALE PRICE'].value_counts().head(10)"
   ]
  },
  {
   "cell_type": "code",
   "execution_count": 445,
   "metadata": {},
   "outputs": [
    {
     "data": {
      "image/png": "[encoded data removed]",
      "text/plain": [
       "<Figure size 864x432 with 1 Axes>"
      ]
     },
     "metadata": {
      "needs_background": "light"
     },
     "output_type": "display_data"
    }
   ],
   "source": [
    "plt.figure(figsize=(12,6))\n",
    "sns.distplot(df['SALE PRICE'], kde=True, bins=50, rug=True)\n",
    "plt.show()"
   ]
  },
  {
   "cell_type": "markdown",
   "metadata": {},
   "source": [
    "**The 'SALE PRICE' feature, our target feature, is now more appropriated distributed for our models.**"
   ]
  },
  {
   "cell_type": "markdown",
   "metadata": {},
   "source": [
    "<a name=\"3.3\"><a>\n",
    "### 3.3 Cleaning Square Feet"
   ]
  },
  {
   "cell_type": "markdown",
   "metadata": {},
   "source": [
    "There are a lot of missing values in these features.\n",
    "We can either fill them up with the mean average or remove them.\n",
    "\n",
    "For the time being, lets remove this missing features."
   ]
  },
  {
   "cell_type": "code",
   "execution_count": 446,
   "metadata": {},
   "outputs": [],
   "source": [
    "df = df.dropna(subset=['LAND SQUARE FEET'])\n",
    "df = df.dropna(subset=['GROSS SQUARE FEET'])"
   ]
  },
  {
   "cell_type": "markdown",
   "metadata": {},
   "source": [
    "Converting the features to a more appropriate type"
   ]
  },
  {
   "cell_type": "code",
   "execution_count": 447,
   "metadata": {},
   "outputs": [],
   "source": [
    "df['LAND SQUARE FEET'] = df['LAND SQUARE FEET'].astype(float)\n",
    "df['GROSS SQUARE FEET'] = df['GROSS SQUARE FEET'].astype(float)"
   ]
  },
  {
   "cell_type": "code",
   "execution_count": 448,
   "metadata": {},
   "outputs": [
    {
     "data": {
      "text/plain": [
       "0.0       7854\n",
       "2000.0    2303\n",
       "2500.0    2028\n",
       "4000.0    1820\n",
       "1800.0     754\n",
       "3000.0     734\n",
       "5000.0     549\n",
       "2400.0     327\n",
       "1900.0     303\n",
       "6000.0     271\n",
       "Name: LAND SQUARE FEET, dtype: int64"
      ]
     },
     "execution_count": 448,
     "metadata": {},
     "output_type": "execute_result"
    }
   ],
   "source": [
    "df['LAND SQUARE FEET'].value_counts().head(10)"
   ]
  },
  {
   "cell_type": "code",
   "execution_count": 449,
   "metadata": {},
   "outputs": [
    {
     "data": {
      "text/plain": [
       "0.0       8256\n",
       "1800.0     242\n",
       "1600.0     235\n",
       "1440.0     232\n",
       "2400.0     229\n",
       "2000.0     221\n",
       "1200.0     200\n",
       "1280.0     188\n",
       "3000.0     173\n",
       "1224.0     164\n",
       "Name: GROSS SQUARE FEET, dtype: int64"
      ]
     },
     "execution_count": 449,
     "metadata": {},
     "output_type": "execute_result"
    }
   ],
   "source": [
    "df['GROSS SQUARE FEET'].value_counts().head(10)"
   ]
  },
  {
   "cell_type": "markdown",
   "metadata": {},
   "source": [
    "There are a lot of 0 values here, and means that the properties in this category has no square feet. We will remove these"
   ]
  },
  {
   "cell_type": "code",
   "execution_count": 450,
   "metadata": {},
   "outputs": [],
   "source": [
    "df = df[df['LAND SQUARE FEET'] > 10]"
   ]
  },
  {
   "cell_type": "code",
   "execution_count": 451,
   "metadata": {},
   "outputs": [],
   "source": [
    "df = df[df['GROSS SQUARE FEET'] > 10]"
   ]
  },
  {
   "cell_type": "code",
   "execution_count": 452,
   "metadata": {},
   "outputs": [
    {
     "data": {
      "image/png": "[encoded data removed]",
      "text/plain": [
       "<Figure size 864x432 with 1 Axes>"
      ]
     },
     "metadata": {
      "needs_background": "light"
     },
     "output_type": "display_data"
    }
   ],
   "source": [
    "plt.figure(figsize=(12,6))\n",
    "sns.distplot(df['LAND SQUARE FEET'], kde=True, bins=50, rug=True)\n",
    "plt.show()"
   ]
  },
  {
   "cell_type": "code",
   "execution_count": 453,
   "metadata": {},
   "outputs": [
    {
     "data": {
      "image/png": "[encoded data removed]",
      "text/plain": [
       "<Figure size 864x432 with 1 Axes>"
      ]
     },
     "metadata": {
      "needs_background": "light"
     },
     "output_type": "display_data"
    }
   ],
   "source": [
    "plt.figure(figsize=(12,6))\n",
    "sns.distplot(df['GROSS SQUARE FEET'], kde=True, bins=50, rug=True)\n",
    "plt.show()"
   ]
  },
  {
   "cell_type": "markdown",
   "metadata": {},
   "source": [
    "As it is possible to see from the diagrams and value_counts(), there are still a lot of outliers in these features. \n",
    "These can be cleaned by just reducing the number of values."
   ]
  },
  {
   "cell_type": "code",
   "execution_count": 454,
   "metadata": {},
   "outputs": [],
   "source": [
    "df = df[df['LAND SQUARE FEET'] < 20000]"
   ]
  },
  {
   "cell_type": "code",
   "execution_count": 455,
   "metadata": {},
   "outputs": [],
   "source": [
    "df = df[df['GROSS SQUARE FEET'] < 20000]"
   ]
  },
  {
   "cell_type": "code",
   "execution_count": 456,
   "metadata": {},
   "outputs": [
    {
     "data": {
      "image/png": "[encoded data removed]",
      "text/plain": [
       "<Figure size 864x432 with 1 Axes>"
      ]
     },
     "metadata": {
      "needs_background": "light"
     },
     "output_type": "display_data"
    }
   ],
   "source": [
    "plt.figure(figsize=(12,6))\n",
    "sns.distplot(df['LAND SQUARE FEET'], kde=True, bins=50, rug=True)\n",
    "plt.show()"
   ]
  },
  {
   "cell_type": "code",
   "execution_count": 457,
   "metadata": {},
   "outputs": [
    {
     "data": {
      "image/png": "[encoded data removed]",
      "text/plain": [
       "<Figure size 864x432 with 1 Axes>"
      ]
     },
     "metadata": {
      "needs_background": "light"
     },
     "output_type": "display_data"
    }
   ],
   "source": [
    "plt.figure(figsize=(12,6))\n",
    "sns.distplot(df['GROSS SQUARE FEET'], kde=True, bins=50, rug=True)\n",
    "plt.show()"
   ]
  },
  {
   "cell_type": "markdown",
   "metadata": {},
   "source": [
    "**The 'Square Feet' features are now a better distributed feature**"
   ]
  },
  {
   "cell_type": "markdown",
   "metadata": {},
   "source": [
    "<a name=\"3.4\"><a>\n",
    "### 3.4 Cleaning Sale Date"
   ]
  },
  {
   "cell_type": "markdown",
   "metadata": {},
   "source": [
    "**TimeStamp types are hard to work with. Therefore, we make the 'SALE DATE' feature to two distinct features 'YEAR SOLD' and\n",
    "'MONTH SOLD'. These two features can help us later in further analysis of the data**"
   ]
  },
  {
   "cell_type": "code",
   "execution_count": 458,
   "metadata": {},
   "outputs": [
    {
     "data": {
      "text/plain": [
       "2017-04-28 00:00:00    183\n",
       "2016-09-30 00:00:00    175\n",
       "2017-02-28 00:00:00    173\n",
       "2016-12-22 00:00:00    171\n",
       "2016-10-28 00:00:00    169\n",
       "Name: SALE DATE, dtype: int64"
      ]
     },
     "execution_count": 458,
     "metadata": {},
     "output_type": "execute_result"
    }
   ],
   "source": [
    "df['SALE DATE'].value_counts().head()"
   ]
  },
  {
   "cell_type": "markdown",
   "metadata": {},
   "source": [
    "Making a list with alle the different months "
   ]
  },
  {
   "cell_type": "code",
   "execution_count": 459,
   "metadata": {},
   "outputs": [],
   "source": [
    "months = ['Jan', 'Feb', 'Mar', 'Apr', 'May', 'Jun', 'Jul', 'Aug', 'Sep', 'Oct', 'Nov', 'Dec']"
   ]
  },
  {
   "cell_type": "markdown",
   "metadata": {},
   "source": [
    "Spliting Sale Date into two features, one for Month Sold and one for Year Sold. "
   ]
  },
  {
   "cell_type": "code",
   "execution_count": 460,
   "metadata": {},
   "outputs": [],
   "source": [
    "df['YEAR SOLD'] = [int(n[0:4]) for n in df['SALE DATE']]\n",
    "df['MONTH SOLD'] = [int(n[5:7]) for n in df['SALE DATE']]\n",
    "df = df.drop(['SALE DATE'], axis=1)"
   ]
  },
  {
   "cell_type": "code",
   "execution_count": 461,
   "metadata": {},
   "outputs": [
    {
     "data": {
      "text/plain": [
       "Text(0.5, 1.0, 'Number of properties sold by year')"
      ]
     },
     "execution_count": 461,
     "metadata": {},
     "output_type": "execute_result"
    },
    {
     "data": {
      "image/png": "[encoded data removed]",
      "text/plain": [
       "<Figure size 432x288 with 1 Axes>"
      ]
     },
     "metadata": {
      "needs_background": "light"
     },
     "output_type": "display_data"
    }
   ],
   "source": [
    "plt.hist(df['YEAR SOLD'], bins=2, color='c')\n",
    "counts_per_year = [sum(df['YEAR SOLD'] == 2016), sum(df['YEAR SOLD'] == 2017)]\n",
    "sns.barplot([2016, 2017], counts_per_year).set_title('Number of properties sold by year')"
   ]
  },
  {
   "cell_type": "markdown",
   "metadata": {},
   "source": [
    "This histogram shows that there were significant more houses sold in 2017 than in 2016, showing an increase that may indicate more properties being sold in 2018.\n",
    "\n",
    "Code retrieved from: https://jshams.github.io/NYC-real-estate-analysis/new_york_real_estate.slides.html#/5/2 and https://jshams.github.io/NYC-real-estate-analysis/new_york_real_estate.slides.html#/6/2"
   ]
  },
  {
   "cell_type": "markdown",
   "metadata": {},
   "source": [
    "Transforming to more appriopriate types"
   ]
  },
  {
   "cell_type": "code",
   "execution_count": 462,
   "metadata": {},
   "outputs": [],
   "source": [
    "df['MONTH SOLD'] = df['MONTH SOLD'].astype('category')"
   ]
  },
  {
   "cell_type": "code",
   "execution_count": 463,
   "metadata": {},
   "outputs": [],
   "source": [
    "df['YEAR SOLD'] = df['YEAR SOLD'].astype('category')"
   ]
  },
  {
   "cell_type": "markdown",
   "metadata": {},
   "source": [
    "<a name=\"3.5\"><a>\n",
    "### 3.5 Cleaning \"... Units\""
   ]
  },
  {
   "cell_type": "markdown",
   "metadata": {},
   "source": [
    "Dropping 'TOTAL UNITS' because its only the sum of 'RESIDENTIAL UNITS' and 'COMMERCIAL UNITS'"
   ]
  },
  {
   "cell_type": "code",
   "execution_count": 464,
   "metadata": {},
   "outputs": [],
   "source": [
    "df = df.drop(['TOTAL UNITS'], axis=1)"
   ]
  },
  {
   "cell_type": "code",
   "execution_count": 465,
   "metadata": {},
   "outputs": [
    {
     "data": {
      "text/plain": [
       "<matplotlib.axes._subplots.AxesSubplot at 0x1fc375bccc0>"
      ]
     },
     "execution_count": 465,
     "metadata": {},
     "output_type": "execute_result"
    },
    {
     "data": {
      "image/png": "[encoded data removed]",
      "text/plain": [
       "<Figure size 432x288 with 1 Axes>"
      ]
     },
     "metadata": {
      "needs_background": "light"
     },
     "output_type": "display_data"
    }
   ],
   "source": [
    "sns.countplot('RESIDENTIAL UNITS',data=df,palette='Set2')"
   ]
  },
  {
   "cell_type": "code",
   "execution_count": 466,
   "metadata": {},
   "outputs": [
    {
     "data": {
      "text/plain": [
       "<matplotlib.axes._subplots.AxesSubplot at 0x1fc3877eda0>"
      ]
     },
     "execution_count": 466,
     "metadata": {},
     "output_type": "execute_result"
    },
    {
     "data": {
      "image/png": "[encoded data removed]",
      "text/plain": [
       "<Figure size 432x288 with 1 Axes>"
      ]
     },
     "metadata": {
      "needs_background": "light"
     },
     "output_type": "display_data"
    }
   ],
   "source": [
    "sns.countplot('COMMERCIAL UNITS',data=df,palette='Set2')"
   ]
  },
  {
   "cell_type": "code",
   "execution_count": 467,
   "metadata": {},
   "outputs": [],
   "source": [
    "df= df[(df['COMMERCIAL UNITS'] < 7)]"
   ]
  },
  {
   "cell_type": "code",
   "execution_count": 468,
   "metadata": {},
   "outputs": [],
   "source": [
    "df= df[(df['RESIDENTIAL UNITS'] < 10)]"
   ]
  },
  {
   "cell_type": "markdown",
   "metadata": {},
   "source": [
    "<a name=\"3.6\"><a>\n",
    "### 3.6 Cleaning Tax Class"
   ]
  },
  {
   "cell_type": "markdown",
   "metadata": {},
   "source": [
    "Dropping all the NaN values"
   ]
  },
  {
   "cell_type": "code",
   "execution_count": 469,
   "metadata": {},
   "outputs": [],
   "source": [
    "df = df.dropna(subset=['TAX CLASS AT PRESENT'])"
   ]
  },
  {
   "cell_type": "code",
   "execution_count": 470,
   "metadata": {},
   "outputs": [
    {
     "data": {
      "text/plain": [
       "1    24241\n",
       "2     1331\n",
       "4      755\n",
       "Name: TAX CLASS AT TIME OF SALE, dtype: int64"
      ]
     },
     "execution_count": 470,
     "metadata": {},
     "output_type": "execute_result"
    }
   ],
   "source": [
    "df['TAX CLASS AT TIME OF SALE'].value_counts()"
   ]
  },
  {
   "cell_type": "code",
   "execution_count": 471,
   "metadata": {},
   "outputs": [
    {
     "data": {
      "text/plain": [
       "1     24245\n",
       "2A     1113\n",
       "4       753\n",
       "2B      213\n",
       "2         3\n",
       "Name: TAX CLASS AT PRESENT, dtype: int64"
      ]
     },
     "execution_count": 471,
     "metadata": {},
     "output_type": "execute_result"
    }
   ],
   "source": [
    "df['TAX CLASS AT PRESENT'].value_counts()"
   ]
  },
  {
   "cell_type": "markdown",
   "metadata": {},
   "source": [
    "Tax classes, as mentioned earlier, should be categorical classes. Therefore, it is more appropriate to replace the values to more informative values as shown below"
   ]
  },
  {
   "cell_type": "code",
   "execution_count": 472,
   "metadata": {},
   "outputs": [],
   "source": [
    "df['TAX CLASS AT TIME OF SALE'] = df['TAX CLASS AT TIME OF SALE'].replace({1:'Class_1',\n",
    "                                                                           2:'Class_2',\n",
    "                                                                           4:'Class_4'})"
   ]
  },
  {
   "cell_type": "code",
   "execution_count": 473,
   "metadata": {},
   "outputs": [],
   "source": [
    "df['TAX CLASS AT PRESENT'] = df['TAX CLASS AT PRESENT'].replace({'1':'Class_1',\n",
    "                                                                 '1A':'Class_1',\n",
    "                                                                 '1B':'Class_1',\n",
    "                                                                 '1C':'Class_1',\n",
    "                                                                 '2':'Class_2',\n",
    "                                                                 '2A':'Class_2',\n",
    "                                                                 '2B':'Class_2',\n",
    "                                                                 '2C':'Class_2',\n",
    "                                                                 '3':'Class_3',\n",
    "                                                                 '4':'Class_4'})"
   ]
  },
  {
   "cell_type": "markdown",
   "metadata": {},
   "source": [
    "Converting the features to more appropiate types"
   ]
  },
  {
   "cell_type": "code",
   "execution_count": 474,
   "metadata": {},
   "outputs": [],
   "source": [
    "df['TAX CLASS AT TIME OF SALE'] = df['TAX CLASS AT TIME OF SALE'].astype('category')\n",
    "df['TAX CLASS AT PRESENT'] = df['TAX CLASS AT PRESENT'].astype('category')"
   ]
  },
  {
   "cell_type": "code",
   "execution_count": 475,
   "metadata": {},
   "outputs": [
    {
     "data": {
      "text/plain": [
       "<matplotlib.axes._subplots.AxesSubplot at 0x1fc38748320>"
      ]
     },
     "execution_count": 475,
     "metadata": {},
     "output_type": "execute_result"
    },
    {
     "data": {
      "image/png": "[encoded data removed]",
      "text/plain": [
       "<Figure size 432x288 with 1 Axes>"
      ]
     },
     "metadata": {},
     "output_type": "display_data"
    }
   ],
   "source": [
    "df['TAX CLASS AT PRESENT'].value_counts().plot(kind='pie')"
   ]
  },
  {
   "cell_type": "code",
   "execution_count": 476,
   "metadata": {},
   "outputs": [
    {
     "data": {
      "text/plain": [
       "<matplotlib.axes._subplots.AxesSubplot at 0x1fc52d69860>"
      ]
     },
     "execution_count": 476,
     "metadata": {},
     "output_type": "execute_result"
    },
    {
     "data": {
      "image/png": "[encoded data removed]",
      "text/plain": [
       "<Figure size 432x288 with 1 Axes>"
      ]
     },
     "metadata": {},
     "output_type": "display_data"
    }
   ],
   "source": [
    "df['TAX CLASS AT TIME OF SALE'].value_counts().plot(kind='pie')"
   ]
  },
  {
   "cell_type": "markdown",
   "metadata": {},
   "source": [
    "**These pie charts show that more than 3/4 of all the values in the features belong to class_1. This makes sense since most of the properties sold are usually residential properties** \n",
    "\n",
    "- Class 1: Includes most residential property of up to three units (such as one-, two-, and three-family homes and small stores   or offices with one or two attached apartments), vacant land that is zoned for residential use, and most condominiums that     are not more than three stories.\n",
    "- Class 2: Includes all other property that is primarily residential, such as cooperatives and condominiums.\n",
    "- Class 4: Includes all other properties not included in class 1,2, and 3, such as offices, factories, warehouses, garage         buildings, etc. \n",
    "\n",
    "**We have chosen to not remove class_2 and class_4 because we want to focus on all of the properties instead of only focusing on residential properties.**"
   ]
  },
  {
   "cell_type": "markdown",
   "metadata": {},
   "source": [
    "<a name=\"3.7\"><a>\n",
    "### 3.7 Cleaning Buliding Class"
   ]
  },
  {
   "cell_type": "markdown",
   "metadata": {},
   "source": [
    "Converting the features to more appropiate types"
   ]
  },
  {
   "cell_type": "code",
   "execution_count": 477,
   "metadata": {},
   "outputs": [],
   "source": [
    "df['BUILDING CLASS AT TIME OF SALE'] = df['BUILDING CLASS AT TIME OF SALE'].astype('category')"
   ]
  },
  {
   "cell_type": "markdown",
   "metadata": {},
   "source": [
    "'BUILDING CLASS AT TIME OF SALE' and 'BUILDING CLASS CATEGORY' are essencially the same. We remove one of them to prevent having to many features."
   ]
  },
  {
   "cell_type": "code",
   "execution_count": 478,
   "metadata": {},
   "outputs": [],
   "source": [
    "df = df.drop(['BUILDING CLASS AT PRESENT'], axis=1)"
   ]
  },
  {
   "cell_type": "code",
   "execution_count": 479,
   "metadata": {},
   "outputs": [
    {
     "data": {
      "text/plain": [
       "01 ONE FAMILY DWELLINGS                        12389\n",
       "02 TWO FAMILY DWELLINGS                         9590\n",
       "03 THREE FAMILY DWELLINGS                       2239\n",
       "07 RENTALS - WALKUP APARTMENTS                  1077\n",
       "22 STORE BUILDINGS                               307\n",
       "14 RENTALS - 4-10 UNIT                           253\n",
       "29 COMMERCIAL GARAGES                            111\n",
       "21 OFFICE BUILDINGS                              105\n",
       "30 WAREHOUSES                                     94\n",
       "27 FACTORIES                                      51\n",
       "37 RELIGIOUS FACILITIES                           43\n",
       "05 TAX CLASS 1 VACANT LAND                        12\n",
       "06 TAX CLASS 1 - OTHER                            11\n",
       "33 EDUCATIONAL FACILITIES                         11\n",
       "35 INDOOR PUBLIC AND CULTURAL FACILITIES           9\n",
       "41 TAX CLASS 4 - OTHER                             9\n",
       "32 HOSPITAL AND HEALTH FACILITIES                  7\n",
       "38 ASYLUMS AND HOMES                               3\n",
       "23 LOFT BUILDINGS                                  2\n",
       "26 OTHER HOTELS                                    2\n",
       "08 RENTALS - ELEVATOR APARTMENTS                   1\n",
       "31 COMMERCIAL VACANT LAND                          1\n",
       "Name: BUILDING CLASS CATEGORY, dtype: int64"
      ]
     },
     "execution_count": 479,
     "metadata": {},
     "output_type": "execute_result"
    }
   ],
   "source": [
    "df['BUILDING CLASS CATEGORY'].value_counts()"
   ]
  },
  {
   "cell_type": "code",
   "execution_count": 480,
   "metadata": {},
   "outputs": [
    {
     "data": {
      "text/plain": [
       "<matplotlib.patches.Circle at 0x1fc397c4dd8>"
      ]
     },
     "execution_count": 480,
     "metadata": {},
     "output_type": "execute_result"
    },
    {
     "data": {
      "image/png": "[encoded data removed]",
      "text/plain": [
       "<Figure size 432x288 with 1 Axes>"
      ]
     },
     "metadata": {},
     "output_type": "display_data"
    }
   ],
   "source": [
    "property_types = {'01 ONE FAMILY DWELLINGS': 12389,\n",
    " '02 TWO FAMILY DWELLINGS': 9590,\n",
    " '03 THREE FAMILY DWELLINGS': 2239,\n",
    " '07 RENTALS - WALKUP APARTMENTS': 1077,\n",
    " 'Others' : 1032}                         # 'Others' here is the sum of fifth - 28th value given above\n",
    "\n",
    "labels = property_types.keys()\n",
    "sizes = property_types.values()\n",
    "colors = ['#ff9999','#66b3ff','#99ff99','#ffcc99', '#be3cb2']\n",
    "plt.pie(sizes, colors = colors, labels=labels, autopct='%1.2f%%',startangle=35, pctdistance=0.75, explode = tuple([0.05] * 5))\n",
    "centre_circle = plt.Circle((0,0),0.50,fc='#ffffff')\n",
    "plt.gcf().gca().add_artist(centre_circle)"
   ]
  },
  {
   "cell_type": "markdown",
   "metadata": {},
   "source": [
    "**From the value_count() and Pie Chart above, we can observe that the first four values stands out the most and the rest should rather be one value to reduce the number of unique values. This is because the 'Others' value in the Pie Chart is a lower percentage than the fourth value alone. This again is no suprise since the biggest values here are residential properties, and as we could see from the 'TAX CLASS' cleaning above, most of the properties sold are residential properties.**\n",
    "\n",
    "**We tried to make a new value called 'Others' with the fifth, all the way down to the 20th value, but it seems it is not possible to combine all of them. Either way, we chose to keep the feature anyway.**\n",
    "\n",
    "Code retrieved from: https://jshams.github.io/NYC-real-estate-analysis/new_york_real_estate.slides.html#/8"
   ]
  },
  {
   "cell_type": "markdown",
   "metadata": {},
   "source": [
    "Converting to a more appropriate feature"
   ]
  },
  {
   "cell_type": "code",
   "execution_count": 481,
   "metadata": {},
   "outputs": [],
   "source": [
    "df['BUILDING CLASS CATEGORY'] = df['BUILDING CLASS CATEGORY'].astype('category')"
   ]
  },
  {
   "cell_type": "markdown",
   "metadata": {},
   "source": [
    "<a name=\"3.8\"><a>\n",
    "### 3.8 Cleaning Borough"
   ]
  },
  {
   "cell_type": "markdown",
   "metadata": {},
   "source": [
    "**Since 'BOROUGH' is going to be categorical, we might as well change the values or the borough index to borough real name in New York City**"
   ]
  },
  {
   "cell_type": "code",
   "execution_count": 482,
   "metadata": {},
   "outputs": [
    {
     "name": "stderr",
     "output_type": "stream",
     "text": [
      "C:\\Users\\Eier\\Anaconda3\\lib\\site-packages\\ipykernel_launcher.py:1: SettingWithCopyWarning: \n",
      "A value is trying to be set on a copy of a slice from a DataFrame\n",
      "\n",
      "See the caveats in the documentation: http://pandas.pydata.org/pandas-docs/stable/indexing.html#indexing-view-versus-copy\n",
      "  \"\"\"Entry point for launching an IPython kernel.\n"
     ]
    }
   ],
   "source": [
    "df['BOROUGH'][df['BOROUGH'] == 1] = 'Manhattan'\n",
    "df['BOROUGH'][df['BOROUGH'] == 2] = 'Bronx'\n",
    "df['BOROUGH'][df['BOROUGH'] == 3] = 'Brooklyn'\n",
    "df['BOROUGH'][df['BOROUGH'] == 4] = 'Queens'\n",
    "df['BOROUGH'][df['BOROUGH'] == 5] = 'Staten Island'"
   ]
  },
  {
   "cell_type": "markdown",
   "metadata": {},
   "source": [
    "Converting 'BOROUGH' to a more appropriate types"
   ]
  },
  {
   "cell_type": "code",
   "execution_count": 483,
   "metadata": {},
   "outputs": [],
   "source": [
    "df['BOROUGH'] = df['BOROUGH'].astype('category')"
   ]
  },
  {
   "cell_type": "markdown",
   "metadata": {},
   "source": [
    "Trying to visualize how much property is sold in each borough."
   ]
  },
  {
   "cell_type": "code",
   "execution_count": 484,
   "metadata": {},
   "outputs": [
    {
     "data": {
      "text/plain": [
       "Text(0.5, 1.0, 'Sales per Borough')"
      ]
     },
     "execution_count": 484,
     "metadata": {},
     "output_type": "execute_result"
    },
    {
     "data": {
      "image/png": "[encoded data removed]",
      "text/plain": [
       "<Figure size 432x288 with 1 Axes>"
      ]
     },
     "metadata": {
      "needs_background": "light"
     },
     "output_type": "display_data"
    }
   ],
   "source": [
    "sns.countplot('BOROUGH',data=df,palette='Set2')\n",
    "plt.title('Sales per Borough')"
   ]
  },
  {
   "cell_type": "code",
   "execution_count": 485,
   "metadata": {},
   "outputs": [
    {
     "data": {
      "image/png": "[encoded data removed]",
      "text/plain": [
       "<Figure size 864x432 with 1 Axes>"
      ]
     },
     "metadata": {
      "needs_background": "light"
     },
     "output_type": "display_data"
    }
   ],
   "source": [
    "plt.figure(figsize=(12,6))\n",
    "sns.boxplot(y = 'BOROUGH', x = 'SALE PRICE', data = df )\n",
    "plt.title('Box plots for SALE PRICE on each BOROUGH')\n",
    "plt.show()"
   ]
  },
  {
   "cell_type": "markdown",
   "metadata": {},
   "source": [
    "**These diagrams above shows us how big difference there are of properties sold compared to all of the boroughs, and the outliers that exists within the values. It is possible to see that 'Manhattan' has the least properties, but no outliers, while 'Staten Island' and 'Bronx' have a lot of outliers, but has neither least or most properties sold**"
   ]
  },
  {
   "cell_type": "markdown",
   "metadata": {},
   "source": [
    "<a name=\"3.9\"><a>\n",
    "### 3.9 Cleaning Year Built"
   ]
  },
  {
   "cell_type": "code",
   "execution_count": 486,
   "metadata": {},
   "outputs": [
    {
     "data": {
      "image/png": "[encoded data removed]",
      "text/plain": [
       "<Figure size 432x288 with 1 Axes>"
      ]
     },
     "metadata": {
      "needs_background": "light"
     },
     "output_type": "display_data"
    }
   ],
   "source": [
    "df=df[df['YEAR BUILT']!=0]\n",
    "sns.distplot(df['YEAR BUILT'], bins=50, rug=True)\n",
    "plt.show()"
   ]
  },
  {
   "cell_type": "markdown",
   "metadata": {},
   "source": [
    "**As its possible to se from the graph above, this feature will work best if the values from 1800 - 1900 are removed because then the feature will be better distributed. With this, we also remove some of the possible outliers in our model.**"
   ]
  },
  {
   "cell_type": "code",
   "execution_count": 487,
   "metadata": {},
   "outputs": [],
   "source": [
    "df= df[(df['YEAR BUILT'] > 1880)]"
   ]
  },
  {
   "cell_type": "markdown",
   "metadata": {},
   "source": [
    "Converting the feature to a more appropriate type"
   ]
  },
  {
   "cell_type": "code",
   "execution_count": 488,
   "metadata": {},
   "outputs": [],
   "source": [
    "df['YEAR BUILT'] = df['YEAR BUILT'].astype('category')"
   ]
  },
  {
   "cell_type": "markdown",
   "metadata": {},
   "source": [
    "<a name=\"3.10\"><a>\n",
    "### 3.10 Cleaning Neighborhood"
   ]
  },
  {
   "cell_type": "markdown",
   "metadata": {},
   "source": [
    "Converting the feature to a more appropriate type"
   ]
  },
  {
   "cell_type": "code",
   "execution_count": 489,
   "metadata": {},
   "outputs": [],
   "source": [
    "df['NEIGHBORHOOD'] = df['NEIGHBORHOOD'].astype('category')"
   ]
  },
  {
   "cell_type": "markdown",
   "metadata": {},
   "source": [
    "<a name=\"3.11\"><a>\n",
    "### 3.11 Post Cleaning Overview"
   ]
  },
  {
   "cell_type": "code",
   "execution_count": 490,
   "metadata": {},
   "outputs": [
    {
     "name": "stdout",
     "output_type": "stream",
     "text": [
      "<class 'pandas.core.frame.DataFrame'>\n",
      "Int64Index: 26309 entries, 222 to 84547\n",
      "Data columns (total 14 columns):\n",
      "BOROUGH                           26309 non-null category\n",
      "NEIGHBORHOOD                      26309 non-null category\n",
      "BUILDING CLASS CATEGORY           26309 non-null category\n",
      "TAX CLASS AT PRESENT              26309 non-null category\n",
      "RESIDENTIAL UNITS                 26309 non-null int64\n",
      "COMMERCIAL UNITS                  26309 non-null int64\n",
      "LAND SQUARE FEET                  26309 non-null float64\n",
      "GROSS SQUARE FEET                 26309 non-null float64\n",
      "YEAR BUILT                        26309 non-null category\n",
      "TAX CLASS AT TIME OF SALE         26309 non-null category\n",
      "BUILDING CLASS AT TIME OF SALE    26309 non-null category\n",
      "SALE PRICE                        26309 non-null float64\n",
      "YEAR SOLD                         26309 non-null category\n",
      "MONTH SOLD                        26309 non-null category\n",
      "dtypes: category(9), float64(3), int64(2)\n",
      "memory usage: 1.5 MB\n"
     ]
    }
   ],
   "source": [
    "df.info()"
   ]
  },
  {
   "cell_type": "code",
   "execution_count": 491,
   "metadata": {},
   "outputs": [
    {
     "data": {
      "text/plain": [
       "(26309, 14)"
      ]
     },
     "execution_count": 491,
     "metadata": {},
     "output_type": "execute_result"
    }
   ],
   "source": [
    "df.shape"
   ]
  },
  {
   "cell_type": "markdown",
   "metadata": {},
   "source": [
    "**By now, all the necessary features have been cleaned from most of outliners and converted to the preferred types needed for the algorithms. We have also reduced the dataset to a significant amount to prevent a high dimensionality, while keeping most of the important feature**"
   ]
  },
  {
   "cell_type": "markdown",
   "metadata": {},
   "source": [
    "<a name=\"4.0\"><a>\n",
    "## 4.0 Data Pre-Processing\n",
    "### 4.1 Making Categorical Data more Appropriate For Regression Models"
   ]
  },
  {
   "cell_type": "markdown",
   "metadata": {},
   "source": [
    "**Since most of our models prefer continous features, and our dataset contains an significant amount categorical data, we have to encode our categorical data so we can actually use the features in our models. For this we will use One-Hot-Encoding and Label Encoding, depending on how many unique values there exists in the features.** "
   ]
  },
  {
   "cell_type": "code",
   "execution_count": 492,
   "metadata": {},
   "outputs": [
    {
     "data": {
      "text/plain": [
       "[Manhattan, Bronx, Brooklyn, Queens, Staten Island]\n",
       "Categories (5, object): [Manhattan, Bronx, Brooklyn, Queens, Staten Island]"
      ]
     },
     "execution_count": 492,
     "metadata": {},
     "output_type": "execute_result"
    }
   ],
   "source": [
    "df['BOROUGH'].unique()"
   ]
  },
  {
   "cell_type": "code",
   "execution_count": 493,
   "metadata": {},
   "outputs": [
    {
     "data": {
      "text/plain": [
       "[Class_2, Class_4, Class_1]\n",
       "Categories (3, object): [Class_2, Class_4, Class_1]"
      ]
     },
     "execution_count": 493,
     "metadata": {},
     "output_type": "execute_result"
    }
   ],
   "source": [
    "df['TAX CLASS AT PRESENT'].unique()"
   ]
  },
  {
   "cell_type": "code",
   "execution_count": 494,
   "metadata": {},
   "outputs": [
    {
     "data": {
      "text/plain": [
       "[Class_2, Class_4, Class_1]\n",
       "Categories (3, object): [Class_2, Class_4, Class_1]"
      ]
     },
     "execution_count": 494,
     "metadata": {},
     "output_type": "execute_result"
    }
   ],
   "source": [
    "df['TAX CLASS AT TIME OF SALE'].unique()"
   ]
  },
  {
   "cell_type": "code",
   "execution_count": 495,
   "metadata": {},
   "outputs": [
    {
     "data": {
      "text/plain": [
       "[07 RENTALS - WALKUP APARTMENTS, 22 STORE BUILDINGS, 01 ONE FAMILY DWELLINGS, 02 TWO FAMILY DWELLINGS, 03 THREE FAMILY DWELLINGS, ..., 33 EDUCATIONAL FACILITIES, 38 ASYLUMS AND HOMES, 31 COMMERCIAL VACANT LAND, 35 INDOOR PUBLIC AND CULTURAL FACILITIES, 08 RENTALS - ELEVATOR APARTMENTS]\n",
       "Length: 22\n",
       "Categories (22, object): [07 RENTALS - WALKUP APARTMENTS, 22 STORE BUILDINGS, 01 ONE FAMILY DWELLINGS, 02 TWO FAMILY DWELLINGS, ..., 38 ASYLUMS AND HOMES, 31 COMMERCIAL VACANT LAND, 35 INDOOR PUBLIC AND CULTURAL FACILITIES, 08 RENTALS - ELEVATOR APARTMENTS]"
      ]
     },
     "execution_count": 495,
     "metadata": {},
     "output_type": "execute_result"
    }
   ],
   "source": [
    "df['BUILDING CLASS CATEGORY'].unique()"
   ]
  },
  {
   "cell_type": "code",
   "execution_count": 496,
   "metadata": {},
   "outputs": [
    {
     "data": {
      "text/plain": [
       "[2017, 2016]\n",
       "Categories (2, int64): [2017, 2016]"
      ]
     },
     "execution_count": 496,
     "metadata": {},
     "output_type": "execute_result"
    }
   ],
   "source": [
    "df['YEAR SOLD'].unique()"
   ]
  },
  {
   "cell_type": "markdown",
   "metadata": {},
   "source": [
    "**These categorical features above have few unique values which makes One-Hot-Encoding the most appropriate way to make the features work in our Models**\n",
    "\n",
    "**We make a list of all these features for an easier overview**"
   ]
  },
  {
   "cell_type": "code",
   "execution_count": 497,
   "metadata": {},
   "outputs": [],
   "source": [
    "one_hot_features = ['BOROUGH', 'TAX CLASS AT PRESENT', 'TAX CLASS AT TIME OF SALE', 'BUILDING CLASS CATEGORY', 'YEAR SOLD']"
   ]
  },
  {
   "cell_type": "code",
   "execution_count": 498,
   "metadata": {},
   "outputs": [],
   "source": [
    "one_hot_encoded = pd.get_dummies(df[one_hot_features])\n",
    "\n",
    "df = df.drop(one_hot_features, axis = 1)\n",
    "\n",
    "df = pd.concat([df, one_hot_encoded], axis=1)"
   ]
  },
  {
   "cell_type": "markdown",
   "metadata": {},
   "source": [
    "**The rest of the categorical features are a little bit different. There are hundres of unique features which makes Label Encoding more appropriate than One-Hot-Encoding. This is for preventing a higher dimensionality and ending up with many more features necassary.**"
   ]
  },
  {
   "cell_type": "code",
   "execution_count": 499,
   "metadata": {},
   "outputs": [],
   "source": [
    "label_encoder = LabelEncoder()"
   ]
  },
  {
   "cell_type": "code",
   "execution_count": 500,
   "metadata": {},
   "outputs": [
    {
     "data": {
      "text/plain": [
       "[CHELSEA, CHINATOWN, GREENWICH VILLAGE-WEST, HARLEM-CENTRAL, HARLEM-EAST, ..., TRAVIS, WEST NEW BRIGHTON, WESTERLEIGH, WILLOWBROOK, WOODROW]\n",
       "Length: 226\n",
       "Categories (226, object): [CHELSEA, CHINATOWN, GREENWICH VILLAGE-WEST, HARLEM-CENTRAL, ..., WEST NEW BRIGHTON, WESTERLEIGH, WILLOWBROOK, WOODROW]"
      ]
     },
     "execution_count": 500,
     "metadata": {},
     "output_type": "execute_result"
    }
   ],
   "source": [
    "df['NEIGHBORHOOD'].unique()"
   ]
  },
  {
   "cell_type": "code",
   "execution_count": 501,
   "metadata": {},
   "outputs": [
    {
     "data": {
      "text/plain": [
       "[C4, K4, A5, C2, A4, ..., GU, W8, H8, Z0, M3]\n",
       "Length: 82\n",
       "Categories (82, object): [C4, K4, A5, C2, ..., W8, H8, Z0, M3]"
      ]
     },
     "execution_count": 501,
     "metadata": {},
     "output_type": "execute_result"
    }
   ],
   "source": [
    "df['BUILDING CLASS AT TIME OF SALE'].unique()"
   ]
  },
  {
   "cell_type": "code",
   "execution_count": 502,
   "metadata": {},
   "outputs": [
    {
     "data": {
      "text/plain": [
       "[1901, 1915, 1900, 1910, 1899, ..., 1978, 1891, 1881, 1943, 2017]\n",
       "Length: 123\n",
       "Categories (123, int64): [1901, 1915, 1900, 1910, ..., 1891, 1881, 1943, 2017]"
      ]
     },
     "execution_count": 502,
     "metadata": {},
     "output_type": "execute_result"
    }
   ],
   "source": [
    "df['YEAR BUILT'].unique()"
   ]
  },
  {
   "cell_type": "code",
   "execution_count": 503,
   "metadata": {},
   "outputs": [
    {
     "data": {
      "text/plain": [
       "[8, 1, 10, 5, 11, ..., 9, 2, 6, 12, 4]\n",
       "Length: 12\n",
       "Categories (12, int64): [8, 1, 10, 5, ..., 2, 6, 12, 4]"
      ]
     },
     "execution_count": 503,
     "metadata": {},
     "output_type": "execute_result"
    }
   ],
   "source": [
    "df['MONTH SOLD'].unique()"
   ]
  },
  {
   "cell_type": "code",
   "execution_count": 504,
   "metadata": {},
   "outputs": [],
   "source": [
    "df['NEIGHBORHOOD'] = label_encoder.fit_transform(df['NEIGHBORHOOD'])"
   ]
  },
  {
   "cell_type": "code",
   "execution_count": 505,
   "metadata": {},
   "outputs": [],
   "source": [
    "df['BUILDING CLASS AT TIME OF SALE'] = label_encoder.fit_transform(df['BUILDING CLASS AT TIME OF SALE'])"
   ]
  },
  {
   "cell_type": "code",
   "execution_count": 506,
   "metadata": {},
   "outputs": [],
   "source": [
    "df['YEAR BUILT'] = label_encoder.fit_transform(df['YEAR BUILT'])"
   ]
  },
  {
   "cell_type": "code",
   "execution_count": 507,
   "metadata": {},
   "outputs": [],
   "source": [
    "df['MONTH SOLD'] = label_encoder.fit_transform(df['MONTH SOLD'])"
   ]
  },
  {
   "cell_type": "markdown",
   "metadata": {},
   "source": [
    "<a name=\"4.2\"></a>\n",
    "### 4.2 K-means Unsupervised Learning"
   ]
  },
  {
   "cell_type": "markdown",
   "metadata": {},
   "source": [
    "**To imporve the overall performance of the models, we decided to use k-means method to make clusters to see if there exists any logical ways to group the data in a feature space**\n",
    "\n",
    "**We use this k-means because it helps our models to handle the dataset's high dimensionality and manually choosing our k gives use easy access to change our clusters and centroids.**\n",
    "\n",
    "We start by just making a scattermap overview with all the features."
   ]
  },
  {
   "cell_type": "code",
   "execution_count": 508,
   "metadata": {},
   "outputs": [],
   "source": [
    "#scatter_df = df.drop(['SALE PRICE'], axis = 1)\n",
    "\n",
    "#for col in scatter_df.columns: \n",
    "#    plt.scatter(scatter_df[col], df['SALE PRICE']) \n",
    "#    plt.ylabel('Sale price') \n",
    "#    plt.xlabel(col) \n",
    "#    plt.show()"
   ]
  },
  {
   "cell_type": "markdown",
   "metadata": {},
   "source": [
    "As the scattermaps shows above, the different features are scattered very different from each other because of the categorical features. The continous features show a vide scattered maps and the categorical features are scattered like lines. This will maybe affect our k-means cluster model. "
   ]
  },
  {
   "cell_type": "markdown",
   "metadata": {},
   "source": [
    "Since we are using k-means clustering, we need to define a k. k is defined as how many clusters we want in our unsupervised model. Thats why we use the elbow method to get the most optimal k.\n",
    "\n",
    "The code used below for our Unsupervised Learning Model is retrieved from: https://predictivehacks.com/k-means-elbow-method-code-for-python/"
   ]
  },
  {
   "cell_type": "code",
   "execution_count": 509,
   "metadata": {},
   "outputs": [
    {
     "data": {
      "image/png": "[encoded data removed]",
      "text/plain": [
       "<Figure size 1152x576 with 1 Axes>"
      ]
     },
     "metadata": {
      "needs_background": "light"
     },
     "output_type": "display_data"
    }
   ],
   "source": [
    "distortions = []\n",
    "K = range(1,10)\n",
    "for k in K:\n",
    "    kmeanModel = KMeans(n_clusters=k)\n",
    "    kmeanModel.fit(df)\n",
    "    distortions.append(kmeanModel.inertia_)\n",
    "\n",
    "plt.figure(figsize=(16,8))\n",
    "plt.plot(K, distortions, 'bx-') \n",
    "plt.xlabel('k')\n",
    "plt.ylabel('Distortion')\n",
    "plt.title('The Elbow Method showing the optimal k')\n",
    "plt.show()"
   ]
  },
  {
   "cell_type": "markdown",
   "metadata": {},
   "source": [
    "**The model above shows us that the most optimal k is two. We only need two clusters**"
   ]
  },
  {
   "cell_type": "code",
   "execution_count": 510,
   "metadata": {},
   "outputs": [
    {
     "data": {
      "text/plain": [
       "Text(0.5, 1.0, 'K_Means')"
      ]
     },
     "execution_count": 510,
     "metadata": {},
     "output_type": "execute_result"
    },
    {
     "data": {
      "image/png": "[encoded data removed]",
      "text/plain": [
       "<Figure size 1728x864 with 2 Axes>"
      ]
     },
     "metadata": {
      "needs_background": "light"
     },
     "output_type": "display_data"
    }
   ],
   "source": [
    "kmeanModel = KMeans(n_clusters=2)\n",
    "kmeanModel.fit(df)\n",
    "\n",
    "df['k_means'] = kmeanModel.predict(df)\n",
    "df['SALE PRICE'] = df['SALE PRICE']\n",
    "\n",
    "fig, axes = plt.subplots(1, 2, figsize=(24,12))\n",
    "axes[0].scatter(df['k_means'], df['SALE PRICE'], c=df['SALE PRICE'])\n",
    "axes[1].scatter(df['k_means'], df['SALE PRICE'], c=df['k_means'], cmap=plt.cm.Set1)\n",
    "axes[0].set_title('Actual', fontsize=18)\n",
    "axes[1].set_title('K_Means', fontsize=18)\n"
   ]
  },
  {
   "cell_type": "markdown",
   "metadata": {},
   "source": [
    "**As the models above show, the k-means clustering result is questionable. They show us two straight lines in two very different intervals and does not really give us a good picture on how the groupings of the different features are. The result might be extremely perfect or extremely bad. This might be because of our data having a to high dimensionality or because of the how the categorical features are placed in a feature space, as the scatter maps above shows. Since this cluster is quite special, we did not not know any good ways to further handle and improve it, so we do not to anything more with it.**\n",
    "\n",
    "**However, as we have seen in different tests of the Machine Learning Models, the visualization of the Unsupervised Learning Model might not be good at all, but the models perform way better with the k-means feature than without. This means that the k-means clustering is of value and there actually are groupings of the features in a feature space.**"
   ]
  },
  {
   "cell_type": "markdown",
   "metadata": {},
   "source": [
    "**We now create two new copies of the dataset. These two new copies will be scaled differently with the MinMax Scaler and Standard Scaler. This is because we want to see how the Models that need scaling will perform with different scalers.**"
   ]
  },
  {
   "cell_type": "code",
   "execution_count": 511,
   "metadata": {},
   "outputs": [],
   "source": [
    "minmax_df = df.copy()"
   ]
  },
  {
   "cell_type": "code",
   "execution_count": 512,
   "metadata": {
    "scrolled": true
   },
   "outputs": [],
   "source": [
    "minmax_df_columns = minmax_df.columns\n",
    "minmax_scaler = MinMaxScaler()\n",
    "minmax_df = minmax_scaler.fit_transform(minmax_df)\n",
    "\n",
    "minmax_df = pd.DataFrame(minmax_df)\n",
    "minmax_df.columns = minmax_df_columns"
   ]
  },
  {
   "cell_type": "code",
   "execution_count": 513,
   "metadata": {},
   "outputs": [],
   "source": [
    "standard_df = df.copy()"
   ]
  },
  {
   "cell_type": "code",
   "execution_count": 514,
   "metadata": {},
   "outputs": [],
   "source": [
    "standard_df_columns = standard_df.columns\n",
    "scaler = StandardScaler()\n",
    "standard_df = scaler.fit_transform(standard_df)\n",
    "\n",
    "standard_df = pd.DataFrame(standard_df)\n",
    "standard_df.columns = standard_df_columns"
   ]
  },
  {
   "cell_type": "markdown",
   "metadata": {},
   "source": [
    "<a name=\"4.3\"></a>\n",
    "### 4.3 PCA"
   ]
  },
  {
   "cell_type": "markdown",
   "metadata": {},
   "source": [
    "**To be able to make the most accurate models and test our Models all the possible ways we can, we should also use some Dimension Reduction with Principal Component Ananlysis (PCA).** \n",
    "\n",
    "**To do this, we have to use our Standard Scaler**"
   ]
  },
  {
   "cell_type": "code",
   "execution_count": 515,
   "metadata": {},
   "outputs": [
    {
     "data": {
      "text/html": [
       "<div>\n",
       "<style scoped>\n",
       "    .dataframe tbody tr th:only-of-type {\n",
       "        vertical-align: middle;\n",
       "    }\n",
       "\n",
       "    .dataframe tbody tr th {\n",
       "        vertical-align: top;\n",
       "    }\n",
       "\n",
       "    .dataframe thead th {\n",
       "        text-align: right;\n",
       "    }\n",
       "</style>\n",
       "<table border=\"1\" class=\"dataframe\">\n",
       "  <thead>\n",
       "    <tr style=\"text-align: right;\">\n",
       "      <th></th>\n",
       "      <th>principal component 1</th>\n",
       "      <th>principal component 2</th>\n",
       "      <th>SALE PRICE</th>\n",
       "    </tr>\n",
       "  </thead>\n",
       "  <tbody>\n",
       "    <tr>\n",
       "      <th>0</th>\n",
       "      <td>10.408135</td>\n",
       "      <td>-7.133868</td>\n",
       "      <td>1.850762</td>\n",
       "    </tr>\n",
       "    <tr>\n",
       "      <th>1</th>\n",
       "      <td>9.965136</td>\n",
       "      <td>-7.017790</td>\n",
       "      <td>-0.660989</td>\n",
       "    </tr>\n",
       "    <tr>\n",
       "      <th>2</th>\n",
       "      <td>9.965136</td>\n",
       "      <td>-7.017790</td>\n",
       "      <td>-0.201317</td>\n",
       "    </tr>\n",
       "    <tr>\n",
       "      <th>3</th>\n",
       "      <td>9.298734</td>\n",
       "      <td>8.898302</td>\n",
       "      <td>4.252987</td>\n",
       "    </tr>\n",
       "    <tr>\n",
       "      <th>4</th>\n",
       "      <td>0.141962</td>\n",
       "      <td>-0.674807</td>\n",
       "      <td>1.401292</td>\n",
       "    </tr>\n",
       "  </tbody>\n",
       "</table>\n",
       "</div>"
      ],
      "text/plain": [
       "   principal component 1  principal component 2  SALE PRICE\n",
       "0              10.408135              -7.133868    1.850762\n",
       "1               9.965136              -7.017790   -0.660989\n",
       "2               9.965136              -7.017790   -0.201317\n",
       "3               9.298734               8.898302    4.252987\n",
       "4               0.141962              -0.674807    1.401292"
      ]
     },
     "execution_count": 515,
     "metadata": {},
     "output_type": "execute_result"
    }
   ],
   "source": [
    "y = standard_df['SALE PRICE']\n",
    "x = standard_df.drop(['SALE PRICE'], axis = 1)\n",
    "\n",
    "pca = PCA(n_components=2)\n",
    "\n",
    "principalComponents = pca.fit_transform(x)\n",
    "principalDf = pd.DataFrame(data = principalComponents\n",
    "             , columns = ['principal component 1', 'principal component 2'])\n",
    "\n",
    "finaldf = pd.concat([principalDf, y], axis = 1)\n",
    "finaldf.head()"
   ]
  },
  {
   "cell_type": "markdown",
   "metadata": {},
   "source": [
    "**Now that we have used our data in the Unsupervised Model, defined our necessary scaling methods and Dimension Reduction, we are now ready to create our Machine Learning Models.**"
   ]
  },
  {
   "cell_type": "markdown",
   "metadata": {},
   "source": [
    "<a name=\"4.4\"></a>\n",
    "### 4.4 Categorical Pre-processing\n",
    "This will be done beneath when working on Gaussian and Bernoully Naive Bayes models."
   ]
  },
  {
   "cell_type": "markdown",
   "metadata": {},
   "source": [
    "<a name=\"5.0\"></a>\n",
    "## 5.0 Model Predictions\n"
   ]
  },
  {
   "cell_type": "markdown",
   "metadata": {},
   "source": [
    "For every algorytm we first do some minor or major pre-proccesing, then we complete gridsearches where needed, and finally fit the model. At the end theres a small Analysis. "
   ]
  },
  {
   "cell_type": "markdown",
   "metadata": {},
   "source": [
    "<a name=\"5.1\"></a>\n",
    "### 5.1 Gaussian and Bernoulli Naive Bayes"
   ]
  },
  {
   "cell_type": "markdown",
   "metadata": {},
   "source": [
    "**This Machine Learning Models is a little bit different than the others. Since this Model is more about classification, we have to, as mentioned before, convert our target feature 'SALE PRICE' into a categorical type. Since the date pre-processing is different than the Models above, we have to do a new pre-processing. This will be based on the pre-processing we did before.** "
   ]
  },
  {
   "cell_type": "markdown",
   "metadata": {},
   "source": [
    "<a name=\"5.1.0\"></a>\n",
    "#### 5.1.0 Pre Proccessing"
   ]
  },
  {
   "cell_type": "code",
   "execution_count": 516,
   "metadata": {},
   "outputs": [],
   "source": [
    "catedf = df.copy()\n",
    "catedf['CATEGORICAL PRICE'] = pd.qcut(catedf['SALE PRICE'] , 4 , labels = ['Cheapest' , \n",
    "                                                                           'Lower middle' , 'Upper middle' , 'Expensive'])\n",
    "\n",
    "label_encoder = LabelEncoder()\n",
    "catedf['CATEGORICAL PRICE'] = label_encoder.fit_transform(catedf['CATEGORICAL PRICE'])\n",
    "catedf = catedf.drop(['SALE PRICE'], axis = 1)\n"
   ]
  },
  {
   "cell_type": "markdown",
   "metadata": {},
   "source": [
    "Classes: 0 = cheapest , 1 = Expensive, 2 = lower middle, 3 = upper middle"
   ]
  },
  {
   "cell_type": "markdown",
   "metadata": {},
   "source": [
    "Dividing dataframe into one contaning the categorical variables, and one containing the continous. \n",
    "Has been categorized using label encoding. These variables are not binary, and can not be used for categorical NaiveBayes, they are dropped. "
   ]
  },
  {
   "cell_type": "code",
   "execution_count": 517,
   "metadata": {},
   "outputs": [],
   "source": [
    "categorical_df = catedf.drop(['GROSS SQUARE FEET' , 'LAND SQUARE FEET' , 'COMMERCIAL UNITS' , 'RESIDENTIAL UNITS', 'NEIGHBORHOOD' ,\n",
    "                              'BUILDING CLASS AT TIME OF SALE', 'YEAR BUILT'] ,  axis = 1)\n",
    "\n",
    "continous_df = catedf[['GROSS SQUARE FEET' , 'LAND SQUARE FEET' , 'CATEGORICAL PRICE' , 'COMMERCIAL UNITS' , 'RESIDENTIAL UNITS']]"
   ]
  },
  {
   "cell_type": "markdown",
   "metadata": {},
   "source": [
    "The continous data now need to be given a normal distribution, in order to make GaussianNB valid. "
   ]
  },
  {
   "cell_type": "code",
   "execution_count": 518,
   "metadata": {},
   "outputs": [
    {
     "data": {
      "image/png": "[encoded data removed]",
      "text/plain": [
       "<Figure size 432x288 with 1 Axes>"
      ]
     },
     "metadata": {
      "needs_background": "light"
     },
     "output_type": "display_data"
    },
    {
     "data": {
      "image/png": "[encoded data removed]",
      "text/plain": [
       "<Figure size 432x288 with 1 Axes>"
      ]
     },
     "metadata": {
      "needs_background": "light"
     },
     "output_type": "display_data"
    },
    {
     "data": {
      "image/png": "[encoded data removed]",
      "text/plain": [
       "<Figure size 432x288 with 1 Axes>"
      ]
     },
     "metadata": {
      "needs_background": "light"
     },
     "output_type": "display_data"
    },
    {
     "data": {
      "image/png": "[encoded data removed]",
      "text/plain": [
       "<Figure size 432x288 with 1 Axes>"
      ]
     },
     "metadata": {
      "needs_background": "light"
     },
     "output_type": "display_data"
    }
   ],
   "source": [
    "continous_df = continous_df[(continous_df['GROSS SQUARE FEET'] > 0)]\n",
    "continous_df = continous_df[(continous_df['LAND SQUARE FEET'] > 0)]\n",
    "\n",
    "\n",
    "\n",
    "continous_df['LOG GROSS SQUARE FEET'] = np.log(continous_df['GROSS SQUARE FEET'])\n",
    "continous_df['LOG LAND SQUARE FEET'] = np.log(continous_df['LAND SQUARE FEET'])\n",
    "continous_df['LOG COMMERCIAL UNITS'] = np.log(continous_df['COMMERCIAL UNITS'] +1)\n",
    "continous_df['LOG RESIDENTIAL UNITS'] = np.log(continous_df['RESIDENTIAL UNITS'] +1 )\n",
    "\n",
    "\n",
    "\n",
    "column_names = ['LOG GROSS SQUARE FEET' , 'LOG LAND SQUARE FEET' , 'LOG COMMERCIAL UNITS' , 'LOG RESIDENTIAL UNITS' ]\n",
    "for name in column_names:\n",
    "    sns.distplot(continous_df[name])\n",
    "    plt.show()\n",
    "continous_df.drop(['LOG COMMERCIAL UNITS' , 'LOG RESIDENTIAL UNITS' , \n",
    "                   'GROSS SQUARE FEET' , 'LAND SQUARE FEET'], axis = 1 , inplace = True)"
   ]
  },
  {
   "cell_type": "markdown",
   "metadata": {},
   "source": [
    "**Not even the log distribuitions for residential, and commercial, units are Gaussian. The parameters are therefore dropped. The gross square footage has a Gaussian dustribution. It is however questionable whether the land square footage is sufficiently Gaussian. Both variables will however be included in the model, in order to not keep some of the complexity of the model.**"
   ]
  },
  {
   "cell_type": "markdown",
   "metadata": {},
   "source": [
    "<a name=\"5.1.1\"></a>\n",
    "#### 5.1.1 Grid Search"
   ]
  },
  {
   "cell_type": "code",
   "execution_count": 519,
   "metadata": {},
   "outputs": [],
   "source": [
    "x = continous_df.drop(['CATEGORICAL PRICE'] , axis = 1)\n",
    "y = continous_df['CATEGORICAL PRICE']\n",
    "\n",
    "x_train, x_test , y_train , y_test = train_test_split(x,y , random_state = 1)"
   ]
  },
  {
   "cell_type": "code",
   "execution_count": 520,
   "metadata": {},
   "outputs": [
    {
     "name": "stdout",
     "output_type": "stream",
     "text": [
      "Gaussian Naive Bayes Model\n",
      "--------------------------\n",
      "\n",
      "Training set score: 0.38761\n",
      "Test set score: 0.38249\n"
     ]
    }
   ],
   "source": [
    "gnb = GaussianNB()\n",
    "gnb.fit(x_train, y_train)\n",
    "\n",
    "print(\"Gaussian Naive Bayes Model\")\n",
    "print(\"--------------------------\")\n",
    "print()\n",
    "print(\"Training set score: {:.5f}\".format(gnb.score(x_train, y_train)))\n",
    "print(\"Test set score: {:.5f}\".format(gnb.score(x_test, y_test)))"
   ]
  },
  {
   "cell_type": "code",
   "execution_count": 2,
   "metadata": {},
   "outputs": [],
   "source": [
    "from sklearn.metrics import plot_confusion_matrix\n",
    "#plot_confusion_matrix(gnb, x_test, y_test)"
   ]
  },
  {
   "cell_type": "markdown",
   "metadata": {},
   "source": [
    "Performs better then random guessing, however the according to the confusion matrix the model seems to skew the predictions towards the lower middle quarter of the sale prices. The model is especially bad at predicting the cheapest values, as well as the upper middle quarter. "
   ]
  },
  {
   "cell_type": "code",
   "execution_count": 522,
   "metadata": {},
   "outputs": [],
   "source": [
    "x = categorical_df.drop(['CATEGORICAL PRICE'] , axis = 1)\n",
    "y = categorical_df['CATEGORICAL PRICE']\n",
    "\n",
    "x_train, x_test , y_train , y_test = train_test_split(x, y, random_state = 0 )"
   ]
  },
  {
   "cell_type": "code",
   "execution_count": 523,
   "metadata": {},
   "outputs": [],
   "source": [
    "#param_grid = {'alpha' : [0.000001 , 0.00001 , 0.0001 , 0.001 , 0.01 , 0.1 , 1 ,10]}\n",
    "#grid_bernouli = GridSearchCV(BernoulliNB() , param_grid = param_grid)\n",
    "#grid_bernouli.fit(x_train , y_train)\n",
    "\n",
    "#print('Grid search with the best accuracy: \\n------------------------------------')\n",
    "#print('Best parameters: ', grid_bernouli.best_params_) \n",
    "#print('Best cross validation score(Accuracy): {:.3f}'.format(grid_bernouli.best_score_))\n",
    "\n",
    "#print('Test set score: {:.3f}'.format(grid_bernouli.score(x_test,y_test)))"
   ]
  },
  {
   "cell_type": "markdown",
   "metadata": {},
   "source": [
    "The GridSearch above gave us the paramter 'alpha: 0.01' "
   ]
  },
  {
   "cell_type": "code",
   "execution_count": 524,
   "metadata": {},
   "outputs": [
    {
     "name": "stdout",
     "output_type": "stream",
     "text": [
      "Bernoulli Naive Bayes Model\n",
      "---------------------------\n",
      "\n",
      "Training set score: 0.46627\n",
      "Test set score: 0.45926\n"
     ]
    },
    {
     "name": "stderr",
     "output_type": "stream",
     "text": [
      "C:\\Users\\Eier\\Anaconda3\\lib\\site-packages\\sklearn\\naive_bayes.py:485: UserWarning: alpha too small will result in numeric errors, setting alpha = 1.0e-10\n",
      "  'setting alpha = %.1e' % _ALPHA_MIN)\n"
     ]
    }
   ],
   "source": [
    "bernoulli = BernoulliNB('alpha'== 0.01)\n",
    "bernoulli.fit(x_train , y_train)\n",
    "\n",
    "print(\"Bernoulli Naive Bayes Model\")\n",
    "print(\"---------------------------\")\n",
    "print()\n",
    "print(\"Training set score: {:.5f}\".format(bernoulli.score(x_train, y_train)))\n",
    "print(\"Test set score: {:.5f}\".format(bernoulli.score(x_test, y_test)))"
   ]
  },
  {
   "cell_type": "code",
   "execution_count": 525,
   "metadata": {},
   "outputs": [],
   "source": [
    "plot_confusion_matrix(bernoulli, x_test, y_test)"
   ]
  },
  {
   "cell_type": "markdown",
   "metadata": {},
   "source": [
    "The categorical model is more accurate than the Gaussian. From the confusion matrix it is apparent that the model is most adept at correctly identifying the cheapest and most expensive properties. Most often missclassifies into the cheapest category. \n",
    "\n",
    "When the model classifies a property as being expensive, i.e in the upper quarter of the sale prices, it rarely misses."
   ]
  },
  {
   "cell_type": "markdown",
   "metadata": {},
   "source": [
    "<a name=\"5.1.2\"></a>\n",
    "#### 5.1.2 Combined Naive Bayes"
   ]
  },
  {
   "cell_type": "markdown",
   "metadata": {},
   "source": [
    "**To get the best possible score, we will now try combining the categorical and continous variables into one model. First by binning the continous variables.**"
   ]
  },
  {
   "cell_type": "code",
   "execution_count": 526,
   "metadata": {},
   "outputs": [],
   "source": [
    "continous_df['BINNED LOG LAND SQUARE FEET'] = pd.qcut(continous_df['LOG LAND SQUARE FEET'] ,\n",
    "                                                  5 )\n",
    "continous_df['BINNED LOG GROSS SQUARE FEET'] = pd.qcut(continous_df['LOG GROSS SQUARE FEET'] ,\n",
    "                                                 5)\n",
    "one_hot_land = pd.get_dummies(continous_df['BINNED LOG LAND SQUARE FEET'])\n",
    "one_hot_gross = pd.get_dummies(continous_df['BINNED LOG GROSS SQUARE FEET'])\n",
    "\n",
    "categorical_df = pd.concat([categorical_df , one_hot_land , one_hot_gross],axis = 1)"
   ]
  },
  {
   "cell_type": "code",
   "execution_count": 527,
   "metadata": {},
   "outputs": [],
   "source": [
    "x = categorical_df.drop(['CATEGORICAL PRICE'] , axis = 1)\n",
    "y = categorical_df['CATEGORICAL PRICE']\n",
    "\n",
    "x_train, x_test , y_train , y_test = train_test_split(x,y , random_state = 0 )"
   ]
  },
  {
   "cell_type": "code",
   "execution_count": 528,
   "metadata": {},
   "outputs": [],
   "source": [
    "#param_grid = {'alpha' : [0.000001 , 0.00001 , 0.0001 , 0.001 , 0.01 , 0.1 , 1 ,10]}\n",
    "#grid_bernouli = GridSearchCV(BernoulliNB() , param_grid = param_grid)\n",
    "#grid_bernouli.fit(x_train , y_train)\n",
    "\n",
    "#print('Grid search with the best accuracy: \\n------------------------------------')\n",
    "#print('Best parameters: ', grid_bernouli.best_params_) \n",
    "#print('Best cross validation score(Accuracy): {:.3f}'.format(grid_bernouli.best_score_))\n",
    "\n",
    "#print('Test set score: {:.3f}'.format(grid_bernouli.score(x_test,y_test)))"
   ]
  },
  {
   "cell_type": "markdown",
   "metadata": {},
   "source": [
    "The GridSearch above gave us the paramter 'alpha: 0.1'"
   ]
  },
  {
   "cell_type": "code",
   "execution_count": 529,
   "metadata": {},
   "outputs": [
    {
     "name": "stderr",
     "output_type": "stream",
     "text": [
      "C:\\Users\\Eier\\Anaconda3\\lib\\site-packages\\sklearn\\naive_bayes.py:485: UserWarning: alpha too small will result in numeric errors, setting alpha = 1.0e-10\n",
      "  'setting alpha = %.1e' % _ALPHA_MIN)\n"
     ]
    },
    {
     "name": "stdout",
     "output_type": "stream",
     "text": [
      "Training set score: 0.50089\n",
      "Test set score: 0.48936\n"
     ]
    }
   ],
   "source": [
    "bernoulli = BernoulliNB('alpha' == 0.1)\n",
    "bernoulli.fit(x_train , y_train)\n",
    "\n",
    "print('Training set score: {:.5f}'.format(bernoulli.score(x_train , y_train)))\n",
    "print('Test set score: {:.5f}'. format(bernoulli.score(x_test , y_test)))"
   ]
  },
  {
   "cell_type": "code",
   "execution_count": 530,
   "metadata": {},
   "outputs": [],
   "source": [
    "plot_confusion_matrix(bernoulli, x_test, y_test)"
   ]
  },
  {
   "cell_type": "markdown",
   "metadata": {},
   "source": [
    "Even higher test score than when using only categorical parameters. From the confusion matrix we can tell that the trend where predictions of most expensive are fairly precise. In a even bigger degree than only using categorical variables. It is also apparent that the current model is more adept at classifying the two middle classes."
   ]
  },
  {
   "cell_type": "markdown",
   "metadata": {},
   "source": [
    "Will now try another method for combining continous and categorical variables. The approach has been found on: \n",
    "https://towardsdatascience.com/naive-bayes-classifier-how-to-successfully-use-it-in-python-ecf76a995069"
   ]
  },
  {
   "cell_type": "code",
   "execution_count": 531,
   "metadata": {},
   "outputs": [
    {
     "data": {
      "text/plain": [
       "GaussianNB(priors=None, var_smoothing=1e-09)"
      ]
     },
     "execution_count": 531,
     "metadata": {},
     "output_type": "execute_result"
    }
   ],
   "source": [
    "X = pd.concat([categorical_df.drop(['CATEGORICAL PRICE'] ,axis = 1), continous_df[['LOG GROSS SQUARE FEET' , 'LOG LAND SQUARE FEET']]], axis = 1)\n",
    "y = categorical_df['CATEGORICAL PRICE']\n",
    "\n",
    "X_train , X_test , y_train , y_test = train_test_split(X , y , random_state = 1)\n",
    "\n",
    "              \n",
    "\n",
    "gaussian_model = GaussianNB()\n",
    "clf_g = gaussian_model.fit(X_train[['LOG GROSS SQUARE FEET' , 'LOG LAND SQUARE FEET']] , y_train)\n",
    "\n",
    "categorical_model = BernoulliNB()\n",
    "clf_c = categorical_model.fit(X_train.drop(['LOG GROSS SQUARE FEET' , 'LOG LAND SQUARE FEET'] , axis = 1) \n",
    "                              , y_train)\n",
    "\n",
    "\n",
    "g_train_probs = gaussian_model.predict_proba(X_train[['LOG GROSS SQUARE FEET' , 'LOG LAND SQUARE FEET']])\n",
    "c_train_probs = categorical_model.predict_proba(X_train.drop(['LOG GROSS SQUARE FEET' , 'LOG LAND SQUARE FEET'], axis = 1 ))\n",
    " \n",
    "g_test_probs = gaussian_model.predict_proba(X_test[['LOG GROSS SQUARE FEET' , 'LOG LAND SQUARE FEET']])                                                 \n",
    "c_test_probs = categorical_model.predict_proba(X_test.drop(['LOG GROSS SQUARE FEET' , 'LOG LAND SQUARE FEET'], axis = 1 ))\n",
    "\n",
    "\n",
    "X_new_train = np.c_[(g_train_probs[:,1], c_train_probs[:,1])] # Train\n",
    "X_new_test = np.c_[(g_test_probs[:,1], c_test_probs[:,1])] # Test\n",
    "\n",
    "combined_gaussian = GaussianNB()\n",
    "combined_gaussian.fit(X_new_train, y_train)"
   ]
  },
  {
   "cell_type": "code",
   "execution_count": 532,
   "metadata": {},
   "outputs": [
    {
     "name": "stdout",
     "output_type": "stream",
     "text": [
      "Combined Naive Bayes Model\n",
      "--------------------------\n",
      "\n",
      "Training set score: 0.43297\n",
      "Test set score: 0.43250\n"
     ]
    }
   ],
   "source": [
    "print(\"Combined Naive Bayes Model\")\n",
    "print(\"--------------------------\")\n",
    "print()\n",
    "print('Training set score: {:.5f}'.format(combined_gaussian.score(X_new_train, y_train)))\n",
    "print('Test set score: {:.5f}'.format(combined_gaussian.score(X_new_test, y_test)))"
   ]
  },
  {
   "cell_type": "code",
   "execution_count": 533,
   "metadata": {},
   "outputs": [],
   "source": [
    "plot_confusion_matrix(combined_gaussian, X_new_test, y_test)"
   ]
  },
  {
   "cell_type": "markdown",
   "metadata": {},
   "source": [
    "The final gaussian model has higher accuracy than the first gaussian, however we can tell fom the confusion matrix that the model only really predicts properties to be expensive, or for properties to be in the lower middle quarter of sale prices. The model therefore seems rather useless. However the model can still correctly classify expensive properties with some accuracy. "
   ]
  },
  {
   "cell_type": "markdown",
   "metadata": {},
   "source": [
    "<a name=\"5.1.4\"></a>\n",
    "#### 5.1.4 Analysis"
   ]
  },
  {
   "cell_type": "markdown",
   "metadata": {},
   "source": [
    "**All the Naive Bayes models perform far better than randomly guessing, however the Bernouli model performs far better their the Gaussian counterparts. Especially the classifier only using continous parameters. This is most likely beacuse the variables used do not have sufficiently gaussian distributions.**\n",
    "\n",
    "**The combined model with binned continous variables is the best performing Naive Bayes. The usefullness of either of the Naive Bayes models is however questionable, as the Sale price has been divided into four categories. A prediction on whether a property is going to be cheap, expensive or somewhat average is not interesting. Still most of the models can, with decent accuracy, predict if the property is expensive.**\n",
    "\n",
    "**Furthermore the ammount of processing required to generate these models make the data less \"valid\". The fact that we had to generate log distributions in order to make Gaussian models, means that the models containing these variables predict on a imaginary version of the dataset.**\n",
    "\n",
    "**The fact that the models are able to perform better than random guessing is however encouraging for creation of the other models.**"
   ]
  },
  {
   "cell_type": "markdown",
   "metadata": {},
   "source": [
    "<a name=\"5.2\"></a>\n",
    "### 5.2 Support Vector Regressor\n"
   ]
  },
  {
   "cell_type": "markdown",
   "metadata": {},
   "source": [
    "The Next ML Algorythm we will throw on the Dataset is the **Support Vector Regressor (SVR)**, Support Vector Classifyer`s regressive brother. The reason behind choosing the Support Vector Regressor over the Classifyer comes from the quriosity if it performs better than the newer and more modern Neural Netrwork Regressor we tested earlier. \n",
    "\n",
    "We will be testing traditional Support Vector Regressor with the kernels Linear and RBF, even thought there are alot of kernels, they are simply different ways off making the hyperplane decision boundary between the classes, some linearly, and some nonlinearly$^1$. Therefore we limited ourselves to one of each.\n",
    "\n",
    "Further we will test the **Linear Support Vector Regressor (LinearSVR)**, the difference between this and SVR using the Linear kernel is the epsilon parameter and tolerance (among others). This gives us more flexibility and supposedly it scales better with large numbers of samples$^2$, something that is true for us (n = 26309). \n",
    "\n",
    "Lastly we will be using the **Nu Support Vector Regression (NuSVR)**, simular to SVR, with the addition of the `nu` parameter. The `nu` parameter is a an upper boundary on the fraction of training erros and a lower bound on the fraction of support vectors$^2$. Basicly you can control the amount of support vectors used.\n",
    "\n",
    "We will first conduct a Grid Search for the three models, then we will take these results into the modeling stage, and at last discuss the outcome.\n",
    "\n",
    "In terms of preproccesing we will simply use the already scaled and handeled `standard_df` dataframe as it is prepared for a regressive Algorythm.\n",
    "\n",
    "<details>\n",
    "<summary>Sources</summary>\n",
    "[1]: Uddin, Md. Palash. (2018). Re: Diffference between SVM Linear, polynmial and RBF kernel?. Retrieved from: https://www.researchgate.net/post/Diffference_between_SVM_Linear_polynmial_and_RBF_kernel/5af811d18272c91a19463943/citation/download.\n",
    "<br>[2]: Scikit-learn: Machine Learning in Python, Pedregosa et al., JMLR 12, pp. 2825-2830, 2011.\n",
    "</details>\n"
   ]
  },
  {
   "cell_type": "markdown",
   "metadata": {},
   "source": [
    "<a name=\"5.2.0\"></a>\n",
    "#### 5.2.0 Pre Proccesing"
   ]
  },
  {
   "cell_type": "code",
   "execution_count": 534,
   "metadata": {},
   "outputs": [],
   "source": [
    "y = np.asarray(standard_df[\"SALE PRICE\"], dtype=float)\n",
    "x = standard_df.drop([\"SALE PRICE\"], axis = 1)\n",
    "x = np.asarray(x, dtype=float)"
   ]
  },
  {
   "cell_type": "code",
   "execution_count": 535,
   "metadata": {},
   "outputs": [],
   "source": [
    "X_train,X_test,Y_train,Y_test = train_test_split(x,y,test_size=.20,random_state=42)"
   ]
  },
  {
   "cell_type": "markdown",
   "metadata": {},
   "source": [
    "<a name=\"5.2.1\"></a>\n",
    "#### 5.2.1 Grid Search"
   ]
  },
  {
   "cell_type": "markdown",
   "metadata": {},
   "source": [
    "##### Grid Search SVR()"
   ]
  },
  {
   "cell_type": "code",
   "execution_count": 536,
   "metadata": {},
   "outputs": [],
   "source": [
    "#modelsvr = SVR()\n",
    "#param = {'kernel' : ('linear', 'rbf'),\n",
    "#         'C' : [1,3,5,7,10,15]}\n",
    "\n",
    "\n",
    "#grid_svr = GridSearchCV(modelsvr,param_grid = param, n_jobs = -1, verbose = 2)\n",
    "\n",
    "#grid_svr.fit(X_train,Y_train)\n",
    "#print('Grid search with the best accuracy: \\n------------------------------------')\n",
    "#print('Best parameters: ', grid_svr.best_params_) \n",
    "#print('Best cross validation score(Accuracy): {:.3f}'.format(grid_svr.best_score_))\n",
    "\n",
    "#print('Test set score: {:.3f}'.format(grid_svr.score(X_test,Y_test)))"
   ]
  },
  {
   "cell_type": "markdown",
   "metadata": {},
   "source": [
    "#### Grid search with the best accuracy: \n",
    "------------------------------------\n",
    "Best parameters:  {'C': 3, 'kernel': 'rbf'}\n",
    "Best cross validation score(Accuracy): 0.700\n",
    "Test set score: 0.709"
   ]
  },
  {
   "cell_type": "markdown",
   "metadata": {},
   "source": [
    "##### Grid Search LinearSVR()"
   ]
  },
  {
   "cell_type": "code",
   "execution_count": 537,
   "metadata": {},
   "outputs": [],
   "source": [
    "#modelsvr = LinearSVR()\n",
    "#param = {'C' : [0.001,0.01,0.1,0,2,0.3,1,3,5],\n",
    "#        \"tol\": [0.00001,0.0001,0.0002,0.0004,0.001],\n",
    "#        \"epsilon\": [0.0,0.3,0.5,0.7,0.9,1,1.1]}\n",
    "\n",
    "\n",
    "#grid_LinSVR = GridSearchCV(modelsvr,param_grid = param, n_jobs = -1, verbose = 2)\n",
    "\n",
    "#grid_LinSVR.fit(X_train,Y_train)\n",
    "#print('Grid search with the best accuracy: \\n------------------------------------')\n",
    "#print('Best parameters: ', grid_LinSVR.best_params_) \n",
    "#print('Best cross validation score(Accuracy): {:.3f}'.format(grid_LinSVR.best_score_))\n",
    "#\n",
    "#print('Test set score: {:.3f}'.format(grid_LinSVR.score(X_test,Y_test)))"
   ]
  },
  {
   "cell_type": "markdown",
   "metadata": {},
   "source": [
    "#### Grid search with the best accuracy: \n",
    "------------------------------------\n",
    "Best parameters:  {'C': 0.01, 'epsilon': 0.7, 'tol': 0.0002}\n",
    "Best cross validation score(Accuracy): 0.688\n",
    "Test set score: 0.690"
   ]
  },
  {
   "cell_type": "markdown",
   "metadata": {},
   "source": [
    "##### Grid Search NuSVR()"
   ]
  },
  {
   "cell_type": "code",
   "execution_count": 538,
   "metadata": {},
   "outputs": [],
   "source": [
    "#modelsvr = NuSVR()\n",
    "\n",
    "#param = {\"C\": [0.1,0.6,1,1.5,2],\n",
    "#         \"nu\": [0.1,0.3,0.5,0.6,0.7],\n",
    "#         \"kernel\": [\"linear\", \"rbf\"]}\n",
    "\n",
    "#grid_NuSVR = GridSearchCV(modelsvr,param_grid = param, cv = 3, n_jobs = -1, verbose = 2)\n",
    "\n",
    "#grid_NuSVR.fit(X_train,Y_train)\n",
    "#print('Grid search with the best accuracy: \\n------------------------------------')\n",
    "#print('Best parameters: ', grid_NuSVR.best_params_) \n",
    "#print('Best cross validation score(Accuracy): {:.3f}'.format(grid_NuSVR.best_score_))"
   ]
  },
  {
   "cell_type": "markdown",
   "metadata": {},
   "source": [
    "#### Grid search with the best accuracy: \n",
    "------------------------------------\n",
    "Best parameters:  {'C': 2, 'kernel': 'rbf', 'nu': 0.3}\n",
    "Best cross validation score(Accuracy): 0.703"
   ]
  },
  {
   "cell_type": "markdown",
   "metadata": {},
   "source": [
    "<a name=\"5.2.2\"></a>\n",
    "#### 5.2.2 Fitting the models\n",
    "\n",
    "With the information we found from the grid Searches we can start fitting our models with the relevant information:"
   ]
  },
  {
   "cell_type": "markdown",
   "metadata": {},
   "source": [
    "<a name=\"5.2.3\"></a>\n",
    "#### 5.2.3 **Fitting SVR()**"
   ]
  },
  {
   "cell_type": "code",
   "execution_count": 539,
   "metadata": {},
   "outputs": [
    {
     "name": "stderr",
     "output_type": "stream",
     "text": [
      "C:\\Users\\Eier\\Anaconda3\\lib\\site-packages\\sklearn\\svm\\base.py:193: FutureWarning: The default value of gamma will change from 'auto' to 'scale' in version 0.22 to account better for unscaled features. Set gamma explicitly to 'auto' or 'scale' to avoid this warning.\n",
      "  \"avoid this warning.\", FutureWarning)\n"
     ]
    },
    {
     "name": "stdout",
     "output_type": "stream",
     "text": [
      "SVR_model with RBF Kernel:\n",
      " Training score :0.747733\n",
      " Test Score: 0.708663\n"
     ]
    }
   ],
   "source": [
    "SVR_model = SVR(kernel = \"rbf\", C = 3).fit(X_train, Y_train)\n",
    "scoretrain = SVR_model.score(X_train,Y_train)\n",
    "scoretest  = SVR_model.score(X_test,Y_test)\n",
    "\n",
    "\n",
    "print(\"SVR_model with RBF Kernel:\\n Training score :{:2f}\\n Test Score: {:2f}\".format(scoretrain,scoretest))"
   ]
  },
  {
   "cell_type": "markdown",
   "metadata": {},
   "source": [
    "<a name=\"5.2.4\"></a>\n",
    "#### 5.2.4 **LinearSVR()**\n",
    "\n",
    "**Note!!** \n",
    "Intrestringly enough using the cross validation function in GridSearchCV Originally gave us `C = 0.3` as the best option with `CV = 3`, running it once more using the default value (This being `CV = 5`) Proved the same results. But as shown beneath we are getting much better results with `C = 3`.\n",
    "\n",
    "We have not been able to find the reason behind this, some sources suggested issues with crossvalidating too large a part of the dataset. As of now we are using 20%, but for a later date it would be intresting to test this with different values in the test_train_split function."
   ]
  },
  {
   "cell_type": "code",
   "execution_count": 540,
   "metadata": {},
   "outputs": [
    {
     "name": "stderr",
     "output_type": "stream",
     "text": [
      "C:\\Users\\Eier\\Anaconda3\\lib\\site-packages\\sklearn\\svm\\base.py:193: FutureWarning: The default value of gamma will change from 'auto' to 'scale' in version 0.22 to account better for unscaled features. Set gamma explicitly to 'auto' or 'scale' to avoid this warning.\n",
      "  \"avoid this warning.\", FutureWarning)\n"
     ]
    },
    {
     "name": "stdout",
     "output_type": "stream",
     "text": [
      "Linear Support Vector Regressor with C = 3:\n",
      " Training score :0.737997\n",
      " Test Score: 0.706731\n"
     ]
    }
   ],
   "source": [
    "LinSVR_model = SVR(C = 3, epsilon = 0.7, tol = 0.0002).fit(X_train, Y_train)\n",
    "scoretrain = LinSVR_model.score(X_train,Y_train)\n",
    "scoretest  = LinSVR_model.score(X_test,Y_test)\n",
    "\n",
    "\n",
    "print(\"Linear Support Vector Regressor with C = 3:\\n Training score :{:2f}\\n Test Score: {:2f}\".format(scoretrain,scoretest))"
   ]
  },
  {
   "cell_type": "code",
   "execution_count": 541,
   "metadata": {},
   "outputs": [
    {
     "name": "stderr",
     "output_type": "stream",
     "text": [
      "C:\\Users\\Eier\\Anaconda3\\lib\\site-packages\\sklearn\\svm\\base.py:193: FutureWarning: The default value of gamma will change from 'auto' to 'scale' in version 0.22 to account better for unscaled features. Set gamma explicitly to 'auto' or 'scale' to avoid this warning.\n",
      "  \"avoid this warning.\", FutureWarning)\n"
     ]
    },
    {
     "name": "stdout",
     "output_type": "stream",
     "text": [
      "Linear Support Vector Regressor with C = 0.3:\n",
      " Training score :0.689600\n",
      " Test Score: 0.683074\n"
     ]
    }
   ],
   "source": [
    "LinSVR_model = SVR(C = 0.3, epsilon = 0.7, tol = 0.0002).fit(X_train, Y_train)\n",
    "scoretrain = LinSVR_model.score(X_train,Y_train)\n",
    "scoretest  = LinSVR_model.score(X_test,Y_test)\n",
    "\n",
    "\n",
    "print(\"Linear Support Vector Regressor with C = 0.3:\\n Training score :{:2f}\\n Test Score: {:2f}\".format(scoretrain,scoretest))"
   ]
  },
  {
   "cell_type": "markdown",
   "metadata": {},
   "source": [
    "<a name=\"5.2.5\"></a>\n",
    "#### 5.2.5 **NuSVR()**"
   ]
  },
  {
   "cell_type": "code",
   "execution_count": 542,
   "metadata": {},
   "outputs": [
    {
     "name": "stderr",
     "output_type": "stream",
     "text": [
      "C:\\Users\\Eier\\Anaconda3\\lib\\site-packages\\sklearn\\svm\\base.py:193: FutureWarning: The default value of gamma will change from 'auto' to 'scale' in version 0.22 to account better for unscaled features. Set gamma explicitly to 'auto' or 'scale' to avoid this warning.\n",
      "  \"avoid this warning.\", FutureWarning)\n"
     ]
    },
    {
     "name": "stdout",
     "output_type": "stream",
     "text": [
      "Nu Support Vector Regressor with C = 3:\n",
      " Training score :0.743615\n",
      " Test Score: 0.712083\n"
     ]
    }
   ],
   "source": [
    "NuSVR_model = NuSVR(C = 2, kernel = \"rbf\", nu = 0.3).fit(X_train, Y_train)\n",
    "scoretrain = NuSVR_model.score(X_train,Y_train)\n",
    "scoretest  = NuSVR_model.score(X_test,Y_test)\n",
    "\n",
    "\n",
    "print(\"Nu Support Vector Regressor with C = 3:\\n Training score :{:2f}\\n Test Score: {:2f}\".format(scoretrain,scoretest))"
   ]
  },
  {
   "cell_type": "markdown",
   "metadata": {},
   "source": [
    "<a name=\"5.2.6\"></a>\n",
    "#### 5.2.6 Analysing\n",
    "\n",
    "To start it seems that all three models deliver the same results. But LinearSVC() scores the least. This comes from the kernel used by the different models, LinearSVC, as implied by its name, uses a Linear kernel where as NuSVC and SVC are set to use the Radial Basis Function (RBF), chosen because of its superiority with non-linear data. \n",
    "\n",
    "When researching the disadvantages and advantages of the SVR algorythm we were hard pressed to find good sources, but different actors all agreed on its computational cost, at least the SVR() model, as well as the grid searches for the models using different Kernels. It does however produce decent enough results."
   ]
  },
  {
   "cell_type": "markdown",
   "metadata": {},
   "source": [
    "<a name=\"5.3\"></a>\n",
    "### 5.3 K-Nearest Neighbor Model"
   ]
  },
  {
   "cell_type": "markdown",
   "metadata": {},
   "source": [
    "<a name=\"5.3.0\"></a>\n",
    "#### 5.3.0 Pre Proccesing"
   ]
  },
  {
   "cell_type": "code",
   "execution_count": null,
   "metadata": {},
   "outputs": [],
   "source": [
    "y = minmax_df['SALE PRICE']\n",
    "x = minmax_df.drop(['SALE PRICE'], axis = 1)\n",
    "\n",
    "x_train, x_test , y_train, y_test = train_test_split(x , y, random_state = 1)"
   ]
  },
  {
   "cell_type": "markdown",
   "metadata": {},
   "source": [
    "<a name=\"5.3.1\"></a>\n",
    "#### 5.3.1 **Grid Search for kNN**"
   ]
  },
  {
   "cell_type": "code",
   "execution_count": null,
   "metadata": {},
   "outputs": [],
   "source": [
    "#knn = KNeighborsRegressor().fit(x_train, y_train)\n",
    "\n",
    "#param_grid = {'n_neighbors' : [1,5,10,15,20,50,100]}\n",
    "#grid_knn = GridSearchCV(KNeighborsRegressor() , param_grid = param_grid)\n",
    "#grid_knn.fit(x_train , y_train)\n",
    "\n",
    "#print('Grid search with the best accuracy: \\n------------------------------------')\n",
    "#print('Best parameters: ', grid_knn.best_params_) \n",
    "#print('Best cross validation score(Accuracy): {:.3f}'.format(grid_knn.best_score_))\n",
    "#print('Test set score: {:.5f}'.format(grid_knn.score(x_test,y_test)))"
   ]
  },
  {
   "cell_type": "markdown",
   "metadata": {},
   "source": [
    "#### Grid search with the best accuracy: \n",
    "------------------------------------\n",
    "Best parameters:  {'n_neighbors': 20}"
   ]
  },
  {
   "cell_type": "markdown",
   "metadata": {},
   "source": [
    "<a name=\"5.3.2\"></a>\n",
    "#### 5.3.2 **KneighborsRegressor()**"
   ]
  },
  {
   "cell_type": "code",
   "execution_count": null,
   "metadata": {},
   "outputs": [],
   "source": [
    "knn = KNeighborsRegressor(n_neighbors=20)\n",
    "knn.fit(x_train, y_train)\n",
    "\n",
    "print(\"Training set score: {:.5f}\".format(knn.score(x_train, y_train)))\n",
    "print(\"Test set score: {:.5f}\".format(knn.score(x_test, y_test)))"
   ]
  },
  {
   "cell_type": "markdown",
   "metadata": {},
   "source": [
    "<a name=\"5.3.3\"></a>\n",
    "#### 5.3.3 **Analysis**"
   ]
  },
  {
   "cell_type": "markdown",
   "metadata": {},
   "source": [
    "The kNN-Model indicates that a significant amount of similar data points are close to each other in close proximity"
   ]
  },
  {
   "cell_type": "markdown",
   "metadata": {},
   "source": [
    "<a name=\"5.4\"></a>\n",
    "### 5.4 Linear Regression"
   ]
  },
  {
   "cell_type": "markdown",
   "metadata": {},
   "source": [
    "<a name=\"5.4.0\"></a>\n",
    "#### 5.4.0 **Pre Proccesing**"
   ]
  },
  {
   "cell_type": "code",
   "execution_count": null,
   "metadata": {},
   "outputs": [],
   "source": [
    "y = standard_df['SALE PRICE']\n",
    "x = standard_df.drop(['SALE PRICE'], axis = 1)\n",
    "\n",
    "x_train, x_test , y_train, y_test = train_test_split(x , y, random_state = 1)"
   ]
  },
  {
   "cell_type": "markdown",
   "metadata": {},
   "source": [
    "<a name=\"5.4.1\"></a>\n",
    "#### 5.4.1 **LinearRegression()**"
   ]
  },
  {
   "cell_type": "code",
   "execution_count": null,
   "metadata": {},
   "outputs": [],
   "source": [
    "lr = LinearRegression().fit(x_train , y_train)\n",
    "\n",
    "print(\"Normal Linear Regression Model\")\n",
    "print(\"------------------------------\")\n",
    "print()\n",
    "print(\"Training set score: {:.5f}\".format(lr.score(x_train, y_train)))\n",
    "print(\"Test set score: {:.5f}\".format(lr.score(x_test, y_test)))"
   ]
  },
  {
   "cell_type": "markdown",
   "metadata": {},
   "source": [
    "<a name=\"5.4.2\"></a>\n",
    "#### 5.4.2 **Grid Search**"
   ]
  },
  {
   "cell_type": "markdown",
   "metadata": {},
   "source": [
    "##### **Grid Search for Ridge Regression**"
   ]
  },
  {
   "cell_type": "code",
   "execution_count": null,
   "metadata": {},
   "outputs": [],
   "source": [
    "#ridge = Ridge().fit(x_train, y_train)\n",
    "\n",
    "#alpha = [0.001, 0.01, 0.1, 1, 10, 100, 1000]\n",
    "#param_grid = dict(alpha=alpha)\n",
    "\n",
    "#grid = GridSearchCV(estimator=ridge, param_grid=param_grid, scoring='r2')\n",
    "#grid_result = grid.fit(x_train, y_train)\n",
    "\n",
    "#print('Best Score: ', grid_result.best_score_)\n",
    "#print('Best Params: ', grid_result.best_params_)"
   ]
  },
  {
   "cell_type": "markdown",
   "metadata": {},
   "source": [
    "#### Grid search with the best accuracy: \n",
    "------------------------------------\n",
    "Best parameters:  {'alpha': 100}"
   ]
  },
  {
   "cell_type": "markdown",
   "metadata": {},
   "source": [
    "##### **Grid Search for Lasso Regression**"
   ]
  },
  {
   "cell_type": "code",
   "execution_count": null,
   "metadata": {},
   "outputs": [],
   "source": [
    "#lasso = Lasso().fit(x_train, y_train)\n",
    "\n",
    "#alpha = [0.001, 0.01, 0.1, 1, 10, 100, 1000]\n",
    "#param_grid = dict(alpha=alpha)\n",
    "\n",
    "#grid = GridSearchCV(estimator=lasso, param_grid=param_grid, scoring='r2')\n",
    "#grid_result = grid.fit(x_train, y_train)\n",
    "\n",
    "#print('Best Score: ', grid_result.best_score_)\n",
    "#print('Best Params: ', grid_result.best_params_)"
   ]
  },
  {
   "cell_type": "markdown",
   "metadata": {},
   "source": [
    "#### Grid search with the best accuracy: \n",
    "------------------------------------\n",
    "Best parameters:  {'alpha': 0.01}"
   ]
  },
  {
   "cell_type": "markdown",
   "metadata": {},
   "source": [
    "<a name=\"5.4.3\"></a>\n",
    "#### 5.4.3 **Ridge()**"
   ]
  },
  {
   "cell_type": "code",
   "execution_count": null,
   "metadata": {},
   "outputs": [],
   "source": [
    "ridge = Ridge(alpha=100).fit(x_train, y_train)\n",
    "\n",
    "print(\"Ridge Regression Model\")\n",
    "print(\"----------------------\")\n",
    "print()\n",
    "print(\"Training set score: {:.5f}\".format(ridge.score(x_train, y_train)))\n",
    "print(\"Test set score: {:.5f}\".format(ridge.score(x_test, y_test)))"
   ]
  },
  {
   "cell_type": "markdown",
   "metadata": {},
   "source": [
    "<a name=\"5.4.4\"></a>\n",
    "#### 5.4.4 **Lasso()**"
   ]
  },
  {
   "cell_type": "code",
   "execution_count": 8,
   "metadata": {},
   "outputs": [
    {
     "ename": "NameError",
     "evalue": "name 'x_train' is not defined",
     "output_type": "error",
     "traceback": [
      "\u001b[0;31m---------------------------------------------------------------------------\u001b[0m",
      "\u001b[0;31mNameError\u001b[0m                                 Traceback (most recent call last)",
      "\u001b[0;32m<ipython-input-8-27047725de07>\u001b[0m in \u001b[0;36m<module>\u001b[0;34m\u001b[0m\n\u001b[0;32m----> 1\u001b[0;31m \u001b[0mlasso\u001b[0m \u001b[0;34m=\u001b[0m \u001b[0mLasso\u001b[0m\u001b[0;34m(\u001b[0m\u001b[0malpha\u001b[0m\u001b[0;34m=\u001b[0m\u001b[0;36m0.01\u001b[0m\u001b[0;34m)\u001b[0m\u001b[0;34m.\u001b[0m\u001b[0mfit\u001b[0m\u001b[0;34m(\u001b[0m\u001b[0mx_train\u001b[0m\u001b[0;34m,\u001b[0m \u001b[0my_train\u001b[0m\u001b[0;34m)\u001b[0m\u001b[0;34m\u001b[0m\u001b[0;34m\u001b[0m\u001b[0m\n\u001b[0m\u001b[1;32m      2\u001b[0m \u001b[0;34m\u001b[0m\u001b[0m\n\u001b[1;32m      3\u001b[0m \u001b[0mprint\u001b[0m\u001b[0;34m(\u001b[0m\u001b[0;34m\"Lasso Regression Model\"\u001b[0m\u001b[0;34m)\u001b[0m\u001b[0;34m\u001b[0m\u001b[0;34m\u001b[0m\u001b[0m\n\u001b[1;32m      4\u001b[0m \u001b[0mprint\u001b[0m\u001b[0;34m(\u001b[0m\u001b[0;34m\"----------------------\"\u001b[0m\u001b[0;34m)\u001b[0m\u001b[0;34m\u001b[0m\u001b[0;34m\u001b[0m\u001b[0m\n\u001b[1;32m      5\u001b[0m \u001b[0mprint\u001b[0m\u001b[0;34m(\u001b[0m\u001b[0;34m)\u001b[0m\u001b[0;34m\u001b[0m\u001b[0;34m\u001b[0m\u001b[0m\n",
      "\u001b[0;31mNameError\u001b[0m: name 'x_train' is not defined"
     ]
    }
   ],
   "source": [
    "lasso = Lasso(alpha=0.01).fit(x_train, y_train)\n",
    "\n",
    "print(\"Lasso Regression Model\")\n",
    "print(\"----------------------\")\n",
    "print()\n",
    "print(\"Training set score: {:.5f}\".format(lasso.score(x_train, y_train)))\n",
    "print(\"Test set score: {:.5f}\".format(lasso.score(x_test, y_test)))"
   ]
  },
  {
   "cell_type": "markdown",
   "metadata": {},
   "source": [
    "<a name=\"5.4.5\"></a>\n",
    "#### 5.4.5 **Analysing**"
   ]
  },
  {
   "cell_type": "markdown",
   "metadata": {},
   "source": [
    "**The Regressions above gives us a score that is overall not that bad. \n",
    "Linear Regression scores significantly bad, but that is expected because of the features are not linear.**\n",
    "\n",
    "**Ridge and Lasso scores overall better than the linear because of the models being more appriopriate for complex data, and the grid search gives us the most optimal alpha.**"
   ]
  },
  {
   "cell_type": "markdown",
   "metadata": {},
   "source": [
    "<a name=\"5.5\"></a>\n",
    "### 5.5 **Neural Network (MLP Regressor)**"
   ]
  },
  {
   "cell_type": "markdown",
   "metadata": {},
   "source": [
    "<a name=\"5.5.0\"></a>\n",
    "#### 5.5.0 **Pre Proccesing**"
   ]
  },
  {
   "cell_type": "code",
   "execution_count": null,
   "metadata": {},
   "outputs": [],
   "source": [
    "y = standard_df['SALE PRICE']\n",
    "x = standard_df.drop(['SALE PRICE'], axis = 1)\n",
    "\n",
    "x_train, x_test , y_train, y_test = train_test_split(x , y, random_state = 1)"
   ]
  },
  {
   "cell_type": "markdown",
   "metadata": {},
   "source": [
    "<a name=\"5.5.1\"></a>\n",
    "#### 5.5.1 **Grid Search**"
   ]
  },
  {
   "cell_type": "markdown",
   "metadata": {},
   "source": [
    "##### **Grid Search for Neural Network**"
   ]
  },
  {
   "cell_type": "code",
   "execution_count": null,
   "metadata": {},
   "outputs": [],
   "source": [
    "#nn = MLPRegressor()\n",
    "#param_grid = {\"hidden_layer_sizes\": [(1,),(10,),(25),(50,),(60,),(70,),(80,),(90,)], \n",
    "#              \"alpha\": [0.0001, 0.001, 0.01, 0.1, 1, 10, 100, 1000]}\n",
    "#grid_nn = GridSearchCV(nn, param_grid , n_jobs = -1)\n",
    "#grid_nn.fit(x_train , y_train)\n",
    "\n",
    "#print('Grid search with the best accuracy:')\n",
    "#print('-----------------------------------')\n",
    "#print('Best parameters: ', grid_nn.best_params_) \n",
    "#print('Best cross validation score(Accuracy): {:.5f}'.format(grid_nn.best_score_))"
   ]
  },
  {
   "cell_type": "markdown",
   "metadata": {},
   "source": [
    "#### Grid search with the best accuracy: \n",
    "------------------------------------\n",
    "Best parameters:  {'alpha': 0.01, 'hidden_layers_sizes': (80,)}"
   ]
  },
  {
   "cell_type": "markdown",
   "metadata": {},
   "source": [
    "<a name=\"5.5.2\"></a>\n",
    "#### 5.5.2 **MLPRegrssor()**"
   ]
  },
  {
   "cell_type": "code",
   "execution_count": null,
   "metadata": {},
   "outputs": [],
   "source": [
    "nn = MLPRegressor(hidden_layer_sizes= [80,45], activation='relu', alpha=0.01)\n",
    "nn.fit(x_train, y_train)\n",
    "\n",
    "print(\"Neural Network Regressor Model\")\n",
    "print(\"------------------------------\")\n",
    "print()\n",
    "print(\"Training set score: {:.5f}\".format(nn.score(x_train, y_train)))\n",
    "print(\"Test set score: {:.5f}\".format(nn.score(x_test, y_test)))"
   ]
  },
  {
   "cell_type": "markdown",
   "metadata": {},
   "source": [
    "<a name=\"5.5.3\"></a>\n",
    "#### 5.5.3 **Analysing**"
   ]
  },
  {
   "cell_type": "markdown",
   "metadata": {},
   "source": [
    "**Lastly, the Neural Network Model scores best. This is expected because of Neaural Network being the most suited for complex and big data. The reason being the parameter with hidden layers.**"
   ]
  },
  {
   "cell_type": "markdown",
   "metadata": {},
   "source": [
    "<a name=\"5.6\"></a>\n",
    "### 5.6 Tree Models"
   ]
  },
  {
   "cell_type": "markdown",
   "metadata": {},
   "source": [
    "<a name=\"5.6.0\"></a>\n",
    "#### 5.6.0 **Pre Proccesing**"
   ]
  },
  {
   "cell_type": "code",
   "execution_count": null,
   "metadata": {},
   "outputs": [],
   "source": [
    "y = df['SALE PRICE']\n",
    "x = df.drop(['SALE PRICE'], axis = 1)\n",
    "\n",
    "x_train, x_test , y_train, y_test = train_test_split(x , y, random_state = 1)"
   ]
  },
  {
   "cell_type": "markdown",
   "metadata": {},
   "source": [
    "<a name=\"5.6.1\"></a>\n",
    "#### 5.6.1 **Grid Search**"
   ]
  },
  {
   "cell_type": "markdown",
   "metadata": {},
   "source": [
    "**Grid Search for Decision Tree**"
   ]
  },
  {
   "cell_type": "code",
   "execution_count": null,
   "metadata": {},
   "outputs": [],
   "source": [
    "#dt = DecisionTreeRegressor().fit(x_train, y_train)\n",
    "\n",
    "#param_grid = {'max_depth' : [1,5,10,15,20,50,100]}\n",
    "#grid_dt = GridSearchCV(DecisionTreeRegressor() , param_grid = param_grid)\n",
    "#grid_dt.fit(x_train , y_train)\n",
    "\n",
    "#print('Grid search with the best accuracy: \\n------------------------------------')\n",
    "#print('Best parameters: ', grid_dt.best_params_) \n",
    "#print('Best cross validation score(Accuracy): {:.3f}'.format(grid_dt.best_score_))\n",
    "\n",
    "#print('Test set score: {:.3f}'.format(grid_dt.score(x_test,y_test)))"
   ]
  },
  {
   "cell_type": "markdown",
   "metadata": {},
   "source": [
    "#### Grid search with the best accuracy: \n",
    "----------------------------------------\n",
    "Best parameters:  {'max_depth': 5}"
   ]
  },
  {
   "cell_type": "markdown",
   "metadata": {},
   "source": [
    "**Grid Search for Random Forest Regressor**"
   ]
  },
  {
   "cell_type": "code",
   "execution_count": null,
   "metadata": {},
   "outputs": [],
   "source": [
    "#rf = RandomForestRegressor().fit(x_train, y_train)\n",
    "\n",
    "#param_grid = {'max_depth' : [1,5,10,15,20,50,100]}\n",
    "#grid_rf = GridSearchCV(RandomForestRegressor() , param_grid = param_grid)\n",
    "#grid_rf.fit(x_train , y_train)\n",
    "\n",
    "#print('Grid search with the best accuracy: \\n------------------------------------')\n",
    "#print('Best parameters: ', grid_rf.best_params_) \n",
    "#print('Best cross validation score(Accuracy): {:.3f}'.format(grid_rf.best_score_))\n",
    "\n",
    "#print('Test set score: {:.3f}'.format(grid_rf.score(x_test,y_test)))"
   ]
  },
  {
   "cell_type": "markdown",
   "metadata": {},
   "source": [
    "#### Grid search with the best accuracy: \n",
    "<hr>\n",
    "Best parameters:  {'max_depth': 10}"
   ]
  },
  {
   "cell_type": "markdown",
   "metadata": {},
   "source": [
    "**Grid Search for Gradient Boosting Regressor**"
   ]
  },
  {
   "cell_type": "code",
   "execution_count": null,
   "metadata": {},
   "outputs": [],
   "source": [
    "#gbr = GradientBoostingRegressor(n_estimators = 500)\n",
    "\n",
    "#param_grid = {'learning_rate' : [0.0001,0.001,0.01,1,0.05,0.1, 0.15, 0.5]}\n",
    "#grid_gbr = GridSearchCV(gbr , param_grid , n_jobs = -1)\n",
    "#grid_gbr.fit(x_train , y_train)\n",
    "\n",
    "#print('Grid search with the best accuracy:')\n",
    "#print('-----------------------------------')\n",
    "#print('Best parameters: ', grid_gbr.best_params_) \n",
    "#print('Best cross validation score(Accuracy): {:.5f}'.format(grid_gbr.best_score_))"
   ]
  },
  {
   "cell_type": "markdown",
   "metadata": {},
   "source": [
    "#### Grid search with the best accuracy: \n",
    "------------------------------------\n",
    "Best parameters:  {'learning_rate': 0.15}"
   ]
  },
  {
   "cell_type": "markdown",
   "metadata": {},
   "source": [
    "<a name=\"5.6.2\"></a>\n",
    "#### 5.6.2 **DecisionTreeRegressor()**"
   ]
  },
  {
   "cell_type": "code",
   "execution_count": null,
   "metadata": {},
   "outputs": [],
   "source": [
    "dt = DecisionTreeRegressor(max_depth=5).fit(x_train, y_train)\n",
    "\n",
    "print(\"Decision Tree Classifier Model\")\n",
    "print(\"------------------------------\")\n",
    "print()\n",
    "print(\"Training set score: {:.5f}\".format(dt.score(x_train, y_train)))\n",
    "print(\"Test set score: {:.5f}\".format(dt.score(x_test, y_test)))"
   ]
  },
  {
   "cell_type": "markdown",
   "metadata": {},
   "source": [
    "<a name=\"5.6.3\"></a>\n",
    "#### 5.6.3 **RandomForestRegressor()**"
   ]
  },
  {
   "cell_type": "code",
   "execution_count": null,
   "metadata": {},
   "outputs": [],
   "source": [
    "rf = RandomForestRegressor(max_depth=10).fit(x_train, y_train)\n",
    "\n",
    "print(\"Random Forest Regressor Model\")\n",
    "print(\"-----------------------------\")\n",
    "print()\n",
    "print(\"Training set score: {:.5f}\".format(rf.score(x_train, y_train)))\n",
    "print(\"Test set score: {:.5f}\".format(rf.score(x_test, y_test)))"
   ]
  },
  {
   "cell_type": "markdown",
   "metadata": {},
   "source": [
    "<a name=\"5.6.4\"></a>\n",
    "#### 5.6.4 **GradientBoostingRegresssor()**"
   ]
  },
  {
   "cell_type": "code",
   "execution_count": null,
   "metadata": {},
   "outputs": [],
   "source": [
    "gbr = GradientBoostingRegressor(n_estimators = 500, learning_rate=0.15)\n",
    "gbr.fit(x_train, y_train)\n",
    "\n",
    "print(\"Gradient Boosting Regressor Model\")\n",
    "print(\"---------------------------------\")\n",
    "print()\n",
    "print(\"Training set score: {:.5f}\".format(gbr.score(x_train, y_train)))\n",
    "print(\"Test set score: {:.5f}\".format(gbr.score(x_test, y_test)))"
   ]
  },
  {
   "cell_type": "markdown",
   "metadata": {},
   "source": [
    "<a name=\"5.6.5\"></a>\n",
    "#### 5.6.5 **Analysing**"
   ]
  },
  {
   "cell_type": "markdown",
   "metadata": {},
   "source": [
    "**These Tree Models aboves gives extremely good scores. Its no suprise that the Random Forest Model has a higher score than the Decision Tree Model, and the Gradient Booster Regressor has a higher score than the Random Forest Model. Random Forest has 'more brances' than the Decision Tree Model and gives better possiblities for the model to choose, while the Gradient Boosting Regressor is able to find the most suited 'branch' out of all the 'branches' and therefore has the best score.**"
   ]
  },
  {
   "cell_type": "markdown",
   "metadata": {},
   "source": [
    "<a name=\"6.0\"></a>\n",
    "## 6.0 **Analysis and Conclusion**"
   ]
  },
  {
   "cell_type": "code",
   "execution_count": null,
   "metadata": {},
   "outputs": [],
   "source": [
    "list = [['Gaussian Naive Bayes', '-', '-', '-', '-'],\n",
    "        ['Bernoulli Naive Bayes', '-', '-', '-', '-'],\n",
    "        ['Combined Naive Bayes', '-', '-', '-', '-'],\n",
    "        ['Support Vector Regressor', '-', '-', '-', '-'],\n",
    "        ['LinearSVR', '-', '-', '-', '-'],\n",
    "        ['NuSVR', '-', '-', '-', '-'],\n",
    "        ['SVC', '-', '-', '-', '-'],\n",
    "        ['k-Nearest Neighbor', '-', '-', '-', '-'],\n",
    "        ['Ridge Regression', '-', '-', '-', '-'],\n",
    "        ['Lasso Regression', '-', '-', '-', '-'],\n",
    "        ['MLPRegression', '-', '-', '-', '-'],\n",
    "        ['Decision Tree Regressor', '-', '-', '-', '-'],\n",
    "        ['Random Forest Regressor', '-', '-', '-', '-'], \n",
    "        ['Gradient Boosting Regressor', '-', '-', '-', '-']\n",
    "       ]\n",
    "\n",
    "conclusion = pd.DataFrame(data = list, columns = ['Model','Standard Scaling','Min Max Scaling', 'No Scaling', 'With PCA'])\n",
    "conclusion"
   ]
  },
  {
   "cell_type": "markdown",
   "metadata": {},
   "source": [
    "From the dataframe above. The Gradient Boosting Regressor works best for the sales price prediction of the properties in new york.\n",
    "\n",
    "When it comes to the other Regression Models, we observe that Standard Scaling is perform slightly better compared to the Min Max Scaling.\n",
    "\n",
    "At the same time, we can see from the Unsupervised Learning method that there actually exists groupings in the dataset. For example, without the k-means method, our Neural Network Model had a test score with 0.41440, which is a 43% decrease. This is further proved by the KNN model, scoring  ca. 0.7, showing the exsitance of groups. \n",
    "\n",
    "When it comes to the different regressive models, one of our goals was to see if the more traditional SVR could compete with the modern Neural Network, these provided basicly the same results. In fact, when it comes to regression as a whole we see almost the same results all over, with the exception of Gradient Boosting Regressor, giving us the bests results. Linear Regression performs the worts thanks to its inablility to handle non-linear relationships. \n",
    "\n",
    "Naive Bayes performs the worst out of all of our models thanks to its heavy need of preproccesing which makes the data more artificial, as well as limiting it in terms of using only four categories, making the predictions unintresting.\n",
    "\n",
    "We see that the Tree Regressors in general performs the best, with Gradient Boosting at its head. This has several factors. Firstly the Tree Regressors arent sensitive to the Scaling of the Data, making it more robust, secondly because of the high dimentionality of the data, the Tree Models have an easier time thanks to their ability to choose feature importans on their own. Lastly the reason that Gradient Boosting is at the top comes from its ability to not only choose the best trees, but also learn from the previous trees.\n",
    "\n",
    "In terms of Computational cost Gradient boosting also comes out ahead, the two lackeys are the SVR models and the Neural Network. Of these two SVR falls far behind, having an extremely high computational cost, LinearSVR() was faster but performed worse thanks to its Linear needs. Considering that Neural Network performed either better or almost as good the SVR models, we have proven that in this case, neural networks are better. \n",
    "\n",
    "Lastly, as mentioned eralier the k_means visualisation is questionable due to its wierd clustering, even though we see an improvement by using it. This might be because sales price might indirectly exsist in the cluster feature and cause multicorrelation, it might cause false positives and overcompensating when including k_means in our different models. By now we are uncertain as to the effects or lack thereof, but seeing as we gained improvements in all of our models, we chose to keep it.\n",
    "\n",
    "This concludes the article."
   ]
  }
 ],
 "metadata": {
  "kernelspec": {
   "display_name": "Python 3",
   "language": "python",
   "name": "python3"
  },
  "language_info": {
   "codemirror_mode": {
    "name": "ipython",
    "version": 3
   },
   "file_extension": ".py",
   "mimetype": "text/x-python",
   "name": "python",
   "nbconvert_exporter": "python",
   "pygments_lexer": "ipython3",
   "version": "3.9.1"
  }
 },
 "nbformat": 4,
 "nbformat_minor": 4
}
