{
 "cells": [
  {
   "cell_type": "markdown",
   "id": "green-german",
   "metadata": {},
   "source": [
    "# Task\n",
    "3. Read the data into a dataframe (pandas)from the csv file\n",
    "4. Remove columns that may be irrelevant for churn prediction. Remember, too many columns in kNN, may reduce accuracy.\n",
    "5. Ifthere are missing values in some data points, remove them from thedata set\n",
    "6. Convert data to a format usable for scikit-learn\n",
    "7. Run a kNN algorithm on thedata\n",
    "8. Find the performance of yourmodel in terms of accuracy"
   ]
  },
  {
   "cell_type": "code",
   "execution_count": 1,
   "id": "facial-bolivia",
   "metadata": {},
   "outputs": [],
   "source": [
    "import pandas as pd\n",
    "import numpy as np\n",
    "\n",
    "df = pd.read_csv(\"dataset/WA_Fn-UseC_-Telco-Customer-Churn.csv\")"
   ]
  },
  {
   "cell_type": "markdown",
   "id": "instant-warner",
   "metadata": {},
   "source": [
    "## Hva vet vi om dataen:\n",
    "Predict behavior to retain customers. You can analyze all relevant customer data and develop focused customer retention programs.\" [IBM Sample Data Sets]\n",
    "\n",
    "The dataset includes information about:\n",
    "- Customers who left within the last month - the column is called Churn\n",
    "- Services that each customer has signed up for, phone, multiple lines, internet, online security, online backup, device protection, tech support, and streaming TV and movies\n",
    "- Customer account information – how long they’ve been a customer, contract, payment method, paperless billing, monthly charges, and total charges\n",
    "- Demographic info about customers – gender, age range, and if they have partners and dependents"
   ]
  },
  {
   "cell_type": "code",
   "execution_count": 2,
   "id": "oriental-silly",
   "metadata": {},
   "outputs": [
    {
     "name": "stdout",
     "output_type": "stream",
     "text": [
      "(7043, 21)\n"
     ]
    }
   ],
   "source": [
    "print(df.shape)"
   ]
  },
  {
   "cell_type": "code",
   "execution_count": 3,
   "id": "expired-mouth",
   "metadata": {},
   "outputs": [
    {
     "data": {
      "text/plain": [
       "Index(['customerID', 'gender', 'SeniorCitizen', 'Partner', 'Dependents',\n",
       "       'tenure', 'PhoneService', 'MultipleLines', 'InternetService',\n",
       "       'OnlineSecurity', 'OnlineBackup', 'DeviceProtection', 'TechSupport',\n",
       "       'StreamingTV', 'StreamingMovies', 'Contract', 'PaperlessBilling',\n",
       "       'PaymentMethod', 'MonthlyCharges', 'TotalCharges', 'Churn'],\n",
       "      dtype='object')"
      ]
     },
     "execution_count": 3,
     "metadata": {},
     "output_type": "execute_result"
    }
   ],
   "source": [
    "df.keys()"
   ]
  },
  {
   "cell_type": "markdown",
   "id": "copyrighted-intro",
   "metadata": {},
   "source": [
    "### Remove values that are irrelevant to churn prediction:"
   ]
  },
  {
   "cell_type": "code",
   "execution_count": 4,
   "id": "sitting-winner",
   "metadata": {},
   "outputs": [
    {
     "name": "stdout",
     "output_type": "stream",
     "text": [
      "<class 'pandas.core.frame.DataFrame'>\n",
      "RangeIndex: 7043 entries, 0 to 7042\n",
      "Data columns (total 21 columns):\n",
      " #   Column            Non-Null Count  Dtype  \n",
      "---  ------            --------------  -----  \n",
      " 0   customerID        7043 non-null   object \n",
      " 1   gender            7043 non-null   object \n",
      " 2   SeniorCitizen     7043 non-null   int64  \n",
      " 3   Partner           7043 non-null   object \n",
      " 4   Dependents        7043 non-null   object \n",
      " 5   tenure            7043 non-null   int64  \n",
      " 6   PhoneService      7043 non-null   object \n",
      " 7   MultipleLines     7043 non-null   object \n",
      " 8   InternetService   7043 non-null   object \n",
      " 9   OnlineSecurity    7043 non-null   object \n",
      " 10  OnlineBackup      7043 non-null   object \n",
      " 11  DeviceProtection  7043 non-null   object \n",
      " 12  TechSupport       7043 non-null   object \n",
      " 13  StreamingTV       7043 non-null   object \n",
      " 14  StreamingMovies   7043 non-null   object \n",
      " 15  Contract          7043 non-null   object \n",
      " 16  PaperlessBilling  7043 non-null   object \n",
      " 17  PaymentMethod     7043 non-null   object \n",
      " 18  MonthlyCharges    7043 non-null   float64\n",
      " 19  TotalCharges      7043 non-null   object \n",
      " 20  Churn             7043 non-null   object \n",
      "dtypes: float64(1), int64(2), object(18)\n",
      "memory usage: 1.1+ MB\n"
     ]
    }
   ],
   "source": [
    "df.info()"
   ]
  },
  {
   "cell_type": "markdown",
   "id": "private-collection",
   "metadata": {},
   "source": [
    "- SeniorCitizen *\n",
    "- Partner\n",
    "- tenure\n",
    "- PhoneService\n",
    "- MutipleLines\n",
    "- InternetService\n",
    "- OnlineSecurity\n",
    "- OnlineBackup\n",
    "- DeviceProtection\n",
    "- PaperlessBilling\n",
    "- PaymentMethord"
   ]
  },
  {
   "cell_type": "code",
   "execution_count": 5,
   "id": "figured-ozone",
   "metadata": {},
   "outputs": [],
   "source": [
    "new_df = df.drop(columns = [\n",
    "    \"SeniorCitizen\", \"Partner\", \"tenure\", \"PhoneService\",\n",
    "    \"MultipleLines\", \"InternetService\", \"OnlineSecurity\",\n",
    "    \"OnlineBackup\", \"DeviceProtection\", \"PaperlessBilling\",\n",
    "    \"PaymentMethod\", \"customerID\"\n",
    "])"
   ]
  },
  {
   "cell_type": "code",
   "execution_count": 6,
   "id": "configured-london",
   "metadata": {},
   "outputs": [
    {
     "name": "stdout",
     "output_type": "stream",
     "text": [
      "<class 'pandas.core.frame.DataFrame'>\n",
      "RangeIndex: 7043 entries, 0 to 7042\n",
      "Data columns (total 9 columns):\n",
      " #   Column           Non-Null Count  Dtype  \n",
      "---  ------           --------------  -----  \n",
      " 0   gender           7043 non-null   object \n",
      " 1   Dependents       7043 non-null   object \n",
      " 2   TechSupport      7043 non-null   object \n",
      " 3   StreamingTV      7043 non-null   object \n",
      " 4   StreamingMovies  7043 non-null   object \n",
      " 5   Contract         7043 non-null   object \n",
      " 6   MonthlyCharges   7043 non-null   float64\n",
      " 7   TotalCharges     7043 non-null   object \n",
      " 8   Churn            7043 non-null   object \n",
      "dtypes: float64(1), object(8)\n",
      "memory usage: 495.3+ KB\n"
     ]
    }
   ],
   "source": [
    "new_df.info()"
   ]
  },
  {
   "cell_type": "markdown",
   "id": "severe-heritage",
   "metadata": {},
   "source": [
    "### Checking for missing values:"
   ]
  },
  {
   "cell_type": "code",
   "execution_count": 19,
   "id": "excited-swiss",
   "metadata": {},
   "outputs": [
    {
     "data": {
      "text/plain": [
       "False"
      ]
     },
     "execution_count": 19,
     "metadata": {},
     "output_type": "execute_result"
    }
   ],
   "source": [
    "new_df.isnull().values.any()"
   ]
  },
  {
   "cell_type": "code",
   "execution_count": 8,
   "id": "offensive-access",
   "metadata": {},
   "outputs": [
    {
     "data": {
      "text/plain": [
       "<bound method DataFrame.info of       gender Dependents TechSupport StreamingTV StreamingMovies  \\\n",
       "0     Female         No          No          No              No   \n",
       "1       Male         No          No          No              No   \n",
       "2       Male         No          No          No              No   \n",
       "3       Male         No         Yes          No              No   \n",
       "4     Female         No          No          No              No   \n",
       "...      ...        ...         ...         ...             ...   \n",
       "7038    Male        Yes         Yes         Yes             Yes   \n",
       "7039  Female        Yes          No         Yes             Yes   \n",
       "7040  Female        Yes          No          No              No   \n",
       "7041    Male         No          No          No              No   \n",
       "7042    Male         No         Yes         Yes             Yes   \n",
       "\n",
       "            Contract  MonthlyCharges TotalCharges Churn  \n",
       "0     Month-to-month           29.85        29.85    No  \n",
       "1           One year           56.95       1889.5    No  \n",
       "2     Month-to-month           53.85       108.15   Yes  \n",
       "3           One year           42.30      1840.75    No  \n",
       "4     Month-to-month           70.70       151.65   Yes  \n",
       "...              ...             ...          ...   ...  \n",
       "7038        One year           84.80       1990.5    No  \n",
       "7039        One year          103.20       7362.9    No  \n",
       "7040  Month-to-month           29.60       346.45    No  \n",
       "7041  Month-to-month           74.40        306.6   Yes  \n",
       "7042        Two year          105.65       6844.5    No  \n",
       "\n",
       "[7043 rows x 9 columns]>"
      ]
     },
     "execution_count": 8,
     "metadata": {},
     "output_type": "execute_result"
    }
   ],
   "source": [
    "new_df.info"
   ]
  },
  {
   "cell_type": "code",
   "execution_count": 9,
   "id": "another-dutch",
   "metadata": {},
   "outputs": [],
   "source": [
    "fix_gender = {\"Female\": 0, \"Male\": 1}\n",
    "fix_yesno = {\"No\": 0, \"Yes\": 1, \"No internet service\": 0}\n",
    "fix_contract = {\"Month-to-month\": 0, \"One year\" : 1, \"Two year\": 2}\n",
    "\n",
    "new_df[\"gender\"] = [fix_gender[i] for i in new_df.gender]\n",
    "new_df[\"Dependents\"] = [fix_yesno[i] for i in new_df.Dependents]\n",
    "new_df[\"TechSupport\"] = [fix_yesno[i] for i in new_df.TechSupport]\n",
    "new_df[\"StreamingTV\"] = [fix_yesno[i] for i in new_df.StreamingTV]\n",
    "new_df[\"StreamingMovies\"] = [fix_yesno[i] for i in new_df.StreamingMovies]\n",
    "new_df[\"Contract\"] = [fix_contract[i] for i in new_df.Contract]\n",
    "new_df[\"Churn\"] = [fix_yesno[i] for i in new_df.Churn]\n",
    "\n",
    "#factorize, to_numeric\n"
   ]
  },
  {
   "cell_type": "code",
   "execution_count": 28,
   "id": "suited-dominican",
   "metadata": {},
   "outputs": [
    {
     "data": {
      "text/plain": [
       "0         29.85\n",
       "1        1889.5\n",
       "2        108.15\n",
       "3       1840.75\n",
       "4        151.65\n",
       "         ...   \n",
       "7038     1990.5\n",
       "7039     7362.9\n",
       "7040     346.45\n",
       "7041      306.6\n",
       "7042     6844.5\n",
       "Name: TotalCharges, Length: 7032, dtype: string"
      ]
     },
     "execution_count": 28,
     "metadata": {},
     "output_type": "execute_result"
    }
   ],
   "source": [
    "new_df[\"TotalCharges\"].replace([\" \", \"\"], np.nan, inplace = True)\n",
    "new_df.dropna(subset=[\"TotalCharges\"], inplace = True)\n",
    "\n",
    "#pd.to_numeric(new_df[\"TotalCharges\"], downcast=\"float\")\n",
    "new_df[\"TotalCharges\"].convert_dtypes()"
   ]
  },
  {
   "cell_type": "code",
   "execution_count": 29,
   "id": "prostate-fruit",
   "metadata": {},
   "outputs": [
    {
     "name": "stdout",
     "output_type": "stream",
     "text": [
      "      gender  Dependents  TechSupport  StreamingTV  StreamingMovies  Contract  \\\n",
      "0          0           0            0            0                0         0   \n",
      "1          1           0            0            0                0         1   \n",
      "2          1           0            0            0                0         0   \n",
      "3          1           0            1            0                0         1   \n",
      "4          0           0            0            0                0         0   \n",
      "...      ...         ...          ...          ...              ...       ...   \n",
      "7038       1           1            1            1                1         1   \n",
      "7039       0           1            0            1                1         1   \n",
      "7040       0           1            0            0                0         0   \n",
      "7041       1           0            0            0                0         0   \n",
      "7042       1           0            1            1                1         2   \n",
      "\n",
      "      MonthlyCharges TotalCharges  Churn  \n",
      "0              29.85        29.85      0  \n",
      "1              56.95       1889.5      0  \n",
      "2              53.85       108.15      1  \n",
      "3              42.30      1840.75      0  \n",
      "4              70.70       151.65      1  \n",
      "...              ...          ...    ...  \n",
      "7038           84.80       1990.5      0  \n",
      "7039          103.20       7362.9      0  \n",
      "7040           29.60       346.45      0  \n",
      "7041           74.40        306.6      1  \n",
      "7042          105.65       6844.5      0  \n",
      "\n",
      "[7032 rows x 9 columns]\n",
      "<class 'pandas.core.frame.DataFrame'>\n",
      "Int64Index: 7032 entries, 0 to 7042\n",
      "Data columns (total 9 columns):\n",
      " #   Column           Non-Null Count  Dtype  \n",
      "---  ------           --------------  -----  \n",
      " 0   gender           7032 non-null   int64  \n",
      " 1   Dependents       7032 non-null   int64  \n",
      " 2   TechSupport      7032 non-null   int64  \n",
      " 3   StreamingTV      7032 non-null   int64  \n",
      " 4   StreamingMovies  7032 non-null   int64  \n",
      " 5   Contract         7032 non-null   int64  \n",
      " 6   MonthlyCharges   7032 non-null   float64\n",
      " 7   TotalCharges     7032 non-null   object \n",
      " 8   Churn            7032 non-null   int64  \n",
      "dtypes: float64(1), int64(7), object(1)\n",
      "memory usage: 549.4+ KB\n"
     ]
    }
   ],
   "source": [
    "print(new_df)\n",
    "new_df.info()\n"
   ]
  },
  {
   "cell_type": "code",
   "execution_count": null,
   "id": "tough-overview",
   "metadata": {},
   "outputs": [],
   "source": []
  }
 ],
 "metadata": {
  "kernelspec": {
   "display_name": "Python 3",
   "language": "python",
   "name": "python3"
  },
  "language_info": {
   "codemirror_mode": {
    "name": "ipython",
    "version": 3
   },
   "file_extension": ".py",
   "mimetype": "text/x-python",
   "name": "python",
   "nbconvert_exporter": "python",
   "pygments_lexer": "ipython3",
   "version": "3.8.5"
  }
 },
 "nbformat": 4,
 "nbformat_minor": 5
}
