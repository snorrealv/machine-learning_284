{
 "cells": [
  {
   "cell_type": "markdown",
<<<<<<< HEAD
   "id": "confused-bradford",
=======
   "id": "synthetic-guard",
>>>>>>> c5990ad2cbf3ec7f1620873055a9ab83588d3f52
   "metadata": {},
   "source": [
    "# Exam INFO284 V21\n",
    "**Members: Didrik Krog, Jonas Holtan, Gunnar Gjengedal, Snorre Alvsvåg**\n",
    "## Introduction\n",
    "### The task\n",
    "You are supposed to build at least five machine learning models from these data to predict or\n",
    "classify one relevant target feature for new data points. You can choose target feature yourself, but\n",
    "sales price is perhaps the most suitable. You may also reduce the number of data points somewhat\n",
    "by focusing on only specific meaningful parts of the data. Or perhaps you will try dimension\n",
    "reduction.\n",
    "\n",
    "### Our Approach\n",
    "This task can be split into four parts:\n",
    "- **Part 1** Data Exploration\n",
    "- **Part 2** Data Cleaning\n",
    "- **Part 3** Model Building\n",
    "- **Part 4** Presentation and Analysation\n",
    "\n",
    "We will explore our data by conducting a *Exploratory Data Analysis*. Here we will look at the data and make note of important features, non important features, and in general inform ourselves with the data. In part 2, we will generally clean the data, remove empty or unique columns and so on. In part 3 we will start to fit the models, we will also change the data in preparation of each model. And at last we will present the results, and analyze the different approaches we took with out models.\n",
    "\n",
    "We have chosen two supervised machine learning algorythms:\n",
    "- Algorythm 1\n",
    "- Algorythm 2\n",
    "\n",
    "Two unsupervised machine learning algorythms:\n",
    "- Algorythm 3\n",
    "- Algotythm 4\n",
    "\n",
    "and one Deep Learnign algorytm:\n",
    "- Deep Learning\n",
    "\n",
    "Moving forward we will start by learing about our data"
   ]
  },
  {
   "cell_type": "markdown",
<<<<<<< HEAD
   "id": "optical-canvas",
=======
   "id": "north-yugoslavia",
>>>>>>> c5990ad2cbf3ec7f1620873055a9ab83588d3f52
   "metadata": {},
   "source": [
    "## Part 1: Data Exploration\n",
    "As mentioned in the introduction we will be conductin an Exploratory Data Analysis to learn about the data. "
   ]
  },
  {
   "cell_type": "code",
   "execution_count": 1,
<<<<<<< HEAD
   "id": "handmade-parker",
=======
   "id": "heard-grounds",
>>>>>>> c5990ad2cbf3ec7f1620873055a9ab83588d3f52
   "metadata": {},
   "outputs": [],
   "source": [
    "import pandas as pd\n",
    "import numpy as np\n",
    "import seaborn as sns\n",
    "import matplotlib.pyplot as plt\n",
    "import re\n",
    "from sklearn.feature_extraction.text import CountVectorizer\n",
    "df = pd.read_csv(\"nyc-rolling-sales.csv\")\n",
    "%matplotlib inline \n",
    "sns.set(color_codes=True)"
   ]
  },
  {
   "cell_type": "markdown",
<<<<<<< HEAD
   "id": "regulated-memorabilia",
=======
   "id": "encouraging-arrangement",
>>>>>>> c5990ad2cbf3ec7f1620873055a9ab83588d3f52
   "metadata": {},
   "source": [
    "Sjekke hvor mye variablene veier"
   ]
  },
  {
   "cell_type": "markdown",
<<<<<<< HEAD
   "id": "preceding-muslim",
=======
   "id": "excited-pattern",
>>>>>>> c5990ad2cbf3ec7f1620873055a9ab83588d3f52
   "metadata": {},
   "source": [
    "### General\n",
    "Lets start by looking at the data:"
   ]
  },
  {
   "cell_type": "code",
   "execution_count": 2,
<<<<<<< HEAD
   "id": "patient-collectible",
=======
   "id": "persistent-armor",
>>>>>>> c5990ad2cbf3ec7f1620873055a9ab83588d3f52
   "metadata": {},
   "outputs": [
    {
     "data": {
      "text/html": [
       "<div>\n",
       "<style scoped>\n",
       "    .dataframe tbody tr th:only-of-type {\n",
       "        vertical-align: middle;\n",
       "    }\n",
       "\n",
       "    .dataframe tbody tr th {\n",
       "        vertical-align: top;\n",
       "    }\n",
       "\n",
       "    .dataframe thead th {\n",
       "        text-align: right;\n",
       "    }\n",
       "</style>\n",
       "<table border=\"1\" class=\"dataframe\">\n",
       "  <thead>\n",
       "    <tr style=\"text-align: right;\">\n",
       "      <th></th>\n",
       "      <th>Unnamed: 0</th>\n",
       "      <th>BOROUGH</th>\n",
       "      <th>NEIGHBORHOOD</th>\n",
       "      <th>BUILDING CLASS CATEGORY</th>\n",
       "      <th>TAX CLASS AT PRESENT</th>\n",
       "      <th>BLOCK</th>\n",
       "      <th>LOT</th>\n",
       "      <th>EASE-MENT</th>\n",
       "      <th>BUILDING CLASS AT PRESENT</th>\n",
       "      <th>ADDRESS</th>\n",
       "      <th>...</th>\n",
       "      <th>RESIDENTIAL UNITS</th>\n",
       "      <th>COMMERCIAL UNITS</th>\n",
       "      <th>TOTAL UNITS</th>\n",
       "      <th>LAND SQUARE FEET</th>\n",
       "      <th>GROSS SQUARE FEET</th>\n",
       "      <th>YEAR BUILT</th>\n",
       "      <th>TAX CLASS AT TIME OF SALE</th>\n",
       "      <th>BUILDING CLASS AT TIME OF SALE</th>\n",
       "      <th>SALE PRICE</th>\n",
       "      <th>SALE DATE</th>\n",
       "    </tr>\n",
       "  </thead>\n",
       "  <tbody>\n",
       "    <tr>\n",
       "      <th>0</th>\n",
       "      <td>4</td>\n",
       "      <td>1</td>\n",
       "      <td>ALPHABET CITY</td>\n",
       "      <td>07 RENTALS - WALKUP APARTMENTS</td>\n",
       "      <td>2A</td>\n",
       "      <td>392</td>\n",
       "      <td>6</td>\n",
       "      <td></td>\n",
       "      <td>C2</td>\n",
       "      <td>153 AVENUE B</td>\n",
       "      <td>...</td>\n",
       "      <td>5</td>\n",
       "      <td>0</td>\n",
       "      <td>5</td>\n",
       "      <td>1633</td>\n",
       "      <td>6440</td>\n",
       "      <td>1900</td>\n",
       "      <td>2</td>\n",
       "      <td>C2</td>\n",
       "      <td>6625000</td>\n",
       "      <td>2017-07-19 00:00:00</td>\n",
       "    </tr>\n",
       "    <tr>\n",
       "      <th>1</th>\n",
       "      <td>5</td>\n",
       "      <td>1</td>\n",
       "      <td>ALPHABET CITY</td>\n",
       "      <td>07 RENTALS - WALKUP APARTMENTS</td>\n",
       "      <td>2</td>\n",
       "      <td>399</td>\n",
       "      <td>26</td>\n",
       "      <td></td>\n",
       "      <td>C7</td>\n",
       "      <td>234 EAST 4TH   STREET</td>\n",
       "      <td>...</td>\n",
       "      <td>28</td>\n",
       "      <td>3</td>\n",
       "      <td>31</td>\n",
       "      <td>4616</td>\n",
       "      <td>18690</td>\n",
       "      <td>1900</td>\n",
       "      <td>2</td>\n",
       "      <td>C7</td>\n",
       "      <td>-</td>\n",
       "      <td>2016-12-14 00:00:00</td>\n",
       "    </tr>\n",
       "    <tr>\n",
       "      <th>2</th>\n",
       "      <td>6</td>\n",
       "      <td>1</td>\n",
       "      <td>ALPHABET CITY</td>\n",
       "      <td>07 RENTALS - WALKUP APARTMENTS</td>\n",
       "      <td>2</td>\n",
       "      <td>399</td>\n",
       "      <td>39</td>\n",
       "      <td></td>\n",
       "      <td>C7</td>\n",
       "      <td>197 EAST 3RD   STREET</td>\n",
       "      <td>...</td>\n",
       "      <td>16</td>\n",
       "      <td>1</td>\n",
       "      <td>17</td>\n",
       "      <td>2212</td>\n",
       "      <td>7803</td>\n",
       "      <td>1900</td>\n",
       "      <td>2</td>\n",
       "      <td>C7</td>\n",
       "      <td>-</td>\n",
       "      <td>2016-12-09 00:00:00</td>\n",
       "    </tr>\n",
       "    <tr>\n",
       "      <th>3</th>\n",
       "      <td>7</td>\n",
       "      <td>1</td>\n",
       "      <td>ALPHABET CITY</td>\n",
       "      <td>07 RENTALS - WALKUP APARTMENTS</td>\n",
       "      <td>2B</td>\n",
       "      <td>402</td>\n",
       "      <td>21</td>\n",
       "      <td></td>\n",
       "      <td>C4</td>\n",
       "      <td>154 EAST 7TH STREET</td>\n",
       "      <td>...</td>\n",
       "      <td>10</td>\n",
       "      <td>0</td>\n",
       "      <td>10</td>\n",
       "      <td>2272</td>\n",
       "      <td>6794</td>\n",
       "      <td>1913</td>\n",
       "      <td>2</td>\n",
       "      <td>C4</td>\n",
       "      <td>3936272</td>\n",
       "      <td>2016-09-23 00:00:00</td>\n",
       "    </tr>\n",
       "    <tr>\n",
       "      <th>4</th>\n",
       "      <td>8</td>\n",
       "      <td>1</td>\n",
       "      <td>ALPHABET CITY</td>\n",
       "      <td>07 RENTALS - WALKUP APARTMENTS</td>\n",
       "      <td>2A</td>\n",
       "      <td>404</td>\n",
       "      <td>55</td>\n",
       "      <td></td>\n",
       "      <td>C2</td>\n",
       "      <td>301 EAST 10TH   STREET</td>\n",
       "      <td>...</td>\n",
       "      <td>6</td>\n",
       "      <td>0</td>\n",
       "      <td>6</td>\n",
       "      <td>2369</td>\n",
       "      <td>4615</td>\n",
       "      <td>1900</td>\n",
       "      <td>2</td>\n",
       "      <td>C2</td>\n",
       "      <td>8000000</td>\n",
       "      <td>2016-11-17 00:00:00</td>\n",
       "    </tr>\n",
       "  </tbody>\n",
       "</table>\n",
       "<p>5 rows × 22 columns</p>\n",
       "</div>"
      ],
      "text/plain": [
       "   Unnamed: 0  BOROUGH   NEIGHBORHOOD  \\\n",
       "0           4        1  ALPHABET CITY   \n",
       "1           5        1  ALPHABET CITY   \n",
       "2           6        1  ALPHABET CITY   \n",
       "3           7        1  ALPHABET CITY   \n",
       "4           8        1  ALPHABET CITY   \n",
       "\n",
       "                       BUILDING CLASS CATEGORY TAX CLASS AT PRESENT  BLOCK  \\\n",
       "0  07 RENTALS - WALKUP APARTMENTS                                2A    392   \n",
       "1  07 RENTALS - WALKUP APARTMENTS                                 2    399   \n",
       "2  07 RENTALS - WALKUP APARTMENTS                                 2    399   \n",
       "3  07 RENTALS - WALKUP APARTMENTS                                2B    402   \n",
       "4  07 RENTALS - WALKUP APARTMENTS                                2A    404   \n",
       "\n",
       "   LOT EASE-MENT BUILDING CLASS AT PRESENT                 ADDRESS  ...  \\\n",
       "0    6                                  C2            153 AVENUE B  ...   \n",
       "1   26                                  C7   234 EAST 4TH   STREET  ...   \n",
       "2   39                                  C7   197 EAST 3RD   STREET  ...   \n",
       "3   21                                  C4     154 EAST 7TH STREET  ...   \n",
       "4   55                                  C2  301 EAST 10TH   STREET  ...   \n",
       "\n",
       "  RESIDENTIAL UNITS  COMMERCIAL UNITS  TOTAL UNITS  LAND SQUARE FEET  \\\n",
       "0                 5                 0            5              1633   \n",
       "1                28                 3           31              4616   \n",
       "2                16                 1           17              2212   \n",
       "3                10                 0           10              2272   \n",
       "4                 6                 0            6              2369   \n",
       "\n",
       "   GROSS SQUARE FEET YEAR BUILT TAX CLASS AT TIME OF SALE  \\\n",
       "0               6440       1900                         2   \n",
       "1              18690       1900                         2   \n",
       "2               7803       1900                         2   \n",
       "3               6794       1913                         2   \n",
       "4               4615       1900                         2   \n",
       "\n",
       "   BUILDING CLASS AT TIME OF SALE  SALE PRICE            SALE DATE  \n",
       "0                              C2     6625000  2017-07-19 00:00:00  \n",
       "1                              C7         -    2016-12-14 00:00:00  \n",
       "2                              C7         -    2016-12-09 00:00:00  \n",
       "3                              C4     3936272  2016-09-23 00:00:00  \n",
       "4                              C2     8000000  2016-11-17 00:00:00  \n",
       "\n",
       "[5 rows x 22 columns]"
      ]
     },
     "execution_count": 2,
     "metadata": {},
     "output_type": "execute_result"
    }
   ],
   "source": [
    "df.head(5)"
   ]
  },
  {
   "cell_type": "code",
   "execution_count": 3,
<<<<<<< HEAD
   "id": "french-survey",
=======
   "id": "located-occupation",
>>>>>>> c5990ad2cbf3ec7f1620873055a9ab83588d3f52
   "metadata": {},
   "outputs": [
    {
     "data": {
      "text/html": [
       "<div>\n",
       "<style scoped>\n",
       "    .dataframe tbody tr th:only-of-type {\n",
       "        vertical-align: middle;\n",
       "    }\n",
       "\n",
       "    .dataframe tbody tr th {\n",
       "        vertical-align: top;\n",
       "    }\n",
       "\n",
       "    .dataframe thead th {\n",
       "        text-align: right;\n",
       "    }\n",
       "</style>\n",
       "<table border=\"1\" class=\"dataframe\">\n",
       "  <thead>\n",
       "    <tr style=\"text-align: right;\">\n",
       "      <th></th>\n",
       "      <th>Unnamed: 0</th>\n",
       "      <th>BOROUGH</th>\n",
       "      <th>NEIGHBORHOOD</th>\n",
       "      <th>BUILDING CLASS CATEGORY</th>\n",
       "      <th>TAX CLASS AT PRESENT</th>\n",
       "      <th>BLOCK</th>\n",
       "      <th>LOT</th>\n",
       "      <th>EASE-MENT</th>\n",
       "      <th>BUILDING CLASS AT PRESENT</th>\n",
       "      <th>ADDRESS</th>\n",
       "      <th>...</th>\n",
       "      <th>RESIDENTIAL UNITS</th>\n",
       "      <th>COMMERCIAL UNITS</th>\n",
       "      <th>TOTAL UNITS</th>\n",
       "      <th>LAND SQUARE FEET</th>\n",
       "      <th>GROSS SQUARE FEET</th>\n",
       "      <th>YEAR BUILT</th>\n",
       "      <th>TAX CLASS AT TIME OF SALE</th>\n",
       "      <th>BUILDING CLASS AT TIME OF SALE</th>\n",
       "      <th>SALE PRICE</th>\n",
       "      <th>SALE DATE</th>\n",
       "    </tr>\n",
       "  </thead>\n",
       "  <tbody>\n",
       "    <tr>\n",
       "      <th>84543</th>\n",
       "      <td>8409</td>\n",
       "      <td>5</td>\n",
       "      <td>WOODROW</td>\n",
       "      <td>02 TWO FAMILY DWELLINGS</td>\n",
       "      <td>1</td>\n",
       "      <td>7349</td>\n",
       "      <td>34</td>\n",
       "      <td></td>\n",
       "      <td>B9</td>\n",
       "      <td>37 QUAIL LANE</td>\n",
       "      <td>...</td>\n",
       "      <td>2</td>\n",
       "      <td>0</td>\n",
       "      <td>2</td>\n",
       "      <td>2400</td>\n",
       "      <td>2575</td>\n",
       "      <td>1998</td>\n",
       "      <td>1</td>\n",
       "      <td>B9</td>\n",
       "      <td>450000</td>\n",
       "      <td>2016-11-28 00:00:00</td>\n",
       "    </tr>\n",
       "    <tr>\n",
       "      <th>84544</th>\n",
       "      <td>8410</td>\n",
       "      <td>5</td>\n",
       "      <td>WOODROW</td>\n",
       "      <td>02 TWO FAMILY DWELLINGS</td>\n",
       "      <td>1</td>\n",
       "      <td>7349</td>\n",
       "      <td>78</td>\n",
       "      <td></td>\n",
       "      <td>B9</td>\n",
       "      <td>32 PHEASANT LANE</td>\n",
       "      <td>...</td>\n",
       "      <td>2</td>\n",
       "      <td>0</td>\n",
       "      <td>2</td>\n",
       "      <td>2498</td>\n",
       "      <td>2377</td>\n",
       "      <td>1998</td>\n",
       "      <td>1</td>\n",
       "      <td>B9</td>\n",
       "      <td>550000</td>\n",
       "      <td>2017-04-21 00:00:00</td>\n",
       "    </tr>\n",
       "    <tr>\n",
       "      <th>84545</th>\n",
       "      <td>8411</td>\n",
       "      <td>5</td>\n",
       "      <td>WOODROW</td>\n",
       "      <td>02 TWO FAMILY DWELLINGS</td>\n",
       "      <td>1</td>\n",
       "      <td>7351</td>\n",
       "      <td>60</td>\n",
       "      <td></td>\n",
       "      <td>B2</td>\n",
       "      <td>49 PITNEY AVENUE</td>\n",
       "      <td>...</td>\n",
       "      <td>2</td>\n",
       "      <td>0</td>\n",
       "      <td>2</td>\n",
       "      <td>4000</td>\n",
       "      <td>1496</td>\n",
       "      <td>1925</td>\n",
       "      <td>1</td>\n",
       "      <td>B2</td>\n",
       "      <td>460000</td>\n",
       "      <td>2017-07-05 00:00:00</td>\n",
       "    </tr>\n",
       "    <tr>\n",
       "      <th>84546</th>\n",
       "      <td>8412</td>\n",
       "      <td>5</td>\n",
       "      <td>WOODROW</td>\n",
       "      <td>22 STORE BUILDINGS</td>\n",
       "      <td>4</td>\n",
       "      <td>7100</td>\n",
       "      <td>28</td>\n",
       "      <td></td>\n",
       "      <td>K6</td>\n",
       "      <td>2730 ARTHUR KILL ROAD</td>\n",
       "      <td>...</td>\n",
       "      <td>0</td>\n",
       "      <td>7</td>\n",
       "      <td>7</td>\n",
       "      <td>208033</td>\n",
       "      <td>64117</td>\n",
       "      <td>2001</td>\n",
       "      <td>4</td>\n",
       "      <td>K6</td>\n",
       "      <td>11693337</td>\n",
       "      <td>2016-12-21 00:00:00</td>\n",
       "    </tr>\n",
       "    <tr>\n",
       "      <th>84547</th>\n",
       "      <td>8413</td>\n",
       "      <td>5</td>\n",
       "      <td>WOODROW</td>\n",
       "      <td>35 INDOOR PUBLIC AND CULTURAL FACILITIES</td>\n",
       "      <td>4</td>\n",
       "      <td>7105</td>\n",
       "      <td>679</td>\n",
       "      <td></td>\n",
       "      <td>P9</td>\n",
       "      <td>155 CLAY PIT ROAD</td>\n",
       "      <td>...</td>\n",
       "      <td>0</td>\n",
       "      <td>1</td>\n",
       "      <td>1</td>\n",
       "      <td>10796</td>\n",
       "      <td>2400</td>\n",
       "      <td>2006</td>\n",
       "      <td>4</td>\n",
       "      <td>P9</td>\n",
       "      <td>69300</td>\n",
       "      <td>2016-10-27 00:00:00</td>\n",
       "    </tr>\n",
       "  </tbody>\n",
       "</table>\n",
       "<p>5 rows × 22 columns</p>\n",
       "</div>"
      ],
      "text/plain": [
       "       Unnamed: 0  BOROUGH NEIGHBORHOOD  \\\n",
       "84543        8409        5      WOODROW   \n",
       "84544        8410        5      WOODROW   \n",
       "84545        8411        5      WOODROW   \n",
       "84546        8412        5      WOODROW   \n",
       "84547        8413        5      WOODROW   \n",
       "\n",
       "                           BUILDING CLASS CATEGORY TAX CLASS AT PRESENT  \\\n",
       "84543  02 TWO FAMILY DWELLINGS                                        1   \n",
       "84544  02 TWO FAMILY DWELLINGS                                        1   \n",
       "84545  02 TWO FAMILY DWELLINGS                                        1   \n",
       "84546  22 STORE BUILDINGS                                             4   \n",
       "84547  35 INDOOR PUBLIC AND CULTURAL FACILITIES                       4   \n",
       "\n",
       "       BLOCK  LOT EASE-MENT BUILDING CLASS AT PRESENT                ADDRESS  \\\n",
       "84543   7349   34                                  B9          37 QUAIL LANE   \n",
       "84544   7349   78                                  B9       32 PHEASANT LANE   \n",
       "84545   7351   60                                  B2       49 PITNEY AVENUE   \n",
       "84546   7100   28                                  K6  2730 ARTHUR KILL ROAD   \n",
       "84547   7105  679                                  P9      155 CLAY PIT ROAD   \n",
       "\n",
       "       ... RESIDENTIAL UNITS  COMMERCIAL UNITS  TOTAL UNITS  LAND SQUARE FEET  \\\n",
       "84543  ...                 2                 0            2              2400   \n",
       "84544  ...                 2                 0            2              2498   \n",
       "84545  ...                 2                 0            2              4000   \n",
       "84546  ...                 0                 7            7            208033   \n",
       "84547  ...                 0                 1            1             10796   \n",
       "\n",
       "       GROSS SQUARE FEET YEAR BUILT TAX CLASS AT TIME OF SALE  \\\n",
       "84543               2575       1998                         1   \n",
       "84544               2377       1998                         1   \n",
       "84545               1496       1925                         1   \n",
       "84546              64117       2001                         4   \n",
       "84547               2400       2006                         4   \n",
       "\n",
       "       BUILDING CLASS AT TIME OF SALE  SALE PRICE            SALE DATE  \n",
       "84543                              B9      450000  2016-11-28 00:00:00  \n",
       "84544                              B9      550000  2017-04-21 00:00:00  \n",
       "84545                              B2      460000  2017-07-05 00:00:00  \n",
       "84546                              K6    11693337  2016-12-21 00:00:00  \n",
       "84547                              P9       69300  2016-10-27 00:00:00  \n",
       "\n",
       "[5 rows x 22 columns]"
      ]
     },
     "execution_count": 3,
     "metadata": {},
     "output_type": "execute_result"
    }
   ],
   "source": [
    "df.tail(5)"
   ]
  },
  {
   "cell_type": "code",
   "execution_count": 4,
<<<<<<< HEAD
   "id": "military-north",
=======
   "id": "thrown-columbia",
>>>>>>> c5990ad2cbf3ec7f1620873055a9ab83588d3f52
   "metadata": {},
   "outputs": [
    {
     "name": "stdout",
     "output_type": "stream",
     "text": [
      "<class 'pandas.core.frame.DataFrame'>\n",
      "RangeIndex: 84548 entries, 0 to 84547\n",
      "Data columns (total 22 columns):\n",
      " #   Column                          Non-Null Count  Dtype \n",
      "---  ------                          --------------  ----- \n",
      " 0   Unnamed: 0                      84548 non-null  int64 \n",
      " 1   BOROUGH                         84548 non-null  int64 \n",
      " 2   NEIGHBORHOOD                    84548 non-null  object\n",
      " 3   BUILDING CLASS CATEGORY         84548 non-null  object\n",
      " 4   TAX CLASS AT PRESENT            84548 non-null  object\n",
      " 5   BLOCK                           84548 non-null  int64 \n",
      " 6   LOT                             84548 non-null  int64 \n",
      " 7   EASE-MENT                       84548 non-null  object\n",
      " 8   BUILDING CLASS AT PRESENT       84548 non-null  object\n",
      " 9   ADDRESS                         84548 non-null  object\n",
      " 10  APARTMENT NUMBER                84548 non-null  object\n",
      " 11  ZIP CODE                        84548 non-null  int64 \n",
      " 12  RESIDENTIAL UNITS               84548 non-null  int64 \n",
      " 13  COMMERCIAL UNITS                84548 non-null  int64 \n",
      " 14  TOTAL UNITS                     84548 non-null  int64 \n",
      " 15  LAND SQUARE FEET                84548 non-null  object\n",
      " 16  GROSS SQUARE FEET               84548 non-null  object\n",
      " 17  YEAR BUILT                      84548 non-null  int64 \n",
      " 18  TAX CLASS AT TIME OF SALE       84548 non-null  int64 \n",
      " 19  BUILDING CLASS AT TIME OF SALE  84548 non-null  object\n",
      " 20  SALE PRICE                      84548 non-null  object\n",
      " 21  SALE DATE                       84548 non-null  object\n",
      "dtypes: int64(10), object(12)\n",
      "memory usage: 14.2+ MB\n"
     ]
    }
   ],
   "source": [
    "df.info()"
   ]
  },
  {
   "cell_type": "markdown",
<<<<<<< HEAD
   "id": "convenient-football",
=======
   "id": "chief-advance",
>>>>>>> c5990ad2cbf3ec7f1620873055a9ab83588d3f52
   "metadata": {},
   "source": [
    "From this we can learn the basics, there are 22 features where 10 are integers, and 12 are objects. At first glance were curious about what Unnamed : 0, so we will take a closer look at this in a bit, further Building Class Category is a categorical number with the name attatched, this could be made into an int, with a dictionary explaining what the numbers mean. Its questionable if this directly correlates with Building class, so this will also be investigated. Lets start by looking at Unnamed."
   ]
  },
  {
   "cell_type": "code",
   "execution_count": 5,
<<<<<<< HEAD
   "id": "invisible-former",
=======
   "id": "deadly-behalf",
>>>>>>> c5990ad2cbf3ec7f1620873055a9ab83588d3f52
   "metadata": {},
   "outputs": [
    {
     "data": {
      "text/plain": [
       "count    84548.000000\n",
       "mean     10344.359878\n",
       "std       7151.779436\n",
       "min          4.000000\n",
       "25%       4231.000000\n",
       "50%       8942.000000\n",
       "75%      15987.250000\n",
       "max      26739.000000\n",
       "Name: Unnamed: 0, dtype: float64"
      ]
     },
     "execution_count": 5,
     "metadata": {},
     "output_type": "execute_result"
    }
   ],
   "source": [
    "df[\"Unnamed: 0\"].describe()"
   ]
  },
  {
   "cell_type": "code",
   "execution_count": 6,
<<<<<<< HEAD
   "id": "jewish-usage",
=======
   "id": "victorian-hearts",
>>>>>>> c5990ad2cbf3ec7f1620873055a9ab83588d3f52
   "metadata": {},
   "outputs": [
    {
     "data": {
      "text/plain": [
       "2049     5\n",
       "478      5\n",
       "350      5\n",
       "2399     5\n",
       "4508     5\n",
       "        ..\n",
       "25332    1\n",
       "25591    1\n",
       "24422    1\n",
       "26028    1\n",
       "25278    1\n",
       "Name: Unnamed: 0, Length: 26736, dtype: int64"
      ]
     },
     "execution_count": 6,
     "metadata": {},
     "output_type": "execute_result"
    }
   ],
   "source": [
    "df[\"Unnamed: 0\"].value_counts()"
   ]
  },
  {
   "cell_type": "markdown",
<<<<<<< HEAD
   "id": "bacterial-snake",
=======
   "id": "opening-glucose",
>>>>>>> c5990ad2cbf3ec7f1620873055a9ab83588d3f52
   "metadata": {},
   "source": [
    "It is not Uniqe, but it seems to not give anything of value to an algorythm, There are 26736 different options and rows share their value with at most 5 others."
   ]
  },
  {
   "cell_type": "markdown",
<<<<<<< HEAD
   "id": "precise-monkey",
=======
   "id": "caroline-mapping",
>>>>>>> c5990ad2cbf3ec7f1620873055a9ab83588d3f52
   "metadata": {},
   "source": [
    "Now to look at our building class Category:"
   ]
  },
  {
   "cell_type": "code",
   "execution_count": 7,
<<<<<<< HEAD
   "id": "tough-island",
=======
   "id": "apparent-lyric",
>>>>>>> c5990ad2cbf3ec7f1620873055a9ab83588d3f52
   "metadata": {},
   "outputs": [
    {
     "data": {
      "text/plain": [
       "count                                           84548\n",
       "unique                                             47\n",
       "top       01 ONE FAMILY DWELLINGS                    \n",
       "freq                                            18235\n",
       "Name: BUILDING CLASS CATEGORY, dtype: object"
      ]
     },
     "execution_count": 7,
     "metadata": {},
     "output_type": "execute_result"
    }
   ],
   "source": [
    "df[\"BUILDING CLASS CATEGORY\"].describe()"
   ]
  },
  {
   "cell_type": "code",
   "execution_count": 8,
<<<<<<< HEAD
   "id": "official-confidentiality",
=======
   "id": "detailed-times",
>>>>>>> c5990ad2cbf3ec7f1620873055a9ab83588d3f52
   "metadata": {},
   "outputs": [
    {
     "data": {
      "text/plain": [
       "count     84548\n",
       "unique      167\n",
       "top          D4\n",
       "freq      12663\n",
       "Name: BUILDING CLASS AT PRESENT, dtype: object"
      ]
     },
     "execution_count": 8,
     "metadata": {},
     "output_type": "execute_result"
    }
   ],
   "source": [
    "df[\"BUILDING CLASS AT PRESENT\"].describe()"
   ]
  },
  {
   "cell_type": "markdown",
<<<<<<< HEAD
   "id": "important-client",
=======
   "id": "encouraging-cabinet",
>>>>>>> c5990ad2cbf3ec7f1620873055a9ab83588d3f52
   "metadata": {},
   "source": [
    "**These are not the same.**\n",
    "\n",
    "We move on to look at NULL values both in the set itself and in the induvidual columns:"
   ]
  },
  {
   "cell_type": "code",
   "execution_count": 9,
<<<<<<< HEAD
   "id": "described-victim",
=======
   "id": "shared-coordinate",
>>>>>>> c5990ad2cbf3ec7f1620873055a9ab83588d3f52
   "metadata": {},
   "outputs": [
    {
     "data": {
      "text/plain": [
       "Unnamed: 0                        False\n",
       "BOROUGH                           False\n",
       "NEIGHBORHOOD                      False\n",
       "BUILDING CLASS CATEGORY           False\n",
       "TAX CLASS AT PRESENT              False\n",
       "BLOCK                             False\n",
       "LOT                               False\n",
       "EASE-MENT                         False\n",
       "BUILDING CLASS AT PRESENT         False\n",
       "ADDRESS                           False\n",
       "APARTMENT NUMBER                  False\n",
       "ZIP CODE                          False\n",
       "RESIDENTIAL UNITS                 False\n",
       "COMMERCIAL UNITS                  False\n",
       "TOTAL UNITS                       False\n",
       "LAND SQUARE FEET                  False\n",
       "GROSS SQUARE FEET                 False\n",
       "YEAR BUILT                        False\n",
       "TAX CLASS AT TIME OF SALE         False\n",
       "BUILDING CLASS AT TIME OF SALE    False\n",
       "SALE PRICE                        False\n",
       "SALE DATE                         False\n",
       "dtype: bool"
      ]
     },
     "execution_count": 9,
     "metadata": {},
     "output_type": "execute_result"
    }
   ],
   "source": [
    "df.isnull().any()"
   ]
  },
  {
   "cell_type": "code",
   "execution_count": 10,
<<<<<<< HEAD
   "id": "killing-wagner",
=======
   "id": "deadly-penetration",
>>>>>>> c5990ad2cbf3ec7f1620873055a9ab83588d3f52
   "metadata": {},
   "outputs": [
    {
     "name": "stdout",
     "output_type": "stream",
     "text": [
      "Percentage null or na values in Dataset\n"
     ]
    },
    {
     "data": {
      "text/plain": [
       "Unnamed: 0                        0.0\n",
       "BOROUGH                           0.0\n",
       "NEIGHBORHOOD                      0.0\n",
       "BUILDING CLASS CATEGORY           0.0\n",
       "TAX CLASS AT PRESENT              0.0\n",
       "BLOCK                             0.0\n",
       "LOT                               0.0\n",
       "EASE-MENT                         0.0\n",
       "BUILDING CLASS AT PRESENT         0.0\n",
       "ADDRESS                           0.0\n",
       "APARTMENT NUMBER                  0.0\n",
       "ZIP CODE                          0.0\n",
       "RESIDENTIAL UNITS                 0.0\n",
       "COMMERCIAL UNITS                  0.0\n",
       "TOTAL UNITS                       0.0\n",
       "LAND SQUARE FEET                  0.0\n",
       "GROSS SQUARE FEET                 0.0\n",
       "YEAR BUILT                        0.0\n",
       "TAX CLASS AT TIME OF SALE         0.0\n",
       "BUILDING CLASS AT TIME OF SALE    0.0\n",
       "SALE PRICE                        0.0\n",
       "SALE DATE                         0.0\n",
       "dtype: float64"
      ]
     },
     "execution_count": 10,
     "metadata": {},
     "output_type": "execute_result"
    }
   ],
   "source": [
    "print(\"Percentage null or na values in Dataset\")\n",
    "((df.isnull() | df.isna()).sum() * 100 / df.index.size).round(2)"
   ]
  },
  {
   "cell_type": "markdown",
<<<<<<< HEAD
   "id": "seven-royalty",
=======
   "id": "juvenile-trail",
>>>>>>> c5990ad2cbf3ec7f1620873055a9ab83588d3f52
   "metadata": {},
   "source": [
    "As it stands none of our two functions gives us any warnings, everything is there, and there are no null values. As it is its not wrong or correct, there are empty values in our dataset, but they are represented differently as shown under:"
   ]
  },
  {
   "cell_type": "code",
   "execution_count": 11,
<<<<<<< HEAD
   "id": "looking-progressive",
=======
   "id": "material-synthesis",
>>>>>>> c5990ad2cbf3ec7f1620873055a9ab83588d3f52
   "metadata": {},
   "outputs": [
    {
     "name": "stdout",
     "output_type": "stream",
     "text": [
      "---------------------------\n",
      "Unnamed: 0\n",
      "2049     5\n",
      "478      5\n",
      "350      5\n",
      "2399     5\n",
      "4508     5\n",
      "        ..\n",
      "25332    1\n",
      "25591    1\n",
      "24422    1\n",
      "26028    1\n",
      "25278    1\n",
      "Name: Unnamed: 0, Length: 26736, dtype: int64\n",
      "---------------------------\n",
      "BOROUGH\n",
      "4    26736\n",
      "3    24047\n",
      "1    18306\n",
      "5     8410\n",
      "2     7049\n",
      "Name: BOROUGH, dtype: int64\n",
      "---------------------------\n",
      "NEIGHBORHOOD\n",
      "FLUSHING-NORTH              3068\n",
      "UPPER EAST SIDE (59-79)     1736\n",
      "UPPER EAST SIDE (79-96)     1590\n",
      "UPPER WEST SIDE (59-79)     1439\n",
      "BEDFORD STUYVESANT          1436\n",
      "                            ... \n",
      "VAN CORTLANDT PARK             2\n",
      "BRONX PARK                     1\n",
      "CITY ISLAND-PELHAM STRIP       1\n",
      "EAST RIVER                     1\n",
      "PELHAM BAY                     1\n",
      "Name: NEIGHBORHOOD, Length: 254, dtype: int64\n",
      "---------------------------\n",
      "BUILDING CLASS CATEGORY\n",
      "01 ONE FAMILY DWELLINGS                         18235\n",
      "02 TWO FAMILY DWELLINGS                         15828\n",
      "13 CONDOS - ELEVATOR APARTMENTS                 12989\n",
      "10 COOPS - ELEVATOR APARTMENTS                  12902\n",
      "03 THREE FAMILY DWELLINGS                        4384\n",
      "07 RENTALS - WALKUP APARTMENTS                   3466\n",
      "09 COOPS - WALKUP APARTMENTS                     2767\n",
      "04 TAX CLASS 1 CONDOS                            1656\n",
      "44 CONDO PARKING                                 1441\n",
      "15 CONDOS - 2-10 UNIT RESIDENTIAL                1281\n",
      "05 TAX CLASS 1 VACANT LAND                       1248\n",
      "17 CONDO COOPS                                   1201\n",
      "22 STORE BUILDINGS                                935\n",
      "12 CONDOS - WALKUP APARTMENTS                     926\n",
      "14 RENTALS - 4-10 UNIT                            671\n",
      "29 COMMERCIAL GARAGES                             587\n",
      "43 CONDO OFFICE BUILDINGS                         475\n",
      "31 COMMERCIAL VACANT LAND                         463\n",
      "08 RENTALS - ELEVATOR APARTMENTS                  382\n",
      "47 CONDO NON-BUSINESS STORAGE                     377\n",
      "21 OFFICE BUILDINGS                               350\n",
      "30 WAREHOUSES                                     326\n",
      "45 CONDO HOTELS                                   211\n",
      "27 FACTORIES                                      201\n",
      "06 TAX CLASS 1 - OTHER                            182\n",
      "41 TAX CLASS 4 - OTHER                            158\n",
      "46 CONDO STORE BUILDINGS                          154\n",
      "26 OTHER HOTELS                                   114\n",
      "37 RELIGIOUS FACILITIES                           100\n",
      "16 CONDOS - 2-10 UNIT WITH COMMERCIAL UNIT         96\n",
      "33 EDUCATIONAL FACILITIES                          69\n",
      "32 HOSPITAL AND HEALTH FACILITIES                  59\n",
      "48 CONDO TERRACES/GARDENS/CABANAS                  47\n",
      "23 LOFT BUILDINGS                                  46\n",
      "11A CONDO-RENTALS                                  43\n",
      "35 INDOOR PUBLIC AND CULTURAL FACILITIES           32\n",
      "49 CONDO WAREHOUSES/FACTORY/INDUS                  30\n",
      "28 COMMERCIAL CONDOS                               30\n",
      "38 ASYLUMS AND HOMES                               25\n",
      "36 OUTDOOR RECREATIONAL FACILITIES                 14\n",
      "42 CONDO CULTURAL/MEDICAL/EDUCATIONAL/ETC          13\n",
      "25 LUXURY HOTELS                                   12\n",
      "34 THEATRES                                        12\n",
      "18 TAX CLASS 3 - UNTILITY PROPERTIES                4\n",
      "40 SELECTED GOVERNMENTAL FACILITIES                 2\n",
      "39 TRANSPORTATION FACILITIES                        2\n",
      "11 SPECIAL CONDO BILLING LOTS                       2\n",
      "Name: BUILDING CLASS CATEGORY, dtype: int64\n",
      "---------------------------\n",
      "TAX CLASS AT PRESENT\n",
      "1     38633\n",
      "2     30919\n",
      "4      6140\n",
      "2A     2521\n",
      "2C     1915\n",
      "1A     1444\n",
      "1B     1234\n",
      "2B      814\n",
      "        738\n",
      "1C      186\n",
      "3         4\n",
      "Name: TAX CLASS AT PRESENT, dtype: int64\n",
      "---------------------------\n",
      "BLOCK\n",
      "5066     404\n",
      "16       255\n",
      "2135     211\n",
      "4978     187\n",
      "1171     181\n",
      "        ... \n",
      "9513       1\n",
      "15658      1\n",
      "11624      1\n",
      "9577       1\n",
      "2047       1\n",
      "Name: BLOCK, Length: 11566, dtype: int64\n",
      "---------------------------\n",
      "LOT\n",
      "1       4125\n",
      "20       983\n",
      "12       972\n",
      "40       935\n",
      "23       911\n",
      "        ... \n",
      "2097       1\n",
      "801        1\n",
      "2848       1\n",
      "4771       1\n",
      "3224       1\n",
      "Name: LOT, Length: 2627, dtype: int64\n",
      "---------------------------\n",
      "EASE-MENT\n",
      "     84548\n",
      "Name: EASE-MENT, dtype: int64\n",
      "---------------------------\n",
      "BUILDING CLASS AT PRESENT\n",
      "D4    12663\n",
      "R4    12482\n",
      "A1     6753\n",
      "A5     5683\n",
      "B2     4923\n",
      "      ...  \n",
      "Q8        1\n",
      "CM        1\n",
      "M2        1\n",
      "J1        1\n",
      "P7        1\n",
      "Name: BUILDING CLASS AT PRESENT, Length: 167, dtype: int64\n",
      "---------------------------\n",
      "ADDRESS\n",
      "131-05 40TH   ROAD            210\n",
      "429 KENT AVENUE               158\n",
      "169 WEST 95TH   STREET        153\n",
      "131-03 40TH   ROAD            147\n",
      "265 STATE STREET              127\n",
      "                             ... \n",
      "224 53RD   STREET               1\n",
      "151 SEIDMAN AVENUE              1\n",
      "320 EAST 42ND STREET, 1201      1\n",
      "2027 WEST 9TH   STREET          1\n",
      "84-09 155TH   AVENUE, 3M        1\n",
      "Name: ADDRESS, Length: 67563, dtype: int64\n",
      "---------------------------\n",
      "APARTMENT NUMBER\n",
      "         65496\n",
      "4          298\n",
      "3A         295\n",
      "2          275\n",
      "3B         275\n",
      "         ...  \n",
      "2549D        1\n",
      "4R-A         1\n",
      "8G/H         1\n",
      "21U          1\n",
      "4-B          1\n",
      "Name: APARTMENT NUMBER, Length: 3989, dtype: int64\n",
      "---------------------------\n",
      "ZIP CODE\n",
      "10314    1687\n",
      "11354    1384\n",
      "11201    1324\n",
      "11235    1312\n",
      "11234    1165\n",
      "         ... \n",
      "10105       5\n",
      "10803       1\n",
      "11430       1\n",
      "10167       1\n",
      "10281       1\n",
      "Name: ZIP CODE, Length: 186, dtype: int64\n",
      "---------------------------\n",
      "RESIDENTIAL UNITS\n",
      "1      34722\n",
      "0      24783\n",
      "2      16049\n",
      "3       4608\n",
      "4       1346\n",
      "       ...  \n",
      "335        1\n",
      "271        1\n",
      "369        1\n",
      "143        1\n",
      "127        1\n",
      "Name: RESIDENTIAL UNITS, Length: 176, dtype: int64\n",
      "---------------------------\n",
      "COMMERCIAL UNITS\n",
      "0       79429\n",
      "1        3558\n",
      "2         817\n",
      "3         259\n",
      "4         137\n",
      "5          74\n",
      "6          70\n",
      "7          31\n",
      "8          26\n",
      "9          20\n",
      "10         17\n",
      "12         12\n",
      "15         11\n",
      "11         10\n",
      "14          6\n",
      "17          6\n",
      "13          4\n",
      "20          4\n",
      "254         4\n",
      "35          4\n",
      "19          3\n",
      "42          3\n",
      "18          3\n",
      "22          3\n",
      "126         2\n",
      "436         2\n",
      "26          2\n",
      "422         2\n",
      "16          2\n",
      "25          2\n",
      "56          1\n",
      "184         1\n",
      "59          1\n",
      "55          1\n",
      "52          1\n",
      "51          1\n",
      "49          1\n",
      "172         1\n",
      "62          1\n",
      "23          1\n",
      "38          1\n",
      "34          1\n",
      "32          1\n",
      "31          1\n",
      "30          1\n",
      "28          1\n",
      "91          1\n",
      "27          1\n",
      "24          1\n",
      "21          1\n",
      "2261        1\n",
      "147         1\n",
      "73          1\n",
      "67          1\n",
      "318         1\n",
      "Name: COMMERCIAL UNITS, dtype: int64\n",
      "---------------------------\n",
      "TOTAL UNITS\n",
      "1      38356\n",
      "0      19762\n",
      "2      15914\n",
      "3       5412\n",
      "4       1498\n",
      "       ...  \n",
      "93         1\n",
      "92         1\n",
      "155        1\n",
      "538        1\n",
      "127        1\n",
      "Name: TOTAL UNITS, Length: 192, dtype: int64\n",
      "---------------------------\n",
      "LAND SQUARE FEET\n",
      " -       26252\n",
      "0        10326\n",
      "2000      3919\n",
      "2500      3470\n",
      "4000      3044\n",
      "         ...  \n",
      "12375        1\n",
      "4147         1\n",
      "4805         1\n",
      "19914        1\n",
      "9009         1\n",
      "Name: LAND SQUARE FEET, Length: 6062, dtype: int64\n",
      "---------------------------\n",
      "GROSS SQUARE FEET\n",
      " -       27612\n",
      "0        11417\n",
      "2400       386\n",
      "1800       361\n",
      "2000       359\n",
      "         ...  \n",
      "5649         1\n",
      "10587        1\n",
      "5960         1\n",
      "1979         1\n",
      "8660         1\n",
      "Name: GROSS SQUARE FEET, Length: 5691, dtype: int64\n",
      "---------------------------\n",
      "YEAR BUILT\n",
      "0       6970\n",
      "1920    6045\n",
      "1930    5043\n",
      "1925    4312\n",
      "1910    3585\n",
      "        ... \n",
      "1826       1\n",
      "1829       1\n",
      "1855       1\n",
      "1832       1\n",
      "1849       1\n",
      "Name: YEAR BUILT, Length: 158, dtype: int64\n",
      "---------------------------\n",
      "TAX CLASS AT TIME OF SALE\n",
      "1    41533\n",
      "2    36726\n",
      "4     6285\n",
      "3        4\n",
      "Name: TAX CLASS AT TIME OF SALE, dtype: int64\n",
      "---------------------------\n",
      "BUILDING CLASS AT TIME OF SALE\n",
      "R4    12989\n",
      "D4    12666\n",
      "A1     6751\n",
      "A5     5671\n",
      "B2     4918\n",
      "      ...  \n",
      "J1        1\n",
      "Q8        1\n",
      "M2        1\n",
      "P7        1\n",
      "CM        1\n",
      "Name: BUILDING CLASS AT TIME OF SALE, Length: 166, dtype: int64\n",
      "---------------------------\n",
      "SALE PRICE\n",
      " -         14561\n",
      "0          10228\n",
      "10           766\n",
      "450000       427\n",
      "550000       416\n",
      "           ...  \n",
      "881020         1\n",
      "281120         1\n",
      "699750         1\n",
      "2289000        1\n",
      "1633000        1\n",
      "Name: SALE PRICE, Length: 10008, dtype: int64\n",
      "---------------------------\n",
      "SALE DATE\n",
      "2017-06-29 00:00:00    544\n",
      "2017-06-15 00:00:00    530\n",
      "2016-12-22 00:00:00    527\n",
      "2017-05-25 00:00:00    511\n",
      "2016-10-06 00:00:00    508\n",
      "                      ... \n",
      "2017-01-08 00:00:00      2\n",
      "2016-11-27 00:00:00      2\n",
      "2017-07-09 00:00:00      2\n",
      "2017-08-13 00:00:00      1\n",
      "2017-06-04 00:00:00      1\n",
      "Name: SALE DATE, Length: 364, dtype: int64\n"
     ]
    }
   ],
   "source": [
    "i = 0\n",
    "for col in df.columns.tolist():\n",
    "    print(f'---------------------------\\n{col}')\n",
    "    print(df[col].value_counts())"
   ]
  },
  {
   "cell_type": "markdown",
<<<<<<< HEAD
   "id": "municipal-visitor",
=======
   "id": "found-awareness",
>>>>>>> c5990ad2cbf3ec7f1620873055a9ab83588d3f52
   "metadata": {},
   "source": [
    "Knowing this one can be forgiven to assume that the dataset uses \"-\" and \" \" for empty values, lets run the same function as before but using these as values rather than standard .isna() and .isnull()"
   ]
  },
  {
   "cell_type": "markdown",
<<<<<<< HEAD
   "id": "vertical-minimum",
=======
   "id": "polar-ethiopia",
>>>>>>> c5990ad2cbf3ec7f1620873055a9ab83588d3f52
   "metadata": {},
   "source": [
    "Here we can see that 14561 are not numeric, these are the \" - \", or in our case, NULL values. We can change them:"
   ]
  },
  {
   "cell_type": "code",
   "execution_count": 12,
<<<<<<< HEAD
   "id": "different-logistics",
=======
   "id": "driven-provider",
>>>>>>> c5990ad2cbf3ec7f1620873055a9ab83588d3f52
   "metadata": {},
   "outputs": [
    {
     "name": "stdout",
     "output_type": "stream",
     "text": [
      "Percentage null or na values in Dataset\n"
     ]
    },
    {
     "data": {
      "text/plain": [
       "Unnamed: 0                        0.0\n",
       "BOROUGH                           0.0\n",
       "NEIGHBORHOOD                      0.0\n",
       "BUILDING CLASS CATEGORY           0.0\n",
       "TAX CLASS AT PRESENT              0.0\n",
       "BLOCK                             0.0\n",
       "LOT                               0.0\n",
       "EASE-MENT                         0.0\n",
       "BUILDING CLASS AT PRESENT         0.0\n",
       "ADDRESS                           0.0\n",
       "APARTMENT NUMBER                  0.0\n",
       "ZIP CODE                          0.0\n",
       "RESIDENTIAL UNITS                 0.0\n",
       "COMMERCIAL UNITS                  0.0\n",
       "TOTAL UNITS                       0.0\n",
       "LAND SQUARE FEET                  0.0\n",
       "GROSS SQUARE FEET                 0.0\n",
       "YEAR BUILT                        0.0\n",
       "TAX CLASS AT TIME OF SALE         0.0\n",
       "BUILDING CLASS AT TIME OF SALE    0.0\n",
       "SALE PRICE                        0.0\n",
       "SALE DATE                         0.0\n",
       "dtype: float64"
      ]
     },
     "execution_count": 12,
     "metadata": {},
     "output_type": "execute_result"
    }
   ],
   "source": [
    "for col in df.columns.tolist():\n",
    "    df.loc[df[col] == \"\", col] = None\n",
    "\n",
    "print(\"Percentage null or na values in Dataset\")\n",
    "((df.isnull() | df.isna()).sum() * 100 / df.index.size).round(2)"
   ]
  },
  {
   "cell_type": "code",
<<<<<<< HEAD
   "execution_count": 13,
   "id": "oriental-adobe",
=======
   "execution_count": 46,
   "id": "departmental-fifteen",
>>>>>>> c5990ad2cbf3ec7f1620873055a9ab83588d3f52
   "metadata": {},
   "outputs": [],
   "source": [
    "test_df = df.replace(' ', np.nan)\n",
    "test_df = test_df.replace(' -  ', np.nan)"
   ]
  },
  {
   "cell_type": "code",
<<<<<<< HEAD
   "execution_count": 14,
   "id": "competitive-conference",
=======
   "execution_count": 47,
   "id": "biological-extreme",
>>>>>>> c5990ad2cbf3ec7f1620873055a9ab83588d3f52
   "metadata": {},
   "outputs": [
    {
     "data": {
      "text/plain": [
       "0          10228\n",
       "10           766\n",
       "450000       427\n",
       "550000       416\n",
       "650000       414\n",
       "           ...  \n",
       "169300         1\n",
       "881020         1\n",
       "281120         1\n",
       "699750         1\n",
       "1633000        1\n",
       "Name: SALE PRICE, Length: 10007, dtype: int64"
      ]
     },
     "execution_count": 14,
     "metadata": {},
     "output_type": "execute_result"
    }
   ],
   "source": [
    "test_df[\"SALE PRICE\"].value_counts()"
   ]
  },
  {
   "cell_type": "code",
<<<<<<< HEAD
   "execution_count": 15,
   "id": "oriental-tokyo",
=======
   "execution_count": 48,
   "id": "flexible-albany",
>>>>>>> c5990ad2cbf3ec7f1620873055a9ab83588d3f52
   "metadata": {},
   "outputs": [],
   "source": [
    "test_df = test_df.replace('0', np.nan)"
   ]
  },
  {
   "cell_type": "code",
<<<<<<< HEAD
   "execution_count": 16,
   "id": "pressed-digit",
=======
   "execution_count": 53,
   "id": "three-indication",
>>>>>>> c5990ad2cbf3ec7f1620873055a9ab83588d3f52
   "metadata": {},
   "outputs": [
    {
     "data": {
      "text/plain": [
       "10         766\n",
       "450000     427\n",
       "550000     416\n",
       "650000     414\n",
       "600000     409\n",
       "          ... \n",
       "881020       1\n",
       "281120       1\n",
       "699750       1\n",
       "2289000      1\n",
       "1633000      1\n",
       "Name: SALE PRICE, Length: 10006, dtype: int64"
      ]
     },
     "execution_count": 16,
     "metadata": {},
     "output_type": "execute_result"
    }
   ],
   "source": [
    "test_df[\"SALE PRICE\"].value_counts()"
   ]
  },
  {
   "cell_type": "code",
<<<<<<< HEAD
   "execution_count": 17,
   "id": "parliamentary-scholarship",
=======
   "execution_count": 50,
   "id": "lovely-scientist",
>>>>>>> c5990ad2cbf3ec7f1620873055a9ab83588d3f52
   "metadata": {},
   "outputs": [
    {
     "data": {
      "text/html": [
       "<div>\n",
       "<style scoped>\n",
       "    .dataframe tbody tr th:only-of-type {\n",
       "        vertical-align: middle;\n",
       "    }\n",
       "\n",
       "    .dataframe tbody tr th {\n",
       "        vertical-align: top;\n",
       "    }\n",
       "\n",
       "    .dataframe thead th {\n",
       "        text-align: right;\n",
       "    }\n",
       "</style>\n",
       "<table border=\"1\" class=\"dataframe\">\n",
       "  <thead>\n",
       "    <tr style=\"text-align: right;\">\n",
       "      <th></th>\n",
       "      <th>Unnamed: 0</th>\n",
       "      <th>BOROUGH</th>\n",
       "      <th>NEIGHBORHOOD</th>\n",
       "      <th>BUILDING CLASS CATEGORY</th>\n",
       "      <th>TAX CLASS AT PRESENT</th>\n",
       "      <th>BLOCK</th>\n",
       "      <th>LOT</th>\n",
       "      <th>EASE-MENT</th>\n",
       "      <th>BUILDING CLASS AT PRESENT</th>\n",
       "      <th>ADDRESS</th>\n",
       "      <th>...</th>\n",
       "      <th>RESIDENTIAL UNITS</th>\n",
       "      <th>COMMERCIAL UNITS</th>\n",
       "      <th>TOTAL UNITS</th>\n",
       "      <th>LAND SQUARE FEET</th>\n",
       "      <th>GROSS SQUARE FEET</th>\n",
       "      <th>YEAR BUILT</th>\n",
       "      <th>TAX CLASS AT TIME OF SALE</th>\n",
       "      <th>BUILDING CLASS AT TIME OF SALE</th>\n",
       "      <th>SALE PRICE</th>\n",
       "      <th>SALE DATE</th>\n",
       "    </tr>\n",
       "  </thead>\n",
       "  <tbody>\n",
       "  </tbody>\n",
       "</table>\n",
       "<p>0 rows × 22 columns</p>\n",
       "</div>"
      ],
      "text/plain": [
       "Empty DataFrame\n",
       "Columns: [Unnamed: 0, BOROUGH, NEIGHBORHOOD, BUILDING CLASS CATEGORY, TAX CLASS AT PRESENT, BLOCK, LOT, EASE-MENT, BUILDING CLASS AT PRESENT, ADDRESS, APARTMENT NUMBER, ZIP CODE, RESIDENTIAL UNITS, COMMERCIAL UNITS, TOTAL UNITS, LAND SQUARE FEET, GROSS SQUARE FEET, YEAR BUILT, TAX CLASS AT TIME OF SALE, BUILDING CLASS AT TIME OF SALE, SALE PRICE, SALE DATE]\n",
       "Index: []\n",
       "\n",
       "[0 rows x 22 columns]"
      ]
     },
     "execution_count": 17,
     "metadata": {},
     "output_type": "execute_result"
    }
   ],
   "source": [
    "test_df.dropna()"
   ]
  },
  {
   "cell_type": "code",
<<<<<<< HEAD
   "execution_count": 18,
   "id": "negative-stress",
=======
   "execution_count": 51,
   "id": "governmental-montgomery",
>>>>>>> c5990ad2cbf3ec7f1620873055a9ab83588d3f52
   "metadata": {},
   "outputs": [
    {
     "name": "stdout",
     "output_type": "stream",
     "text": [
      "Percentage null or na values in Dataset\n",
      "-------------------------------------\n"
     ]
    },
    {
     "data": {
      "text/plain": [
       "Unnamed: 0                          0.00\n",
       "BOROUGH                             0.00\n",
       "NEIGHBORHOOD                        0.00\n",
       "BUILDING CLASS CATEGORY             0.00\n",
       "TAX CLASS AT PRESENT                0.87\n",
       "BLOCK                               0.00\n",
       "LOT                                 0.00\n",
       "EASE-MENT                         100.00\n",
       "BUILDING CLASS AT PRESENT           0.87\n",
       "ADDRESS                             0.00\n",
       "APARTMENT NUMBER                   77.47\n",
       "ZIP CODE                            0.00\n",
       "RESIDENTIAL UNITS                   0.00\n",
       "COMMERCIAL UNITS                    0.00\n",
       "TOTAL UNITS                         0.00\n",
       "LAND SQUARE FEET                   43.26\n",
       "GROSS SQUARE FEET                  46.16\n",
       "YEAR BUILT                          0.00\n",
       "TAX CLASS AT TIME OF SALE           0.00\n",
       "BUILDING CLASS AT TIME OF SALE      0.00\n",
       "SALE PRICE                         29.32\n",
       "SALE DATE                           0.00\n",
       "dtype: float64"
      ]
     },
     "execution_count": 18,
     "metadata": {},
     "output_type": "execute_result"
    }
   ],
   "source": [
    "print(\"Percentage null or na values in Dataset\\n-------------------------------------\")\n",
    "((test_df.isnull() | test_df.isna()).sum() * 100 / test_df.index.size).round(2)"
   ]
  },
  {
   "cell_type": "code",
<<<<<<< HEAD
   "execution_count": 19,
   "id": "boxed-sentence",
=======
   "execution_count": 15,
   "id": "gorgeous-jaguar",
>>>>>>> c5990ad2cbf3ec7f1620873055a9ab83588d3f52
   "metadata": {},
   "outputs": [],
   "source": [
    "la = df[\"SALE PRICE\"].str.isnumeric()"
   ]
  },
  {
   "cell_type": "code",
<<<<<<< HEAD
   "execution_count": 20,
   "id": "opening-pressing",
=======
   "execution_count": 18,
   "id": "hazardous-shelter",
>>>>>>> c5990ad2cbf3ec7f1620873055a9ab83588d3f52
   "metadata": {},
   "outputs": [
    {
     "data": {
      "text/plain": [
       "True     69987\n",
       "False    14561\n",
       "Name: SALE PRICE, dtype: int64"
      ]
     },
     "execution_count": 20,
     "metadata": {},
     "output_type": "execute_result"
    }
   ],
   "source": [
    "la.value_counts()"
   ]
  },
  {
   "cell_type": "markdown",
<<<<<<< HEAD
   "id": "improved-cabinet",
=======
   "id": "dental-divorce",
>>>>>>> c5990ad2cbf3ec7f1620873055a9ab83588d3f52
   "metadata": {},
   "source": [
    "Unnamed, Useless\n",
    "\n",
    "BOROUGH, BLOCK, LOT, Adress, Apartment number & Zipcode: Either too generalized or too speciif or supersided by Neighborhood\n",
    "\n",
    "Easement: Useless\n",
    "\n",
    "BUILDING CLASS AT PRESENT, TAX CLASS AT PRESENT: Supercededed by their \"time of sale\" Counterpart.\n",
    "\n",
    "Total Units: Represented within Residental and Commercial Units\n",
    "> Check for res + com = Total\n",
    "\n"
   ]
  },
  {
   "cell_type": "code",
   "execution_count": 21,
   "id": "backed-wrapping",
   "metadata": {},
   "outputs": [
    {
     "name": "stdout",
     "output_type": "stream",
     "text": [
      "84548 84548 84548\n"
     ]
    }
   ],
   "source": [
    "l = df[\"TOTAL UNITS\"]\n",
    "r = df[\"RESIDENTIAL UNITS\"]\n",
    "c = df[\"COMMERCIAL UNITS\"]\n",
    "\n",
    "\n",
    "print(len(l),len(r),len(c))"
   ]
  },
  {
   "cell_type": "markdown",
<<<<<<< HEAD
   "id": "recovered-knowing",
=======
   "id": "helpful-brain",
>>>>>>> c5990ad2cbf3ec7f1620873055a9ab83588d3f52
   "metadata": {},
   "source": [
    "Housing price is distributed\n",
    "\n",
    "Correlation\n",
    "\n"
   ]
  },
  {
   "cell_type": "code",
<<<<<<< HEAD
   "execution_count": 22,
   "id": "seeing-memorial",
   "metadata": {},
   "outputs": [],
   "source": [
    "new_df= df.drop([\"BOROUGH\",\"BLOCK\",\"LOT\",\"ADDRESS\",\"Unnamed: 0\", \"APARTMENT NUMBER\", \"ZIP CODE\",\n",
    "               \"EASE-MENT\",\"BUILDING CLASS AT PRESENT\", \"TAX CLASS AT PRESENT\"], axis = 1)"
   ]
  },
  {
   "cell_type": "code",
   "execution_count": 23,
   "id": "dated-disney",
   "metadata": {},
   "outputs": [
    {
     "name": "stdout",
     "output_type": "stream",
     "text": [
      "<class 'pandas.core.frame.DataFrame'>\n",
      "RangeIndex: 84548 entries, 0 to 84547\n",
      "Data columns (total 12 columns):\n",
      " #   Column                          Non-Null Count  Dtype  \n",
      "---  ------                          --------------  -----  \n",
      " 0   NEIGHBORHOOD                    84548 non-null  object \n",
      " 1   BUILDING CLASS CATEGORY         84548 non-null  object \n",
      " 2   RESIDENTIAL UNITS               84548 non-null  float64\n",
      " 3   COMMERCIAL UNITS                84548 non-null  float64\n",
      " 4   TOTAL UNITS                     84548 non-null  float64\n",
      " 5   LAND SQUARE FEET                84548 non-null  object \n",
      " 6   GROSS SQUARE FEET               84548 non-null  object \n",
      " 7   YEAR BUILT                      84548 non-null  float64\n",
      " 8   TAX CLASS AT TIME OF SALE       84548 non-null  float64\n",
      " 9   BUILDING CLASS AT TIME OF SALE  84548 non-null  object \n",
      " 10  SALE PRICE                      84548 non-null  object \n",
      " 11  SALE DATE                       84548 non-null  object \n",
      "dtypes: float64(5), object(7)\n",
      "memory usage: 7.7+ MB\n"
     ]
    }
   ],
   "source": [
    "new_df.info()"
   ]
  },
  {
   "cell_type": "code",
   "execution_count": 24,
   "id": "lesser-macintosh",
   "metadata": {},
   "outputs": [
    {
     "name": "stdout",
     "output_type": "stream",
     "text": [
      "Percentage null or na values in Dataset\n",
      "-------------------------------------\n"
     ]
    },
    {
     "data": {
      "text/plain": [
       "NEIGHBORHOOD                       0.00\n",
       "BUILDING CLASS CATEGORY            0.00\n",
       "RESIDENTIAL UNITS                  0.00\n",
       "COMMERCIAL UNITS                   0.00\n",
       "TOTAL UNITS                        0.00\n",
       "LAND SQUARE FEET                  31.05\n",
       "GROSS SQUARE FEET                 32.66\n",
       "YEAR BUILT                         0.00\n",
       "TAX CLASS AT TIME OF SALE          0.00\n",
       "BUILDING CLASS AT TIME OF SALE     0.00\n",
       "SALE PRICE                        17.22\n",
       "SALE DATE                          0.00\n",
       "dtype: float64"
      ]
     },
     "execution_count": 24,
     "metadata": {},
     "output_type": "execute_result"
    }
   ],
   "source": [
    "new_df = new_df.replace(' ', np.nan)\n",
    "new_df = new_df.replace(' -  ', np.nan)\n",
    "\n",
    "print(\"Percentage null or na values in Dataset\\n-------------------------------------\")\n",
    "((new_df.isnull() | new_df.isna()).sum() * 100 / new_df.index.size).round(2)"
   ]
  },
  {
   "cell_type": "code",
   "execution_count": 25,
   "id": "pointed-diagnosis",
   "metadata": {},
   "outputs": [],
   "source": [
    "new_df=new_df.dropna()"
   ]
  },
  {
   "cell_type": "markdown",
   "id": "bacterial-newcastle",
   "metadata": {},
   "source": [
    "### Checking types and evaluati"
   ]
  },
  {
   "cell_type": "code",
   "execution_count": 26,
   "id": "northern-management",
   "metadata": {},
   "outputs": [
    {
     "name": "stdout",
     "output_type": "stream",
     "text": [
      "<class 'pandas.core.frame.DataFrame'>\n",
      "Int64Index: 48244 entries, 0 to 84547\n",
      "Data columns (total 12 columns):\n",
      " #   Column                          Non-Null Count  Dtype  \n",
      "---  ------                          --------------  -----  \n",
      " 0   NEIGHBORHOOD                    48244 non-null  object \n",
      " 1   BUILDING CLASS CATEGORY         48244 non-null  object \n",
      " 2   RESIDENTIAL UNITS               48244 non-null  float64\n",
      " 3   COMMERCIAL UNITS                48244 non-null  float64\n",
      " 4   TOTAL UNITS                     48244 non-null  float64\n",
      " 5   LAND SQUARE FEET                48244 non-null  object \n",
      " 6   GROSS SQUARE FEET               48244 non-null  object \n",
      " 7   YEAR BUILT                      48244 non-null  float64\n",
      " 8   TAX CLASS AT TIME OF SALE       48244 non-null  float64\n",
      " 9   BUILDING CLASS AT TIME OF SALE  48244 non-null  object \n",
      " 10  SALE PRICE                      48244 non-null  object \n",
      " 11  SALE DATE                       48244 non-null  object \n",
      "dtypes: float64(5), object(7)\n",
      "memory usage: 4.8+ MB\n"
     ]
    }
   ],
   "source": [
    "new_df.info()"
   ]
  },
  {
   "cell_type": "markdown",
   "id": "spatial-sight",
   "metadata": {},
   "source": [
    "Seeing as theres 10228 counts of 0 in salesprice we drop these, as well as the few instances of 10 dollar amounts:"
   ]
  },
  {
   "cell_type": "code",
   "execution_count": 27,
   "id": "painted-internship",
   "metadata": {},
   "outputs": [],
   "source": [
    "new_df[\"SALE PRICE\"] = new_df[\"SALE PRICE\"].astype(float)"
   ]
  },
  {
   "cell_type": "code",
   "execution_count": 28,
   "id": "mediterranean-consciousness",
   "metadata": {},
   "outputs": [
    {
     "data": {
      "text/plain": [
       "0.0          10228\n",
       "10.0           651\n",
       "650000.0       336\n",
       "600000.0       323\n",
       "450000.0       322\n",
       "             ...  \n",
       "3215000.0        1\n",
       "1053778.0        1\n",
       "1176000.0        1\n",
       "465500.0         1\n",
       "211732.0         1\n",
       "Name: SALE PRICE, Length: 6231, dtype: int64"
      ]
     },
     "execution_count": 28,
     "metadata": {},
     "output_type": "execute_result"
    }
   ],
   "source": [
    "new_df[\"SALE PRICE\"].value_counts()"
   ]
  },
  {
   "cell_type": "code",
   "execution_count": 29,
   "id": "significant-athens",
   "metadata": {},
   "outputs": [],
   "source": [
    "new_df = new_df[new_df['SALE PRICE'] > 20]"
   ]
  },
  {
   "cell_type": "code",
   "execution_count": 30,
   "id": "valid-removal",
=======
   "execution_count": 52,
   "id": "conscious-acrylic",
>>>>>>> c5990ad2cbf3ec7f1620873055a9ab83588d3f52
   "metadata": {},
   "outputs": [
    {
     "name": "stdout",
     "output_type": "stream",
     "text": [
      "<class 'pandas.core.frame.DataFrame'>\n",
      "Int64Index: 37251 entries, 0 to 84547\n",
      "Data columns (total 12 columns):\n",
      " #   Column                          Non-Null Count  Dtype  \n",
      "---  ------                          --------------  -----  \n",
      " 0   NEIGHBORHOOD                    37251 non-null  object \n",
      " 1   BUILDING CLASS CATEGORY         37251 non-null  object \n",
      " 2   RESIDENTIAL UNITS               37251 non-null  float64\n",
      " 3   COMMERCIAL UNITS                37251 non-null  float64\n",
      " 4   TOTAL UNITS                     37251 non-null  float64\n",
      " 5   LAND SQUARE FEET                37251 non-null  object \n",
      " 6   GROSS SQUARE FEET               37251 non-null  object \n",
      " 7   YEAR BUILT                      37251 non-null  float64\n",
      " 8   TAX CLASS AT TIME OF SALE       37251 non-null  float64\n",
      " 9   BUILDING CLASS AT TIME OF SALE  37251 non-null  object \n",
      " 10  SALE PRICE                      37251 non-null  float64\n",
      " 11  SALE DATE                       37251 non-null  object \n",
      "dtypes: float64(6), object(6)\n",
      "memory usage: 3.7+ MB\n"
     ]
    }
   ],
   "source": [
    "new_df.info()"
   ]
  },
  {
   "cell_type": "code",
   "execution_count": 31,
   "id": "empirical-classroom",
   "metadata": {},
   "outputs": [
    {
     "data": {
      "text/plain": [
       "650000.0     336\n",
       "600000.0     323\n",
       "450000.0     322\n",
       "550000.0     318\n",
       "700000.0     316\n",
       "            ... \n",
       "949880.0       1\n",
       "1364455.0      1\n",
       "419700.0       1\n",
       "251435.0       1\n",
       "533237.0       1\n",
       "Name: SALE PRICE, Length: 6223, dtype: int64"
      ]
     },
     "execution_count": 31,
     "metadata": {},
     "output_type": "execute_result"
    }
   ],
   "source": [
    "new_df[\"SALE PRICE\"].value_counts()"
   ]
  },
  {
   "cell_type": "code",
   "execution_count": 32,
   "id": "racial-luxembourg",
   "metadata": {},
   "outputs": [
    {
     "data": {
      "text/plain": [
       "(array([3.6894e+04, 1.9800e+02, 5.6000e+01, 2.6000e+01, 1.4000e+01,\n",
       "        1.3000e+01, 9.0000e+00, 6.0000e+00, 7.0000e+00, 7.0000e+00,\n",
       "        5.0000e+00, 2.0000e+00, 1.0000e+00, 2.0000e+00, 1.0000e+00,\n",
       "        0.0000e+00, 1.0000e+00, 1.0000e+00, 1.0000e+00, 0.0000e+00,\n",
       "        0.0000e+00, 0.0000e+00, 1.0000e+00, 1.0000e+00, 0.0000e+00,\n",
       "        0.0000e+00, 0.0000e+00, 0.0000e+00, 0.0000e+00, 0.0000e+00,\n",
       "        0.0000e+00, 0.0000e+00, 0.0000e+00, 0.0000e+00, 0.0000e+00,\n",
       "        0.0000e+00, 0.0000e+00, 0.0000e+00, 1.0000e+00, 0.0000e+00,\n",
       "        0.0000e+00, 0.0000e+00, 1.0000e+00, 0.0000e+00, 1.0000e+00,\n",
       "        0.0000e+00, 0.0000e+00, 0.0000e+00, 0.0000e+00, 0.0000e+00,\n",
       "        0.0000e+00, 0.0000e+00, 0.0000e+00, 0.0000e+00, 0.0000e+00,\n",
       "        0.0000e+00, 0.0000e+00, 0.0000e+00, 0.0000e+00, 0.0000e+00,\n",
       "        0.0000e+00, 0.0000e+00, 0.0000e+00, 0.0000e+00, 0.0000e+00,\n",
       "        0.0000e+00, 0.0000e+00, 0.0000e+00, 0.0000e+00, 0.0000e+00,\n",
       "        1.0000e+00, 0.0000e+00, 0.0000e+00, 0.0000e+00, 0.0000e+00,\n",
       "        0.0000e+00, 0.0000e+00, 0.0000e+00, 0.0000e+00, 0.0000e+00,\n",
       "        0.0000e+00, 0.0000e+00, 0.0000e+00, 0.0000e+00, 0.0000e+00,\n",
       "        0.0000e+00, 0.0000e+00, 0.0000e+00, 0.0000e+00, 0.0000e+00,\n",
       "        0.0000e+00, 0.0000e+00, 0.0000e+00, 0.0000e+00, 0.0000e+00,\n",
       "        0.0000e+00, 0.0000e+00, 0.0000e+00, 0.0000e+00, 0.0000e+00,\n",
       "        0.0000e+00, 0.0000e+00, 0.0000e+00, 0.0000e+00, 0.0000e+00,\n",
       "        0.0000e+00, 0.0000e+00, 0.0000e+00, 0.0000e+00, 0.0000e+00,\n",
       "        0.0000e+00, 0.0000e+00, 0.0000e+00, 0.0000e+00, 0.0000e+00,\n",
       "        0.0000e+00, 0.0000e+00, 0.0000e+00, 0.0000e+00, 0.0000e+00,\n",
       "        0.0000e+00, 0.0000e+00, 0.0000e+00, 0.0000e+00, 0.0000e+00,\n",
       "        0.0000e+00, 0.0000e+00, 0.0000e+00, 0.0000e+00, 0.0000e+00,\n",
       "        0.0000e+00, 0.0000e+00, 0.0000e+00, 0.0000e+00, 0.0000e+00,\n",
       "        0.0000e+00, 0.0000e+00, 0.0000e+00, 0.0000e+00, 0.0000e+00,\n",
       "        0.0000e+00, 0.0000e+00, 0.0000e+00, 0.0000e+00, 0.0000e+00,\n",
       "        0.0000e+00, 0.0000e+00, 0.0000e+00, 0.0000e+00, 1.0000e+00]),\n",
       " array([1.00000000e+02, 1.47334327e+07, 2.94667653e+07, 4.42000980e+07,\n",
       "        5.89334307e+07, 7.36667633e+07, 8.84000960e+07, 1.03133429e+08,\n",
       "        1.17866761e+08, 1.32600094e+08, 1.47333427e+08, 1.62066759e+08,\n",
       "        1.76800092e+08, 1.91533425e+08, 2.06266757e+08, 2.21000090e+08,\n",
       "        2.35733423e+08, 2.50466755e+08, 2.65200088e+08, 2.79933421e+08,\n",
       "        2.94666753e+08, 3.09400086e+08, 3.24133419e+08, 3.38866751e+08,\n",
       "        3.53600084e+08, 3.68333417e+08, 3.83066749e+08, 3.97800082e+08,\n",
       "        4.12533415e+08, 4.27266747e+08, 4.42000080e+08, 4.56733413e+08,\n",
       "        4.71466745e+08, 4.86200078e+08, 5.00933411e+08, 5.15666743e+08,\n",
       "        5.30400076e+08, 5.45133409e+08, 5.59866741e+08, 5.74600074e+08,\n",
       "        5.89333407e+08, 6.04066739e+08, 6.18800072e+08, 6.33533405e+08,\n",
       "        6.48266737e+08, 6.63000070e+08, 6.77733403e+08, 6.92466735e+08,\n",
       "        7.07200068e+08, 7.21933401e+08, 7.36666733e+08, 7.51400066e+08,\n",
       "        7.66133399e+08, 7.80866731e+08, 7.95600064e+08, 8.10333397e+08,\n",
       "        8.25066729e+08, 8.39800062e+08, 8.54533395e+08, 8.69266727e+08,\n",
       "        8.84000060e+08, 8.98733393e+08, 9.13466725e+08, 9.28200058e+08,\n",
       "        9.42933391e+08, 9.57666723e+08, 9.72400056e+08, 9.87133389e+08,\n",
       "        1.00186672e+09, 1.01660005e+09, 1.03133339e+09, 1.04606672e+09,\n",
       "        1.06080005e+09, 1.07553338e+09, 1.09026672e+09, 1.10500005e+09,\n",
       "        1.11973338e+09, 1.13446672e+09, 1.14920005e+09, 1.16393338e+09,\n",
       "        1.17866671e+09, 1.19340005e+09, 1.20813338e+09, 1.22286671e+09,\n",
       "        1.23760004e+09, 1.25233338e+09, 1.26706671e+09, 1.28180004e+09,\n",
       "        1.29653337e+09, 1.31126671e+09, 1.32600004e+09, 1.34073337e+09,\n",
       "        1.35546671e+09, 1.37020004e+09, 1.38493337e+09, 1.39966670e+09,\n",
       "        1.41440004e+09, 1.42913337e+09, 1.44386670e+09, 1.45860003e+09,\n",
       "        1.47333337e+09, 1.48806670e+09, 1.50280003e+09, 1.51753336e+09,\n",
       "        1.53226670e+09, 1.54700003e+09, 1.56173336e+09, 1.57646670e+09,\n",
       "        1.59120003e+09, 1.60593336e+09, 1.62066669e+09, 1.63540003e+09,\n",
       "        1.65013336e+09, 1.66486669e+09, 1.67960002e+09, 1.69433336e+09,\n",
       "        1.70906669e+09, 1.72380002e+09, 1.73853335e+09, 1.75326669e+09,\n",
       "        1.76800002e+09, 1.78273335e+09, 1.79746669e+09, 1.81220002e+09,\n",
       "        1.82693335e+09, 1.84166668e+09, 1.85640002e+09, 1.87113335e+09,\n",
       "        1.88586668e+09, 1.90060001e+09, 1.91533335e+09, 1.93006668e+09,\n",
       "        1.94480001e+09, 1.95953334e+09, 1.97426668e+09, 1.98900001e+09,\n",
       "        2.00373334e+09, 2.01846668e+09, 2.03320001e+09, 2.04793334e+09,\n",
       "        2.06266667e+09, 2.07740001e+09, 2.09213334e+09, 2.10686667e+09,\n",
       "        2.12160000e+09, 2.13633334e+09, 2.15106667e+09, 2.16580000e+09,\n",
       "        2.18053333e+09, 2.19526667e+09, 2.21000000e+09]),\n",
       " [<matplotlib.patches.Polygon at 0x7fb5bbf38970>])"
      ]
     },
     "execution_count": 32,
     "metadata": {},
     "output_type": "execute_result"
    },
    {
     "data": {
      "image/png": "iVBORw0KGgoAAAANSUhEUgAAAYUAAAEICAYAAACwDehOAAAAOXRFWHRTb2Z0d2FyZQBNYXRwbG90bGliIHZlcnNpb24zLjMuMywgaHR0cHM6Ly9tYXRwbG90bGliLm9yZy/Il7ecAAAACXBIWXMAAAsTAAALEwEAmpwYAAAdtklEQVR4nO3df2yV9f338edpT+lkZUHIOYU1Tc1XzS0dkZp1CvujDSacFk7PikUd0Ng5NkBuBW9jCKW0qZAb7LChjmjJNwbNFN3ocJxqczjINNa44sBug9VUw7RlQvWctjTiObO/Tq/7D+99vjsc5LT8qu15PRJzed7Xj16fd67wuq7PKRc2y7IsREREgKTxPgEREfn2UCiIiIihUBAREUOhICIihkJBREQMhYKIiBgKBRERMezjfQJXqq8vzMjI5f1Vi5kz0+jtDV3lM5q41I9Y6kks9STWROpJUpKNG2/87jeun/ChMDJiXXYo/Ht/+R/qRyz1JJZ6Emuy9ETTRyIiYigURETEUCiIiIihUBAREUOhICIihkJBREQMhYKIiBgT/u8pXIlf/N83CPZ9xczvfYen/vePx/t0RETGXUI/KQT7vuL58rvpPd8/3qciIvKtkNChICIi0RQKIiJiKBRERMRQKIiIiKFQEBERY1Sh8Otf/5olS5bgdrt54YUXANi8eTMul4vi4mKKi4s5cuQIAC0tLXg8HlwuF3V1deYY7e3tLFu2jIKCArZs2cLw8DAAXV1dlJaWUlhYyLp16wiHw1d7jCIiMkpxQ+HYsWO89957vPbaa7z66qu89NJLfPLJJ7S1tbFv3z4aGxtpbGxk0aJF9Pf3U1FRQX19PT6fj7a2NpqbmwHYuHEjVVVVHD58GMuyaGhoAGDr1q2sXLkSv9/P3Llzqa+vv7YjFhGRbxQ3FO68805efPFF7HY7vb29RCIRUlNT6erqoqqqCo/Hw+7duxkZGeHkyZNkZWWRmZmJ3W7H4/Hg9/s5e/Ys/f395OTkAFBSUoLf72doaIjjx49TUFAQVRcRkfExqumjlJQUdu/ejdvtZsGCBUQiEebPn8+OHTtoaGjg/fff58CBAwSDQRwOh9nP6XQSCARi6g6Hg0AgQF9fH2lpadjt9qi6iIiMj1G/5mLDhg2sXr2ahx56iKNHj/Lss8+adQ888ABer5fCwsKY/Ww2G5YV+8/UXao+FjNnpo1p+ws5HNOilolOfYilnsRST2JNlp7EDYWPP/6YwcFB5syZww033IDL5cLn8zF9+nQz7WNZFna7nfT0dHp6esy+wWAQp9MZU+/u7sbpdDJjxgxCoRCRSITk5GRTH4ve3tAV/duo3d1fRi0TmcMxTX24gHoSSz2JNZF6kpRku+TNdNzpozNnzlBZWcng4CCDg4O8+eab/OhHP2LHjh188cUXDA0NsX//fhYtWsS8efPo6Ojg9OnTRCIRmpqayMvLIyMjg9TUVFpbWwHwer3k5eWRkpJCbm4uPp8vqi4iIuMj7pNCfn4+J06cYOnSpSQnJ+NyuXjkkUe48cYbWbFiBcPDw7hcLoqKigCoqalh/fr1DAwMkJ+fb6aUamtrqaysJBwOk52dTVlZGQDV1dWUl5ezZ88eZs+eza5du67hcEVE5FJs1sUm9ieQK5k+WlXzFs+X322WiW4iPQJfL+pJLPUk1kTqyRVPH4mISOJQKIiIiKFQEBERQ6EgIiKGQkFERAyFgoiIGAoFERExFAoiImIoFERExFAoiIiIoVAQERFDoSAiIoZCQUREDIWCiIgYCgURETEUCiIiYigURETEUCiIiIihUBAREWNUofDrX/+aJUuW4Ha7eeGFFwBoaWnB4/Hgcrmoq6sz27a3t7Ns2TIKCgrYsmULw8PDAHR1dVFaWkphYSHr1q0jHA4DcP78edasWcPixYspLS2lu7v7ao9RRERGKW4oHDt2jPfee4/XXnuNV199lZdeeokPP/yQiooK6uvr8fl8tLW10dzcDMDGjRupqqri8OHDWJZFQ0MDAFu3bmXlypX4/X7mzp1LfX09AE8//TS5ubkcOnSI++67j+3bt1/D4YqIyKXEDYU777yTF198EbvdTm9vL5FIhPPnz5OVlUVmZiZ2ux2Px4Pf7+fs2bP09/eTk5MDQElJCX6/n6GhIY4fP05BQUFUHeDtt9/G4/EAUFRUxDvvvMPQ0NA1Gq6IiFzKqKaPUlJS2L17N263mwULFhAMBnE4HGa90+kkEAjE1B0OB4FAgL6+PtLS0rDb7VF1IGofu91OWloa586du2oDFBGR0bOPdsMNGzawevVqHnroITo7O2PW22w2LMsaU/2bJCWN/vvvmTPTRr3txTgc06KWiU59iKWexFJPYk2WnsQNhY8//pjBwUHmzJnDDTfcgMvlwu/3k5ycbLYJBoM4nU7S09Pp6ekx9e7ubpxOJzNmzCAUChGJREhOTjZ1+Popo6enh1mzZjE8PEwoFGL69OmjHkBvb4iRkdjQGa3u7i+jlonM4ZimPlxAPYmlnsSaSD1JSrJd8mY67i35mTNnqKysZHBwkMHBQd58802WL19OR0cHp0+fJhKJ0NTURF5eHhkZGaSmptLa2gqA1+slLy+PlJQUcnNz8fl8UXWA/Px8vF4vAD6fj9zcXFJSUq503CIichniPink5+dz4sQJli5dSnJyMi6XC7fbzYwZM1i/fj0DAwPk5+dTWFgIQG1tLZWVlYTDYbKzsykrKwOgurqa8vJy9uzZw+zZs9m1axcAjz76KOXl5bjdbqZNm0Ztbe01HK6IiFyKzbrYhP8EciXTR6tq3uL58rvNMtFNpEfg60U9iaWexJpIPbni6SMREUkcCgURETEUCiIiYigURETEUCiIiIihUBAREUOhICIihkJBREQMhYKIiBgKBRERMRQKIiJiKBRERMRQKIiIiKFQEBERQ6EgIiKGQkFERAyFgoiIGAoFERExFAoiImKMKhSeeeYZ3G43brebnTt3ArB582ZcLhfFxcUUFxdz5MgRAFpaWvB4PLhcLurq6swx2tvbWbZsGQUFBWzZsoXh4WEAurq6KC0tpbCwkHXr1hEOh6/2GEVEZJTihkJLSwvvvvsuBw8exOv18sEHH3DkyBHa2trYt28fjY2NNDY2smjRIvr7+6moqKC+vh6fz0dbWxvNzc0AbNy4kaqqKg4fPoxlWTQ0NACwdetWVq5cid/vZ+7cudTX11/bEYuIyDeKGwoOh4Py8nKmTJlCSkoKN998M11dXXR1dVFVVYXH42H37t2MjIxw8uRJsrKyyMzMxG634/F48Pv9nD17lv7+fnJycgAoKSnB7/czNDTE8ePHKSgoiKqLiMj4sMfb4NZbbzX/39nZic/n45VXXuHYsWNs27aNqVOnsnbtWg4cOMDUqVNxOBxme6fTSSAQIBgMRtUdDgeBQIC+vj7S0tKw2+1RdRERGR9xQ+HfTp06xdq1a9m0aRP/9V//xbPPPmvWPfDAA3i9XgoLC2P2s9lsWJY1pvpYzJyZNqbtL+RwTItaJjr1IZZ6Eks9iTVZejKqUGhtbWXDhg1UVFTgdrv56KOP6OzsNNM+lmVht9tJT0+np6fH7BcMBnE6nTH17u5unE4nM2bMIBQKEYlESE5ONvWx6O0NMTISGy6j1d39ZdQykTkc09SHC6gnsdSTWBOpJ0lJtkveTMf9TuGzzz7j4Ycfpra2FrfbDXwdAjt27OCLL75gaGiI/fv3s2jRIubNm0dHRwenT58mEonQ1NREXl4eGRkZpKam0traCoDX6yUvL4+UlBRyc3Px+XxRdRERGR9xnxT27t3LwMAANTU1prZ8+XLWrFnDihUrGB4exuVyUVRUBEBNTQ3r169nYGCA/Px8M6VUW1tLZWUl4XCY7OxsysrKAKiurqa8vJw9e/Ywe/Zsdu3adS3GKSIio2CzLjaxP4FcyfTRqpq3eL78brNMdBPpEfh6UU9iqSexJlJPrnj6SEREEodCQUREDIWCiIgYCgURETEUCiIiYigURETEUCiIiIihUBAREUOhICIihkJBREQMhYKIiBgKBRERMRQKIiJiKBRERMRQKIiIiKFQEBERQ6EgIiKGQkFERAyFgoiIGKMKhWeeeQa3243b7Wbnzp0AtLS04PF4cLlc1NXVmW3b29tZtmwZBQUFbNmyheHhYQC6urooLS2lsLCQdevWEQ6HATh//jxr1qxh8eLFlJaW0t3dfbXHKCIioxQ3FFpaWnj33Xc5ePAgXq+XDz74gKamJioqKqivr8fn89HW1kZzczMAGzdupKqqisOHD2NZFg0NDQBs3bqVlStX4vf7mTt3LvX19QA8/fTT5ObmcujQIe677z62b99+DYcrIiKXEjcUHA4H5eXlTJkyhZSUFG6++WY6OzvJysoiMzMTu92Ox+PB7/dz9uxZ+vv7ycnJAaCkpAS/38/Q0BDHjx+noKAgqg7w9ttv4/F4ACgqKuKdd95haGjoGg1XREQuJW4o3HrrreYP+c7OTnw+HzabDYfDYbZxOp0EAgGCwWBU3eFwEAgE6OvrIy0tDbvdHlUHovax2+2kpaVx7ty5qzZAEREZPftoNzx16hRr165l06ZN2O12Ojo6otbbbDYsy4rZ71L1b5KUNPrvv2fOTBv1thfjcEyLWiY69SGWehJLPYk1WXoyqlBobW1lw4YNVFRU4Ha7OXbsGD09PWZ9MBjE6XSSnp4eVe/u7sbpdDJjxgxCoRCRSITk5GRTh6+fMnp6epg1axbDw8OEQiGmT58+6gH09oYYGYkNndHq7v4yapnIHI5p6sMF1JNY6kmsidSTpCTbJW+m496Sf/bZZzz88MPU1tbidrsBmDdvHh0dHZw+fZpIJEJTUxN5eXlkZGSQmppKa2srAF6vl7y8PFJSUsjNzcXn80XVAfLz8/F6vQD4fD5yc3NJSUm5okGLiMjlifuksHfvXgYGBqipqTG15cuXU1NTw/r16xkYGCA/P5/CwkIAamtrqaysJBwOk52dTVlZGQDV1dWUl5ezZ88eZs+eza5duwB49NFHKS8vx+12M23aNGpra6/FOEVEZBRs1sUm/CeQK5k+WlXzFs+X322WiW4iPQJfL+pJLPUk1kTqyRVPH4mISOJQKIiIiKFQEBERQ6EgIiKGQkFERAyFgoiIGAoFERExFAoiImIoFERExFAoiIiIoVAQERFDoSAiIoZCQUREDIWCiIgYCgURETEUCiIiYigURETEUCiIiIihUBAREWPUoRAKhSgqKuLMmTMAbN68GZfLRXFxMcXFxRw5cgSAlpYWPB4PLpeLuro6s397ezvLli2joKCALVu2MDw8DEBXVxelpaUUFhaybt06wuHw1RyfiIiMwahC4cSJE6xYsYLOzk5Ta2trY9++fTQ2NtLY2MiiRYvo7++noqKC+vp6fD4fbW1tNDc3A7Bx40aqqqo4fPgwlmXR0NAAwNatW1m5ciV+v5+5c+dSX19/9UcpIiKjMqpQaGhooLq6GqfTCcC//vUvurq6qKqqwuPxsHv3bkZGRjh58iRZWVlkZmZit9vxeDz4/X7Onj1Lf38/OTk5AJSUlOD3+xkaGuL48eMUFBRE1UVEZHzYR7PR9u3boz739vYyf/58tm3bxtSpU1m7di0HDhxg6tSpOBwOs53T6SQQCBAMBqPqDoeDQCBAX18faWlp2O32qLqIiIyPUYXChTIzM3n22WfN5wceeACv10thYWHMtjabDcuyxlQfi5kz08a0/YUcjmlRy0SnPsRST2KpJ7EmS08uKxQ++ugjOjs7zbSPZVnY7XbS09Pp6ekx2wWDQZxOZ0y9u7sbp9PJjBkzCIVCRCIRkpOTTX0sentDjIzEhstodXd/GbVMZA7HNPXhAupJLPUk1kTqSVKS7ZI305f1K6mWZbFjxw6++OILhoaG2L9/P4sWLWLevHl0dHRw+vRpIpEITU1N5OXlkZGRQWpqKq2trQB4vV7y8vJISUkhNzcXn88XVRcRkfFxWU8Kt912G2vWrGHFihUMDw/jcrkoKioCoKamhvXr1zMwMEB+fr6ZUqqtraWyspJwOEx2djZlZWUAVFdXU15ezp49e5g9eza7du26SkMTEZGxslkXm9ifQK5k+mhVzVs8X363WSa6ifQIfL2oJ7HUk1gTqSfXZPpIREQmJ4WCiIgYCgURETEUCiIiYigURETEUCiIiIihUBAREUOhICIihkJBREQMhYKIiBgKBRERMRQKIiJiKBRERMRQKIiIiKFQEBERQ6EgIiKGQkFERAyFgoiIGAoFERExFAoiImKMKhRCoRBFRUWcOXMGgJaWFjweDy6Xi7q6OrNde3s7y5Yto6CggC1btjA8PAxAV1cXpaWlFBYWsm7dOsLhMADnz59nzZo1LF68mNLSUrq7u6/2+EREZAzihsKJEydYsWIFnZ2dAPT391NRUUF9fT0+n4+2tjaam5sB2LhxI1VVVRw+fBjLsmhoaABg69atrFy5Er/fz9y5c6mvrwfg6aefJjc3l0OHDnHfffexffv2azRMEREZjbih0NDQQHV1NU6nE4CTJ0+SlZVFZmYmdrsdj8eD3+/n7Nmz9Pf3k5OTA0BJSQl+v5+hoSGOHz9OQUFBVB3g7bffxuPxAFBUVMQ777zD0NDQtRiniIiMgj3eBhfevQeDQRwOh/nsdDoJBAIxdYfDQSAQoK+vj7S0NOx2e1T9wmPZ7XbS0tI4d+4c6enpox7AzJlpo972YhyOaVHLRKc+xFJPYqknsSZLT+KGwoUsy4qp2Wy2Mde/SVLS2L777u0NMTIS+zNGq7v7y6hlInM4pqkPF1BPYqknsSZST5KSbJe8mR7zbx+lp6fT09NjPgeDQZxOZ0y9u7sbp9PJjBkzCIVCRCKRqDp8/ZTx732Gh4cJhUJMnz59rKckIiJXyZhDYd68eXR0dHD69GkikQhNTU3k5eWRkZFBamoqra2tAHi9XvLy8khJSSE3NxefzxdVB8jPz8fr9QLg8/nIzc0lJSXlKg1NRETGaszTR6mpqdTU1LB+/XoGBgbIz8+nsLAQgNraWiorKwmHw2RnZ1NWVgZAdXU15eXl7Nmzh9mzZ7Nr1y4AHn30UcrLy3G73UybNo3a2tqrODQRERkrm3WxSf8J5Eq+U1hV8xbPl99tloluIs2LXi/qSSz1JNZE6slV/05BREQmL4WCiIgYCgURETEUCiIiYigURETEUCiIiIihUBAREUOhICIihkJBREQMhYKIiBgKBRERMRQKIiJiKBRERMRQKIiIiKFQEBERQ6EgIiKGQkFERAyFgoiIGAoFEREx7Feyc1lZGb29vdjtXx9m27Zt/POf/2TPnj0MDQ3x4IMPUlpaCkBLSwtPPvkkAwMDLF68mMceewyA9vZ2KisrCYVC5ObmsnXrVnM8ERG5vi77ScGyLD755BMaGxvNf7NmzaKuro5XXnmFxsZG9u/fzz/+8Q/6+/upqKigvr4en89HW1sbzc3NAGzcuJGqqioOHz6MZVk0NDRctcGJiMjYXHYofPLJJ9hsNlavXs1PfvIT9u3bR0tLC/Pnz2f69OlMnTqVgoIC/H4/J0+eJCsri8zMTOx2Ox6PB7/fz9mzZ+nv7ycnJweAkpIS/H7/1RqbiIiM0WXP05w/f54FCxbwxBNP0N/fT1lZGYsXL8bhcJhtnE4nJ0+eJBgMxtQDgUBM3eFwEAgExnQeM2emXe4Q/v/PnBa1THTqQyz1JJZ6Emuy9OSyQ+GOO+7gjjvuAGDq1Knce++9PPnkkzz00ENR29lsNizLitn/UvWx6O0NMTISe5zR6u7+MmqZyByOaerDBdSTWOpJrInUk6Qk2yVvpi97+uj999/n6NGj5rNlWWRkZNDT02NqwWAQp9NJenr6qOrd3d04nc7LPSUREblClx0KX375JTt37mRgYIBQKMTBgwd56qmnOHr0KOfOneOrr77ijTfeIC8vj3nz5tHR0cHp06eJRCI0NTWRl5dHRkYGqamptLa2AuD1esnLy7tqgxMRkbG57OmjhQsXcuLECZYuXcrIyAgrV67khz/8IY899hhlZWUMDQ1x7733cvvttwNQU1PD+vXrGRgYID8/n8LCQgBqa2uprKwkHA6TnZ1NWVnZ1RmZiIiMmc262MT+BHIl3ymsqnmL58vvNstEN5HmRa8X9SSWehJrIvXkmn2nICIik49CQUREDIWCiIgYCgURETEUCiIiYigURETEUCiIiIihUBAREUOhICIihkJBREQMhYKIiBgKBRERMRQKIiJiKBRERMRQKIiIiKFQEBERQ6EgIiKGQkFERAyFgoiIGN+KUHj99ddZsmQJixYt4uWXXx7v0xERSVj28T6BQCBAXV0df/jDH5gyZQrLly/nrrvu4pZbbhnvUxMRSTjjHgotLS3Mnz+f6dOnA1BQUIDf7+eRRx4Z1f5JSbbL/tnOG28gKcnG/8qcTvl/H+XGtFQ2P/DDyz7eZHAl/Zys1JNY6kmsidKTeOc57qEQDAZxOBzms9Pp5OTJk6Pe/8Ybv3vZP3tvpQuA2v+Tf9nHmGxmzkwb71P41lFPYqknsSZLT8b9OwXLsmJqNtvESFwRkclm3EMhPT2dnp4e8zkYDOJ0OsfxjEREEte4h8KPf/xjjh49yrlz5/jqq6944403yMvLG+/TEhFJSOP+nUJ6ejqPPfYYZWVlDA0Nce+993L77beP92mJiCQkm3WxSX0REUlI4z59JCIi3x4KBRERMRQKIiJiKBRERMSY9KEQ72V77e3tLFu2jIKCArZs2cLw8PA4nOX1Fa8nzzzzDAsXLqS4uJji4uKEeUlhKBSiqKiIM2fOxKxLxOsELt2TRLxOnnnmGdxuN263m507d8asnxTXiTWJff7559bChQutvr4+KxwOWx6Pxzp16lTUNm632/rrX/9qWZZlbd682Xr55ZfH4Uyvn9H0ZO3atdZf/vKXcTrD8fG3v/3NKioqsn7wgx9Yn376acz6RLtOLCt+TxLtOvnTn/5k/fSnP7UGBgaswcFBq6yszHrjjTeitpkM18mkflL4z5ftTZ061bxs79/Onj1Lf38/OTk5AJSUlEStn4zi9QSgra2N5557Do/Hw7Zt2xgYGBins71+GhoaqK6uvujfpk/E6wQu3RNIvOvE4XBQXl7OlClTSElJ4eabb6arq8usnyzXyaQOhYu9bC8QCHzjeofDEbV+MorXk3A4zJw5c9i0aRMHDx7k/Pnz1NfXj8epXlfbt28nNzf3ousS8TqBS/ckEa+TW2+91fyB39nZic/nIz//f16mOVmuk0kdClacl+3FWz8ZxRvzd7/7XZ577jmysrKw2+2sWrWK5ubm63mK3zqJeJ3Ek8jXyalTp1i1ahWbNm3ipptuMvXJcp1M6lCI97K9C9d3d3dP+pfxxetJV1cXBw4cMJ8ty8JuH/e3oYyrRLxO4knU66S1tZUHH3yQxx9/nHvuuSdq3WS5TiZ1KMR72V5GRgapqam0trYC4PV6J/3L+OL15Dvf+Q5PPfUUn376KZZl8fLLL7No0aJxPOPxl4jXSTyJeJ189tlnPPzww9TW1uJ2u2PWT5brZFKHwn++bG/p0qUUFRVx++23s3r1av7+978DUFtby5NPPsnixYv56quvKCsrG+ezvrbi9WTGjBls27aNdevWUVhYiGVZ/PznPx/v0x4XiXydfJNEvk727t3LwMAANTU15tdwf/vb306660QvxBMREWNSPymIiMjYKBRERMRQKIiIiKFQEBERQ6EgIjLBXOpFhf+pubkZj8eDx+Ph8ccfJxwOxz22QkFEZAI5ceIEK1asoLOz85LbnT9/nvLycurq6nj99de57bbbqKuri3t8hYKIyARysRcVer1e7rnnHoqLi6moqGBgYIDOzk6+//3vc8sttwCwcOFC/vjHP8Y9vkJBRGQCufBFhadOnaKhoYHf/e53NDY2MnPmTPbu3ctNN93E559/zocffgjAoUOHol7D8U0m/8tKREQmsT//+c+cPn2a+++/H4ChoSGys7P53ve+x69+9SuqqqoYGRnh/vvvJyUlJe7xFAoiIhNYJBJh8eLFVFZWAl+/1jwSiRCJRJg1axa///3vAfjggw/IzMyMezxNH4mITGB33XUXR44cobe3F8uyeOKJJ/jNb36DzWZj1apVBAIBLMvi+eefZ8mSJXGPpycFEZEJ7LbbbuORRx7hZz/7GSMjI8yZM4c1a9aQlJTEtm3b+OUvf8ng4CALFizgF7/4Rdzj6YV4IiJiaPpIREQMhYKIiBgKBRERMRQKIiJiKBRERMRQKIiIiKFQEBERQ6EgIiLG/wOtHmJ/qoCIMAAAAABJRU5ErkJggg==\n",
      "text/plain": [
       "<Figure size 432x288 with 1 Axes>"
      ]
     },
     "metadata": {},
     "output_type": "display_data"
    }
   ],
   "source": [
    "plt.hist(new_df['SALE PRICE'], bins = 150 , histtype = 'step' )"
   ]
  },
  {
   "cell_type": "markdown",
   "id": "settled-absence",
   "metadata": {},
   "source": [
    "As seen the distrubution is all messed up due to outlier, we remove these, including only values within three standard deviations of the mean"
   ]
  },
  {
   "cell_type": "code",
<<<<<<< HEAD
   "execution_count": 33,
   "id": "unknown-printing",
   "metadata": {},
   "outputs": [],
   "source": [
    "new_df = new_df[new_df['SALE PRICE'] > (np.mean(new_df['SALE PRICE'])-\n",
    "                                          np.std(new_df['SALE PRICE'], \n",
    "                                                 ddof = 1))]\n",
    "new_df = new_df[new_df['SALE PRICE'] < np.mean(new_df['SALE PRICE'])+ \n",
    "                                         np.std(new_df['SALE PRICE'], \n",
    "\n",
    "                                                ddof = 1)]"
   ]
  },
  {
   "cell_type": "code",
   "execution_count": 34,
   "id": "regulation-stewart",
   "metadata": {},
   "outputs": [
    {
     "data": {
      "text/plain": [
       "(array([1.439e+03, 2.157e+03, 3.202e+03, 4.445e+03, 5.138e+03, 4.054e+03,\n",
       "        3.349e+03, 2.641e+03, 2.245e+03, 1.203e+03, 9.080e+02, 9.150e+02,\n",
       "        6.690e+02, 5.500e+02, 4.440e+02, 3.110e+02, 2.530e+02, 2.130e+02,\n",
       "        1.790e+02, 2.270e+02, 1.420e+02, 1.330e+02, 1.450e+02, 1.300e+02,\n",
       "        9.500e+01, 6.800e+01, 6.100e+01, 7.600e+01, 7.100e+01, 7.600e+01,\n",
       "        4.500e+01, 6.300e+01, 4.500e+01, 5.700e+01, 5.000e+01, 3.400e+01,\n",
       "        4.200e+01, 2.200e+01, 3.100e+01, 2.800e+01, 3.600e+01, 2.100e+01,\n",
       "        1.700e+01, 1.300e+01, 1.500e+01, 4.700e+01, 2.100e+01, 2.800e+01,\n",
       "        2.100e+01, 2.800e+01, 1.500e+01, 2.000e+01, 2.100e+01, 1.700e+01,\n",
       "        2.600e+01, 1.400e+01, 9.000e+00, 9.000e+00, 2.000e+01, 1.300e+01,\n",
       "        8.000e+00, 2.400e+01, 5.000e+00, 2.400e+01, 9.000e+00, 1.700e+01,\n",
       "        1.300e+01, 1.900e+01, 9.000e+00, 9.000e+00, 9.000e+00, 7.000e+00,\n",
       "        1.600e+01, 6.000e+00, 7.000e+00, 8.000e+00, 1.000e+01, 5.000e+00,\n",
       "        6.000e+00, 7.000e+00, 8.000e+00, 1.300e+01, 6.000e+00, 9.000e+00,\n",
       "        1.000e+01, 1.500e+01, 4.000e+00, 0.000e+00, 5.000e+00, 1.100e+01,\n",
       "        1.500e+01, 6.000e+00, 9.000e+00, 7.000e+00, 3.000e+00, 1.400e+01,\n",
       "        5.000e+00, 6.000e+00, 2.000e+00, 1.200e+01, 6.000e+00, 7.000e+00,\n",
       "        6.000e+00, 4.000e+00, 8.000e+00, 7.000e+00, 6.000e+00, 4.000e+00,\n",
       "        9.000e+00, 4.000e+00, 5.000e+00, 4.000e+00, 3.000e+00, 1.200e+01,\n",
       "        1.000e+00, 4.000e+00, 5.000e+00, 8.000e+00, 1.000e+00, 4.000e+00,\n",
       "        1.000e+00, 1.000e+00, 7.000e+00, 3.000e+00, 0.000e+00, 1.000e+00,\n",
       "        1.100e+01, 2.000e+00, 3.000e+00, 2.000e+00, 0.000e+00, 7.000e+00,\n",
       "        1.000e+00, 3.000e+00, 3.000e+00, 1.200e+01, 2.000e+00, 3.000e+00,\n",
       "        3.000e+00, 1.000e+00, 4.000e+00, 1.000e+00, 5.000e+00, 0.000e+00,\n",
       "        5.000e+00, 0.000e+00, 2.000e+00, 2.000e+00, 0.000e+00, 4.000e+00]),\n",
       " array([1.00000000e+02, 1.10599333e+05, 2.21098667e+05, 3.31598000e+05,\n",
       "        4.42097333e+05, 5.52596667e+05, 6.63096000e+05, 7.73595333e+05,\n",
       "        8.84094667e+05, 9.94594000e+05, 1.10509333e+06, 1.21559267e+06,\n",
       "        1.32609200e+06, 1.43659133e+06, 1.54709067e+06, 1.65759000e+06,\n",
       "        1.76808933e+06, 1.87858867e+06, 1.98908800e+06, 2.09958733e+06,\n",
       "        2.21008667e+06, 2.32058600e+06, 2.43108533e+06, 2.54158467e+06,\n",
       "        2.65208400e+06, 2.76258333e+06, 2.87308267e+06, 2.98358200e+06,\n",
       "        3.09408133e+06, 3.20458067e+06, 3.31508000e+06, 3.42557933e+06,\n",
       "        3.53607867e+06, 3.64657800e+06, 3.75707733e+06, 3.86757667e+06,\n",
       "        3.97807600e+06, 4.08857533e+06, 4.19907467e+06, 4.30957400e+06,\n",
       "        4.42007333e+06, 4.53057267e+06, 4.64107200e+06, 4.75157133e+06,\n",
       "        4.86207067e+06, 4.97257000e+06, 5.08306933e+06, 5.19356867e+06,\n",
       "        5.30406800e+06, 5.41456733e+06, 5.52506667e+06, 5.63556600e+06,\n",
       "        5.74606533e+06, 5.85656467e+06, 5.96706400e+06, 6.07756333e+06,\n",
       "        6.18806267e+06, 6.29856200e+06, 6.40906133e+06, 6.51956067e+06,\n",
       "        6.63006000e+06, 6.74055933e+06, 6.85105867e+06, 6.96155800e+06,\n",
       "        7.07205733e+06, 7.18255667e+06, 7.29305600e+06, 7.40355533e+06,\n",
       "        7.51405467e+06, 7.62455400e+06, 7.73505333e+06, 7.84555267e+06,\n",
       "        7.95605200e+06, 8.06655133e+06, 8.17705067e+06, 8.28755000e+06,\n",
       "        8.39804933e+06, 8.50854867e+06, 8.61904800e+06, 8.72954733e+06,\n",
       "        8.84004667e+06, 8.95054600e+06, 9.06104533e+06, 9.17154467e+06,\n",
       "        9.28204400e+06, 9.39254333e+06, 9.50304267e+06, 9.61354200e+06,\n",
       "        9.72404133e+06, 9.83454067e+06, 9.94504000e+06, 1.00555393e+07,\n",
       "        1.01660387e+07, 1.02765380e+07, 1.03870373e+07, 1.04975367e+07,\n",
       "        1.06080360e+07, 1.07185353e+07, 1.08290347e+07, 1.09395340e+07,\n",
       "        1.10500333e+07, 1.11605327e+07, 1.12710320e+07, 1.13815313e+07,\n",
       "        1.14920307e+07, 1.16025300e+07, 1.17130293e+07, 1.18235287e+07,\n",
       "        1.19340280e+07, 1.20445273e+07, 1.21550267e+07, 1.22655260e+07,\n",
       "        1.23760253e+07, 1.24865247e+07, 1.25970240e+07, 1.27075233e+07,\n",
       "        1.28180227e+07, 1.29285220e+07, 1.30390213e+07, 1.31495207e+07,\n",
       "        1.32600200e+07, 1.33705193e+07, 1.34810187e+07, 1.35915180e+07,\n",
       "        1.37020173e+07, 1.38125167e+07, 1.39230160e+07, 1.40335153e+07,\n",
       "        1.41440147e+07, 1.42545140e+07, 1.43650133e+07, 1.44755127e+07,\n",
       "        1.45860120e+07, 1.46965113e+07, 1.48070107e+07, 1.49175100e+07,\n",
       "        1.50280093e+07, 1.51385087e+07, 1.52490080e+07, 1.53595073e+07,\n",
       "        1.54700067e+07, 1.55805060e+07, 1.56910053e+07, 1.58015047e+07,\n",
       "        1.59120040e+07, 1.60225033e+07, 1.61330027e+07, 1.62435020e+07,\n",
       "        1.63540013e+07, 1.64645007e+07, 1.65750000e+07]),\n",
       " [<matplotlib.patches.Polygon at 0x7fb5bbf9c2e0>])"
      ]
     },
     "execution_count": 34,
     "metadata": {},
     "output_type": "execute_result"
    },
    {
     "data": {
      "image/png": "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\n",
      "text/plain": [
       "<Figure size 432x288 with 1 Axes>"
      ]
     },
     "metadata": {},
     "output_type": "display_data"
    }
   ],
   "source": [
    "plt.hist(new_df['SALE PRICE'], bins = 150 , histtype = 'step' )"
   ]
  },
  {
   "cell_type": "markdown",
   "id": "impaired-philadelphia",
   "metadata": {},
   "source": [
    "we can see saleprice are almost have normal distrubution. There are still extreme values, but that is to be expected, some houses can be extremely costly, this is important to include for diversity in our models."
   ]
  },
  {
   "cell_type": "code",
   "execution_count": 35,
   "id": "living-impression",
   "metadata": {},
   "outputs": [
    {
     "name": "stdout",
     "output_type": "stream",
     "text": [
      "<class 'pandas.core.frame.DataFrame'>\n",
      "Int64Index: 36942 entries, 0 to 84547\n",
      "Data columns (total 12 columns):\n",
      " #   Column                          Non-Null Count  Dtype  \n",
      "---  ------                          --------------  -----  \n",
      " 0   NEIGHBORHOOD                    36942 non-null  object \n",
      " 1   BUILDING CLASS CATEGORY         36942 non-null  object \n",
      " 2   RESIDENTIAL UNITS               36942 non-null  float64\n",
      " 3   COMMERCIAL UNITS                36942 non-null  float64\n",
      " 4   TOTAL UNITS                     36942 non-null  float64\n",
      " 5   LAND SQUARE FEET                36942 non-null  object \n",
      " 6   GROSS SQUARE FEET               36942 non-null  object \n",
      " 7   YEAR BUILT                      36942 non-null  float64\n",
      " 8   TAX CLASS AT TIME OF SALE       36942 non-null  float64\n",
      " 9   BUILDING CLASS AT TIME OF SALE  36942 non-null  object \n",
      " 10  SALE PRICE                      36942 non-null  float64\n",
      " 11  SALE DATE                       36942 non-null  object \n",
      "dtypes: float64(6), object(6)\n",
      "memory usage: 3.7+ MB\n"
     ]
    }
   ],
   "source": [
    "new_df.info()"
   ]
  },
  {
   "cell_type": "code",
   "execution_count": 36,
   "id": "actual-conference",
   "metadata": {},
   "outputs": [
    {
     "data": {
      "text/plain": [
       "0        07 RENTALS - WALKUP APARTMENTS             \n",
       "3        07 RENTALS - WALKUP APARTMENTS             \n",
       "4        07 RENTALS - WALKUP APARTMENTS             \n",
       "6        07 RENTALS - WALKUP APARTMENTS             \n",
       "9        08 RENTALS - ELEVATOR APARTMENTS           \n",
       "                            ...                     \n",
       "84543    02 TWO FAMILY DWELLINGS                    \n",
       "84544    02 TWO FAMILY DWELLINGS                    \n",
       "84545    02 TWO FAMILY DWELLINGS                    \n",
       "84546    22 STORE BUILDINGS                         \n",
       "84547    35 INDOOR PUBLIC AND CULTURAL FACILITIES   \n",
       "Name: BUILDING CLASS CATEGORY, Length: 36942, dtype: object"
      ]
     },
     "execution_count": 36,
     "metadata": {},
     "output_type": "execute_result"
    }
   ],
   "source": [
    "new_df[\"BUILDING CLASS CATEGORY\"]"
   ]
  },
  {
   "cell_type": "code",
   "execution_count": 37,
   "id": "relative-version",
   "metadata": {},
   "outputs": [],
   "source": [
    "BuildingClass_list = new_df[\"BUILDING CLASS CATEGORY\"].tolist()\n",
    "numerical_list = []\n",
    "for i in range(len(BuildingClass_list)):\n",
    "    number = re.sub(r\"[^0-9]\", \"\", BuildingClass_list[i])\n",
    "    if len(number) > 2: number = number[:2]\n",
    "    number = re.sub(r\"\\b0\", \"\", number)\n",
    "    number = int(number)\n",
    "    numerical_list.append(number)\n",
    "    \n",
    "new_df[\"BUILDING CLASS CATEGORY\"] = numerical_list"
   ]
  },
  {
   "cell_type": "code",
   "execution_count": 38,
   "id": "british-popularity",
   "metadata": {},
   "outputs": [
    {
     "data": {
      "text/plain": [
       "1     12673\n",
       "2      9876\n",
       "10     2862\n",
       "13     2698\n",
       "3      2332\n",
       "7      1714\n",
       "15      781\n",
       "9       555\n",
       "4       548\n",
       "22      462\n",
       "12      376\n",
       "14      323\n",
       "5       243\n",
       "29      233\n",
       "44      176\n",
       "21      166\n",
       "30      155\n",
       "8       113\n",
       "27       98\n",
       "31       86\n",
       "26       77\n",
       "37       61\n",
       "41       40\n",
       "6        34\n",
       "43       33\n",
       "17       31\n",
       "47       29\n",
       "33       24\n",
       "32       22\n",
       "46       20\n",
       "23       17\n",
       "16       15\n",
       "35       14\n",
       "38       13\n",
       "48       11\n",
       "11       10\n",
       "49        9\n",
       "28        3\n",
       "36        2\n",
       "34        2\n",
       "42        2\n",
       "39        1\n",
       "45        1\n",
       "40        1\n",
       "Name: BUILDING CLASS CATEGORY, dtype: int64"
      ]
     },
     "execution_count": 38,
     "metadata": {},
     "output_type": "execute_result"
    }
   ],
   "source": [
    "new_df[\"BUILDING CLASS CATEGORY\"].value_counts()"
   ]
  },
  {
   "cell_type": "code",
   "execution_count": 39,
   "id": "disabled-syria",
   "metadata": {},
   "outputs": [
    {
     "name": "stdout",
     "output_type": "stream",
     "text": [
      "<class 'pandas.core.frame.DataFrame'>\n",
      "Int64Index: 36942 entries, 0 to 84547\n",
      "Data columns (total 12 columns):\n",
      " #   Column                          Non-Null Count  Dtype  \n",
      "---  ------                          --------------  -----  \n",
      " 0   NEIGHBORHOOD                    36942 non-null  object \n",
      " 1   BUILDING CLASS CATEGORY         36942 non-null  int64  \n",
      " 2   RESIDENTIAL UNITS               36942 non-null  float64\n",
      " 3   COMMERCIAL UNITS                36942 non-null  float64\n",
      " 4   TOTAL UNITS                     36942 non-null  float64\n",
      " 5   LAND SQUARE FEET                36942 non-null  object \n",
      " 6   GROSS SQUARE FEET               36942 non-null  object \n",
      " 7   YEAR BUILT                      36942 non-null  float64\n",
      " 8   TAX CLASS AT TIME OF SALE       36942 non-null  float64\n",
      " 9   BUILDING CLASS AT TIME OF SALE  36942 non-null  object \n",
      " 10  SALE PRICE                      36942 non-null  float64\n",
      " 11  SALE DATE                       36942 non-null  object \n",
      "dtypes: float64(6), int64(1), object(5)\n",
      "memory usage: 3.7+ MB\n"
     ]
    }
   ],
   "source": [
    "new_df.info()"
   ]
  },
  {
   "cell_type": "markdown",
   "id": "premier-decrease",
   "metadata": {},
   "source": [
    "Above we are removing off values, e.g "
   ]
  },
  {
   "cell_type": "code",
   "execution_count": 40,
   "id": "trying-glass",
   "metadata": {},
   "outputs": [],
   "source": [
    "new_df[\"LAND SQUARE FEET\"] = new_df[\"LAND SQUARE FEET\"].astype(float)"
   ]
  },
  {
   "cell_type": "code",
   "execution_count": 41,
   "id": "eligible-person",
   "metadata": {},
   "outputs": [],
   "source": [
    "new_df[\"GROSS SQUARE FEET\"] = new_df[\"GROSS SQUARE FEET\"].astype(float)"
   ]
  },
  {
   "cell_type": "code",
   "execution_count": 42,
   "id": "grand-league",
   "metadata": {},
   "outputs": [
    {
     "name": "stdout",
     "output_type": "stream",
     "text": [
      "<class 'pandas.core.frame.DataFrame'>\n",
      "Int64Index: 36942 entries, 0 to 84547\n",
      "Data columns (total 12 columns):\n",
      " #   Column                          Non-Null Count  Dtype  \n",
      "---  ------                          --------------  -----  \n",
      " 0   NEIGHBORHOOD                    36942 non-null  object \n",
      " 1   BUILDING CLASS CATEGORY         36942 non-null  int64  \n",
      " 2   RESIDENTIAL UNITS               36942 non-null  float64\n",
      " 3   COMMERCIAL UNITS                36942 non-null  float64\n",
      " 4   TOTAL UNITS                     36942 non-null  float64\n",
      " 5   LAND SQUARE FEET                36942 non-null  float64\n",
      " 6   GROSS SQUARE FEET               36942 non-null  float64\n",
      " 7   YEAR BUILT                      36942 non-null  float64\n",
      " 8   TAX CLASS AT TIME OF SALE       36942 non-null  float64\n",
      " 9   BUILDING CLASS AT TIME OF SALE  36942 non-null  object \n",
      " 10  SALE PRICE                      36942 non-null  float64\n",
      " 11  SALE DATE                       36942 non-null  object \n",
      "dtypes: float64(8), int64(1), object(3)\n",
      "memory usage: 3.7+ MB\n"
     ]
    }
   ],
   "source": [
    "new_df.info()"
   ]
  },
  {
   "cell_type": "code",
   "execution_count": 43,
   "id": "spectacular-refund",
   "metadata": {},
   "outputs": [],
   "source": [
    "new_df[\"SALE DATE\"] = pd.to_datetime(new_df[\"SALE DATE\"])"
   ]
  },
  {
   "cell_type": "code",
   "execution_count": 44,
   "id": "royal-russia",
   "metadata": {},
   "outputs": [
    {
     "data": {
      "text/plain": [
       "0       2017-07-19\n",
       "3       2016-09-23\n",
       "4       2016-11-17\n",
       "6       2016-09-23\n",
       "9       2016-11-07\n",
       "           ...    \n",
       "84543   2016-11-28\n",
       "84544   2017-04-21\n",
       "84545   2017-07-05\n",
       "84546   2016-12-21\n",
       "84547   2016-10-27\n",
       "Name: SALE DATE, Length: 36942, dtype: datetime64[ns]"
      ]
     },
     "execution_count": 44,
     "metadata": {},
     "output_type": "execute_result"
    }
   ],
   "source": [
    "new_df[\"SALE DATE\"]"
   ]
  },
  {
   "cell_type": "code",
   "execution_count": 45,
   "id": "specialized-process",
   "metadata": {},
   "outputs": [
    {
     "name": "stdout",
     "output_type": "stream",
     "text": [
      "<class 'pandas.core.frame.DataFrame'>\n",
      "Int64Index: 36942 entries, 0 to 84547\n",
      "Data columns (total 12 columns):\n",
      " #   Column                          Non-Null Count  Dtype         \n",
      "---  ------                          --------------  -----         \n",
      " 0   NEIGHBORHOOD                    36942 non-null  object        \n",
      " 1   BUILDING CLASS CATEGORY         36942 non-null  int64         \n",
      " 2   RESIDENTIAL UNITS               36942 non-null  float64       \n",
      " 3   COMMERCIAL UNITS                36942 non-null  float64       \n",
      " 4   TOTAL UNITS                     36942 non-null  float64       \n",
      " 5   LAND SQUARE FEET                36942 non-null  float64       \n",
      " 6   GROSS SQUARE FEET               36942 non-null  float64       \n",
      " 7   YEAR BUILT                      36942 non-null  float64       \n",
      " 8   TAX CLASS AT TIME OF SALE       36942 non-null  float64       \n",
      " 9   BUILDING CLASS AT TIME OF SALE  36942 non-null  object        \n",
      " 10  SALE PRICE                      36942 non-null  float64       \n",
      " 11  SALE DATE                       36942 non-null  datetime64[ns]\n",
      "dtypes: datetime64[ns](1), float64(8), int64(1), object(2)\n",
      "memory usage: 3.7+ MB\n"
     ]
    }
   ],
   "source": [
    "new_df.info()"
   ]
  },
  {
   "cell_type": "markdown",
   "id": "figured-organizer",
   "metadata": {},
   "source": [
    "### FACTORIZATION TIME"
   ]
  },
  {
   "cell_type": "code",
   "execution_count": 46,
   "id": "pleasant-accessory",
   "metadata": {},
   "outputs": [],
   "source": [
    "l = new_df[\"BUILDING CLASS AT TIME OF SALE\"].to_list()\n",
    "vectorizer = CountVectorizer()\n",
    "building_class = vectorizer.fit_transform(l).toarray()"
   ]
  },
  {
   "cell_type": "code",
   "execution_count": 47,
   "id": "working-ranch",
   "metadata": {},
   "outputs": [
    {
     "data": {
      "text/plain": [
       "142"
      ]
     },
     "execution_count": 47,
     "metadata": {},
     "output_type": "execute_result"
    }
   ],
   "source": [
    "len(building_class[0])"
   ]
  },
  {
   "cell_type": "code",
   "execution_count": 48,
   "id": "grateful-drain",
   "metadata": {},
   "outputs": [],
   "source": [
    "new_df[\"BUILDING CLASS AT TIME OF SALE\"] = building_class"
   ]
  },
  {
   "cell_type": "code",
   "execution_count": 49,
   "id": "subjective-caribbean",
   "metadata": {},
   "outputs": [
    {
     "data": {
      "text/plain": [
       "0    36659\n",
       "1      283\n",
       "Name: BUILDING CLASS AT TIME OF SALE, dtype: int64"
      ]
     },
     "execution_count": 49,
     "metadata": {},
     "output_type": "execute_result"
    }
   ],
   "source": [
    "new_df[\"BUILDING CLASS AT TIME OF SALE\"].value_counts()"
   ]
  },
  {
   "cell_type": "code",
   "execution_count": 50,
   "id": "cosmetic-peninsula",
   "metadata": {},
   "outputs": [
    {
     "data": {
      "text/plain": [
       "BEDFORD STUYVESANT          895\n",
       "FLUSHING-NORTH              778\n",
       "EAST NEW YORK               688\n",
       "SHEEPSHEAD BAY              659\n",
       "BOROUGH PARK                611\n",
       "                           ... \n",
       "FRESH KILLS                   2\n",
       "FINANCIAL                     2\n",
       "BRONX PARK                    1\n",
       "EAST RIVER                    1\n",
       "CITY ISLAND-PELHAM STRIP      1\n",
       "Name: NEIGHBORHOOD, Length: 247, dtype: int64"
      ]
     },
     "execution_count": 50,
     "metadata": {},
     "output_type": "execute_result"
    }
   ],
   "source": [
    "new_df[\"NEIGHBORHOOD\"].value_counts()"
   ]
  },
  {
   "cell_type": "code",
   "execution_count": 51,
   "id": "municipal-reconstruction",
   "metadata": {},
   "outputs": [],
   "source": [
    "l_1 = []\n",
    "\n",
    "for l in new_df[\"NEIGHBORHOOD\"]:\n",
    "    l = re.sub(\"[^a-zA-Z]+\", \"\", l)\n",
    "    l_1.append(l)\n",
    "new_df[\"NEIGHBORHOOD\"] = l_1"
   ]
  },
  {
   "cell_type": "code",
   "execution_count": 52,
   "id": "demographic-pastor",
   "metadata": {},
   "outputs": [
    {
     "data": {
      "text/plain": [
       "BEDFORDSTUYVESANT        895\n",
       "FLUSHINGNORTH            778\n",
       "EASTNEWYORK              688\n",
       "SHEEPSHEADBAY            659\n",
       "BOROUGHPARK              611\n",
       "                        ... \n",
       "FINANCIAL                  2\n",
       "FRESHKILLS                 2\n",
       "BRONXPARK                  1\n",
       "EASTRIVER                  1\n",
       "CITYISLANDPELHAMSTRIP      1\n",
       "Name: NEIGHBORHOOD, Length: 243, dtype: int64"
      ]
     },
     "execution_count": 52,
     "metadata": {},
     "output_type": "execute_result"
    }
   ],
   "source": [
    "new_df[\"NEIGHBORHOOD\"].value_counts()"
   ]
  },
  {
   "cell_type": "code",
   "execution_count": 53,
   "id": "injured-cream",
   "metadata": {},
   "outputs": [],
   "source": [
    "l = new_df[\"NEIGHBORHOOD\"].to_list()\n",
    "vectorizer = CountVectorizer(min_df = 5)\n",
    "neighboorhood = vectorizer.fit_transform(l).toarray()"
   ]
  },
  {
   "cell_type": "code",
   "execution_count": 54,
   "id": "lesbian-waters",
   "metadata": {},
   "outputs": [],
   "source": [
    "new_df[\"NEIGHBORHOOD\"] = neighboorhood"
   ]
  },
  {
   "cell_type": "code",
   "execution_count": 55,
   "id": "another-finding",
   "metadata": {},
   "outputs": [
    {
     "name": "stdout",
     "output_type": "stream",
     "text": [
      "<class 'pandas.core.frame.DataFrame'>\n",
      "Int64Index: 36942 entries, 0 to 84547\n",
      "Data columns (total 12 columns):\n",
      " #   Column                          Non-Null Count  Dtype         \n",
      "---  ------                          --------------  -----         \n",
      " 0   NEIGHBORHOOD                    36942 non-null  int64         \n",
      " 1   BUILDING CLASS CATEGORY         36942 non-null  int64         \n",
      " 2   RESIDENTIAL UNITS               36942 non-null  float64       \n",
      " 3   COMMERCIAL UNITS                36942 non-null  float64       \n",
      " 4   TOTAL UNITS                     36942 non-null  float64       \n",
      " 5   LAND SQUARE FEET                36942 non-null  float64       \n",
      " 6   GROSS SQUARE FEET               36942 non-null  float64       \n",
      " 7   YEAR BUILT                      36942 non-null  float64       \n",
      " 8   TAX CLASS AT TIME OF SALE       36942 non-null  float64       \n",
      " 9   BUILDING CLASS AT TIME OF SALE  36942 non-null  int64         \n",
      " 10  SALE PRICE                      36942 non-null  float64       \n",
      " 11  SALE DATE                       36942 non-null  datetime64[ns]\n",
      "dtypes: datetime64[ns](1), float64(8), int64(3)\n",
      "memory usage: 3.7 MB\n"
     ]
    }
   ],
   "source": [
    "new_df.info()"
   ]
  },
  {
   "cell_type": "code",
   "execution_count": 56,
   "id": "sharp-pharmacology",
   "metadata": {},
   "outputs": [
    {
     "data": {
      "image/png": "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\n",
      "text/plain": [
       "<Figure size 432x288 with 1 Axes>"
      ]
     },
     "metadata": {},
     "output_type": "display_data"
    },
    {
     "data": {
      "image/png": "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\n",
      "text/plain": [
       "<Figure size 432x288 with 1 Axes>"
      ]
     },
     "metadata": {},
     "output_type": "display_data"
    },
    {
     "data": {
      "image/png": "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\n",
      "text/plain": [
       "<Figure size 432x288 with 1 Axes>"
      ]
     },
     "metadata": {},
     "output_type": "display_data"
    },
    {
     "data": {
      "image/png": "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\n",
      "text/plain": [
       "<Figure size 432x288 with 1 Axes>"
      ]
     },
     "metadata": {},
     "output_type": "display_data"
    },
    {
     "data": {
      "image/png": "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\n",
      "text/plain": [
       "<Figure size 432x288 with 1 Axes>"
      ]
     },
     "metadata": {},
     "output_type": "display_data"
    },
    {
     "data": {
      "image/png": "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\n",
      "text/plain": [
       "<Figure size 432x288 with 1 Axes>"
      ]
     },
     "metadata": {},
     "output_type": "display_data"
    },
    {
     "data": {
      "image/png": "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\n",
      "text/plain": [
       "<Figure size 432x288 with 1 Axes>"
      ]
     },
     "metadata": {},
     "output_type": "display_data"
    },
    {
     "data": {
      "image/png": "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\n",
      "text/plain": [
       "<Figure size 432x288 with 1 Axes>"
      ]
     },
     "metadata": {},
     "output_type": "display_data"
    },
    {
     "data": {
      "image/png": "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\n",
      "text/plain": [
       "<Figure size 432x288 with 1 Axes>"
      ]
     },
     "metadata": {},
     "output_type": "display_data"
    },
    {
     "data": {
      "image/png": "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\n",
      "text/plain": [
       "<Figure size 432x288 with 1 Axes>"
      ]
     },
     "metadata": {},
     "output_type": "display_data"
    }
   ],
   "source": [
    "scatter_df = new_df.drop(['SALE PRICE', 'SALE DATE'], axis = 1) \n",
    "\n",
    "for col in scatter_df.columns:\n",
    "    plt.scatter(scatter_df[col], new_df['SALE PRICE'])\n",
    "    plt.ylabel('Sale price')\n",
    "    plt.xlabel(col)\n",
    "    plt.xscale('log')\n",
    "    plt.show()"
   ]
  },
  {
   "cell_type": "code",
   "execution_count": 57,
   "id": "severe-wheat",
   "metadata": {},
   "outputs": [
    {
     "data": {
      "text/plain": [
       "<AxesSubplot:>"
      ]
     },
     "execution_count": 57,
     "metadata": {},
     "output_type": "execute_result"
    },
    {
     "data": {
      "image/png": "iVBORw0KGgoAAAANSUhEUgAAAhcAAAGtCAYAAAClYFbGAAAAOXRFWHRTb2Z0d2FyZQBNYXRwbG90bGliIHZlcnNpb24zLjMuMywgaHR0cHM6Ly9tYXRwbG90bGliLm9yZy/Il7ecAAAACXBIWXMAAAsTAAALEwEAmpwYAACq2klEQVR4nOzdeVxU9frA8c+wuYMrlkpWWi4BqeFeargBirjlLprmjia5JIqRyuaeCmiU5pIJGcjigl7DtQwzNfe1a0GpqKCIoCwzvz/4cS7jIIIzY6jP+77mdWfOOfN8zxxpzjPfVaXRaDQIIYQQQhiIyb99AkIIIYR4vkhyIYQQQgiDkuRCCCGEEAYlyYUQQgghDEqSCyGEEEIYlCQXQgghhDAoSS6EEEKIF0B6ejrdu3cnKSlJZ9/Zs2fp06cPXbt2ZdasWeTk5OhVliQXQgghxHPu999/Z+DAgVy5cqXQ/dOmTWP27Nns3LkTjUbD999/r1d5klwIIYQQz6i0tDSSkpJ0HmlpaVrHff/99/j4+GBtba0T4++//+b+/fs0adIEgN69exMXF6fXeZnp9W4hXgDZN/8wavxB73gaNb4G40/CqzZyfGP/CjL2+T8PzJ/Cb9EsTa5R479sUs6o8QFCruj3ix9K9p2zbtM2goKCdLZ7eHgwceJE5bWfn98jYyQnJ1OjRg3ldY0aNbh+/Xqxz6EwklwIIYQQz6hhw4bRq1cvne2WlpbFjlHYKiAqlUqv85LkQgghhChN1MWvwbG0tCxRIlGYmjVrcvPmTeX1jRs3Cm0+KQnpcyGEEEKUJrk5xX8YQO3atSlTpgy//fYbAFFRUbRr106vmJJcCCGEEKWIRqMu9kMfo0aN4uTJkwAsWrSIgIAAnJ2dyczMxN3dXa/YKllyXYiiSYfOx5MOnc8/6dBZPIbo0JmVdLLYx1rUsdO7PGOQPhdCCCFEaaJnjURpIMlFKZSUlETHjh1Zs2YNbdu2VbY7Ojqyfv16nJycqFevntZ7+vXrx+DBgxk6dCgeHh60bNkSgB07drB69Wru3btHdnY2LVq0wMvLi0qVKpGQkEBQUBAbNmzQKtvd3Z34+HhWrFhBWFgY1atXR6PRoNFo+OSTT3j//fcByM7OJigoiB07dlCmTBnKlCnDiBEjcHFxAdB6P0BWVhZmZmZ8/vnnvPPOO6xYsQJAa7hUZGQkhw8fJjAwEIADBw6wfPly0tPTMTExoW3btnh6elKuXN4vkHv37rFo0SIOHjxIuXLlqFixIhMnTqR169YAzJgxg19++QUrKyvU6rz/YEeMGFFo72ohhCgVStChs7SS5KKUMjc3Z/bs2cTExFCxYkWtfdbW1kRHRz82RmxsLEFBQYSEhFCvXj00Gg0LFy5k1qxZLF++vFjnMWDAAOXmf/bsWUaMGMGhQ4cAmD17Ng8ePCAyMpKKFSuSmJjIqFGjyMrKomfPnjrvB1i7di2BgYFs3rz5sWUfOnQIHx8fVqxYwVtvvUVWVhaBgYGMHz+eNWvWADB27FgaNWrEtm3bsLCw4MyZM4wePZrFixcrCdakSZPo3bs3AImJiQwaNIiaNWvSpk2bYl0DIYR4qp6Dmgvp0FlKWVtb06ZNG+bPn//EMYKCgpg5c6ZSy6FSqfD09MTO7sna6O7evavUQiQmJrJz5078/PyU5MfGxgYvL69CJ3QBUKvVXLt2DSsrq2KVFxISgoeHB2+99RYAFhYWeHl5cenSJX777TcOHz7MP//8g5eXFxYWFgA0btyYcePGERISUmhMGxsb3N3d+e6770r02YUQ4mnR5OYU+1FaSc1FKTZjxgxcXV356aeftJpHkpOTcXNz0zp2wYIFNGjQQHl9+/Ztrly5goODg9Zx5ubmjBo1Snl96tQprVjZ2dlax4eFhbF7926ysrL4888/mTt3rvK+evXqUb58ea3jHRwcSExM5Pbt21rvT0tLQ61W06FDB/z9/XXi57tz5w6tWrUC4OTJk/j4+Oicf9OmTTl58iS5ubnY2trqTPbSvHlzFi9ezKO8+eabbNmy5ZH7hRDiX6V+9msuJLkoxSpWrMi8efOU5pF8xW0Wgf/NspaUlMSECRMASElJURalsbW1LbTPRb6CzRpJSUn069eP1157DZVKRW6ubrvgw8lJ/vtv3LjBsGHDeOutt7QmZ3m42SS/z0X+uRe2Ml9WVpayvzjnUJiyZcs+9hghhPhXSLOIMLZ33333iZpHKleujI2NDUePHgWgTp06REdHEx0djbm5eaE35cepU6cOTZs25fjx49jb23PlyhXu3Lmjdczx48exsbGhcuXKWttr1KiBr68vfn5+JCYmFqs8e3t7jh8/rrUtKyuLM2fOYGdnx9tvv82pU6d0konjx48X2fRz/vx5nQ6xQghRaqhzi/8opSS5eAbMmDGDgwcPkpycXKL3TZ48GV9fXy5fvqxsO3LkCLdv38bU1LTE55GWlsaZM2do3LgxtWrVwtXVlVmzZnHv3j0A/vrrLwICAvDw8Cj0/c2aNcPR0ZGFCxcWq7yJEyeycuVKTp8+DeTVSPj6+vL666/zzjvv4ODgQP369fH391cSjFOnTrFy5UrGjx9faMwrV67w3XffMXDgwJJ+fCGEeDo06uI/SilpFnkG5DePjBw5Eii8z0Xz5s3x9vbW2ta9e3fKly+Pt7c3GRkZZGdnU7t2bYKCgnj55Zf566+/Hlt2fp8IlUrFvXv3+OCDD5Rhnj4+Pnz55Zf07dsXExMTypQpw8cff6wMRS3MJ598gouLC0eOHHls2Q4ODsyfPx8/Pz/u3LlDTk4O7dq1IyQkRGnuCQoKYunSpXTv3h1TU1OsrKxYuHChMlIEYPny5axbtw6VSoWpqSmffvopzZo1e2z5QgjxryjFHTWLS2boFOIxZIbOx5MZOp9/MkNn8Rhihs4HJ3YW+9gy9l31Ls8YpOZCCCGEKEU0Rk6yngZJLoQQQojSpBT3pSguSS6EEEKI0kTmuRBCCCGEQUnNhRDPP2N3uPzut6VGjd+v2cdGjQ9gaWJh1PjZRv6yNUX1+IP0VFZV8uHfJfHNPz8bNf69sxFGjQ/g1H62UeN31RRv6YF/Xe7jJwIs7SS5EEIIIUoTaRYRQgghhEFJs4gQQgghDEpqLoQQQghhUJJcCCGEEMKQNNKhUwghhBAGJX0ujCMhIYGxY8fyyiuvoNFoyM7OpkePHowbNw6AoUOH4uHhobU41YwZM2jRogW9e/fW2t+gQQPOnz+vU4ajoyNly5bF3Nyc7OxsLC0tmTlzJvb29jplODo64urqiqenZ6HlAezYsYPVq1dz7949srOzadGiBV5eXlSqVEmn7OTkZBYsWMDZs2cxNTXl5ZdfxtvbGxsbGyIjIzl8+DCBgYGFXps9e/YwduxYIiIisLW1VbafO3cOf39/bt++TW5uLk2aNGHWrFmUL1+erKwsAgIC+PXXX1GpVFhaWvLpp58qn7Wg9PR0Fi9ezK+//oqpqSmWlpbMmDGDt956SznmwoULuLq6snz5crp27cr58+eZPn06AFevXqV8+fJYWVlhYWHB5s2bta51vsaNGxMQEADAmTNnWLp0KX/++ScANjY2eHl5Ub9+fSBvNdSgoCB27NhBmTJlKFOmDCNGjFAWSFuxYgVhYWFUr14dyFuW3czMjM8//xwzMzNGjRpFbGwsNWvWBOD+/fu4uroyc+ZM3n///UKvsxBC/GukWcR4bG1t2bBhAwD37t3DxcWFzp07KzccQwgNDaVOnToA7N27l1GjRrFjxw6qVq2qc+y6devo3Lmz1g09X2xsLEFBQYSEhFCvXj00Gg0LFy5k1qxZLF++XOvYjIwMhg4dyogRI1i4cCEqlYqYmBg+/PBDduzY8dhzjoyMpGvXroSFheHr66ts9/T0xN/fn6ZNm6JWq5kzZw7Lli3Dy8uLtWvXolariY2NRaVS8dtvvzF+/Hj27NmjdcNXq9WMGjWKli1bEhUVhZmZGb/88gujRo1i27ZtVKlSReccunbtSoMGDYiOjgZ0k67CrnVBV65cYcSIEcyfP5/27dsDsHv3bkaPHk1cXBwWFhbMnj2bBw8eEBkZScWKFUlMTGTUqFFkZWXRs2dPAAYMGMDEiROVuGvXriUwMJDNmzfTp08f5s2bR1BQEADLli3DwcFBEgshROn0HNRcGH+ZOwO4f/8+pqamhdYCGEqHDh2wt7dn69athe4fM2YMXl5eZGVl6ewLCgpi5syZ1KtXDwCVSoWnpyd2dnY6x27btg1ra2v69++vLBveo0cPpk6dWmjsglJSUjh06BDTp08nLi6O9PR0Zd/Nmze5f/8+ACYmJnh4eODs7Kzsy87OJjs7rx3vnXfewd/fH/VD2XFCQgLJyclMmjQJM7O8vLNVq1YEBAQox+bk5BATE4Onpydnzpwp1rLtRVm9ejW9e/dWEguATp06MXr0aNLT00lMTGTnzp34+flRsWJF4H81G/nJwsPUajXXrl3DyipvwpyPP/6Yixcv8uOPP3L27Fn+85//MGvWLL3OWwghjEatLv6jlCq1NRenTp3Czc0NtVrNX3/9hbOzM9bW1kYt84033uCPPwpfXtvV1ZWTJ08SHBys1Txy+/Ztrly5goODg9bx5ubmjBo1SifO2bNnC22OcHJyeuz5xcbG0rZtW+rUqYOtrS3R0dEMHjwYAC8vL8aNG4e1tTUtW7akY8eOdOjQAQB3d3fGjBlD69atadGiBa1bt6ZXr16UKVNGK/6ZM2ews7PDxEQ75yx449+7dy+1atXitddeo1OnToSFhSlNIkUZPXq0Vi2Ju7s7ffr04fjx43zyySc6xw8YMADIS3jq1atH+fLltfY7ODiQmJjI7du3AQgLC2P37t2kpaWhVqvp0KED/v7+AJQtWxY/Pz+8vLyoVq0a8+bNUxIVIYQodaTmwnjyb56xsbH8/PPP/P3334SGhgIov/gL0mg0OjfFklKpVJQtW/aR++fMmcPmzZs5depUoe8FSEpKws3NDTc3N9577z2uXr2qdZyJiQkajeaJzi8yMpLu3bsD4OLiQnh4uLKvd+/eHDx4kGnTpmFmZsaMGTPw8/MDoE6dOmzdupVvvvmGt99+m6ioKNzc3EhLSyvxuT18Dlu2bHlsjQvkNYtER0crjz59+ij7Cv57Dh8+HDc3NxwdHdm+fTsqlYrcXN3lh/NrYfINGDCA6Ohovv/+eypUqMBbb72llYw6ODjg4ODAq6++SuvWrR97vkII8a/JySn+owRiY2OVLgYbN27U2X/69Gn69OlDjx49GDNmjM49oiRKbXJRUIUKFejUqRNHjx4FwMrKirt372odc+vWLSwtLfUq5/z580rTRmFq1KjBjBkz8PLyUm5ulStXxsbGRjm3OnXqKDdQc3NznRujra1tocnJrFmzuHjx4iPLPnPmDBcuXMDPzw9HR0eCg4O5ePEix44d48qVKwQHB1OxYkU6d+6Mj48PYWFhbN68GYAlS5aQnJyMvb09Y8eOJTIyEmtra3766Sedcztz5oxOgrFkyRJ++eUXbt26xf79+1mzZg2Ojo54e3uTlpbGrl27iriqRbOzs1OuHeT1lYiOjqZFixbcv38fe3t7rly5wp07d7Ted/z4cWxsbKhcubLW9ho1auDr64ufnx+JiYla+2rVqkXt2rWf+FyFEOKp0KiL/yim69evs3TpUr777juio6MJDw/n0qVLWsf4+fkxadIkYmJieO2111i9evUTf4RnIrnIzc3l8OHDNG7cGMjrBxAVFUXO/2dtly9f5tSpUzRp0uSJy4iPj+fs2bNKP4VH6dGjBzY2NuzcuVPZNnnyZHx9fbl8+bKy7ciRI9y+fRtTU+3FipycnPj777+VGz9AREQEhw8fpm7duo8sNzIykn79+rF3717i4+PZt28fbm5uhIeHU7VqVdavX8+hQ4eU4y9dukSjRo2AvD+q4OBgpYbh9u3bpKam8uabb2qV4eDgQLVq1QgKClKSogMHDhAZGUn9+vWJiYmhVatW7N+/n/j4eGXkSsEalJIaPXo0ERER7Nu3T9mWmJjIuXPnMDExoVatWri6ujJr1izu3bsHwF9//UVAQAAeHh6FxmzWrBmOjo4sXLjwic9LCCH+NUboc/Hzzz/TqlUrKleuTPny5enatStxcXEPFatWvmczMzOLrMl/nFLf5wLyPqSdnZ3Sh6F///4kJibi5uaGiYkJZcqUYfHixYWO8gBo2rSp8rxWrVps27YN0O4HUKVKFb7++utitcXPmTNHaRoA6N69O+XLl8fb25uMjAyys7OpXbs2QUFBvPzyy1rvLVu2LGvXrsXf35+1a9eiUqmoU6cOa9aswcIib2XJ2NhYreRl5MiRxMbGsn79eq1Yw4cPp3///nh5eREaGsrChQvx9vbG3Nyc1157jSVLlgAwe/Zs5s+fj5OTE+XKlcPc3JwpU6bo1NKoVCpCQkIICAige/fumJmZUaVKFUJDQ6levTqRkZFa/U0ABg0axNdff83ly5eLrPV5uM9FuXLlCAsL49VXX2XdunUsWbJEGT1TtmxZBg4ciKurKwA+Pj58+eWX9O3bV/n3/vjjj5WhqIX55JNPcHFx4ciRIzr9YYQQolQrQY1EWlpaoc0XlpaWWrX5ycnJ1KhRQ3ltbW3NiRMntN4zY8YMPvzwQ/z9/SlXrhzff//9E5x8HpXmSTsACPGC+KCum1Hjy5LrjydLrj+eLLn+eP1VNY0aH2Bs4rd6x8jcUvg8R4X5OqlCoSPnPDw8tIbnr1q1iszMTOUH4ubNmzl58iRz584F8kZl9unTh4CAAOzt7fnmm284dOiQ0texpEptzYUQQgjxQipBMj1s2DB69eqls/3hPog1a9bkyJEjyuvk5GStTu8XLlygTJkyymjG/v37s2zZspKeuUKSCyGEEKI0KcEokIebPx6lTZs2rFixgpSUFMqVK8euXbuYN2+esr9u3bpcu3aNP/74g9dff50ff/yx0LmaikuSCyGEEKI0MUJvhZo1a+Lp6Ym7uzvZ2dn07dsXe3t7Ro0axaRJk7CzsyMgIIDJkyej0WioVq2aMlfQk5A+F0I8Rt+6PYwaP9fI/wl+f/TJqzaLa+A7k40af4Pfk/+CKo57Gw4aNT5AhWkDjRp/xMi4xx+kJ2NP7XRfU7J5G0rqHZWVUeMDfPan7vwRJZW5yafYx5YbOEfv8oxBai6EEEI81rM/Z+QzpBRP611cklwIIYQQpclzMP23JBdCCCFEaVLIkgfPGkkuhBBCiNJEmkWEEEIIYVCSXAghhBDCoKTPhRBCCCEMSaN+9meIkOTCwJKSknByclIW8cpfZa5nz55MmjRJZ3++fv36MXjwYM6dO4e/vz+3b98mNzeXJk2aMGvWLMqXL09kZCSHDx8mMDCQFStWEBYWRvXq1dFoNGRnZ9O7d29lcbeC+wtatWoVf/31FyNHjmTLli288cYbyr4GDRpw/vx5JkyYQFJSEhkZGdy8eZNXXnkFgKlTp3Ljxg3lHPLNnz+fLVu2sH//fmXxtYSEBIKCgtiwYcMjr9WKFSsAtOa/L/gZZ8yYQWJiIt9++y0qlUpnf/77u3TpwvTp0wG4evUq5cuXx8rKCgsLCzZv3lzkNRVCiFJHmkVEYaytrYmOjlZeX79+na5du9KtWzfKlCmjs78gT09P/P39adq0KWq1mjlz5rBs2TK8vLx0jh0wYIByY05JSWHYsGFUrlyZDz74QGd/QX/99ReQtwLe999/r7MsfHBwMFB4ghAZGal1bE5ODjt27KBp06bExcXRo4dhJ5z6/fffWb9+PcOGDXvkMQ0aNFCu54wZM2jRogW9e/dW9pfkmgohxL/uORgtYvJvn8CL4MaNG2g0GipUqPDYY2/evMn9+/cBMDExwcPDA2dn58e+r2rVqowbN47vvvuuWOfUtGlTrKys+Oqrr4p1/KPs27cPGxsbevbsSXh4uF6xCjNy5EhWrlzJn3/++cQxnvSaCiHEv0KtLv6jlJKaCyNITk7Gzc2NBw8ekJqaip2dHUFBQbz00kskJSUp+wtasGABDRo0wMvLi3HjxmFtbU3Lli3p2LEjHTp0KFa5b775Jn/88YfyOiwsjN27dyuv69Spo9RKAPj6+tK7d286duyo1TxSEpGRkTg5OdG+fXu8vLy4dOkS9evXf6JYhalbty5jx45l5syZfPvtky1lrM81FUKIp64UJw3FJcmFEeQ3e6jVagIDAzl//jytWrXS2V+Y3r1706VLFw4dOsTPP//MjBkzcHV1ZdasWY8tV6VSUbZsWeX1o5pF8tWqVYtPPvlEaR4pqZSUFA4ePMi8efMoW7Ys77//PmFhYXh7exfr/SqVioeXttFoNEr/inzu7u7s2rWL9evXU6lSpRKfpz7XVAghnrrnYMkvaRYxIhMTE6ZPn86tW7dYs2bNY4+/cuUKwcHBVKxYkc6dO+Pj40NYWBibN28uVnnnz5/X6Sj6OP369Xvi5pGYmBg0Gg19+/bF0dGRQ4cOER0drTRBPI6VlRVpaWla227duoWVlfbiQiYmJgQEBDxR84i+11QIIZ6656BZRJILIzMzM2P69OmsWrWKGzduFHls1apVWb9+PYcOHVK2Xbp0iUaNGj22nOTkZFatWsXgwYNLfI6+vr6sXbu2xO+LiIggMDCQ+Ph44uPjOXjwIFZWVmzfvr1Y72/ZsiV79+4lJSUFgLt377J9+3Zat26tc2x+88jq1atLdI76XFMhhPhXqDXFf5RS0izyFLRr144mTZrwxRdfMG7cuEL7XDRv3hxvb29CQ0NZuHAh3t7emJub89prr7FkyZJC4+b3qchvXujfvz/dunXT2V/Qp59+qjM6JL95ZPbs2cX+TKdOnSI1NZXOnTsr20xMTBg2bBhhYWFMmTKFI0eO0LRpU2W/q6src+fOVV6/+eabjBkzhuHDhwOQm5vLBx98QPv27QstM795pCQsLS1LdE2FEOJf9xyMFlFpHm70FkJo6VvXsMNrH5Zr5P8Evz+6zKjxAQa+M9mo8Tf42Rk1/r0NB40aH6DCtIFGjT9iZJxR4z+NCvj7mhyjxn9HZfX4g/T02Z8b9Y5xL+DRQ+8fVsFrnd7lGYPUXAghhBClSSlu7iguSS6EEEKI0kTWFhFCCCGEQUnNhRDPP2P/hrA0sTBqfGP3hwDY9NsXRo2ftWyGUeNPOV/98QfpST2yZJ2RS+rBU+gVYaUyN2r8LI1xOzKe5p5R4xtMzrPfoVOSCyGEEI9l7MRCFCDNIkIIIYQwKGkWEUIIIYQhaUrxzJvFJcmFEEIIUZpIzYUQQgghDEqSCyGEEEIY1HMw/bcsXGYg6enpzJkzh+7du+Pm5sbQoUM5ffq0sv/evXvMmTOHzp0706NHDwYNGqS1mNaMGTNo2LAh169f14o7fvx4HB0dAYiMjKRBgwZs3bpV65i1a9fSoEEDkpKSSEpKwtbWFjc3N63Hxo15U9I6Ojri4uKibHd0dGTSpElkZGQAeUuef/PNN8r+Xr16sW3bNqWsoUOHkpCQoLzOycnh3XffZd68eVrnNGPGDCIjI4u8Zo6OjiQlJWltKxi/QYMGOkvBF9yf//6VK1cq59ugQQPl+cqVKwHYuHEjbm5u9OjRAzc3N6Kiooo8LyGE+Ddp1JpiP0oiNjYWFxcXOnfurNwTCvrjjz8YOnQoPXr0YOTIkdy5c+eJP4PUXBiAWq1m1KhRtGzZkqioKMzMzPjll18YNWoU27Zto3LlyowdO5ZGjRqxbds2LCwsOHPmDKNHj2bx4sW0bNkSgJo1a7Jr1y6GDh0K5CUsZ86cwcTkfzngSy+9xM6dO+nevbuy7T//+Q+WlpbKa2tra6Kjox95vqGhodSpUweArKwsBg0aRFRUFIMGDWLp0qWcOXOGb7/9lkqVKnHt2jWGDBlClSpVaNOmjU6s/fv3Y2dnx44dO5g6dSrlypXT72I+ZOnSpbz33nu8/PLLjzxm3LhxjBs3DshLSAp+9t9//53NmzcTHh5O2bJluXXrFn369KFhw4Y0bNjQoOcqhBAGYYRmkevXr7N06VIiIyOxsLBgwIABtGzZkvr16wN5PyzHjRvHrFmzaNeuHYsWLSI0NJRp06Y9UXlSc2EACQkJJCcnM2nSJMzM8vK1Vq1aERAQgFqt5vDhw/zzzz94eXlhYZE3YVLjxo0ZN24cISEhSpwuXbqwc+dO5fXu3bvp0KGDVlnNmzfn1KlTSk3D33//TYUKFahUqdITnfvdu3e5e/culStX5t69e6xbt47PP/9ciffSSy+xZMkSatSoUej7IyMj6dy5M/b29lo1HIbi7u6Ot7f3E7//xo0baDQaMjMzAahWrRrLly+nSpUqhjpFIYQwLLW62I+0tDSl1rrgIy0tTSvkzz//TKtWrahcuTLly5ena9euxMX9b7G706dPU758edq1awfA2LFjGTx48BN/BEkuDODMmTPY2dlp1TAAtG/fnmrVqnHy5ElsbW1RqVRa+5s3b87JkyeV140aNeLWrVvcvHkTgB07duDs7Kz1HjMzM95991327dv3yGPyl3Qv+Dh//ryyf/To0bi6utKmTRtGjRrFkCFDcHZ25o8//qBChQpKrUY+e3t73njjDZ3PnZKSwk8//UTHjh1xdnYmLCysuJes2EaNGkVqaqpO80hxtWvXjtq1a/Pee+8xZMgQVqxYQeXKlalZs6aBz1QIIQxErSn2Y926dXTs2FHnsW6d9mqpycnJWj8Sra2ttZrh//rrL6pXr86nn36Kq6srPj4+lC9f/ok/giQXBmBiYkJRK9erVCpyC+mgk52drbOtS5cu7Nq1izt37pCenk7t2rV1jnF2dlZqOHbv3k2nTp209uc3ixR8NGjQQNkfGhpKbGwsPj4+pKSk4OjoiEqleuzneFhMTAytWrXCysqKjh07cuHCBc6cOVPs9z+cbEFe1VzBJM3MzIzAwECWLl3K1atXix07n4WFBSEhIWzbtg1nZ2dOnz5Njx49OH78eIljCSHEU1GC5GLYsGH8+OOPOo9hw7SXbS/su73gd3BOTg6HDx9myJAhxMbGYmNjQ2Bg4BN/BEkuDMDW1pYzZ87o/OMtWbKEX375hbfffptTp07pJBPHjx/Hzs5Oa1t+4vCf//yHzp07F1pey5YtOXHiBBcuXKBKlSpP3CTStWtX2rVrx2effQZAvXr1uH//Pv/884/Wcdu2bdPJgiGvSeTYsWM4OjrSo0cPTExMSlR7YWVlxd27d7W23bp1S6v/CMCbb775xM0jUVFRHDp0iLp16zJ48GBWrVrFsGHDiuyTIoQQ/yZNrrrYD0tLS+rUqaPzePh7tGbNmkqtOOTVZFhbWyuva9SoQd26dZV7Uvfu3Tlx4sQTfwZJLgzAwcGBatWqERQUpNRQHDhwgMjISOrXr4+DgwP169fH399fSTBOnTrFypUrGT9+vFashg0bcvPmTTZv3oyTk1Oh5ZmamvLuu+/y2Wef4eLiote5f/zxxxw7dow9e/ZQtmxZBg8ezOeff056ejoASUlJLFmyhHr16mm97/Tp01y7do29e/cSHx9PfHw8X375JbGxscp7H6dVq1ZEREQoSdnhw4fJyMjQKQv+1zxy7NixEn2+3NxcFi9eTEpKCpCXnf/3v/+lcePGJYojhBBPTQlqLoqrTZs2HDp0iJSUFDIzM9m1a5fSvwKgadOmpKSkcO7cOQDi4+N56623nvgjyGgRA1CpVISEhBAQEED37t0xMzOjSpUqhIaGUr163mqLQUFBLF26lO7du2NqaoqVlRULFy5URooU1LlzZw4fPsxLL72kM1Qzn7OzM9HR0cow1YLy+1wU1Lx580J/+VerVo1Ro0axYMEC3nvvPTw9PQkKCqJfv36YmZlhamrKlClTePfdd7XeFxkZSe/evSlbtqyyrWXLlrz22mvExsYC4OPjozVE9auvvsLBwUF5PX78ePz8/OjevTsqlQorKytCQkKUTrEF5TeP9O7du9Dr8Sh9+vQhNTWVgQMHKs0t3bp1o2/fviWKI4QQT0tJh5gWR82aNfH09MTd3Z3s7Gz69u2Lvb09o0aNYtKkSdjZ2REcHIy3tzeZmZm89NJLLFiw4InLU2lK0sguxAuod90eRo1fycirTd7T6PbtMbRnfcn18RuMP2mR2shftffIMWr8p7Eq6m11llHjW6hMjRofIPzPKL1j3BnWsdjHWq37Ue/yjEFqLoQQQojS5Nlft0ySCyGEEKI00eQ8+9mFJBdCCCFEafLs5xaSXAghhBCliTE6dD5tklwI8RjGHq+drTHuz5QNfnaPP0hPxu5wafHxk0/mUxwzN08wanyAOgMqGzX+iG+M+3f0NH5MqzHuTfV11ZPPOPlUSc2FEEIIIQxJai6EEEIIYVhScyGEEEIIQ9IYd8qSp0KSCyGEEKIUMXI3rKdCkgshhBCiNJHkQgghhBCG9DzUXMiqqC+IOXPm4ObmhouLC7a2tri5ueHm5kZERASQt4rrBx98gLOzM926dcPf35/MzMxivXfPnj00aNCAU6dOaZXZoEGDIs8pISGBoUOHam1LSkpSFmOLjIykZcuWWssEF9xf8P0ffPABbm5udOjQgRYtWijneP78edLS0pgyZQqurq64uroycuRIrly58oRXUgghjEujLv6jtJKaixeEj48PkHdzdnd3Jzo6Wtl36NAhfHx8WLFiBW+99RZZWVkEBgYyfvx41qxZU+R7IS8J6Nq1K2FhYfj6+hr0vO/du4ePjw/BwcFFHrd582blXA4fPkxg4P/mRfDx8eHNN99k8eLFAGzduhVPT0+2bNli0HMVQghD0OSq/u1T0JvUXAhCQkLw8PDgrbfeAsDCwgIvLy8uXbrEb7/9VuR7U1JSOHToENOnTycuLo709HSDnlvXrl35888/lWXcn8TNmzd58OABanVemu/i4sLEiRMNdYpCCGFQz0PNhSQXgpMnT2Jvb6+1zdzcnKZNm3Ly5Mki3xsbG0vbtm2pU6cOtra2OrUa+jI3NycgIICAgACt5pGSGDduHBEREbRp04bJkycTERFB27ZtDXqeQghhKBq1qtiP0kqSC4FKpSInR3dgdVZW1mPfGxkZSffu3YG8GoHw8PBil2tiovvnp9FoUKm0/4Oxs7Pjgw8+UJpnSsrW1pYff/yR5cuX8+qrr7JmzRoGDRpU6GcWQoh/m9RciOeCvb09x48f19qWlZXFmTNnsLN79LoUZ86c4cKFC/j5+eHo6EhwcDAXL17k2LFjxSrX0tKStLQ0rW0pKSlYWVnpHDthwgT+/PNPtm7dWqzY+TQaDT4+PuTm5tKiRQsmT55MTEwMqampnDlzpkSxhBDiadBoVMV+lFaSXAgmTpzIypUrOX36NADZ2dn4+vry+uuv88477zzyfZGRkfTr14+9e/cSHx/Pvn37cHNzK3btRf369blz5w6///47AGq1ms2bN9O6dWudYy0sLAgICGDVqlUl+mwqlYrLly+zevVqpc9FcnIyOTk5vPLKKyWKJYQQT8PzUHMho0UEDg4OzJ8/Hz8/P+7cuUNOTg7t2rUjJCREp4kiX1ZWFrGxsaxfv15r+/Dhw+nfvz9eXl4ANG3aVNlXq1Yttm3bprw2NTXliy++wN/fn/v373P//n1atWqFh4dHoWXa2dkxbNiwEnfuXLJkCQEBAXTs2JFy5cpRqVIlFi9eTOXKlUsURwghngb1czBaRKXRaJ795deEMKK+dXsYNb4FpkaNv9qvsVHjA6jPXzRqfGMvuf7Hu8/DkuuZRo1fVmXcv1OA2+oHRo3f2MTSqPEBAq58p3eMP5t1KvaxdY/u1rs8Y5CaCyGEEKIUKc2jQIpLkgshhBCiFHke2hMkuRBCCCFKEam5EEIIIYRBleYhpsUlyYUQj2Hs0V6mGPeL5N6Gg0aNDzDlfHWjxp+52bgdLl8/WPTaNYaQ8+MGo8ZXc9So8Y39dwpgqjLu7AjXefzEgKVB7nMwWkTmuRBCCCFKEWNNohUbG4uLiwudO3dm48aNjzxu7969yurTT0pqLoQQQohSxBh9Lq5fv87SpUuJjIzEwsKCAQMG0LJlS+rXr6913M2bN5k/f77e5UnNhRBCCFGKaDTFf6SlpZGUlKTzeHhphZ9//plWrVpRuXJlypcvT9euXYmLi9Mp29vb+5ETGZaE1FwIIYQQpUhJai7WrVtHUFCQznYPDw8mTpyovE5OTqZGjRrKa2tra06cOKH1nvXr19O4cWPefvvtJzhrbZJcCCGEEKVIrrr4jQrDhg2jV69eOtstLbVnIy1sMu6CyztcuHCBXbt2sXbtWq5du1aCsy2cJBdCCCFEKVKSSbQsLS11EonC1KxZkyNHjiivk5OTsba2Vl7HxcVx48YN+vTpQ3Z2NsnJyQwaNIjvvnuy6cwluTCQhIQEgoKC2LCh8OFmFy5cwNXVleXLl9O1a1dl+9ChQ7G2tmbx4sXKthUrVgB5q5UOHTqUa9euUb58eXJzc7GwsODjjz+mffv2OmX8888/zJ07l7///huNRkO9evX47LPPqFatGgCJiYksWLCACxcuYG5uzuuvv8706dOpU6cOAI6Ojqxfv155nX9+Hh4etGzZEoDU1FTatWuHp6cnI0aMUI6bMWMGv/zyi7JcemZmJpUrVyYgIIB69erp7M8XGRmJqamp1uvAwEBefvllZVv16tVZvXq11rV4eN+KFSsICwujenXtIZGrVq3C19eXpKQkMjIyuHnzprIa6tSpU3nvvfcK/fcSQoh/i9oI81y0adOGFStWkJKSQrly5di1axfz5s1T9k+aNIlJkyYBkJSUhLu7+xMnFiDJxVMTGRlJ165dCQsL00ouAHbu3ImzszOdOhW+WI2vr69ycz958iQfffQRGzdu1Onl+9lnn9GzZ0+6d+8OwJdffomPjw9BQUGkpKQwaNAgpk+friQv0dHRDBo0iOjoaKpUqVKsz7F161bef/99wsPD+fDDD7Wq1SZNmkTv3r2V135+fqxYsYIvvvii0P2P4ujoSGBg4QtVFbwWDxswYIBWG2O+4OC8OQwelwAKIURpYIxJtGrWrImnpyfu7u5kZ2fTt29f7O3tGTVqFJMmTcLOzs6g5clokacgJyeHmJgYPD09OXPmDH/99ZfW/nHjxjFnzhxu37792Fh2dnY4OzuzefNmnX03b94kM/N/KyMOHjyYwYMHAxAWFkbz5s1xdXVV9ru5udG0aVPCwsKK/VkiIyMZPHgwFhYW/PLLL488Lisrixs3bujUVAghhChaSUaLlISrqytbt25l586djBo1CoCvvvpKJ7GoU6cO8fHxen0Gqbl4Cvbu3UutWrV47bXX6NSpE2FhYUyfPl3Z7+DgwO3bt5k3b55W88ijvPHGG+zdu1dn+yeffMK0adNYsWIFrVu3pl27djg7OwNw4sQJWrVqpfOeFi1acODAgWJ9jnPnznHjxg0cHBxwdnYmLCyM1q1bK/uXL1/O2rVruX37NmXKlKFTp05MmDBBa/+6deuU182aNcPHx0ennPj4eNzc3JTXXl5eyrl7e3trNYs4OTkxbtw4IC+B2r37f8sP16lTR6m1EEKIZ4UxmkWeNkkunoLIyEilqcLFxYWpU6cyefJkLCwslGM++eQT3NzctG6Oj6JSqShbtqzO9nbt2rF//34SEhI4dOgQCxcuZNu2bYSEhDwy1v3791Gr1Urch2k0GkxM8iq4IiIicHJywtTUFBcXF0JCQrh586bSzyG/2eOPP/5gxIgRtGzZkooVKyqx/q1mESGEeJaUZLRIafXsf4JS7tatW+zfv581a9bg6OiIt7c3aWlp7Nq1S+u4cuXK4e/vz5w5c7hz506RMc+fP0+9evW0tt2+fRt/f3/KlClDu3bt+PTTT4mNjeWnn34iJSUFOzs7fv/9d63zAvj999+xtbUFwMrKirt37+qcv6WlJdnZ2cTGxhIXF4ejo6PSmTMiIkLn/F5//XWmTp3KzJkzdeIJIYQomqYEj9JKkgsji4mJoVWrVuzfv5/4+Hj27NnD2LFjCQ8P1znWwcEBJyenIvtAnDhxgp07d9K3b1+t7ZUqVSI+Pp6oqChl219//UW1atWwsrJi4MCB/Pbbb8TGxgLg4+PDyJEjOXr0KIMGDQKgVatWREREKOOhDx8+TEZGBvXq1WPPnj1UrVqVgwcPEh8fT3x8PHPnzuX7778vdPx09+7dsbGxKbLWRAghhC61RlXsR2klzSIGdOTIEZo2baq8dnV15dixY3h6emodN2jQIL7++msuX76sE+OTTz5h3759Wtvy+xmoVCrKlSvH0qVLtYaLApiamhIaGkpgYCDLli2jbNmyWFtbs2rVKkxNTalatSobN24kMDBQmc3t9ddfp1q1auzdu5e+ffsyfvx4/Pz86N69OyqVCisrK0JCQjAzMyMyMpKBAwdqldm9e3eWLFnyyD4b06dPZ/jw4Ury8nCfC4DFixfrjHopysN9LgBl9MfDfS4APv30U9q0aVPs+EII8W97HpZcV2kK+9kpXhjp6emcPHlSq2Om0Na7bg+jxq9g5Bx/acNbRo0PT2HJ9bIZRo3/PCy57j7duEuuV1KZGzU+wG2NcZdEr6yyePxBelpz5Qe9Yxx4qe/jD/p/713TvzxjkJqLF1zFihUlsRBCiFJEw7NfcyHJhRBCCFGK5DwHzSKSXAghhBCliNRcCCH0VlZl+viD9OB13prlX3c0ahnqkbsef5Ae6gyobNT4WUGzMGnU0KhlmHUcatT45hw3avz7mlxqqMoYtYxbmvtGjV/9KfQbMQT1v30CBiDJhRDPOWMnFs8DYycWzwNjJxbif6TmQgghhBAGJTUXQgghhDCoXKm5EEIIIYQhqZ/93EKSCyGEEKI0UUvNhRBCCCEM6XmYNluSCyGEEKIUkQ6dL4icnBy++uorYmJiUKlU5Obm0qtXL8aMGYNKpWLFihWEhYVRvXre+gpZWVmYmZnx+eef88477wB5q5kuWrSI69evY2Zmhr29PdOmTaNq1aoAJCQksGTJEjIzM8nNzaV9+/ZMmTIFU1NT0tLSmDNnDhcuXADA2tqa2bNn8+qrr+qc68aNG5WVSlUqFR9++CE9e/bU2p+/6qqpqSn9+/dXFiSLjIzk8OHDBAYGKscnJCQQFBSkLA4GMH/+fLZs2cL+/fuxsMibqz8pKQknJydlKXi1Ws29e/fo2bMnkyZN0tmfr1+/fgwePFhrm6OjI2XLlsXc/H9j0j08PLC0tGTs2LG88sorWsd7eHjQuXNnGjRoQMOG2kMKO3TogIODA4sWLQLyVoqtXr065cuXp06dOgQHG39NCSGEKAm1SppFXghz5szh5s2bhIeHY2lpSXp6OhMmTKBSpUrKjXHAgAFMnDhRec/atWsJDAxk8+bNXLp0ifHjx7NgwQLatGmDWq3m66+/xt3dnYiICFQqFVOmTGHTpk3Y2NiQlZXFpEmT2LhxI+7u7ixevJg333yTxYsXA7B161Y8PT3ZsmWL1nn+/vvvbN68mfDwcMqWLcutW7fo06cPDRs2pGHDhoSEhPDTTz+xbt06qlatSkpKCuPHj+fOnTuMHTu2WNciJyeHHTt20LRpU+Li4ujR43+LellbWxMdHa28vn79Ol27dqVbt26UKVNGZ39RQkNDdVZ+TUhIwNbWVivRedij4r/33nsADB06FA8PD1q2bFms8xBCiKct998+AQMw+bdPoLS7du0aMTExBAYGYmlpCeQt9vXZZ58pNRUPU6vVXLt2DSsrKwC+/vpr+vfvryz9bWJiwujRoylbtiw7duwgMzOT9PR0MjMzAbCwsGDWrFm0aNECgJs3b/LgwQPU6rzKMhcXF61EJt+NGzfQaDRKnGrVqrF8+XKqVKnC/fv3+eqrr5g3b55SW1K1alV8fX356quvuH+/eDPj7du3DxsbG3r27El4eHiRx+afT4UKFYoVWwghRN5okeI+SiupuXiMEydOUK9ePSVRyFevXj2tKv6wsDB2795NWloaarWaDh064O/vD8DJkydxdnbWid28eXNOnTpFz549GTNmDL179+a1116jZcuWODk54eDgAMC4ceOYMGEC3333Ha1ataJt27ZaNQb52rVrR2RkJO+99x5NmjShZcuWuLm5UbNmTU6fPo2JiQmvv/661nvq16+Pubk5ly9fLtb1iIyMxMnJifbt2+Pl5cWlS5eoX78+AMnJybi5ufHgwQNSU1Oxs7MjKCiIl156iaSkJGV/QQsWLKBBgwY65YwePVppFnnttdf44osvADh16pROjLVr11KlShUAnX1Tp05Vai2EEOJZIKNFXhCqAu1fcXFxrFy5ErVajYWFBREREcD/mkVu3LjBsGHDeOutt7C2tlben5OToxM3OztbeT5u3Dj69+/Pzz//zE8//cSoUaP4+OOPGT58OLa2tvz4448cPXqUn3/+mTVr1hAWFkZ4eDhmZv/7J7SwsCAkJIQ///yTgwcPcuDAAVavXs3atWsxNzfX+hwFPXjwgNzcXExMdCuy8vtuAKSkpHDw4EHmzZtH2bJlef/99wkLC8Pb2xv4X7OIWq0mMDCQ8+fP06pVKyWWvs0iwBM3iwghxLPieRgtIs0ij/HWW29x+fJl0tPTAXByciI6OpqVK1eSmpqqc3yNGjXw9fXFz8+PxMREAOzt7Tl+/LjOsceOHcPW1pbjx4+zceNGqlatSvfu3QkICCAoKIjNmzej0Wjw8fEhNzeXFi1aMHnyZGJiYkhNTeXMmTNa8aKiojh06BB169Zl8ODBrFq1imHDhhEdHU29evXIzc1VaijS09N58OABFy5cQK1W88Ybb2BpaUlaWppWzJSUFKXWJiYmBo1GQ9++fXF0dOTQoUNER0frNKmYmJgwffp0bt26xZo1a57swgshxAvqeWgWkeTiMWrXrk2PHj349NNPlRtvbm4ue/fuLfSXPkCzZs1wdHRk4cKFAIwZM4aIiAh++uknIK82ICQkhPv37+Ps7IyVlRVBQUGcO3dOiXHx4kUaNWqESqXi8uXLrF69WulzkZycTE5Ojs6oidzcXBYvXkxKSgqQ1/nyv//9L40bN6Zs2bKMHj2azz77jJSUFE6dOkXv3r2ZNm0aH330EeXKlaNJkyacOHGCv/76C8gb9bJlyxZat24NQEREBIGBgcTHxxMfH8/BgwexsrJi+/btOtfAzMyM6dOns2rVKm7cuPHE118IIV406hI8SitpFimGzz//nG+++QZ3d3c0Gg1ZWVk0adKEr7766pHv+eSTT3BxceHIkSM4ODiwevVqFi1ahK+vL7m5ubzzzjts2LCBMmXK8NprrxEYGMjMmTNJT09HpVLx9ttv89lnnwGwZMkSAgIC6NixI+XKlaNSpUosXryYypUra5XZp08fUlNTGThwoJL4dOvWjb59+wJ5TS+VKlXC3d0dyKthePnllzl37hxXr17l5ZdfZt68eUyePJnc3FyysrLo0qUL/fv359SpU6SmptK5c2elPBMTE4YNG0ZYWJjS+bSgdu3a0aRJE7744gvGjRtXaJ+L5s2bK80qxVFYn4tu3boxevRoQLfPRd26dVm+fHmx4wshxL8ttxTXSBSXSqPRPA/NO0IPx48fp3bt2tSoUePfPpVSqXdd3c6zhlTNyEtZP40l10eP3GXU+Ks+NO41ehpLrpt1HGrU+MPemWLU+E9jyfUr6nSjxm9gUsmo8QEWXNmkd4yv6gwp9rGjkr4t9rGxsbGsXLmS7Oxshg8frjPH0O7du1mxYgUajYY6deoQEBCgM5ihuKRZRNCkSRNJLIQQopQwRrPI9evXWbp0Kd999x3R0dGEh4dz6dIlZX96ejqff/45oaGhxMTE0KBBA1asWPHEn0GSCyGEEKIU0aiK/yiun3/+mVatWlG5cmXKly9P165diYuLU/ZnZ2fz+eefU7NmTQAaNGjA1atXn/gzSJ8LIYQQohQpSY1EWlqazig/AEtLS2XiR8gbCFCwhtra2poTJ04or6tUqUKnTp0AuH//PqGhoQwd+uRNeZJcCPEv++afn40aP31k9uMP0tMDI/dbH/GNceOrOWrU+ADmHDdq/HW/LTZqfACb+t2MGv99K90J9Qzpv5oMo8Y3lJJM/71u3TqCgoJ0tnt4eGjN5FxY98rC5j66e/cu48ePp2HDhvTq1asEZ6JNkgshhBCPZezEQvxPSeav+HDYsEKTgIK1FgA1a9bkyJEjyuvk5GRloseC20aOHEmrVq2YOXNmyU76IZJcCCGEEKVISerpHm7+eJQ2bdqwYsUKUlJSKFeuHLt27WLevHnK/tzcXMaOHYuzszPjx49/grPWJsmFEEIIUYoYoxGwZs2aeHp64u7uTnZ2Nn379sXe3p5Ro0YxadIkrl27xpkzZ8jNzWXnzp1A3nILfn5+T1SeJBdCCCFEKWKsyadcXV1xdXXV2pY/GaSdnZ3WLNH6kuRCCCGEKEVK85ohxSXJhRBCCFGKlGS0SGklyYVg7ty53Lx5U2sNjoMHD+Lj40N0dDTjxo3j2rVrlC9fXtlfvXp1Vq9erbyeP38+W7ZsYf/+/VhYWACQlJSEk5MT9erVA0CtVnPv3j169uzJpEmTtM4hISGBsWPH8sorr6DRaMjOzqZHjx6MGzcOgKFDh+Lh4UHLli2V98yYMYMWLVrQu3dvrf0NGjTg/PnzynEHDhxg0aJFAPz1119Ur16d8uXLU6dOHYKDgw11GYUQwiDUz8Gi65JcCKZMmYKrqyvx8fE4OjqSkZHB559/jr+/PxUrVgTA19dX68ZeUE5ODjt27KBp06bExcXRo8f/1uKwtrYmOjpaeX39+nW6du1Kt27dlKQjn62tLRs2bADg3r17uLi40LlzZ+rXr6/X53vvvfd47733gMKTFCGEKE1K82qnxSXTfwsqVKiAr68vc+fOJSMjg+XLl+Po6FjsG/C+ffuwsbGhZ8+ehIeHF3nsjRs30Gg0VKhQocjj7t+/j6mpKZUqGX+hISGEKE00JXiUVlJzIYC8MdDvvvsuXl5e/PHHH2zevFlrv7e3t1aziJOTk9JkERkZiZOTE+3bt8fLy4tLly4ptQ35y6w/ePCA1NRU7OzsCAoK4qWXXtI5h/zl1NVqNX/99RfOzs46k7wIIcTz7nmouZDkQihmzJhBhw4dCA4OpmzZslr7HtUskpKSwsGDB5k3bx5ly5bl/fffJywsDG9vb+B/zSJqtZrAwEDOnz9Pq1atCi3/4WaRsWPHEhoaypgxYwqdplaj0WBiIpVvQojnS46qNNdJFI98MwtFxYoVsbS0pHbt2sV+T0xMDBqNhr59++Lo6MihQ4eIjo7m/v37WseZmJgwffp0bt26xZo1ax4bt0KFCnTq1ImjR/PWfLCysuLu3btax9y6datYM9MJIcSz5HloFpHkQuglIiKCwMBA4uPjiY+P5+DBg1hZWbF9+3adY83MzJg+fTqrVq3ixo0bRcbNzc3l8OHDNG7cGIBWrVoRFRVFTk4OAJcvX+bUqVM0adLE4J9JCCH+TeoSPEoraRYRxfJwnwsAPz8/UlNT6dy5s7LNxMSEYcOGERYWRosWLXTitGvXjiZNmvDFF1/oTCub3+cCIDMzEzs7O0aNGgVA//79SUxMxM3NDRMTE8qUKcPixYupWrVqoefbtGlT5XmtWrXYtm3bk31wIYR4yp6HoagqTWHrsAohFL3r9nj8QXqIufqbUeN/8HJzo8YH4y+5bm7kStan8WVu7M9g7CXXn8aqqMZecj3nKfw7b/4z+vEHPcb0VwcW+9gFVzbpXZ4xSM2FEEIIUYqU5uaO4pLkQgghhChFcp+DZhFJLoQQQohSRGouhBBCCGFQGqm5EOL5Z+yOePfORhg1vrtjoFHjA1ipzI0a39i/5Ewx/hrXlYz8dWvsDpeJl4w/4sqpyVijxp+YU92o8Q1Fai6EEEIIYVDPw1BUSS6EEEKIUuTZTy0kuRBCCCFKlacxH4exSXIhhBBClCLSoVMIIYQQBiUdOoUQQghhUFJzYURz5szh6NGjZGdn89dff1GvXj0A3N3d6dOnD3v27GHs2LFERERga2sLQEpKCj169GDhwoW0bt0agOPHj/Ppp5/yww8/UKlSJa0yjh8/ztKlS0lNTUWtVuPg4MCMGTMoW7YsM2bMoEWLFvTu3bvQ85s/fz5btmxh//79WFhYKNvj4uIIDQ0lJycHjUaDm5sbH330EQD//PMPc+fO5e+//0aj0VCvXj0+++wzqlWrphM/NTWVdu3a4enpyYgRI0hNTWX48OEA3Lx5E4Dq1fOGVa1du5YqVaoAMGHCBJKSksjIyODmzZu88sorAEydOpUbN25w+PBhAgMDWbFiBUFBQYSFhWkt8uXn58f69es5f/48CQkJjB07VomRz8PDQ2uxMoDs7GyCgoLYsWMHZcqUoUyZMowYMQIXFxcAVqxYQVhYmHLOAI0bNyYgIEArzrlz5/D39+f27dvk5ubSpEkTZs2apbVoWmHXPiEhgaCgIDZs2KAVLykpCScnJ+XvJ1+/fv0YPHiwznUXQoh/m9RcGJGPjw+Qd3Nwd3cnOlp7MZjIyEi6du1KWFgYvr6+AFStWhVfX19mzpxJTEwMubm5TJs2jcWLF+skFufOncPDw4Pg4GDefvttcnJymDdvHrNnz2bhwoVFnltOTg47duygadOmxMXF0aNH3sJW169fZ/78+URGRlKlShXu3bvH0KFDee211+jYsSOfffYZPXv2pHv37gB8+eWX+Pj4EBQUpFPG1q1bef/99wkPD+fDDz+kSpUqyjVYsWIFABMnTtR5X3BwMFD4zTYyMlLr2JdeeomdO3cqyYVarebXX3/VOsbW1lbnhl2Y2bNn8+DBAyIjI6lYsSKJiYmMGjWKrKwsevbsCcCAAQMKPeeCPD098ff3p2nTpqjVaubMmcOyZcvw8vICHn3ti2Jtba3z9yOEEKVV7nOwnqhxZwcykpSUFA4dOsT06dOJi4sjPT1d2dehQwfatWuHr68vn332Gf3798fe3l4nxurVq+nfvz9vv/02AGZmZkybNo1OnTo9tvx9+/ZhY2NDz549CQ8PV7anpqaSnZ3N/fv3AahQoQKBgYHUr18fyKtxyMzMVI4fPHjwI389R0ZGMnjwYCwsLPjll1+KcVVKrmPHjsTHxyuvf/vtN5o0aVLiOImJiezcuRM/Pz8qVqwIgI2NDV5eXoUmTkW5efOmcv1MTEzw8PDA2dlZ2f+oay+EEM8LNZpiP0qrZzK5iI2NpW3bttSpUwdbW1udX6UzZszgyJEj3Lp1i5EjRxYa4+zZszpJR8WKFenatetjy4+MjMTJyYn27dtz9uxZLl26BEDDhg3p2LEjnTp1om/fvixcuBC1Wk3dunUB+OSTT1i0aBHt2rXj008/Zd++fbRs2VIn/rlz57hx4wYODg44OzsTFhZWrOtSUlWqVKFOnTqcOHECgO3btyvNGPlOnTqFm5ub1iM1NVXnmHr16mk1XQA4ODiQmJjI7du3AQgLC9OK88cff+ick5eXF+PGjaNLly7Mnj2b06dPayU8j7r2RUlOTtb5DOfPny/OJRJCiKdOU4L/lVbPZHIRGRmpNC24uLjo/IL9888/yc7O5o8//uD69euFxlCpnmy635SUFA4ePIizszNly5bl/fff17r5z5kzh/j4eAYOHMg///xDv3792LVrFwDt2rVj//79+Pr6UrVqVRYuXIiHh4dOGRERETg5OWFqaoqLiws//vij0s/C0Jydndm5cye5ubkcO3YMBwcHrf35yVvBR37/jnwqlYrc3Fyd2NnZ2VqvBwwYoBXn9ddf13lP7969OXjwINOmTcPMzIwZM2bg5+cHPP7aP0p+s0jBR4MGDR77PiGE+DeoS/AoidjYWFxcXOjcuTMbN27U2X/27Fn69OlD165dmTVrFjk5OU/8GZ655OLMmTNcuHABPz8/HB0dCQ4O5uLFixw7dgyAzMxMPvnkE7y9vRkwYADTp09Hrdb9J7C1teXkyZNa29LT0xk7dixZWVmPLD8mJgaNRkPfvn1xdHTk0KFDREdHc//+ffbu3cv27dupWbMmffr0YenSpXh7e/PDDz9w+/Zt/P39KVOmjFJzERsby08//URKSooSPzs7m9jYWOLi4nB0dGTEiBFAXsJhDJ06deLHH3/k8OHDODg4YGJS8j8Je3t7rly5wp07d7S2Hz9+HBsbGypXrlysOFeuXCE4OJiKFSvSuXNnfHx8CAsLY/PmzUDR114IIZ4XxmgWuX79OkuXLuW7774jOjqa8PBwnZrfadOmMXv2bHbu3IlGo+H7779/4s/wzCUXkZGR9OvXj7179xIfH8++fftwc3NTai98fX1p2rQpXbp0Yfz48dy7d481a9boxBk+fDibNm1SmgSys7MJDAykYsWKWqM/HhYREUFgYCDx8fHEx8dz8OBBrKys2L59O2XLlmXx4sUkJSUBoNFouHTpEo0aNaJSpUrEx8cTFRWlxPrrr7+oVq0aVlZWyrY9e/ZQtWpVDh48qJQxd+5cvv/+ezRG6ORTpUoVateuzbJly3SaRIqrVq1auLq6MmvWLO7duwfkfbaAgIBCa2YepWrVqqxfv55Dhw4p2/KvHxR97YUQ4nlRkmaRtLQ0kpKSdB5paWlaMX/++WdatWpF5cqVKV++PF27diUuLk7Z//fff3P//n2lGbp3795a+0uq1I4WKUxWVhaxsbGsX79ea/vw4cPp378/7dq148iRI2zZsgUAc3NzFi5cSP/+/Xn33Xdp2LCh8p4GDRqwcOFC/Pz8yMzMJCcnh9atW+Pt7a0c4+Pjw7x585TXX375JampqVrDME1MTBg2bBhhYWF8//33eHh4MHbsWKVJ4L333mPChAmYmpoSGhpKYGAgy5Yto2zZslhbW7Nq1SpMTU2VeJGRkQwcOFDr83Xv3p0lS5Zw4MAB2rVrZ4Arqc3JyYng4GCtIan58vtcFNStWzdGjx6ttc3Hx4cvv/ySvn37YmJiQpkyZfj4449LlLBYWloSGhrKwoUL8fb2xtzcnNdee40lS5Zw6tSpIq/9lClTOHLkiNZncHV1ZfTo0Uqfi4KaN2+u9W8thBClRUlGi6xbt67QjvMeHh5ao/OSk5OpUaOG8tra2lr5cV3Y/ho1ajyyW0FxqDTG+DksxHOkf92eRo2/Pn6GUeM/jSXXy6tMH3+QHmTJ9ccLv/27UePLkuvF0/Pad3rHcHule7GP3XDqO51aCsj7sWZpaam8XrVqFZmZmXh6egKwefNmTp48ydy5cwE4evQoCxcuZNOmTUBe38UxY8Y8ce3FM1VzIYQQQjzvSpJMP5xEPErNmjU5cuSI8jo5ORlra2ut/QUHDty4cUNrf0k9c30uhBBCiOeZMYaitmnThkOHDpGSkkJmZia7du3SamavXbs2ZcqU4bfffgMgKipKr2Z4SS6EEEKIUsQYo0Vq1qyJp6cn7u7uykzR9vb2jBo1Shk5uWjRIgICAnB2diYzMxN3d/cn/gzSLCKEEEKUIsbqCunq6oqrq6vWtq+++kp53rBhQ3744QeDlCXJhRCPkaXRnSDMkJzazzZqfEuTMkaND8a/Rsae5thUZfxK3Fsa487H8r6VcSeGM3ZnS4C446uMGr9Xs6LXNjKEngaIkVuKZ94sLkkuhBBCiFKkNK8ZUlySXAghhBClyPMwQ4QkF0IIIUQpIjUXQgghhDCo0rzaaXFJciGEEEKUIiWZ/ru0kuRCCCGEKEWe+2aRhIQExo4dyyuvvIJGoyE7O5sePXowbtw4AIYOHYqHhwctW7ZU3jNjxgxatGhB7969tfY3aNCA8+fP65Th6OhI2bJlMTc3Jzs7G0tLS2bOnIm9vb1OGY6Ojri6uipzoz9cHsCOHTtYvXo19+7dIzs7mxYtWuDl5UWlSpV0yk5OTmbBggWcPXsWU1NTXn75Zby9vbGxsSEyMpLDhw8TGFj4ugx79uxh7NixREREYGtrq2w/d+4c/v7+3L59m9zcXJo0acKsWbMoX748WVlZBAQE8Ouvv6JSqbC0tOTTTz9VPuvD+vTpQ40aNVi1Km941oQJE0hKSiIjI4ObN2/yyiuvADB16lTee+89AFauXKnMBX/u3DllsTYnJydcXV1xd3cnPj6ehIQE3N3d+eSTTxgzZoxS5u7du5kwYQLr169X/t0KLvgG0KFDB61/g3wxMTF8/fXX5ObmYmJigpOTE2PHjsXU1FTrb6mgyMhIrYXb0tLSmDNnDhcuXADyFteZPXs2r7766mOvfXH+xvI1btyYgICAQq+7EEL8m5775ALA1taWDRs2AHDv3j1cXFzo3Lkz9evXN9hJhIaGUqdOHQD27t3LqFGj2LFjB1WrVtU5dt26dXTu3FnrppIvNjaWoKAgQkJCqFevHhqNhoULFzJr1iyWL1+udWxGRgZDhw5lxIgRLFy4EJVKRUxMDB9++CE7dux47DlHRkbStWtXwsLC8PX1VbZ7enri7+9P06ZNUavVzJkzh2XLluHl5cXatWtRq9XExsaiUqn47bffGD9+PHv27NG68QGcP38ec3Nzzp07x9WrV3n55ZcJDg4G8pK+oKAg5d+loHHjxinJX4MGDYiOjlb25S8Fn69mzZrs3LlTK7nYvn27znUvGKOo6/HNN98QHBzMK6+8Qnp6OjNmzGD27Nn4+/sD2n9Lj7J48WLefPNNFi9eDMDWrVvx9PRUVrrNL6uwa1+Ugn9jQghRmj0Po0VKNHPM/fv3MTU1LbQWwFA6dOiAvb09W7duLXT/mDFj8PLyIisrS2dfUFAQM2fOpF69egCoVCo8PT2xs7PTOXbbtm1YW1vTv39/VKq8FRF79OjB1KlTC41dUEpKCocOHWL69OnExcWRnp6u7Lt58yb37+dNlmNiYoKHhwfOzs7KvuzsbGU59nfeeQd/f3/Uat1laiIjI2nbti0dO3bk+++/L/J8nlTdunVRq9UkJiYCkJmZyV9//fVEiWNQUBDe3t5KzUTFihXx8/Nj69at/P3338WOc/PmTR48eKBcExcXF61lg4u69kII8TwwxvTfT9tjk4tTp07h5uaGq6srjo6OtGjRQq+V0orjjTfe4I8//ih0n6urKzY2Nsqv+Hy3b9/mypUrODg4aG03Nzdn1KhROnHOnj1baHOEk5MTFSpUKPL8YmNjadu2LXXq1MHW1lbrl72Xlxfjxo2jS5cuzJ49m9OnT9OkSRMA3N3d+f3332ndujXjxo1j/fr1NG3alDJltGdQzM7OJiYmBmdnZ5ydnfnhhx/Iyckp8pyelJOTEzt37gTyao06dOigc4ybm5vW48CBA1r7U1JS+Pvvv3Wup5WVFfXr1+f06dPA//6W8h8xMTE6ZY0bN46IiAjatGnD5MmTiYiIoG3btsr+oq59UUaPHq1VdkRERLHeJ4QQT5sxFi572krcLDJ27FhCQ0MZM2aM8ou/II1Gg4mJflPpqlQqypYt+8j9c+bMwc3Njc6dOxf6XshrApgwYQKQd/P7/vvvefnll5XjTExMnrjqKTIyEg8PDyDvl/W3337L4MGDAejduzddunTh0KFD/Pzzz8yYMQNXV1dmzZpFnTp12Lp1KydPnuTnn38mKiqKtWvXEhUVpbVk7r59+6hRowb169dXrueePXsK/bz6cnZ2Ztq0aXz00Ufs2LGDjz/+mISEBK1jinsDz83VnQI6v5YGitcsYmtry48//sjRo0f5+eefWbNmDWFhYYSHh2NmZlbktS+KNIsIIZ4VuZqSLLpeOpUoC6hQoQKdOnXi6NGjQN4v07t372odc+vWrWKtLV+U8+fPK00bhalRowYzZszAy8tLuXlVrlwZGxsb5dzq1KlDdHQ00dHRmJub69z4bG1tOXXqlE7sWbNmcfHixUeWfebMGS5cuICfnx+Ojo4EBwdz8eJFjh07xpUrVwgODqZixYp07twZHx8fwsLC2Lx5MwBLliwhOTkZe3t7xo4dS2RkJNbW1vz0009aZURERHD16lUcHR3p2LEj6enphIWFFe/ilVDdunXJycnh0qVLXLt2rcjr/ihVq1bllVde4dixY1rbU1JSSExMLLR/TGE0Gg0+Pj7k5ubSokULJk+eTExMDKmpqZw5c6bIay+EEM8LjUZT7EdpVaLkIjc3l8OHD9O4cWMAWrVqRVRUlFJlf/nyZU6dOqU0AzyJ+Ph4zp49q/RTeJQePXpgY2OjVOkDTJ48GV9fXy5fvqxsO3LkCLdv39YakQB5zQF///23cuOHvJv64cOHqVu37iPLjYyMpF+/fuzdu5f4+Hj27duHm5sb4eHhVK1alfXr13Po0CHl+EuXLtGoUSMArl+/TnBwsNKn4/bt26SmpvLmm28qx9+8eZOffvqJrVu3Eh8fT3x8PFFRUfzyyy9K3whD69q1K97e3jg6Oj5xjMmTJ+Pv76+c47179/D29sbFxYVatWoVK4ZKpeLy5cusXr1a6XORnJxMTk4Or7zySpHXXgghnhfPQ5+LxzaL5LeTQ16HPzs7O6UPQ//+/UlMTMTNzQ0TExPKlCnD4sWLCx3lAdC0aVPlea1atdi2bRuQ1x6eP1qiSpUqfP3111SsWPGxJz9nzhy6d++uvO7evTvly5fH29ubjIwMsrOzqV27NkFBQVpNIgBly5Zl7dq1+Pv7s3btWlQqFXXq1GHNmjVYWFgAee37BZOXkSNHEhsby/r167ViDR8+nP79++Pl5UVoaCgLFy7E29sbc3NzXnvtNZYsWQLA7NmzmT9/Pk5OTpQrVw5zc3OmTJmiVVsQExND+/btqVmzprLNxsYGR0dHwsPDmTp16mOvS0k5OzuzZMkSFixYUOj+/H//fHXr1tUZfdOtWzdMTU35+OOPycrKIjc3l27dujF2bMlWUlyyZAkBAQF07NiRcuXKUalSJRYvXkz58uUfe+2heH9jAOXKlTNabZAQQuijNPelKC6VpjTXqwhRCvR6xdWo8W+rjbsU99NYct0E3f5XhvQ8LLlu7Hb08irjzomYnJth1PjwfCy5vvWvbXrHsK3ZqtjHnrr+i97lGYPM0CmEEEKUIs9DzYUkF0IIIUQp8jyMFpHkQgghhChF1M9BbwVJLoQQQohSRJpFhHgBvGxSzqjxu2qsjBo/WWX8L6rT3DNq/NdV5Y0a/zpFT/lvCNVV5o8/SA//1Ri3w+XEnOpGjQ/G73C55egKo8Y3FKm5EEIIIYRBSc2FEEIIIQwqV6O7lMKzRpILIYQQohR5HqafkuRCCCGEKEVK87TexWX8aemEEEIIUWxPc+Gyf/75h8GDB+Pk5MS4ceO4d0+3c3ZycjIjR47Ezc2NXr16aa2f9SiSXAghhBCliFqjKfZDX3PmzGHQoEHExcVha2tLSEiIzjELFizg/fffJzo6msWLFzN16lSdlcYfJs0iL7i4uDhCQ0PJyclBo9Hg5ubGRx99pHVMnz59qFGjBqtW/W/e/xUr8oZ0TZyoPXQsMjKSwMBAnYXi5s6dy9tvv628TkpKwsnJiXr16qFSqcjOzsba2pqAgABeeuklhg4dyrVr1yhfPm8IYnp6OjY2NixatIjq1aszY8YMWrRoQe/evQGIiopiw4YN5OTkoFar+eCDD3B3dwfQiQVQvXp1Vq9ere/lE0IIgyvJaJG0tDTS0tJ0tltaWmJpaVnke7Ozs/n1118JDg4GoHfv3gwZMoRp06ZpHdelSxdatmwJ5C1c+eDBAzIyMqhUqdIjY0ty8QK7fv068+fPJzIykipVqnDv3j2GDh3Ka6+9RseOHQE4f/485ubmnDt3jqtXr+okDYVxdHQkMDDwscdZW1sTHR2tvF68eDHz5s1T/tB9fX2VP2i1Ws2kSZP45ptvdP7ww8PDCQsL48svv8Ta2pq0tDRGjBhBuXLl+OCDD3RiCSFEaVaS6b/XrVtHUFCQznYPDw+dH38PS01NpWLFipiZ5aUCNWrU4Pr16zrHdenSRXm+evVqGjVqVGRiAZJcvNBSU1PJzs7m/v28VTkrVKhAYGAgZcr8bxXNyMhI2rZty+3bt/n+++/5+OOPjXY+Dg4OxMfHF7ovIyOD1NRU7O3tdfatXLmS+fPnY21tDeRl7PPnzyc9Pd1o5yqEEMZSkr4Uw4YNo1evXjrbH6612LFjBwEBAVrbXn31VZ33qVSPXuF47dq1hIeH8+233z72vCS5eIE1bNiQjh070qlTJxo1akTLli1xdXWlbt26QF6VWUxMDBs2bOD27dt4enoyYcIEJct9lPj4eNzc3JTXFhYWbN68ucj3ZGdns2PHDpo1a6Zs8/b2ply5cqSkpGBlZYWLiwvDhw/Xel9KSgpXr17VanIBqFevntZrb29vrWaR/M5LQghR2pSkL0Vxmj8AnJ2dcXZ21tqWnZ1Ny5Ytyc3NxdTUlBs3big/0h62YMEC9u3bx8aNG3nppZceW54kFy+4OXPmMH78eA4ePMjBgwfp168fixYtokuXLuzbt48aNWpQv359NBoNJiYm7Nmzh86dOxcZs7jNIsnJyUoSkpWVhb29PVOmTFH25zdlHD16lEmTJtG+fXssLCy0YpiY5PVJflymL80iQohnxdOa58Lc3BwHBwe2b9+Oq6srUVFRtGvXTue4tWvXkpCQwKZNm4qVyIAkFy+0vXv3kpGRgYuLC3369KFPnz58//33/PDDD3Tp0oWIiAiuXr2Ko6MjkNepMiws7LHJRXE93OfiUZo1a8bQoUP59NNPiY6O1qo5qVy5MjY2Npw6dYrmzZsr2w8fPsz+/fuZOnWqQc5VCCGelqc5z4WPjw8zZsxg5cqVvPzyyyxZsgSATZs2kZyczKRJkwgODqZixYoMHTpUeV9oaCg1a9Z8ZFxJLl5gZcuWZd68edjb21OnTh00Gg2XLl2iUaNG3Lx5k59++on//Oc/yh9QYmIiTk5OJCYmPvVz/fDDD5WOm0OGDNHaN3LkSAIDA1m1ahU1atQgJSWFwMBABg4c+NTPUwgh9PU0Z+isXbs2GzZs0Nle8Pvz119/LXFcSS5eYK1atcLDw4OxY8eSnZ0NwHvvvceECRP49ttvad++vVZmamNjg6OjI+Hh4ZQpU4Yvv/ySNWvWKPvnzJkD6Pa5gLzkoGfPnk98rhYWFkyePBl/f3+d2AMHDiQ7O5sRI0agUqnQaDT0799fGSkCun0uADZs2FDsKj4hhHhaSjJapLRSaZ6HScyFMKLxr/Yzanz7XIvHH6SHZBNZcv1xnsqS6zzbS64PflDBqPEBvra4Y9T4T2PJdfPqr+sdo1y5usU+NjPzT73LMwapuRBCCCFKkefhN78kF0IIIUQpUpIZOksrSS6EEEKIUkRqLoQQQghhUIZYkOzfJh06hRBCCGFQsuS6EEIIIQxKkgshhBBCGJQkF0IIIYQwKEkuhBBCCGFQklwIIYQQwqAkuRBCCCGEQUlyIYQQQgiDkuRCCCGEEAYlyYUQQgghDEqSCyGEEEIYlCQXQpRi+/bt+7dPQW/nz5/nxo0bAJw4cYJ58+bxww8/GK08tVrNqVOnSEtLM1jMn376yWCxCjNx4sRnOv53332nPL948aLWPj8/P6OW/TSkp6f/26fwzJHkQohSzM/PD29vb+7du2eU+JmZmcyfP58TJ04A4O/vT9OmTRk8eDDXr1/XO35UVBTjxo3j2rVrJCYmMmzYMCpWrMiBAwcIDg7WOz7An3/+Se/evdm7dy9ZWVn079+fSZMm0aNHD3777TeDlLFo0SKDxHmUpKSkZzr+5s2blefTp0/X2nfkyBGDlDFz5kzl+ZYtW7T2DRw4UO/4H330kfL8yy+/1No3dOhQveO/aGRVVCH0dOjQITZt2sQff/xBmTJlqF+/PoMGDeLtt9/WO3ZsbCxffPEFvXr1wtfXlxYtWhjgjP/H398fU1NTateuzb59+9i6dStRUVFcvHiRuXPn6p0ArFu3jh9++IGqVasSFBREy5Yt8fT0JCcnBzc3NyZMmKD3Z/D19WXkyJG0b9+eH374gYyMDHbt2sX169eZMmUKYWFhepdhbPfu3ePIkSOPXGq7efPmpTp+wbjGWgvz7NmzyvP169fTq1cv5XVmZqbe8W/evKk8j4uLY8yYMcprWd+z5CS5EEIPUVFRLFmyBHd3d/r06YNKpeL8+fN4enoyY8YMunTpolf8MmXK8Omnn9KjRw/mzp3Lq6++Su3atZX9Hh4eesU/fvw4sbGxAPz44484OztTt25d6taty5IlS/SKDXlNFFWrVgUgISEBFxcXAMzMDPfVc/36dbp16wbAzz//TNeuXTEzM6N27doGq86+cuUK7u7uj9y/fv16veLfuHGD5cuXF3oTU6lUpT7+w/GMoagExhBlFoxhjPgvGkkuhNDDmjVr2LhxIzY2Nsq2du3a0blzZ6ZNm6Z3cpHv2rVr3Lp1i1dffdUg8fKZmPyvZTQhIYFp06Ypr7Ozs/WOr1KpyMrKIiMjg2PHjuHv7w9Aamoqubm5eseH/90INBoNCQkJDB48WHmdkZFhkDJq1KihdyJXlLp16xr0Bv+04z+Nm2/BMoxdniQT+pPkQgg9FUws8r366qvk5OToHfvGjRvMnTuXixcvEhgYSLNmzfSOWVDlypU5ceIEGRkZJCcn06ZNGyAv0XjppZf0jv/BBx/Qv39/ANq3b4+NjQ2HDh1i6dKl9OvXT+/4AA0aNCA0NJSsrCwsLCxo1qwZWVlZrFmzhiZNmhikjAoVKhi8Sep5cvHiRTp27Ajk1STlP9doNEpnXn1lZ2dz9epV1Gq18jw/sTREIpzfdKRWq8nIyODXX39V9hkqSX2RSHIhhB5MTU2NGr979+706dOHRYsWUaZMGYPH9/Ly4pNPPuHWrVv4+PhQvnx5QkJC2LBhg06nticxePBg7OzsuHHjBu3atQPybj4DBgygd+/eescH8PHxYfHixdy8eZPg4GBMTEzw9/fn8uXLLF261CBlFGyKMoapU6f+a/FdXV2VprEntXPnTr3eXxwZGRkMGTJESSjya6gMpWbNmixbtgwAa2trli9fruyztrY2aFkvApVGeqoI8cTef/99Pv74Y53tGo2GFStWEB8fr1f8EydOYG9vX+i+o0ePGrwmA/JGX1StWpVKlSrpHevLL7/U6hhnDBcvXuSNN94wahnXr1+nZs2ahe47dOgQrVu31iv+F198weTJk4G8Ya9t27ZV9n388cfKTc8YmjZtyrFjx4wW//PPP+fzzz83WnxROslQVCH00KpVKxISEnQehw8fpmXLlnrHz83NpX///owePVrpzZ6UlMSkSZP48MMP9Y6f32RRUN26dQ2SWEBer3tje3joozGMHTtWef7wnBELFizQO37B+UweHvb6559/6h2/KMbuXxATE2PU+JBX+2IIERERyrBsgCVLlhAREWGQ2C8aaRYRQg8BAQFGje/j40OfPn24du0awcHBNG7cGD8/Pzp27Mi2bdv0jv/gwQMDnOW/62lUvhYsIzEx0eDlG3skxL/pafz7GGIejw0bNhATE8P8+fOVbe+++y7z58/nwYMHDBo0SO8yXiSSXAihp19//ZWQkBBOnjwJgJ2dHRMmTMDBwUHv2Dk5OQwbNgyNRsP777/Pr7/+yjfffEPTpk31jg1w584doqKiHrm/Z8+eesU/e/YsjRo10tmu0WhQqVRacxc8qatXr+Ll5fXI/YZIAIsaqWDom78xkomGDRuiUqm0bvT5r5+HkReGKOOHH35g48aNVKxYUdnWokULvvrqK4YPHy7JRQlJciGEHg4dOsT06dMZN24cM2fOJDs7m2PHjuHp6cmiRYv0bhqxsLAA8r48TUxMWLt2LdWrVzfEqQN5neQSEhIeuV/f5KJhw4ZFJi+GUL58+Wd+JIexb8Dnzp0zavyhQ4cW+hk0Gg337983atmGYmJiopVY5KtatarWkG1RPJJcCKGH4OBgQkNDtX6dN27cmLfffpuAgAA2btyoV/yCX9hWVlYGTSwAatWqZfSmHWOrXLmy1myNxnDjxg2CgoJ0nue/1lfBGh6NRqP13BCJR8FhlYXRd4bOotYuMVTilF/78jBDNbuYmppy69YtqlWrprX95s2bBpuT5UUiyYUQekhPTy+02t/W1pY7d+7oHb+omxroP0OnsdvDnZycjBofwNzc3OhlDBgwoNDnhb1+EsauWSg4rPJhhpihs7Cao6ysLLZt20Z4eLhBpmAv6hrdvXtX7/hDhgxh1KhRzJw5E3t7ezQaDSdPnmT+/PmFdnwWRZOhqELooUuXLmzfvl1nOuucnBy6d++u92iJh5OJh+mbXFy4cIE333xTrxhF+eeff4rcX6tWLaOV/bSkp6cXWp1eErt376ZTp05AXj8YKysrZd9XX33FqFGj9Ir/NF2+fJnw8HCio6OxsrLC3d2dIUOGGKWs33//nbCwMOLi4gwynDY8PJxVq1Zx9epVVCoVNjY2jBgxwiAJ5ItGkgsh9DB37lwsLCyYMWOGsi03Nxd/f3/Mzc21tusrfwlxS0tLg8U0dvLi6Oio05Ewn0ql4scff9QrPjy6vT+fIaa9/uijj/j6668B3bk7evXqpbNKZ0kVjPFwPEPEf7jfi0qlwsrKiiZNmlC5cmW9YkPeDJlxcXGEh4dz7tw5OnTowC+//MKBAwcM3p/k3r17xMTEEBYWxqVLl+jRowfDhw+nQYMGBisjNTUVExMTrSRPlIw0iwihh6lTpzJ27Fg6d+6Mra0tubm5nDp1ivr16z/2xl1cMTExrFixQhluZ2Njw8SJEw02tt+Y9J1ErDiKau83FGOvmFnUUFRDxH+4065Go+HWrVvMnDmTxYsX6z0JWLt27WjWrBnDhg2jXbt2lClTho4dOxo0sThz5gybNm0iLi4OOzs7hgwZQkhIiMH6DD2u47G+nZtfNJJcCKGH8uXLs379eg4fPszJkydRqVS4u7sbZBgqwI4dO1i5ciXe3t40b95cGY0SGBiIubm53n0ajLkYFxTdkVClUhnkOj2NkSJPc8VMYwx1fdQN+PLly3h5eemdXPTs2ZO4uDju3r3LrVu36Nq1q17xCtO7d2+cnJyIjo5WmtNWrVplsPhFjZoCSS5KSpILIQzA1NRUWWfEkDebb775htDQUK3F0Tp06MDrr7+Op6en3slFUfNDqFQqZRXTJ1VYR0KVSsXx48cBtGZDfFL5TS+PYoiml4KMMWz035ooq169egYZKvrpp58ydepU9u3bR2RkJIGBgUBeLU/nzp0NsgbPypUr2bJlCz179uTdd9/FxcXFoB2Si6oBSU9PN1g5LwpJLoTQw/379xk/fjyXLl2iSZMmZGdn880331CvXj1CQkIoW7asXvEfPHhQ6Kqrr7zyCllZWXrFhsJ/9f/555+sXr2at99+W+/4GzZs0Hp97do1Zs2axRtvvKHcgAxdBsDWrVtZtWoV7u7uBinD2CtmXrlyRTnXgs81Go1Rp//Ozc1FrVYbJJapqSmOjo44OjqSkpJCTEwMISEh+Pn5ceDAAb3jv//++7z//vukpqYSGxtLUFAQ165dY86cOQwaNEjv9WVSUlL45ptvqFy5MsOGDcPMzAy1Ws2mTZsIDg7m559/1vszvEikQ6cQeggMDCQ7OxsvLy9lxEhWVhZ+fn6ULVu2yJqB4ujatStRUVGUK1dOa3tGRgZ9+/Zl+/btesV/2Pr161m5ciVjx47F3d3doL+oN2/ezBdffIG7uzsfffSRUVaUTUlJ4bPPPuPPP/8kICAAW1tbg8QdOnRokfsLS3BK4vDhw0Xu17fpp7DmqbS0NKKjo6lduzaffvqpXvGLcvr0ad566y2jxD579iwRERFs27aNQ4cO6RVrxIgRVKhQgdTUVNq2bUv79u2ZPn06mZmZTJ48+Zno41SaSHIhhB5cXV3ZsmWLzlDU7OxsXF1d9R6KunTpUpKSkvD391eWXL979y6zZs2iUaNGjBs3Tq/4+RITE5VEyN/fn1deecUgcSFvRdGZM2dy+/ZtAgMDjbaC6datWwkICOCDDz5gwoQJT2X+C0MpOBTVGB5OjvJHQrRq1Yr+/fvrnehlZmayfPlynJ2dsbe3x9/fn82bN9O4cWOWLFnyyBVl9aFWqzlz5gyvvPIK5cqV0/vfu1OnTuzevZv09HQGDBjAnTt3GDp0KMOHD1dmyhUloBFCPDEXF5dH7uvevbve8bOzszWffvqpplmzZpoPPvhA06tXL03Tpk01Pj4+GrVarXd8jUajWbdunaZ169aadevWGSxmvu+//17Tpk0bzapVqzS5ubkGjZ3v1q1bGg8PD0337t01p06dMkoZI0eOVJ4nJCQYPH7Pnj2V556engaPb2ze3t4aHx8fzc2bNzV79+7VtG7dWnPlyhXNf/7zH8348eMNUsaVK1c0vXr10uzZs0fz4MEDTd++fTXvv/++pn379pojR47oHd/NzU153rZtW83Ro0f1jvkikz4XQuihQoUKnDt3joYNG2ptP3v2rEHmozAzMyMwMBAPDw9OnTqFSqXC3t6el19+We/YkDcr4YkTJxg5ciSWlpZER0dr7de3h/zs2bOBvBqYL774QtmuMeDCZc7OzmRmZtK5c2e+/fZbnf2GGKpYcChqQECA3vNOPExToAL5jz/+MGjsfJcvX6ZSpUpYW1sTGhrK0aNHsbW15aOPPtK7b9Dx48eJjY0F8jrQOjs7U7duXerWrcuSJUsMcfr4+voycuRI2rdvzw8//EBGRga7du3i+vXrTJkyRe9ZQAs2AVavXt1giwO+qCS5EEIPEydOZMKECUycOBE7Oztyc3M5fvw4K1eu1Fq6WR/Z2dlUrFgRJycnduzYQUJCAiYmJri6uurdJ6JOnTrY2Nhw7do1rl27prNf3+TC2NNaQ95Ihac52kJjhJbkolZdNYRVq1YRFhaGqakpLVq0ICkpic6dO3P48GFmz57NwoUL9YpfcGGvhIQEpk2bprzOzs7WK3a+69ev061bNwB+/vlnunbtipmZGbVr1zbIaI6CnXYzMzM5cuSI1r+1vuuvvGgkuRBCD++99x6+vr6EhIQwZ84cAJo0acKiRYt455139I5/+fJlRo8ezZgxY+jXrx+LFi2iRYsWnDt3jgcPHvDBBx/oFd9QIzYe5eGOhPkzQ9arV89gK0327t3bIHGKYuybf3Z2NlevXkWtVivPC97Y9J0mPTY2lh07dpCRkUGnTp34+eefKVeuHIMHD8bFxUXf06dy5cqcOHGCjIwMkpOTadOmDZCXaLz00kt6x4f/JXUajYaEhAQGDx6svDbEiJ2aNWuybNkyAKytrZXnYJj1V140klwIoafWrVvrPQnRowQEBDBz5kw6duwIQKVKlQgICCAxMZGpU6fqnVw8PJrFxMQES0tL2rZty7vvvqtXbCh8notbt26RmZlJSEhIoYu+ldTD81zkf4Y2bdrg4eGhdITVxz///KNcq4LP8+nb9JKRkcGQIUOUG2j+jRMMM026mZkZ5cqVo1y5ctjY2Cijj0xNTXVGIj2JmTNn4unpya1bt/Dx8aF8+fKEhISwYcMGvvzyS73jAzRo0IDQ0FCysrKwsLCgWbNmZGVlsWbNGpo0aaJ3fH1H/AhtklwIoYfHDTXV96aTmJioJBYAVapUAfKmADfE5EcPD3HU/P+00IsXL+a///3vY4dgPs6jvrAPHz6Mv7+/Qb7QH46h0WhISUlh8+bNBAYG4uPjo3cZBdeIMcaMoMaeJr1gLdHDI0MMURPToEEDnWHR3bp1Y+jQoVSqVEnv+AA+Pj4sXryYmzdvEhwcjImJCf7+/ly+fJmlS5fqHf/69ev4+vpy5coVmjVrxpQpUwy6js+LRoaiCqGHgh37VqxYobPORa9evfSK37VrV3bu3FnoPldXV6UTnaHdvXuXQYMGGS0+GPf8IW+oYrdu3dixY4fRynhWNG3aFDs7OwBOnjypPNdoNJw+fZqjR4/+m6dXKowcOZK33noLBwcH5W/GUOuWvIik5kIIPRRMHtatW6d3MvGwunXrcuDAAd577z2t7fv37zfoXBQPq1SpklEmuSrI2L9rTExM9B4F8bwwVNPE8+z69eusXr0ayGvqlLVE9CPJhRAGYoyOfpMnT2bkyJH06dNH6a1+9OhRIiIiWLduncHLy5eSkmKQm/8///yjsy0tLY2IiAjl17OxnDhxwiD9LZ4HT2Nxt2ddwUm4zM3Nn6lJ2EojSS6EKMUaN27Mpk2bWLNmDYsXLwbAzs6OjRs3UrduXb3jF7Ys/N27d9m7d6/WsuJPasiQIahUKiVRKdjZcvLkyXrHh7zZJx9O7NLS0khLS9OaW0Mf+fNyFOby5cvUq1dPr/jfffcdgwYNAuDixYtas5j6+fkxa9YsveIb28yZM5VF7q5cucKrr75q8DKK+jcwhn9rMbnnhfS5EEIPBW/OYWFhDBgwQGu/sZc019fDyUX+UNGWLVsabZpuQ3t4XY78BKZ+/foGG+7aq1cvpX/NvHnzlMnBHt5niPgPxzNEfGMr6vyNUcbWrVvp3r27QePb2tpqTVN+/fp1atasqSQ1hl5d93knNRdCGMjDiYUhFPxFuGXLFq0+HQMHDmTTpk16xS/tyU9xPI0q/4K/wR7u/GiI32cFYxjr994ff/xBhQoVtG6gt27d4osvvmDevHl6xX4a518w7urVqw2eXDyq47R4MpJcCKGHom7OhuiBX3B67PXr12slF5mZmXrHF8VTsIr84ZunoavPjVEdv2LFCtasWQNAcHAwLVu2ZPXq1axatcog01wbe5Kxh+MaI4GpXbu2wWO+yCS5EEIPx44dIzAwECsrK/z9/alevTpJSUksWLCAffv28fvvv+sVv6hfhM96m/Bvv/1mkFlMnzZjXHdj/1tGRUWxc+dOkpOTWb58OV999RU3b95k2bJlOiORnsSNGzeUJraCz/MZuobsWf/bfxFIciGEHnx8fOjTpw/Xrl0jODiYxo0b4+fnR8eOHdm2bZve8Z/GL8JH+fzzz/n888+NFn/UqFFGn1/BUHNp3L59m6ioKDQajfIc8hK+O3fu6B3/4sWLymRp169fV55rNBpu3Lihd/wKFSpgbW2NtbU1J06coGfPnnz99dcGG25csEnQGM2DkNdR1N3dXed5Ppmeu3SR5EIIPeTk5DBs2DA0Gg3vv/8+v/76K998843BVlQsas0JQy0I9SgxMTFGTS6eRl/ypKQkg8Rp1aoVCQkJOs8BWrZsqXd8Y7f3F+zYWqVKFa0ZRw2hYM1EWloagMFntzT2XB0nTpzA3t6+0H3R0dG4ubkZtfznjSQXQujBwsICyKtVMDExYe3atVSvXt1g8R+35oQxGfvm/zRqYgxVRlEzNRoigaldu7ZRO1wWvA7GmlgsJiaGFStWKNfDxsaGiRMn4urqapD4+R13r169yunTp4G8ER6GWhjNx8dHGY3Sv39/wsPDlX1r166V5KKEJLkQQg8Fv7StrKwMmliA8decKIohbsz5zQcP02g05Obm6h3/afnvf//LihUrqFy5MlOmTKFChQqkp6cTHBzMd999p3ffGmN3uCyq2cUQwyx37NjBypUr8fb2pnnz5mRnZyv9kczNzXFyctL7M6jVambPns3WrVupX78+2dnZJCYm0r17d+bMmaP3sOOCyfSDBw8euU8UjyQXQujB2B3ZHv4FZWiFTUAFeV+mhlgYrWDzwcMMsdQ3QMOGDR/5GQzFy8sLe3t7bty4QUhICC1atGDmzJnY2NjwzTff6B3f2B0ujd3s8s033xAaGoqNjY2yrUOHDrz++ut4enoaJLlYtWoVaWlpHDhwQGlySUlJYfbs2Xz55ZeMGzdOr/hF9W+SDqQlJ8mFEHowdke2h39BGdrDC60VZIgv1Ec1J9y7d4+tW7fqHR/g3Llzj9x39+5dg5SRmprKzJkzycrKonv37uzYsYOZM2fSrVs3g8Q3dofLwoZZZmVlsX37dsLCwggLC9Mr/oMHD7QSi3yvvPIKWVlZesXOFxcXR1hYGOXLl1e2Va1alQULFtCvXz+9kwthWJJcCKEHY3dku3PnziObFgC9F1cqbAKqrKwstm3bRnh4uN43nYedO3eOTZs2sXXrVl599VX69+9v0Pj5fv/9d8LCwoiLi+PYsWN6xytXrhyQ18fmwYMHrF27ltdee03vuPmM3eGyoMuXLxMeHk50dDRWVlY6oy6exP3798nMzFSuU76MjAyDNX9pNBqtxCJfhQoVDDIT6z///IOXl5fO8/zXomQkuRBCT8bsyJaRkVFk04IhV240xk0H8n7Vbtu2jU2bNnHhwgVMTEz48ssvDT6z5r1794iJiSEsLIxLly7Ro0cPgyVHBWtxqlSpYtDE4uH4xuhwmZ2dTVxcHOHh4Zw7d44OHTpgbm7Ozp07DVJD5eTkhLe3N/7+/spicXfv3mXWrFkG69BpYmJCUlISderU0dqemJiodKzWR8GE7uG/TVn4reQkuRBCD8buyFarVq0iRyroy9g3HV9fX+Li4rCzs2Po0KE4OjrSo0cPg35Znzlzhk2bNinlDBkyhJCQEINet4LzXBRWm6RvkmfsDpft2rWjWbNmDBs2jHbt2lGmTBk6duxosL4EEydOxNvbmzZt2lCvXj1ycnK4cuUKPXr0YOzYsQYpY+TIkUyYMIHZs2djZ2dHTk4Ox48fx9/fn48//ljv+AVnv32YoZrwXiSSXAihB2N3ZCuqU+J///tfvX9BG/umExcXh729PV26dOH999+nYsWKBu8c17t3b5ycnIiOjqZWrVpAXuc/QypqngvQP7kwdofLnj17EhcXx927d7l16xZdu3Y1aHwzMzMCAwPx8PDg1KlTqFQq7O3tefnllw1WRo8ePcjJyWH69OlcvXoVyOvT8fHHH9OlSxeDlVOYzz77zOBrmTzvJLkQQg/G7si2YMECrdc5OTns2rWLTZs2cerUKb37Exj7prNv3z72799PZGQk8+bNo1WrVmRmZpKVlWWQqmyAlStXsmXLFnr27Mm7776Li4uLwYcOFlULcvDgQb3jG7vD5aeffsrUqVPZt28fkZGRBAYGAnnJX+fOnQ3WcbROnTo6zRaG1Lt3b3r37k1KSgoqlYoqVaoYrayCZChqycmS60LooWvXrkRFRRXaka1v375s377dIOUkJiYSHh5OZGQkaWlpjB07lkGDBlG1alW9Y+fm5io3nfwbZWBgoEFvOpA3bDA2NpbIyEiuXbtGnz59mD59usHip6amKvEvXLhA//79GTRokFGWjk9JSeGHH35g8+bNPHjwgP379xssdmF9X4YMGWKw+JB3/jExMURGRpKamsqBAwcMGv9506xZM6NPVf+8keRCCD0sXbqUpKSkQjuyNWrUSO/hcf/5z38ICwvj9OnTdO7cGScnJ2bPnm20ybWe1k3n9OnTbNmyBW9vb71jPbwUPeStJhsREcG2bds4dOiQ3mXkS0hIYNOmTezevRsTExPmzJlD9+7dMTc31ytuYX1ffvnlFw4cOGD0ORZOnz7NW2+9ZdQyngUPz1FT0JdffsnJkyef4tk8+yS5EEIPOTk5eHt785///EenI5uPj4/eN4aGDRvi5OSEp6cndevWBaBjx456d/ArDkPcdH799dci9zdv3lyv+JDXES9/2uaHZWdn633jh7zpn8PDwzE3N8fZ2RlnZ2dGjBhhsCSvdevWNGvWjJ49e2r1fTHUv/NHH33E119/DeTdKMeMGaPsK+r6Fdfu3bvp1KkTkDd82srKStn31VdfMWrUKL3iPw1FJRdg+JVdn3fS50IIPeR3ZJswYQKnT582eEe2mJgYtmzZwqBBg6hduzbdunUz6LTZBcfyF0bfERfLly9/5D6VSmX0lSwNkVgALFmyBEdHRwYPHoyDgwMqlcqgNQrG7vty8+ZN5XlcXJxWcmGI35fBwcFKcjF8+HCtZGX79u0GSS6++OILJk+eDMBPP/1E27ZtlX0ff/wxy5Yt0yv+o5KHxMRENm/erFfsF5EkF0IYgI2NDTY2Nhw7doy4uDjeeustgwy3fPPNN5XOeHv27GHLli3cvHmT0aNHM3jwYNq3b69XfGOP39+wYYNR44P2MM6CDDWME2D//v1s3bqVgIAAbty4gbOzs8FmngTjd7gsmAg9nEwYIkkqGPPh+IaqHN+3b5+SXCxatEgrufjzzz8NUkY+tVpNfHw8YWFh/PLLLzg6Oho0/otAkgsh9LB3715mzpxJ9erVGT58OIsXL6Zp06Zs2LCB/v37a/1C1IepqSmdOnWiU6dOpKSkEB0dzeLFi/VOLqytrbW+pI3h0KFDWFtbU69ePSAv4ahfvz6tW7c2SPy6desSGhpqkFiPUrlyZYYMGcKQIUM4d+4ckZGR5OTk0L17dwYOHKi1Wu2TMjU1xdHREUdHR6XvS0hICH5+fgbt+2LsPhzGWpejqATGUGVcv36d8PBwIiIiUKlU3Lt3jx07dhQ6IkwUTZILIfSwdOlS1qxZQ1paGiNGjGDnzp3Url2btLQ0PvjgA4MkF3fu3CE3N1cZGXLp0iXc3Nz48MMP9Y798C9AQ9u+fTtLly5l6dKlyrZq1aoxe/Zspk2bZpDqf3Nz80KHchpLw4YNmTlzJtOnTyc+Pp7IyEiDJBcFVa1aleHDhzN8+HBleXF93Lt3jyNHjqBWq8nIyNDqC5ORkaF3/Ke9sJcxyhs3bhznz5/H0dGRJUuW0KxZMzp27CiJxROS5EIIPTVs2BDIm9si/yZnaWlZ6DoIJXXmzBlGjx6Nv78/7dq1A/Lam6dMmcJXX32llF1aff3113z77bfUrFlT2ebi4oK9vT2TJk0ySHLRrFkzvWM8zsMdU1UqFVZWVnTq1MkgEzg9vDqtiYkJlpaWtG3bln79+ukdv2bNmkqfBGtra62+MNbW1nrHv3LlijJdfMHnGo3GYE0Wxk5gkpOTqVmzJpUrV6ZKlSoG71fzopHkQgg9FFwwKX8oqiHNnz+fxYsX07JlS2Wbp6cnDg4OBAYGsnbtWr3iF7wRFEbfDpcajUYrschXp04d1Gq1XrHzffbZZwD89ttvynBBOzs73nnnHYPEh8I7pt66dYvMzExWrlypd5L38Oq0Go2GW7duERUVxfXr15k0aZJe8b/88kuDJLtFxTe2s2fP0qhRI6VJpGHDhqhUKqVvjb4iIiK4cOECkZGRDBkyBGtra9LT07lx4wY1atTQO/6LRpILIfRw48YNZQhbwef5r/WVlpamlVjke++991i0aJHe8WvUqGHUIXYajYZ79+5RoUIFre3p6elkZ2cbpIz79+8zfvx4Ll26RJMmTcjOzuabb76hfv36BAcHG2QhsEd1TD18+DB+fn56d1x9VMfaTp060atXL72TCzc3NwICAnBwcNArzqM8jYW9zp07Z/Qy3nzzTWbMmMHUqVPZu3cvERERdOrUifbt2xc58knokuRCCD0MGDCg0OeFvX4SOTk5qNVqnSWl1Wq1QW7OFSpUMOqNwc3NDU9PT+bMmaMMz7127Rqff/653uuu5Pviiy947bXXCA0Nxcws7ystKysLPz8/li5d+tjhtvpo0aIFt2/fNlp8CwsLg0yT7uPjg5eXFx07duSTTz4x2NTr+fJrEfLl1ybk///Zs2f1LuNpzJmSz8zMTOlAfevWLWJiYgwW+0UhyYUQejD2xDrNmzcnKChI55drSEgItra2esc3dkfIDz/8kNTUVJydnalYsSIajYbMzEyGDBnChAkTDFLGTz/9xJYtW5TEAvJuyt7e3ri6uho1uQDjrjuRmJhokCr/d999l5iYGJYtW0bfvn357LPPlEXeAK3nT2Lo0KEcOXKEJk2a4OLioswFYkhDhw6lWrVqyqijgtfdUHOm7Nmzh/r162NjY8Pu3bv54YcfaNy4MePHj9c79otGZugUQg+Ojo5FfonqO8dCeno6o0eP5saNG9jZ2aHRaDhz5gxVq1Zl5cqVVK5cWa/4T0tGRgZ//PEHJiYm1KtXjzJlyhRaI/MkunXrxrZt2wrd5+rqSmxsrN5l/PPPPzrb0tLSiIiIID09Xe/JxgpLgNLS0jh58iTz5s3Te8hxvszMTLy8vPjpp5+wtLQ06FwgGo2G3377je3bt3P8+HEcHBzo1q0bb7/9tgHOPG8W0B07dvDXX3/RoUMHXFxc9F4VuKDVq1ezfft25s+fT05ODgMGDGDWrFlcunQJtVrNrFmzDFbWi0CSCyH08PfffwN5X6xjxozRmW/BEDUDGo2GX375hbNnz2JiYoKtra3B2s4fVZ2dT9/q7Pv37xMVFUXlypW1mkH27dvHggULHpkUlES/fv2YO3euTqfKs2fP4uvry8aNG/UuIz+JzP+6zB/N0bp1a8aPH6/Tp6SkHp5+O380SpMmTQy28ufevXuZO3cu7777LtOnT6dixYoGiVsYtVpNQkICy5YtIzk52aBr4dy/f5+9e/eyfft2kpOTcXR0xMXFRe/VWHv06EF4eDjlypVj0aJF/PPPPyxZsgSNRoOLiws7duww0Cd4MUiziBB6KJg8WFhYGKWZQaVS0bp1a4NNOlXQw53k1Go1X331FWvXruWTTz7RO/6nn37KP//8o0xr7ejoiLe3N8ePHzfYehMTJ05kwoQJTJw4ETs7O3Jzczl+/DgrV65k/vz5BinDWAvF5ctfeC0rK4vLly+Tm5vLG2+8QZkyZbh+/TpmZmZUq1btieNPmjSJM2fO4OfnZ5S/o4JOnTrFzp072b17N7Vq1TJ4k0LZsmVxcnLCycmJy5cvM2vWLJYuXap3IqxSqZTVjRMSEhg0aJCyXZScJBdCCCBvqe8ZM2ZgaWlJZGSkQdZHOXnyJLt27eLOnTuMHj2a1atX8+6777Jw4UKDLBcPeSNnfH19CQkJYc6cOQA0adKERYsWGXQ46p07dwgLC+P3339HrVZja2vLoEGD2Lt3L7Vq1aJVq1Z6xQ8NDSU0NBRzc3MePHiARqNh5MiRnD9/nlGjRumVXNSoUYOYmBijDUf9/fffiYuLIz4+njp16uDs7MymTZuM0mz3999/ExcXx65du8jJyaFr164sXLhQ77impqakpaWRkZHB2bNnlcnl/v77b63+PKJ45IoJ8YLTaDSEhoYqtRUffPCBwWJbWloqv7qvXbuGj4+PQSadKih/yXVj/iL/+++/GTRoEE2bNqVt27Y8ePCA48eP4+bmRvXq1fVuegkLC2PPnj2Eh4crHRYvXLjA9OnTefnll7G3t9cr/uzZs/V6/+P079+fl19+GUdHR6pUqcK1a9f49ttvlf2G6PgcGhrKrl27UKvVODk5sWjRIoPOnjl69Gh69uxJTk4Offv2xdraWplh1lCdj18kklwIoYeCMysWNiGVIXqw5+bmkpubi4WFBenp6fz000+8+eabBunMVrC2YsuWLbz00kt6xyyoYJVytWrVDJ5YQN41zm9WMJYFCxYwZcoUevToobV95MiRlC1bVu8age+//57Vq1dr9a949dVXycnJKbQzaWkzYcIEozcfLFmyhJo1a/LKK69w4MABDh48qLVf3//WnJycaNq0KampqUr/nQoVKuDr61voXDOiaJJcCKGHh2dWNLSTJ08yfvx4AgICaNKkCT179qRGjRqkpqYydepUZZnrJ9WzZ08grxlh+vTpOvv1/cLOzs7m6tWrqNVq1Go1V69e1RpCqO8QyKfljz/+0FnSOyUlhXLlynH58mW94+fk5Oh03MzKysLb2xs/Pz+94xubsf87AMMk6o9Ts2ZNrRllDTVK50UkyYUQenh4Aqrr16+Tm5uLqalpodNel9SCBQtYtmwZzZo1Y8OGDVhZWbFp0yZu377NiBEj9E4uVq9erfc5FiUjI4MhQ4YoCUXBBb4MNQTyaSy5XtiEZVWrViUoKMgg66MA3L59W6uPQsWKFXnzzTcNEtvYHjeXiL5DdeHpzAIqDEeSCyH0kJ6ejre3N3Z2dowcOZIPPvgAMzMz0tLSCAoK0ruT3507d5SFuQ4dOqTcyCpXrmyQGTrr1q37yCTo0KFDesc39igLeDpLrr/55pts374dFxcXre3btm3jjTfe0Dt+//79mThxIr6+vtStWxeA//73v3z22WcGmenV2J7Gjf9Rc8oYMokUhiPJhRB6CAwMpHbt2gwfPhzI+zUbFRXFkSNH+Oqrr/ROLvJ/8WdnZ/Prr78ybtw45fW9e/f0ig0wduxYZY6FiRMnsmLFCmXfggULdOZfKKnvvvtOGdJ38eJFrRuxn5+fQSYmehpLrk+bNo3Bgwfz448/Kp0rf//9d44eParVcfFJDR48mDt37tCrVy9MTU1RqVTk5uYyatQogy/nbgzW1tbK6Apj0Xf9FvF0SXIhhB4OHz7Mrl27dLY7ODjw+eef6x2/efPmzJkzh+zsbGrWrImdnR3Xr19n5cqVvPvuu3rHL9j/ITEx8ZH7ntTmzZuV5GL69OlaycqRI0f0jg9PZ8l1GxsboqKiCA8P55dffgHyVl6dPXu2wSa5Gj9+PCNHjlT6cOTPZPosWLRokdGTi61btzJmzBijliEMR5ILIfRgbm6u9To4OPiR+57EjBkzWLduHTdv3lSWtf7uu++4f/++stS4PgpWMz9c5WyI3v8FExRjTQZsiOtQHFWrVlVqjgBSU1MNOo/D+fPnqVq1Ko0bN+bEiRMsWLCARo0a0bdvX4OV8SyLi4uT5OIZIsmFEHooX748V65c4dVXXwX+N2PnH3/8ocz2pw8LCwudmSw9PT31jvtveJZnOkxJSeHzzz9n8ODBtGzZEg8PDw4ePEj16tVZtWoV9evX1yt+VFQUy5cvZ9myZdy/f59hw4bh7u7OgQMHuH79eqmfZ6GwYdgFPY2RHqJ0keRCCD2MGDGCcePGMXPmTGUlyKNHj+Lr61vo0M6SyszMZPny5Tg7O2Nvb4+/vz+bN2+mcePGyrh/fdy4cYOgoCCd5/mv9fUsJxQFzZs3D1tbW2xtbdm+fTtnzpzh4MGD/Pnnn/j5+fHNN9/oFX/dunX88MMPygiUli1b4unpSU5ODm5ubqU+uahRo4bRVwg+e/YsjRo10tluyGXdheFIciGEHpydncnJycHX15c///wTlUqFjY0NH3/8MR06dNA7vr+/P6amptSuXZt9+/axdetWoqKiuHjxInPnztVqhnkSBUciPDwqwRCjFAoOE71+/bryXKPRGCR5eVouXbrE0qVLAdi/fz9OTk5UrFiRt956i+TkZL3jq9VqZTr0hIQEZVTKszLtdIUKFYw+YqRhw4ZERUUZtQxhOM/GX64QpZirqyuurq7cuXMHACsrK4PFPn78uLJk+I8//oizszN169albt26LFmyRO/4xv61uXPnTqPGf1oK1sD88ssv+Pr6Kq8zMzMNEj8rK4uMjAyOHTuGv78/kNevIzc3V+/4xmbs0Tri2SPJhRB6+PXXX4vc37x5c73im5iYKM8TEhKYNm2a8toQ81wAREREsHHjRv773/9SpkwZ6tevz+DBg3F2dtY79vPSLFKrVi22b99OZmYmmZmZyq/06Ohog8xz8cEHH9C/f38gb1ZIGxsbDh06xNKlS+nXr5/e8Y2tYHOasTg5ORm9DGE4klwIoYfly5c/cp9KpdK7I1vlypU5ceIEGRkZJCcn06ZNGyAv0TDEOiBff/010dHRjB8/XpkN8vz586xatYrbt28zcOBAveI7OjpiZWVFxYoVAe0RI8/SxEc+Pj589tln3Lp1i8WLF2NhYUFAQAB79uwxyARegwcPxs7Ojhs3btCuXTsgrxlpwIAB9O7dW+/4z4OxY8f+26cgSkClMdb4MCGE3s6fP4+npye3bt3Cy8uLnj17EhISwvr16wkNDdV7tcxu3brx7bff6szVkJyczJgxY/SeRGvt2rXs3r2bChUq4OzsTKdO/9fevUdFWed/AH8/gBdQf6Cb2spBa9PEAlQWLZTUCIzhYoNpmiB2Owq25a2DoCaYCBKSpYiogS5WjJfhqjKa4iWVW+EmwqiBqxuZKPcAjbk8vz88zDqA1PZ8Z+bBPq9z9px5nmfP5/N11+N85vt8v5+vh67Q6OkaGxsxYMAAvdmlP6vGxkamrwNJz0fFBSECGKMDZUc3btzQLf4bMGCAoFivvPIKsrKyunzm7+8vuLhod/PmTeTm5uL48eMYNGgQfHx84O7ujr59+zKJT0yL5d+Vhzl37pzBG3URdqjkJkSAAwcO6D533HrKqgNlRw0NDYiOjtZNnwthrF/dw4YNw9tvv420tDQsXboUqampcHV1NUpuYnjG+I26adMmg+cg7NCaC0IEMEYHSgBoaWlBdnY2ZDIZKioqMGPGDMhkMsFxO/a26PiMlXv37uH06dNQKBS4ePEiJk+ejCVLljCL/6jRarUoLy/H8OHD8X//93+mHs5vqqmp6XZRp6F3JRHxoeKCEEYMsTOivLwcaWlpUCgUcHR0RGBgIBITE5kcYQ1038uCRZ+LI0eOQKFQ4NKlS3Bzc8Nrr72G+Pj4HrlOobKyEgcPHsS1a9d0u2pmzZqFYcOGCY5948YNLFu2DO+//z4mTZqEgIAA1NbWQqvVIj4+Hn//+98Z/Al6NuoC2rNQcUGIAIbeajlz5kx4eXkhKytL9yWWlJTELL6hf1EuX74cf/3rX+Hi4gKVSoXs7GxkZ2frnrMqkgzt9OnTCA0Nhbe3N6ZOnQqO43DlyhXMmjULn376qeAGUlFRUXj77bcxdepUHDx4EK2trTh27Biqq6uxYsUKJrNUhmSMDp3GyEHYoeKCEAHaO1DyPI/bt28z70C5fft2ZGRkQCqVws3NDd7e3kxfv4SHh3f7XOiXf3R09CPR62LLli1ITk6Gg4OD3v2ZM2ciNjYWX375paD41dXV8PHxAQCcP38eL7/8MiwsLGBra4vm5mZBsY2hu7+TZ8+eZXKCrzG6gBJ2qLggRIDuOlCy+FJ98cUX8eKLL6K+vh45OTlISEjArVu3sG7dOsybN09wAydD/2P9qPRoaGtr61RYAICTkxNaW1sFx2//cuZ5HoWFhQgICNBds4hvaHv27NG7rqurw8GDB7F//360tbXhzJkzgnM8rAtoVVUV9u/fj+XLlwvOQdih4oIQAebPn99lEXH79m2o1WpmhykNHDgQQUFBCAoKglKphFwuR1BQEPLz8wXF9ff3ZzK+h2mfyXmYntJEy9BnfIwePRo7d+5EW1sbevfuDWdnZ7S1tSElJQXjxo0zaG4W2o+eLywsRFpaGo4fPw4zMzOsW7cOvr6+THI8uGBUq9UiLy8PMpkMBQUFcHd3Z5KDsEPFBSEC5OXl6V23tLQgNjYWZ8+exfr16w2Sc8yYMVizZk2nxld/RMdTV2NiYrB//35mp66OHj0aSqUS06ZNg7e3N5PFj6bQ0tKCb7/9tsvpfxYzCxEREYiPj0dNTQ22bdsGMzMzREdHo7KyUndgmpjt2bMH+/btQ69evSCRSLB06VK89dZbzIvX6upq7Nu3D3K5HBzHoaWlBbm5ubCzs2OahwhHTbQIYSQ/Px9r1qzB5MmTERoaavBOlM7OzigpKREU48MPP4S5uTnee+89XLp0CeHh4UhLS8MPP/yAjIwMwaeuAkBzczOOHz8OhUKBlpYWeHh4wMvLS3DhYkzz58/v9vnevXuNNBJxcnJygru7OwICAuDi4gKO4/DSSy8xnZkKDg7G1atX4e7uDolEAmdnZ7z00kudCnwiDjRzQYhAra2t2Lhxo262wlhdBFn8LjD0qasA0L9/f0ilUkilUjQ1NeHrr7/GkiVLYGFhgS+++IJJDkMzdPGg1Wrx1VdfYeLEiXj66aeRmpqKAwcO4JlnnsGHH34o+pbpZ86cwaFDhxATE4M7d+5AIpGgra2NaY47d+5g6NChsLGxwcCBA8Fx3COxWPhRRcUFIQI8OFuRk5ODfv36GS03i39YjXHqaru6ujocO3YMCoUCzc3N8PT0ZBrfkLprEMVxHN59911B8ePj41FZWYlp06bhu+++w2effYatW7fihx9+QFRUFDZu3CgovqHZ2NggMDAQgYGBuHz5MtLT06FWq+Hr64vXX39dt0BVCLlcjqtXryI9PR2BgYEYMmQImpubcefOHQwePJjBn4KwRK9FCBHA3t4eFhYWGDJkiN6XPc/zTE797G6raE5ODi5duiQo/oIFC7BixQq0trYiJCQE586dg5WVFQoLC5GQkCD4F/udO3d0BUVdXR2mT5+Ol19+Gfb29oLiGltXxUVDQwP27duHYcOGdbtr6Pfw8/NDRkYGLCwssGHDBrS0tCA6OhoAIJFIkJubKyi+KajVauTl5SE9PZ1pb5b22KdOnUJ6ejrOnTuHqVOndntCMTE+mrkgRABD73bobqsoi22k4eHhWL58OWpraxEREQErKyskJiZi79692LFjh+D4U6ZMweOPP47p06fD3t4eHMfh8uXLuHz5MgBAKpUKzmEMHZs3nThxAuvWrcPrr7/OZAukmZmZbkdKUVERFi1apHum1WoFxzcFCwsLTJ8+HdOnTzdIbA8PD3h4eKCmpkb3ao+IB81cECJyGo0GbW1tsLS0BHC/DfXw4cPRq1cvg+RrP3VV6ImrABAWFtbt65ue0qGzXVNTEz766COUlpZiw4YNcHFxYRJ37ty5+OSTT9DS0gJ/f3+cPXsWNjY2uHz5MlavXg25XM4kDyFGwxNCROs///kP7+npyR89elR3b/Xq1fz06dP5qqoqwfG//PJL3eerV6/qPYuKihIc/1Fy4sQJfsqUKXx0dDR/9+5dprELCgp4Nzc3fty4cfz27dt5nr///82kSZP406dPM81lLHV1dbxWqzX1MIiJ0MwFISIWHBwMHx8f+Pn56d2Xy+U4ceIEEhMTBcX39/dHRkZGp89dXf9RxcXFSExMRGlpKQDA0dER7777LrNf/cbwwQcf4NixYwgJCely3BMmTBCco62tDffu3dOdgvr999/D2toaTzzxhODYhlZXV4fIyEgEBARg4sSJ+Mc//oFz587hscceQ1JSEkaOHMkkj0ajgUajQe/evdHc3Ixz587h6aefxpNPPskkPmGH1lwQImK3bt3qVFgAwKuvvtqp5fIfwRv4yPj8/HyEhoYiJCQEq1atgkqlwoULF7Bs2TJs2rQJzz33HPOchlBdXY2xY8fi/PnzOH/+vN4zjuOYnch56tQpvSLMy8uLSVxDW79+PRwcHODg4IDc3FwolUqcPXsWN27cwIYNG7B7927BOUpLS7F48WLExMRg3LhxkEqlGDx4MOrr6/HBBx/Aw8ODwZ+EsELFBSEiplarjZbLED0Dtm3bhp07d2LMmDG6e8888wzGjh2LmJgYwQd+GUt3u2b+/e9/C45fX1+PoKAg9O3bV3eCbGpqKnbt2oXU1FQm3VgNqaKiQtdJ9MyZM/Dy8kL//v3x7LPP4vbt20xyfPzxx/jss8/g7OyMvXv3wtraGmlpaWhoaMBbb71FxYXIUHFBiIiNGTMGBw4cwOzZs/Xuy+VyJi2PDd2EqLm5Wa+waOfg4IDGxkaD5jYktVqNY8eOQSaTobS0FBcuXBAULy4uDn5+fli4cKHe/cTERMTFxem2pYrVg3+PCgoKEBUVpbu+e/cukxyNjY1wdnYGcH9G7OWXXwZwv8cG654sRDgqLggRsdDQUAQGBiInJwdjx44Fz/MoLS3FzZs3mUw1tx8ZD9yf+md9ZHxrayvUanWng7/UarVRZ2VY+fHHHyGTyZCRkYGmpiYEBwfj008/FRy3tLS0ywJi8eLFui9RMRs2bBiOHDmCu3fv4u7du7pt0llZWYJP7m3X/tpOpVKhuLgYISEhuuuWlhYmOQg7VFwQImKDBw9GZmYmDh8+DKVSCY7j4O/vD4lEgj59+giOL7T5029xc3PDpk2bEBYWprun0WgQExODadOmGTQ3S19//TVkMhnKysrg6emJuLg4fPjhh536X/xR3f3yNjc3Z5LDkCIiIrB27VrU1NQgPj4evXv3RkxMDPLy8rBr1y4mOSZMmIB169ZBpVJh6NChcHR0RHV1NbZv3w43NzcmOQg7tFuEkD+5a9euoV+/fnoHidXW1uLTTz8VfLJra2srgoOD8fPPP8PBwQEajQaXLl3CyJEjkZCQgN69ewsdvlHY29vDy8sLy5Ytw4gRIwCA6cFcCxYsQEhICJ5//nm9+/n5+fj888+RnJzMJI8xNTU1oX///not5oVoa2vDP//5T9TU1CAoKAi2trbYvHkzqqursXbtWlhZWTHJQ9ig4oKQP7GtW7ciJSUFwP3Fl8899xySk5ORlJSE8ePHM/tSKyoqQmlpKTiOg5OTU4/ahgoAV69eRUZGBrKzs2FrawsfHx/s3r0bp06dYhL/4sWLWLx4MebOnQsnJydoNBpcuHAB6enp+Pzzz3tEu/STJ09i5MiRsLOzw/Hjx3Hw4EE888wzWLx4cafXYuTRR8UFIX9iL730EtLS0nD79m1s2bIFKpUKNTU1CA0NxQsvvMAkR2NjIzQaDQYNGgTgfqExcuRI3XVPotFocPLkSWRkZOD06dOYNGkS5s2bx+QVT0VFBZKTk/WKsEWLFmH48OHCB25gycnJOHLkCGJjY6FWqzF37lysXr0aFRUV0Gq1WL16teAcd+/exZYtWyCRSODk5ITo6GjdybGffPKJ3swbEQGTtO4ihPwht27d4n/66Sf+1q1bTOL5+fnpPj/33HN8TEwMr1armcTmeZ4vKyvjJ0+erNdl8pNPPuHd3Nx4pVLJLI8p1NbW8ikpKXr/GxrCd999Z9D4LPj5+fGtra08z/N8XFwcv2zZMp7neV6r1fJeXl5McqxZs4aPiIjga2pq+FOnTvGurq789evX+a+//ppfvHgxkxyEHTYvwwghBtHc3IylS5fqXk/Mnj0bgYGB8PHxQUFBgeD4D74PHzhwIMLCwpguIIyNjUV8fDymTJmiu7ds2TJER0eL/hjx3zJo0CC8+eabuu2RQly4cAGvvfYaFi1ahJqaGgBAVVUV3n//fbz55puC4xsax3G6s28KCwt1s14stzr/61//QmRkJP7yl7/gxIkTkEgkGDFiBDw8PJj0GiFsUXFBiIht3LgRtra2eOONNwDc/0LLy8tDUlISk62oD/7j37dvX8HxOmpqauqyC+cLL7yA+vp65vlMITs7W3CMiIgI+Pj44G9/+xu2bduGAwcOwNfXF7169cLhw4cZjNKwzM3N0dTUhFu3bkGpVGLy5MkAgJ9++onZeosHC+HCwkK4urrqrqnPhfjQKhtCRKyoqAjHjh3rdN/FxQWRkZGC43fX54LjOMG7IdRqNbRabacdA1qt9pH5QuAZLFtTq9VYsGABeJ7Hiy++iOLiYuzevRvjx49nMELDW7hwIaRSKdRqNWbNmoUhQ4bgyJEj2Lx5M959910mOWxsbHDx4kW0trbi9u3bmDRpEoD7hcbjjz/OJAdhh4oLQkSs47Hq27Zte+izP8LQfS4mTJiAhIQEvP/++3r3ExMT4eDgYNDcxsJi6r99Sy7HcTAzM8OePXvw2GOPCY5rLF5eXhg/fjzq6+t1O1v69euHqKgoZufHrFq1CsuWLUNtbS0iIiJgZWWFxMREpKamYufOnUxyEHaouCBExKysrHD9+nXdyZi2trYA7vemaH/HLUR7PENZvnw5Fi5ciJycHDg6OoLneZSXl2PQoEHYvn27QXOzNH/+/C6LCJ7n8euvvwqO/2Bsa2vrHlVYtBs6dKjejg1XV1ccOXIEc+fOhUwmExx/9OjROHLkiN49Hx8fzJ8/X3Bswh4VF4SI2FtvvaU7UdTFxQUcx6GkpARRUVEIDQ019fB+U//+/fHll1+ioKAASqUSZmZmCAgI6HF9Lt577z2Dxr9z5w4SEhI6fW7HqhOoMVRWVmLfvn3IysqCtbU1goKCDJaroaEBSUlJUCgUgs93IWxRnwtCRC4nJwcJCQm4ceMGOI6DnZ0dlixZAh8fH1MPjTDSsZjoSOzFhUqlgkKhwL59+3D58mVMmzYNBQUF+Oabb5gfjtfS0oLs7GzIZDJUVFRgxowZeOONNzB69GimeYgwVFwQ0kO0nyJqbW1t4pEQos/V1RXOzs6QSqWYMmUK+vTpw7Q9OgCUl5cjLS0NCoUCjo6OkEgkSExMxMmTJ5nlIOzQaxFCRCwzM7Pb51Kp1CjjIIb31VdfYfDgwfD09MTs2bNRV1cHc3Nz7Nq1S3eeiVhJpVIoFAr88ssvqK2tNchJrjNnzoSXlxeysrIwbNgwAEBSUhLzPIQNmrkgRMTCw8M73VOpVDh69Cj69evHpJEWMb0dO3YgPz8fERERePLJJ+Hn54ekpCScPHkS5eXlXR7HLjYajQanT59Geno6zp49C+B+nxZPT08mjdna264XFBTAzc0N3t7eiI6ORl5enuDYhD0qLgjpQcrKyhAWFobhw4dj3bp1PXJXAelMIpHg4MGD6NevH4D7MwGZmZnQarXw8/PrEY20HlRXV4fs7Gykp6ejvr4e33zzDbPY9fX1yMnJQXp6Oq5evYo5c+Zg3rx5GDVqFLMcRDgqLgjpAdRqNbZu3Qq5XI6wsDD4+vqaekiEIV9fXxw6dEh3ffToUd2rBX9/f2RkZJhqaIIVFxdjwoQJBomtVCohl8tx+PBh5OfnGyQH+WNozQUhIldeXo6VK1dixIgRyMzMpNmKR5BWq0VzczP69+8PALrC4pdffjHlsJhYtGgRSkpKDBJ7zJgxWLNmDQYOHGiQ+OSPo7NFCBGxzZs3IyAgAL6+vli1ahXa2tpw8+ZN3X/Io8HPzw8rV65Ec3Oz7l5LSwtWrVqFGTNmmHBkwhljcrz9YD8iHvRahBARc3d3133mOE7vH2oWZ38QcdBoNIiMjMShQ4fw1FNPgeM4VFRU4JVXXmFyhowpOTs7G2zmot348eOpiZbIUHFBCCEiUV1djYsXLwIAnn32Wd2WS7F72JZpnucRGRmJ77//3qD5jVHAkP8NrbkgRMSKi4u7fW6ohXLENIYOHQpPT09TD+N/VlhY+NBn3t7eTHJ0tS27XVtbG5MchB2auSBExLo7lInjOKSmphpxNIT8fmq1GhYW7H6//taOGX9/f2a5iHBUXBBCCBHk119/xdq1a+Hh4aGbeQkODoa1tTXWr1+vO1JeKI1Gg7a2Nt2JwJWVlRg+fDh69erFJD5hh3aLECJyDQ0N+OKLL/DRRx8hNjYWcrkcra2tph4WITqxsbGwtLTEpEmTdPc2bdqE3r174+OPP2aS48cff4REItFryLV79274+vrip59+YpKDsEMzF4SI2MWLF7Fw4UI4OTlh1KhR4DgOV65cgVKpRHJyMp0ESUTBz88PWVlZMDPT/72qUqng7++v1yDsjwoODoaPjw/8/Pz07svlcpw4cQKJiYmCcxB2aEEnISK2ceNGxMbGYurUqXr38/LyEBsbi5SUFBONjJD/Mjc371RYAECvXr2Yrbu4detWp8ICAF599VXs2bOHSQ7CDr0WIUTEGhsbOxUWwP3+F3V1dSYYESGd2djYoLS0tNP90tJS9O3bl0kOtVrNJA4xDpq5IETEulsIx3GcEUdCyMMtXboUISEhmDt3LsaOHQue51FaWoq0tDTExcUxyTFmzBgcOHAAs2fP1rsvl8thZ2fHJAdhh4oLQkRMpVLh559/7rKFskqlMsGICOls3Lhx+Pzzz5GSkoKjR4+C4zg4ODggJSUFTz/9NJMcoaGhCAwMRE5Ojl4Bc/PmTezevZtJDsIOLegkRMTc3d07tf1+UF5enpFHRIjp3L17F4cPH4ZSqdQVMBKJBH369DH10EgHVFwQQgghhCla0ElID9XVynlCCBEDKi4I6aGqqqpMPQRCAEDvqPiOrly5YsSRELGg4oKQHop2ixCxmDVrFi5dutTpfnJyMoKCggySs7q6Gjdv3kR1dbVB4hNhqLgghBAiyMaNG7F8+XLdro3q6mosWLAACoUCMpmMSY7m5mYsXboUycnJAIDZs2cjMDAQPj4+KCgoYJKDsEMLOgkRMXt7+067RdqvOY6DUqk04egI+a+GhgasXbsW9fX1uHbtGubOnYuQkBBmHTrXrFkDa2trLF++HObm5pBKpcjMzMS3336LXbt2YceOHUzyEDaozwUhInb58mVTD4GQ38XCwgJWVlYoLy+HhYUFxowZw/TI9aKiIhw7dqzTfRcXF0RGRjLLQ9ig4oIQESsuLu72+YQJE4w0EkIerrCwEOHh4Zg6dSoOHTqE69evY8WKFThz5gxWrVrFpAV4x2PVt23b9tBnxPSouCBExLZs2fLQZxzHITU11YijIaRrK1aswIYNG3Tn4Njb20Mul2P9+vWQSqVQKBSCc1hZWeH69et44oknAAC2trYAgGvXrsHS0lJwfMIWrbkghBAiSF1dHQYNGtTls9zcXEgkEsE5cnNzsWXLFqxatQouLi7gOA4lJSWIiopCaGgopk2bJjgHYYeKC0JELDMzU++a4zhYW1tj3LhxsLGxMcmYCPk9vv/+e8hkMigUCly4cIFJzJycHCQkJODGjRvgOA52dnZYsmQJfHx8mMQn7FBxQYiIhYeH613zPI/a2lqUlZUhPj4erq6uJhoZIZ21tLQgOzsbMpkMFRUVmDFjBt544w2MHj2aaZ7GxkYAgLW1NdO4hB0qLgjpgSorKxEeHo79+/ebeiiEoLy8HGlpaVAoFHB0dIREIkFiYiJOnjzJLEfHWbyOpFIps1xEOFrQSUgP9NRTT+HevXumHgYhAICZM2fCy8sLWVlZGDZsGAAgKSmJaY7CwsJO91QqFY4ePYp+/fpRcSEyVFwQ0gNpNBpotVpTD4MQAMD27duRkZEBqVQKNzc3eHt7g/WkeExMjN51WVkZwsLCMGXKFKxbt45pLiIcvRYhRMS66nPR1NSErKws2NraYuXKlSYYFSFdq6+vR05ODtLT03H16lXMmTMH8+bNw6hRo5jlUKvV2Lp1K+RyOcLCwuDr68ssNmGHigtCRGz+/Pl612ZmZrC2tsbzzz+POXPmwNzc3EQjI+S/MjIy4O/vr3dPqVRCLpfj8OHDyM/PZ5KnvLwcK1euxIgRIxAZGYnHHnuMSVzCHhUXhBBCBPH390dGRkaXz1QqFZMOmps3b0ZqaiqCg4Ph5+fX6Xn7Wg8iDlRcECJylZWVGDBgAIYMGYKdO3eipKQEDg4OeOedd5i0VSZEqO6KC1bc3d11n7s6zO/EiRMGzU/+N1RcECJiSUlJkMlkMDc3x8SJE1FVVQVPT08UFRXB0tIScXFxph4iIXBwcMDQoUM73W8/vZe++P98aLcIISKWk5OD3NxctLa2wsPDA+fPn4elpSUCAgLg7e1t6uERAgAYMWIEdu7cadAcdIhfz0LFBSEiZmFhAUtLS1haWsLOzk53QJO5uTkd1kREo1evXrqDxAyFDvHrWai4IETEzMzMdJ877gzhOM7YwyGkS87OzgbPsXfvXoPnIOzQmgtCRGz8+PFwdHQEAJSWluo+8zyPsrIylJSUmHJ4hBhVQ0MDDh06hGvXrqFPnz4YOXIkJBIJrKysTD000gEVF4SIWFFRUbfPJ06caKSREGJaFy9exMKFC+Hk5IRRo0aB4zhcuXIFSqUSycnJzA9HI8JQcUEIIUT05s2bh0WLFmHq1Kl69/Py8vDFF18gJSXFRCMjXTH77f8KIYQQYlqNjY2dCgvgfv+Luro6E4yIdIeKC0IIIaLXu3fvhz6jxc3iQ7tFCCGEiJ5KpcLPP//c5WmrKpXKBCMi3aHighBCiOi1trYiMDCQ+VHuxDBoQSchhBBCmKI1F4QQQnq0rk5JJaZFxQUhhJAeraqqytRDIB1QcUEIIaRHo90i4kPFBSGEEEKYot0ihBBCRM/e3h4cx+ntFmm/ppkL8aHdIoQQQghhimYuCCGEiF5xcXG3zydMmGCkkZDfg2YuCCGEiN78+fMf+ozjOKSmphpxNOS3UHFBCCGEEKbotQghhBDRy8zM1LvmOA7W1tYYN24cbGxsTDIm8nA0c0EIIUT0wsPD9a55nkdtbS3KysoQHx8PV1dXE42MdIWKC0IIIT1WZWUlwsPDsX//flMPhTyAmmgRQgjpsZ566incu3fP1MMgHVBxQQghpMfSaDTQarWmHgbpgBZ0EkIIEb2u+lw0NTUhKysLL7zwgglGRLpDay4IIYSIXsc+F2ZmZrC2tsbzzz+POXPmwNzc3EQjI12h4oIQQgghTNFrEUIIIT1CZWUlBgwYgCFDhmDnzp0oKSmBg4MD3nnnHfTt29fUwyMPoJkLQgghopeUlASZTAZzc3NMnDgRVVVV8PT0RFFRESwtLREXF2fqIZIHUHFBCCFE9Hx8fHDw4EG0trbCw8MD58+fh6WlJTQaDby9vXH06FFTD5E8gF6LEEIIET0LCwtYWlrC0tISdnZ2sLS0BACYm5vrPhPxoD4XhBBCRM/M7L9fVx13hnAcZ+zhkN9Ar0UIIYSI3vjx4+Ho6AgAKC0t1X3meR5lZWUoKSkx5fBIB/RahBBCiOjt2LHD1EMg/wOauSCEEEIIU7TmghBCCCFMUXFBCCGEEKaouCCEEEIIU1RcEEIIIYSp/wfpYpsCVnGcJwAAAABJRU5ErkJggg==\n",
      "text/plain": [
       "<Figure size 432x288 with 2 Axes>"
      ]
     },
     "metadata": {},
     "output_type": "display_data"
    }
   ],
   "source": [
    "sns.heatmap(new_df.corr())"
=======
   "execution_count": null,
   "id": "bridal-doctrine",
   "metadata": {},
   "outputs": [],
   "source": [
    "plt.figure(figsize=(10, 8))\n",
    "#sns.distplot(test_df['SALE PRICE'], color='g', bins=100, hist_kws={'alpha': 0.4});\n",
    "plt.plot(x, y)"
>>>>>>> c5990ad2cbf3ec7f1620873055a9ab83588d3f52
   ]
  },
  {
   "cell_type": "code",
   "execution_count": null,
<<<<<<< HEAD
   "id": "frozen-mills",
=======
   "id": "parental-enclosure",
>>>>>>> c5990ad2cbf3ec7f1620873055a9ab83588d3f52
   "metadata": {},
   "outputs": [],
   "source": [
    "plt.figure(figsize=(10, 8))\n",
    "#sns.distplot(test_df['SALE PRICE'], color='g', bins=100, hist_kws={'alpha': 0.4});\n",
    "plt.plot(x, y)"
   ]
  }
 ],
 "metadata": {
  "kernelspec": {
   "display_name": "Python 3",
   "language": "python",
   "name": "python3"
  },
  "language_info": {
   "codemirror_mode": {
    "name": "ipython",
    "version": 3
   },
   "file_extension": ".py",
   "mimetype": "text/x-python",
   "name": "python",
   "nbconvert_exporter": "python",
   "pygments_lexer": "ipython3",
   "version": "3.8.5"
  }
 },
 "nbformat": 4,
 "nbformat_minor": 5
}
