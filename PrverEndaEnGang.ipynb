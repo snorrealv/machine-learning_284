{
 "cells": [
  {
   "cell_type": "markdown",
   "metadata": {},
   "source": [
    "# *SALE PRICE PREDICTION NYC SALES*"
   ]
  },
  {
   "cell_type": "markdown",
   "metadata": {},
   "source": [
    "## Importing Data and Others"
   ]
  },
  {
   "cell_type": "code",
   "execution_count": 4455,
   "metadata": {},
   "outputs": [],
   "source": [
    "import pandas as pd\n",
    "from collections import Counter\n",
    "import numpy as np\n",
    "import matplotlib.pyplot as plt\n",
    "import seaborn as sns\n",
    "import re\n",
    "from sklearn.model_selection import GridSearchCV\n",
    "\n",
    "df = pd.read_csv(\"nyc-rolling-sales.csv\")\n",
    "\n",
    "from sklearn.model_selection import train_test_split\n",
    "from sklearn.linear_model import LinearRegression\n",
    "from sklearn.linear_model import Ridge\n",
    "from sklearn.linear_model import Lasso\n",
    "from sklearn.ensemble import RandomForestRegressor\n",
    "\n",
    "from sklearn.metrics import mean_squared_error\n",
    "from sklearn.preprocessing import LabelEncoder"
   ]
  },
  {
   "cell_type": "markdown",
   "metadata": {},
   "source": [
    "## Presenting the Data"
   ]
  },
  {
   "cell_type": "code",
   "execution_count": 4456,
   "metadata": {},
   "outputs": [
    {
     "data": {
      "text/html": [
       "<div>\n",
       "<style scoped>\n",
       "    .dataframe tbody tr th:only-of-type {\n",
       "        vertical-align: middle;\n",
       "    }\n",
       "\n",
       "    .dataframe tbody tr th {\n",
       "        vertical-align: top;\n",
       "    }\n",
       "\n",
       "    .dataframe thead th {\n",
       "        text-align: right;\n",
       "    }\n",
       "</style>\n",
       "<table border=\"1\" class=\"dataframe\">\n",
       "  <thead>\n",
       "    <tr style=\"text-align: right;\">\n",
       "      <th></th>\n",
       "      <th>Unnamed: 0</th>\n",
       "      <th>BOROUGH</th>\n",
       "      <th>NEIGHBORHOOD</th>\n",
       "      <th>BUILDING CLASS CATEGORY</th>\n",
       "      <th>TAX CLASS AT PRESENT</th>\n",
       "      <th>BLOCK</th>\n",
       "      <th>LOT</th>\n",
       "      <th>EASE-MENT</th>\n",
       "      <th>BUILDING CLASS AT PRESENT</th>\n",
       "      <th>ADDRESS</th>\n",
       "      <th>...</th>\n",
       "      <th>RESIDENTIAL UNITS</th>\n",
       "      <th>COMMERCIAL UNITS</th>\n",
       "      <th>TOTAL UNITS</th>\n",
       "      <th>LAND SQUARE FEET</th>\n",
       "      <th>GROSS SQUARE FEET</th>\n",
       "      <th>YEAR BUILT</th>\n",
       "      <th>TAX CLASS AT TIME OF SALE</th>\n",
       "      <th>BUILDING CLASS AT TIME OF SALE</th>\n",
       "      <th>SALE PRICE</th>\n",
       "      <th>SALE DATE</th>\n",
       "    </tr>\n",
       "  </thead>\n",
       "  <tbody>\n",
       "    <tr>\n",
       "      <th>0</th>\n",
       "      <td>4</td>\n",
       "      <td>1</td>\n",
       "      <td>ALPHABET CITY</td>\n",
       "      <td>07 RENTALS - WALKUP APARTMENTS</td>\n",
       "      <td>2A</td>\n",
       "      <td>392</td>\n",
       "      <td>6</td>\n",
       "      <td></td>\n",
       "      <td>C2</td>\n",
       "      <td>153 AVENUE B</td>\n",
       "      <td>...</td>\n",
       "      <td>5</td>\n",
       "      <td>0</td>\n",
       "      <td>5</td>\n",
       "      <td>1633</td>\n",
       "      <td>6440</td>\n",
       "      <td>1900</td>\n",
       "      <td>2</td>\n",
       "      <td>C2</td>\n",
       "      <td>6625000</td>\n",
       "      <td>2017-07-19 00:00:00</td>\n",
       "    </tr>\n",
       "    <tr>\n",
       "      <th>1</th>\n",
       "      <td>5</td>\n",
       "      <td>1</td>\n",
       "      <td>ALPHABET CITY</td>\n",
       "      <td>07 RENTALS - WALKUP APARTMENTS</td>\n",
       "      <td>2</td>\n",
       "      <td>399</td>\n",
       "      <td>26</td>\n",
       "      <td></td>\n",
       "      <td>C7</td>\n",
       "      <td>234 EAST 4TH   STREET</td>\n",
       "      <td>...</td>\n",
       "      <td>28</td>\n",
       "      <td>3</td>\n",
       "      <td>31</td>\n",
       "      <td>4616</td>\n",
       "      <td>18690</td>\n",
       "      <td>1900</td>\n",
       "      <td>2</td>\n",
       "      <td>C7</td>\n",
       "      <td>-</td>\n",
       "      <td>2016-12-14 00:00:00</td>\n",
       "    </tr>\n",
       "    <tr>\n",
       "      <th>2</th>\n",
       "      <td>6</td>\n",
       "      <td>1</td>\n",
       "      <td>ALPHABET CITY</td>\n",
       "      <td>07 RENTALS - WALKUP APARTMENTS</td>\n",
       "      <td>2</td>\n",
       "      <td>399</td>\n",
       "      <td>39</td>\n",
       "      <td></td>\n",
       "      <td>C7</td>\n",
       "      <td>197 EAST 3RD   STREET</td>\n",
       "      <td>...</td>\n",
       "      <td>16</td>\n",
       "      <td>1</td>\n",
       "      <td>17</td>\n",
       "      <td>2212</td>\n",
       "      <td>7803</td>\n",
       "      <td>1900</td>\n",
       "      <td>2</td>\n",
       "      <td>C7</td>\n",
       "      <td>-</td>\n",
       "      <td>2016-12-09 00:00:00</td>\n",
       "    </tr>\n",
       "    <tr>\n",
       "      <th>3</th>\n",
       "      <td>7</td>\n",
       "      <td>1</td>\n",
       "      <td>ALPHABET CITY</td>\n",
       "      <td>07 RENTALS - WALKUP APARTMENTS</td>\n",
       "      <td>2B</td>\n",
       "      <td>402</td>\n",
       "      <td>21</td>\n",
       "      <td></td>\n",
       "      <td>C4</td>\n",
       "      <td>154 EAST 7TH STREET</td>\n",
       "      <td>...</td>\n",
       "      <td>10</td>\n",
       "      <td>0</td>\n",
       "      <td>10</td>\n",
       "      <td>2272</td>\n",
       "      <td>6794</td>\n",
       "      <td>1913</td>\n",
       "      <td>2</td>\n",
       "      <td>C4</td>\n",
       "      <td>3936272</td>\n",
       "      <td>2016-09-23 00:00:00</td>\n",
       "    </tr>\n",
       "    <tr>\n",
       "      <th>4</th>\n",
       "      <td>8</td>\n",
       "      <td>1</td>\n",
       "      <td>ALPHABET CITY</td>\n",
       "      <td>07 RENTALS - WALKUP APARTMENTS</td>\n",
       "      <td>2A</td>\n",
       "      <td>404</td>\n",
       "      <td>55</td>\n",
       "      <td></td>\n",
       "      <td>C2</td>\n",
       "      <td>301 EAST 10TH   STREET</td>\n",
       "      <td>...</td>\n",
       "      <td>6</td>\n",
       "      <td>0</td>\n",
       "      <td>6</td>\n",
       "      <td>2369</td>\n",
       "      <td>4615</td>\n",
       "      <td>1900</td>\n",
       "      <td>2</td>\n",
       "      <td>C2</td>\n",
       "      <td>8000000</td>\n",
       "      <td>2016-11-17 00:00:00</td>\n",
       "    </tr>\n",
       "    <tr>\n",
       "      <th>5</th>\n",
       "      <td>9</td>\n",
       "      <td>1</td>\n",
       "      <td>ALPHABET CITY</td>\n",
       "      <td>07 RENTALS - WALKUP APARTMENTS</td>\n",
       "      <td>2</td>\n",
       "      <td>405</td>\n",
       "      <td>16</td>\n",
       "      <td></td>\n",
       "      <td>C4</td>\n",
       "      <td>516 EAST 12TH   STREET</td>\n",
       "      <td>...</td>\n",
       "      <td>20</td>\n",
       "      <td>0</td>\n",
       "      <td>20</td>\n",
       "      <td>2581</td>\n",
       "      <td>9730</td>\n",
       "      <td>1900</td>\n",
       "      <td>2</td>\n",
       "      <td>C4</td>\n",
       "      <td>-</td>\n",
       "      <td>2017-07-20 00:00:00</td>\n",
       "    </tr>\n",
       "    <tr>\n",
       "      <th>6</th>\n",
       "      <td>10</td>\n",
       "      <td>1</td>\n",
       "      <td>ALPHABET CITY</td>\n",
       "      <td>07 RENTALS - WALKUP APARTMENTS</td>\n",
       "      <td>2B</td>\n",
       "      <td>406</td>\n",
       "      <td>32</td>\n",
       "      <td></td>\n",
       "      <td>C4</td>\n",
       "      <td>210 AVENUE B</td>\n",
       "      <td>...</td>\n",
       "      <td>8</td>\n",
       "      <td>0</td>\n",
       "      <td>8</td>\n",
       "      <td>1750</td>\n",
       "      <td>4226</td>\n",
       "      <td>1920</td>\n",
       "      <td>2</td>\n",
       "      <td>C4</td>\n",
       "      <td>3192840</td>\n",
       "      <td>2016-09-23 00:00:00</td>\n",
       "    </tr>\n",
       "    <tr>\n",
       "      <th>7</th>\n",
       "      <td>11</td>\n",
       "      <td>1</td>\n",
       "      <td>ALPHABET CITY</td>\n",
       "      <td>07 RENTALS - WALKUP APARTMENTS</td>\n",
       "      <td>2</td>\n",
       "      <td>407</td>\n",
       "      <td>18</td>\n",
       "      <td></td>\n",
       "      <td>C7</td>\n",
       "      <td>520 EAST 14TH   STREET</td>\n",
       "      <td>...</td>\n",
       "      <td>44</td>\n",
       "      <td>2</td>\n",
       "      <td>46</td>\n",
       "      <td>5163</td>\n",
       "      <td>21007</td>\n",
       "      <td>1900</td>\n",
       "      <td>2</td>\n",
       "      <td>C7</td>\n",
       "      <td>-</td>\n",
       "      <td>2017-07-20 00:00:00</td>\n",
       "    </tr>\n",
       "    <tr>\n",
       "      <th>8</th>\n",
       "      <td>12</td>\n",
       "      <td>1</td>\n",
       "      <td>ALPHABET CITY</td>\n",
       "      <td>08 RENTALS - ELEVATOR APARTMENTS</td>\n",
       "      <td>2</td>\n",
       "      <td>379</td>\n",
       "      <td>34</td>\n",
       "      <td></td>\n",
       "      <td>D5</td>\n",
       "      <td>141 AVENUE D</td>\n",
       "      <td>...</td>\n",
       "      <td>15</td>\n",
       "      <td>0</td>\n",
       "      <td>15</td>\n",
       "      <td>1534</td>\n",
       "      <td>9198</td>\n",
       "      <td>1920</td>\n",
       "      <td>2</td>\n",
       "      <td>D5</td>\n",
       "      <td>-</td>\n",
       "      <td>2017-06-20 00:00:00</td>\n",
       "    </tr>\n",
       "    <tr>\n",
       "      <th>9</th>\n",
       "      <td>13</td>\n",
       "      <td>1</td>\n",
       "      <td>ALPHABET CITY</td>\n",
       "      <td>08 RENTALS - ELEVATOR APARTMENTS</td>\n",
       "      <td>2</td>\n",
       "      <td>387</td>\n",
       "      <td>153</td>\n",
       "      <td></td>\n",
       "      <td>D9</td>\n",
       "      <td>629 EAST 5TH STREET</td>\n",
       "      <td>...</td>\n",
       "      <td>24</td>\n",
       "      <td>0</td>\n",
       "      <td>24</td>\n",
       "      <td>4489</td>\n",
       "      <td>18523</td>\n",
       "      <td>1920</td>\n",
       "      <td>2</td>\n",
       "      <td>D9</td>\n",
       "      <td>16232000</td>\n",
       "      <td>2016-11-07 00:00:00</td>\n",
       "    </tr>\n",
       "  </tbody>\n",
       "</table>\n",
       "<p>10 rows × 22 columns</p>\n",
       "</div>"
      ],
      "text/plain": [
       "   Unnamed: 0  BOROUGH   NEIGHBORHOOD  \\\n",
       "0           4        1  ALPHABET CITY   \n",
       "1           5        1  ALPHABET CITY   \n",
       "2           6        1  ALPHABET CITY   \n",
       "3           7        1  ALPHABET CITY   \n",
       "4           8        1  ALPHABET CITY   \n",
       "5           9        1  ALPHABET CITY   \n",
       "6          10        1  ALPHABET CITY   \n",
       "7          11        1  ALPHABET CITY   \n",
       "8          12        1  ALPHABET CITY   \n",
       "9          13        1  ALPHABET CITY   \n",
       "\n",
       "                       BUILDING CLASS CATEGORY TAX CLASS AT PRESENT  BLOCK  \\\n",
       "0  07 RENTALS - WALKUP APARTMENTS                                2A    392   \n",
       "1  07 RENTALS - WALKUP APARTMENTS                                 2    399   \n",
       "2  07 RENTALS - WALKUP APARTMENTS                                 2    399   \n",
       "3  07 RENTALS - WALKUP APARTMENTS                                2B    402   \n",
       "4  07 RENTALS - WALKUP APARTMENTS                                2A    404   \n",
       "5  07 RENTALS - WALKUP APARTMENTS                                 2    405   \n",
       "6  07 RENTALS - WALKUP APARTMENTS                                2B    406   \n",
       "7  07 RENTALS - WALKUP APARTMENTS                                 2    407   \n",
       "8  08 RENTALS - ELEVATOR APARTMENTS                               2    379   \n",
       "9  08 RENTALS - ELEVATOR APARTMENTS                               2    387   \n",
       "\n",
       "   LOT EASE-MENT BUILDING CLASS AT PRESENT                 ADDRESS  ...  \\\n",
       "0    6                                  C2            153 AVENUE B  ...   \n",
       "1   26                                  C7   234 EAST 4TH   STREET  ...   \n",
       "2   39                                  C7   197 EAST 3RD   STREET  ...   \n",
       "3   21                                  C4     154 EAST 7TH STREET  ...   \n",
       "4   55                                  C2  301 EAST 10TH   STREET  ...   \n",
       "5   16                                  C4  516 EAST 12TH   STREET  ...   \n",
       "6   32                                  C4            210 AVENUE B  ...   \n",
       "7   18                                  C7  520 EAST 14TH   STREET  ...   \n",
       "8   34                                  D5            141 AVENUE D  ...   \n",
       "9  153                                  D9     629 EAST 5TH STREET  ...   \n",
       "\n",
       "  RESIDENTIAL UNITS  COMMERCIAL UNITS  TOTAL UNITS  LAND SQUARE FEET  \\\n",
       "0                 5                 0            5              1633   \n",
       "1                28                 3           31              4616   \n",
       "2                16                 1           17              2212   \n",
       "3                10                 0           10              2272   \n",
       "4                 6                 0            6              2369   \n",
       "5                20                 0           20              2581   \n",
       "6                 8                 0            8              1750   \n",
       "7                44                 2           46              5163   \n",
       "8                15                 0           15              1534   \n",
       "9                24                 0           24              4489   \n",
       "\n",
       "   GROSS SQUARE FEET YEAR BUILT TAX CLASS AT TIME OF SALE  \\\n",
       "0               6440       1900                         2   \n",
       "1              18690       1900                         2   \n",
       "2               7803       1900                         2   \n",
       "3               6794       1913                         2   \n",
       "4               4615       1900                         2   \n",
       "5               9730       1900                         2   \n",
       "6               4226       1920                         2   \n",
       "7              21007       1900                         2   \n",
       "8               9198       1920                         2   \n",
       "9              18523       1920                         2   \n",
       "\n",
       "   BUILDING CLASS AT TIME OF SALE  SALE PRICE            SALE DATE  \n",
       "0                              C2     6625000  2017-07-19 00:00:00  \n",
       "1                              C7         -    2016-12-14 00:00:00  \n",
       "2                              C7         -    2016-12-09 00:00:00  \n",
       "3                              C4     3936272  2016-09-23 00:00:00  \n",
       "4                              C2     8000000  2016-11-17 00:00:00  \n",
       "5                              C4         -    2017-07-20 00:00:00  \n",
       "6                              C4     3192840  2016-09-23 00:00:00  \n",
       "7                              C7         -    2017-07-20 00:00:00  \n",
       "8                              D5         -    2017-06-20 00:00:00  \n",
       "9                              D9    16232000  2016-11-07 00:00:00  \n",
       "\n",
       "[10 rows x 22 columns]"
      ]
     },
     "execution_count": 4456,
     "metadata": {},
     "output_type": "execute_result"
    }
   ],
   "source": [
    "df.head(10)"
   ]
  },
  {
   "cell_type": "code",
   "execution_count": 4457,
   "metadata": {},
   "outputs": [
    {
     "data": {
      "text/plain": [
       "(84548, 22)"
      ]
     },
     "execution_count": 4457,
     "metadata": {},
     "output_type": "execute_result"
    }
   ],
   "source": [
    "df.shape"
   ]
  },
  {
   "cell_type": "code",
   "execution_count": 4458,
   "metadata": {},
   "outputs": [
    {
     "name": "stdout",
     "output_type": "stream",
     "text": [
      "<class 'pandas.core.frame.DataFrame'>\n",
      "RangeIndex: 84548 entries, 0 to 84547\n",
      "Data columns (total 22 columns):\n",
      "Unnamed: 0                        84548 non-null int64\n",
      "BOROUGH                           84548 non-null int64\n",
      "NEIGHBORHOOD                      84548 non-null object\n",
      "BUILDING CLASS CATEGORY           84548 non-null object\n",
      "TAX CLASS AT PRESENT              84548 non-null object\n",
      "BLOCK                             84548 non-null int64\n",
      "LOT                               84548 non-null int64\n",
      "EASE-MENT                         84548 non-null object\n",
      "BUILDING CLASS AT PRESENT         84548 non-null object\n",
      "ADDRESS                           84548 non-null object\n",
      "APARTMENT NUMBER                  84548 non-null object\n",
      "ZIP CODE                          84548 non-null int64\n",
      "RESIDENTIAL UNITS                 84548 non-null int64\n",
      "COMMERCIAL UNITS                  84548 non-null int64\n",
      "TOTAL UNITS                       84548 non-null int64\n",
      "LAND SQUARE FEET                  84548 non-null object\n",
      "GROSS SQUARE FEET                 84548 non-null object\n",
      "YEAR BUILT                        84548 non-null int64\n",
      "TAX CLASS AT TIME OF SALE         84548 non-null int64\n",
      "BUILDING CLASS AT TIME OF SALE    84548 non-null object\n",
      "SALE PRICE                        84548 non-null object\n",
      "SALE DATE                         84548 non-null object\n",
      "dtypes: int64(10), object(12)\n",
      "memory usage: 14.2+ MB\n"
     ]
    }
   ],
   "source": [
    "df.info()"
   ]
  },
  {
   "cell_type": "markdown",
   "metadata": {},
   "source": [
    "As it is possible to se, we have several different types of data that are both categorical and continous. \n",
    "\n",
    "The countinous being :\n",
    "- Sale Price\n",
    "- Land Square Feet\n",
    "- Gross Square Feet\n",
    "- Year Built\n",
    "- Sale Date (Which will be converted to Month Sold and Year Sold)"
   ]
  },
  {
   "cell_type": "markdown",
   "metadata": {},
   "source": [
    "# Cleaning the Data"
   ]
  },
  {
   "cell_type": "code",
   "execution_count": 4459,
   "metadata": {},
   "outputs": [
    {
     "data": {
      "text/plain": [
       "0"
      ]
     },
     "execution_count": 4459,
     "metadata": {},
     "output_type": "execute_result"
    }
   ],
   "source": [
    "#Checking for any duplicates\n",
    "\n",
    "sum(df.duplicated(df.columns))"
   ]
  },
  {
   "cell_type": "code",
   "execution_count": 4460,
   "metadata": {},
   "outputs": [
    {
     "data": {
      "text/plain": [
       "0"
      ]
     },
     "execution_count": 4460,
     "metadata": {},
     "output_type": "execute_result"
    }
   ],
   "source": [
    "# Removing duplicates\n",
    "\n",
    "df = df.drop_duplicates(df.columns, keep='last')\n",
    "sum(df.duplicated(df.columns))"
   ]
  },
  {
   "cell_type": "code",
   "execution_count": 4461,
   "metadata": {},
   "outputs": [
    {
     "data": {
      "text/plain": [
       "(Unnamed: 0                        False\n",
       " BOROUGH                           False\n",
       " NEIGHBORHOOD                      False\n",
       " BUILDING CLASS CATEGORY           False\n",
       " TAX CLASS AT PRESENT              False\n",
       " BLOCK                             False\n",
       " LOT                               False\n",
       " EASE-MENT                         False\n",
       " BUILDING CLASS AT PRESENT         False\n",
       " ADDRESS                           False\n",
       " APARTMENT NUMBER                  False\n",
       " ZIP CODE                          False\n",
       " RESIDENTIAL UNITS                 False\n",
       " COMMERCIAL UNITS                  False\n",
       " TOTAL UNITS                       False\n",
       " LAND SQUARE FEET                  False\n",
       " GROSS SQUARE FEET                 False\n",
       " YEAR BUILT                        False\n",
       " TAX CLASS AT TIME OF SALE         False\n",
       " BUILDING CLASS AT TIME OF SALE    False\n",
       " SALE PRICE                        False\n",
       " SALE DATE                         False\n",
       " dtype: bool, Unnamed: 0                        False\n",
       " BOROUGH                           False\n",
       " NEIGHBORHOOD                      False\n",
       " BUILDING CLASS CATEGORY           False\n",
       " TAX CLASS AT PRESENT              False\n",
       " BLOCK                             False\n",
       " LOT                               False\n",
       " EASE-MENT                         False\n",
       " BUILDING CLASS AT PRESENT         False\n",
       " ADDRESS                           False\n",
       " APARTMENT NUMBER                  False\n",
       " ZIP CODE                          False\n",
       " RESIDENTIAL UNITS                 False\n",
       " COMMERCIAL UNITS                  False\n",
       " TOTAL UNITS                       False\n",
       " LAND SQUARE FEET                  False\n",
       " GROSS SQUARE FEET                 False\n",
       " YEAR BUILT                        False\n",
       " TAX CLASS AT TIME OF SALE         False\n",
       " BUILDING CLASS AT TIME OF SALE    False\n",
       " SALE PRICE                        False\n",
       " SALE DATE                         False\n",
       " dtype: bool)"
      ]
     },
     "execution_count": 4461,
     "metadata": {},
     "output_type": "execute_result"
    }
   ],
   "source": [
    "#Checking if there are any null values in the dataframe\n",
    "\n",
    "df.isna().any(), df.isnull().any()"
   ]
  },
  {
   "cell_type": "code",
   "execution_count": 4462,
   "metadata": {},
   "outputs": [],
   "source": [
    "# Replacing empty or '-' values with NaN\n",
    "\n",
    "df = df.replace(' ', np.nan)\n",
    "df = df.replace(' -  ', np.nan)"
   ]
  },
  {
   "cell_type": "code",
   "execution_count": 4463,
   "metadata": {},
   "outputs": [
    {
     "name": "stdout",
     "output_type": "stream",
     "text": [
      "Percentage null or na values in Dataset\n",
      "-------------------------------------\n"
     ]
    },
    {
     "data": {
      "text/plain": [
       "Unnamed: 0                          0.00\n",
       "BOROUGH                             0.00\n",
       "NEIGHBORHOOD                        0.00\n",
       "BUILDING CLASS CATEGORY             0.00\n",
       "TAX CLASS AT PRESENT                0.87\n",
       "BLOCK                               0.00\n",
       "LOT                                 0.00\n",
       "EASE-MENT                         100.00\n",
       "BUILDING CLASS AT PRESENT           0.87\n",
       "ADDRESS                             0.00\n",
       "APARTMENT NUMBER                   77.47\n",
       "ZIP CODE                            0.00\n",
       "RESIDENTIAL UNITS                   0.00\n",
       "COMMERCIAL UNITS                    0.00\n",
       "TOTAL UNITS                         0.00\n",
       "LAND SQUARE FEET                   31.05\n",
       "GROSS SQUARE FEET                  32.66\n",
       "YEAR BUILT                          0.00\n",
       "TAX CLASS AT TIME OF SALE           0.00\n",
       "BUILDING CLASS AT TIME OF SALE      0.00\n",
       "SALE PRICE                         17.22\n",
       "SALE DATE                           0.00\n",
       "dtype: float64"
      ]
     },
     "execution_count": 4463,
     "metadata": {},
     "output_type": "execute_result"
    }
   ],
   "source": [
    "#An overview of where there is any NaN values\n",
    "\n",
    "print(\"Percentage null or na values in Dataset\\n-------------------------------------\")\n",
    "((df.isnull() | df.isna()).sum() * 100 / df.index.size).round(2)"
   ]
  },
  {
   "cell_type": "markdown",
   "metadata": {},
   "source": [
    "### Removing some of the features\n",
    "\n",
    "Before further inspections, we decided to remove some of the features. These are:\n",
    "\n",
    "- \"Unnamed: 0\" : Dropping as it looks like an iterator\n",
    "\n",
    "- \"EASEMENT\" : Because it only contains NaN values\n",
    "\n",
    "- \"APARTMENT NUMBER\" : The number of the apartment is not relevant for sale price\n",
    "\n",
    "- \"ADDRESS\" : The address of the apartment is not relevant for the sale price\n",
    "\n",
    "- \"ZIP CODE\" : Not relevant\n",
    "\n",
    "- \"BLOCK\" : Not relevant\n",
    "\n",
    "- \"LOT\" : Not relvant"
   ]
  },
  {
   "cell_type": "code",
   "execution_count": 4464,
   "metadata": {},
   "outputs": [],
   "source": [
    "df = df.drop(['Unnamed: 0', 'ZIP CODE', 'BLOCK', 'LOT', 'ADDRESS', 'EASE-MENT', 'APARTMENT NUMBER'], axis=1)"
   ]
  },
  {
   "cell_type": "markdown",
   "metadata": {},
   "source": [
    "## Cleaning Sale Price"
   ]
  },
  {
   "cell_type": "code",
   "execution_count": 4465,
   "metadata": {},
   "outputs": [],
   "source": [
    "#Dropping all the NaN values\n",
    "\n",
    "df = df.dropna(subset=['SALE PRICE'])"
   ]
  },
  {
   "cell_type": "code",
   "execution_count": 4466,
   "metadata": {},
   "outputs": [],
   "source": [
    "#Converting ['SALE PRICE'] from object to float\n",
    "\n",
    "df[\"SALE PRICE\"] = df[\"SALE PRICE\"].astype(float)"
   ]
  },
  {
   "cell_type": "code",
   "execution_count": 4467,
   "metadata": {},
   "outputs": [
    {
     "data": {
      "text/plain": [
       "count    6.998700e+04\n",
       "mean     1.276456e+06\n",
       "std      1.140526e+07\n",
       "min      0.000000e+00\n",
       "25%      2.250000e+05\n",
       "50%      5.300000e+05\n",
       "75%      9.500000e+05\n",
       "max      2.210000e+09\n",
       "Name: SALE PRICE, dtype: float64"
      ]
     },
     "execution_count": 4467,
     "metadata": {},
     "output_type": "execute_result"
    }
   ],
   "source": [
    "df['SALE PRICE'].describe()"
   ]
  },
  {
   "cell_type": "code",
   "execution_count": 4468,
   "metadata": {},
   "outputs": [
    {
     "data": {
      "text/plain": [
       "0.0         10228\n",
       "10.0          766\n",
       "450000.0      427\n",
       "550000.0      416\n",
       "650000.0      414\n",
       "600000.0      409\n",
       "700000.0      382\n",
       "400000.0      378\n",
       "750000.0      377\n",
       "300000.0      351\n",
       "Name: SALE PRICE, dtype: int64"
      ]
     },
     "execution_count": 4468,
     "metadata": {},
     "output_type": "execute_result"
    }
   ],
   "source": [
    "#Checking how the values look\n",
    "\n",
    "df['SALE PRICE'].value_counts().head(10)"
   ]
  },
  {
   "cell_type": "code",
   "execution_count": 4469,
   "metadata": {},
   "outputs": [
    {
     "data": {
      "image/png": "[encoded data removed]",
      "text/plain": [
       "<Figure size 864x432 with 1 Axes>"
      ]
     },
     "metadata": {
      "needs_background": "light"
     },
     "output_type": "display_data"
    }
   ],
   "source": [
    "plt.figure(figsize=(12,6))\n",
    "sns.distplot(df['SALE PRICE'], kde=True, bins=50, rug=True)\n",
    "plt.show()"
   ]
  },
  {
   "cell_type": "code",
   "execution_count": 4470,
   "metadata": {},
   "outputs": [
    {
     "data": {
      "text/plain": [
       "0.17820452369725806"
      ]
     },
     "execution_count": 4470,
     "metadata": {},
     "output_type": "execute_result"
    }
   ],
   "source": [
    "df[(df['SALE PRICE'] < 10000) | (df['SALE PRICE'] > 10000000)]['SALE PRICE'].count() /len(df) "
   ]
  },
  {
   "cell_type": "code",
   "execution_count": 4471,
   "metadata": {},
   "outputs": [],
   "source": [
    "df= df[(df['SALE PRICE'] > 10000) & (df['SALE PRICE']<10000000)]"
   ]
  },
  {
   "cell_type": "code",
   "execution_count": 4472,
   "metadata": {},
   "outputs": [
    {
     "data": {
      "text/plain": [
       "450000.0    427\n",
       "550000.0    416\n",
       "650000.0    414\n",
       "600000.0    409\n",
       "700000.0    382\n",
       "400000.0    378\n",
       "750000.0    377\n",
       "300000.0    351\n",
       "500000.0    350\n",
       "350000.0    345\n",
       "Name: SALE PRICE, dtype: int64"
      ]
     },
     "execution_count": 4472,
     "metadata": {},
     "output_type": "execute_result"
    }
   ],
   "source": [
    "df['SALE PRICE'].value_counts().head(10)"
   ]
  },
  {
   "cell_type": "markdown",
   "metadata": {},
   "source": [
    "## Cleaning Square Feet"
   ]
  },
  {
   "cell_type": "markdown",
   "metadata": {},
   "source": [
    "There are a lot of missing values in these important features.\n",
    "We can either fill them up with the mean average or remove them like this:\n",
    "\n",
    "For the time being, lets remove this missing features"
   ]
  },
  {
   "cell_type": "code",
   "execution_count": 4473,
   "metadata": {},
   "outputs": [],
   "source": [
    "#Dropping all the NaN values\n",
    "\n",
    "df = df.dropna(subset=['LAND SQUARE FEET'])\n",
    "df = df.dropna(subset=['GROSS SQUARE FEET'])"
   ]
  },
  {
   "cell_type": "code",
   "execution_count": 4474,
   "metadata": {},
   "outputs": [],
   "source": [
    "#Converting from object to float\n",
    "\n",
    "df['LAND SQUARE FEET'] = df['LAND SQUARE FEET'].astype(float)\n",
    "df['GROSS SQUARE FEET'] = df['GROSS SQUARE FEET'].astype(float)"
   ]
  },
  {
   "cell_type": "code",
   "execution_count": 4475,
   "metadata": {},
   "outputs": [
    {
     "data": {
      "text/plain": [
       "0.0       8034\n",
       "2000.0    2350\n",
       "2500.0    2084\n",
       "4000.0    1863\n",
       "1800.0     758\n",
       "3000.0     741\n",
       "5000.0     572\n",
       "2400.0     328\n",
       "1900.0     307\n",
       "6000.0     281\n",
       "Name: LAND SQUARE FEET, dtype: int64"
      ]
     },
     "execution_count": 4475,
     "metadata": {},
     "output_type": "execute_result"
    }
   ],
   "source": [
    "df['LAND SQUARE FEET'].value_counts().head(10)"
   ]
  },
  {
   "cell_type": "code",
   "execution_count": 4476,
   "metadata": {},
   "outputs": [
    {
     "data": {
      "text/plain": [
       "0.0       8460\n",
       "1800.0     243\n",
       "1600.0     235\n",
       "1440.0     234\n",
       "2400.0     231\n",
       "2000.0     223\n",
       "1200.0     203\n",
       "1280.0     188\n",
       "3000.0     181\n",
       "1224.0     164\n",
       "Name: GROSS SQUARE FEET, dtype: int64"
      ]
     },
     "execution_count": 4476,
     "metadata": {},
     "output_type": "execute_result"
    }
   ],
   "source": [
    "df['GROSS SQUARE FEET'].value_counts().head(10)"
   ]
  },
  {
   "cell_type": "code",
   "execution_count": 4477,
   "metadata": {},
   "outputs": [],
   "source": [
    "df = df[df['LAND SQUARE FEET'] > 10]"
   ]
  },
  {
   "cell_type": "code",
   "execution_count": 4478,
   "metadata": {},
   "outputs": [],
   "source": [
    "df = df[df['GROSS SQUARE FEET'] > 10]"
   ]
  },
  {
   "cell_type": "markdown",
   "metadata": {},
   "source": [
    "## Cleaning Sale Date"
   ]
  },
  {
   "cell_type": "code",
   "execution_count": 4479,
   "metadata": {},
   "outputs": [
    {
     "data": {
      "text/plain": [
       "2017-04-28 00:00:00    192\n",
       "2016-09-22 00:00:00    190\n",
       "2016-09-30 00:00:00    180\n",
       "2017-02-28 00:00:00    179\n",
       "2016-12-22 00:00:00    179\n",
       "Name: SALE DATE, dtype: int64"
      ]
     },
     "execution_count": 4479,
     "metadata": {},
     "output_type": "execute_result"
    }
   ],
   "source": [
    "df['SALE DATE'].value_counts().head()"
   ]
  },
  {
   "cell_type": "code",
   "execution_count": 4480,
   "metadata": {},
   "outputs": [],
   "source": [
    "# Making a list with alle the different months \n",
    "\n",
    "months = ['Jan', 'Feb', 'Mar', 'Apr', 'May', 'Jun', 'Jul', 'Aug', 'Sep', 'Oct', 'Nov', 'Dec']"
   ]
  },
  {
   "cell_type": "code",
   "execution_count": 4481,
   "metadata": {},
   "outputs": [],
   "source": [
    "# Spliting Sale Date into to features, one for Month Sold and one for Year Sold. \n",
    "# This is first for making a TimeStamp feature easier to use, and for calculating \n",
    "# which month or year had the highest sales rate\n",
    "\n",
    "df['YEAR SOLD'] = [int(n[0:4]) for n in df['SALE DATE']]\n",
    "df['MONTH SOLD'] = [int(n[5:7]) for n in df['SALE DATE']]\n",
    "df = df.drop(['SALE DATE'], axis=1)"
   ]
  },
  {
   "cell_type": "code",
   "execution_count": 4482,
   "metadata": {},
   "outputs": [
    {
     "name": "stdout",
     "output_type": "stream",
     "text": [
      "<class 'pandas.core.frame.DataFrame'>\n",
      "Int64Index: 27841 entries, 0 to 84547\n",
      "Data columns (total 16 columns):\n",
      "BOROUGH                           27841 non-null int64\n",
      "NEIGHBORHOOD                      27841 non-null object\n",
      "BUILDING CLASS CATEGORY           27841 non-null object\n",
      "TAX CLASS AT PRESENT              27841 non-null object\n",
      "BUILDING CLASS AT PRESENT         27841 non-null object\n",
      "RESIDENTIAL UNITS                 27841 non-null int64\n",
      "COMMERCIAL UNITS                  27841 non-null int64\n",
      "TOTAL UNITS                       27841 non-null int64\n",
      "LAND SQUARE FEET                  27841 non-null float64\n",
      "GROSS SQUARE FEET                 27841 non-null float64\n",
      "YEAR BUILT                        27841 non-null int64\n",
      "TAX CLASS AT TIME OF SALE         27841 non-null int64\n",
      "BUILDING CLASS AT TIME OF SALE    27841 non-null object\n",
      "SALE PRICE                        27841 non-null float64\n",
      "YEAR SOLD                         27841 non-null int64\n",
      "MONTH SOLD                        27841 non-null int64\n",
      "dtypes: float64(3), int64(8), object(5)\n",
      "memory usage: 3.6+ MB\n"
     ]
    }
   ],
   "source": [
    "df.info()"
   ]
  },
  {
   "cell_type": "markdown",
   "metadata": {},
   "source": [
    "## Cleaning Tax Class"
   ]
  },
  {
   "cell_type": "code",
   "execution_count": 4483,
   "metadata": {},
   "outputs": [],
   "source": [
    "#Dropping all the NaN values\n",
    "\n",
    "df = df.dropna(subset=['TAX CLASS AT PRESENT'])"
   ]
  },
  {
   "cell_type": "code",
   "execution_count": 4484,
   "metadata": {},
   "outputs": [
    {
     "data": {
      "text/plain": [
       "1    24619\n",
       "2     2029\n",
       "4     1193\n",
       "Name: TAX CLASS AT TIME OF SALE, dtype: int64"
      ]
     },
     "execution_count": 4484,
     "metadata": {},
     "output_type": "execute_result"
    }
   ],
   "source": [
    "df['TAX CLASS AT TIME OF SALE'].value_counts()"
   ]
  },
  {
   "cell_type": "code",
   "execution_count": 4485,
   "metadata": {},
   "outputs": [],
   "source": [
    "df['TAX CLASS AT TIME OF SALE'] = df['TAX CLASS AT TIME OF SALE'].replace({1:'Class_1',\n",
    "                                                                           2:'Class_2',\n",
    "                                                                           4:'Class_4'})"
   ]
  },
  {
   "cell_type": "code",
   "execution_count": 4486,
   "metadata": {},
   "outputs": [
    {
     "data": {
      "text/plain": [
       "1     24623\n",
       "2A     1229\n",
       "4      1192\n",
       "2       420\n",
       "2B      376\n",
       "2C        1\n",
       "Name: TAX CLASS AT PRESENT, dtype: int64"
      ]
     },
     "execution_count": 4486,
     "metadata": {},
     "output_type": "execute_result"
    }
   ],
   "source": [
    "df['TAX CLASS AT PRESENT'].value_counts()"
   ]
  },
  {
   "cell_type": "code",
   "execution_count": 4487,
   "metadata": {},
   "outputs": [],
   "source": [
    "df['TAX CLASS AT PRESENT'] = df['TAX CLASS AT PRESENT'].replace({'1':'Class_1','1A':'Class_1','1B':'Class_1','1C':'Class_1',\n",
    "                                                                 '2':'Class_2','2A':'Class_2','2B':'Class_2','2C':'Class_2',\n",
    "                                                                 '3':'Class_3','4':'Class_4'})"
   ]
  },
  {
   "cell_type": "code",
   "execution_count": 4488,
   "metadata": {},
   "outputs": [],
   "source": [
    "# Converting the features to more appropiate types\n",
    "\n",
    "df['TAX CLASS AT TIME OF SALE'] = df['TAX CLASS AT TIME OF SALE'].astype('category')\n",
    "df['TAX CLASS AT PRESENT'] = df['TAX CLASS AT PRESENT'].astype('category')"
   ]
  },
  {
   "cell_type": "markdown",
   "metadata": {},
   "source": [
    "## Cleaning Buliding Class"
   ]
  },
  {
   "cell_type": "code",
   "execution_count": 4489,
   "metadata": {},
   "outputs": [
    {
     "data": {
      "text/plain": [
       "A1    4702\n",
       "A5    3993\n",
       "B2    3134\n",
       "B1    2744\n",
       "B3    2488\n",
       "Name: BUILDING CLASS AT TIME OF SALE, dtype: int64"
      ]
     },
     "execution_count": 4489,
     "metadata": {},
     "output_type": "execute_result"
    }
   ],
   "source": [
    "df['BUILDING CLASS AT TIME OF SALE'].value_counts().head()"
   ]
  },
  {
   "cell_type": "code",
   "execution_count": 4490,
   "metadata": {},
   "outputs": [],
   "source": [
    "# Converting the features to more appropiate types\n",
    "\n",
    "df['BUILDING CLASS AT TIME OF SALE'] = df['BUILDING CLASS AT TIME OF SALE'].astype('category')"
   ]
  },
  {
   "cell_type": "code",
   "execution_count": 4491,
   "metadata": {},
   "outputs": [
    {
     "data": {
      "text/plain": [
       "A1    4707\n",
       "A5    4006\n",
       "B2    3140\n",
       "B1    2748\n",
       "B3    2492\n",
       "Name: BUILDING CLASS AT PRESENT, dtype: int64"
      ]
     },
     "execution_count": 4491,
     "metadata": {},
     "output_type": "execute_result"
    }
   ],
   "source": [
    "df['BUILDING CLASS AT PRESENT'].value_counts().head()"
   ]
  },
  {
   "cell_type": "code",
   "execution_count": 4492,
   "metadata": {},
   "outputs": [],
   "source": [
    "#Dropping all the NaN values\n",
    "\n",
    "df = df.dropna(subset=['BUILDING CLASS AT PRESENT'])"
   ]
  },
  {
   "cell_type": "code",
   "execution_count": 4493,
   "metadata": {},
   "outputs": [],
   "source": [
    "df['BUILDING CLASS AT PRESENT'] = df['BUILDING CLASS AT PRESENT'].astype('category')"
   ]
  },
  {
   "cell_type": "code",
   "execution_count": 4494,
   "metadata": {},
   "outputs": [
    {
     "data": {
      "text/plain": [
       "01 ONE FAMILY DWELLINGS                        12560\n",
       "02 TWO FAMILY DWELLINGS                         9744\n",
       "03 THREE FAMILY DWELLINGS                       2292\n",
       "07 RENTALS - WALKUP APARTMENTS                  1614\n",
       "22 STORE BUILDINGS                               432\n",
       "Name: BUILDING CLASS CATEGORY, dtype: int64"
      ]
     },
     "execution_count": 4494,
     "metadata": {},
     "output_type": "execute_result"
    }
   ],
   "source": [
    "df['BUILDING CLASS CATEGORY'].value_counts().head()"
   ]
  },
  {
   "cell_type": "code",
   "execution_count": 4495,
   "metadata": {},
   "outputs": [],
   "source": [
    "df['BUILDING CLASS CATEGORY'] = df['BUILDING CLASS CATEGORY'].astype('category')"
   ]
  },
  {
   "cell_type": "markdown",
   "metadata": {},
   "source": [
    "## Cleaning Borough"
   ]
  },
  {
   "cell_type": "code",
   "execution_count": 4496,
   "metadata": {},
   "outputs": [
    {
     "data": {
      "text/plain": [
       "4    10699\n",
       "3     8226\n",
       "5     4922\n",
       "2     3349\n",
       "1      645\n",
       "Name: BOROUGH, dtype: int64"
      ]
     },
     "execution_count": 4496,
     "metadata": {},
     "output_type": "execute_result"
    }
   ],
   "source": [
    "df['BOROUGH'].value_counts()"
   ]
  },
  {
   "cell_type": "code",
   "execution_count": 4497,
   "metadata": {
    "scrolled": false
   },
   "outputs": [
    {
     "name": "stderr",
     "output_type": "stream",
     "text": [
      "C:\\Users\\Eier\\Anaconda3\\lib\\site-packages\\ipykernel_launcher.py:3: SettingWithCopyWarning: \n",
      "A value is trying to be set on a copy of a slice from a DataFrame\n",
      "\n",
      "See the caveats in the documentation: http://pandas.pydata.org/pandas-docs/stable/indexing.html#indexing-view-versus-copy\n",
      "  This is separate from the ipykernel package so we can avoid doing imports until\n"
     ]
    }
   ],
   "source": [
    "# Change borough index to borough real name in New York City\n",
    "\n",
    "df['BOROUGH'][df['BOROUGH'] == 1] = 'Manhattan'\n",
    "df['BOROUGH'][df['BOROUGH'] == 2] = 'Bronx'\n",
    "df['BOROUGH'][df['BOROUGH'] == 3] = 'Brooklyn'\n",
    "df['BOROUGH'][df['BOROUGH'] == 4] = 'Queens'\n",
    "df['BOROUGH'][df['BOROUGH'] == 5] = 'Staten Island'"
   ]
  },
  {
   "cell_type": "code",
   "execution_count": 4498,
   "metadata": {},
   "outputs": [],
   "source": [
    "df['BOROUGH'] = df['BOROUGH'].astype('category')"
   ]
  },
  {
   "cell_type": "code",
   "execution_count": 4499,
   "metadata": {},
   "outputs": [
    {
     "data": {
      "text/plain": [
       "Text(0.5, 1.0, 'Sales per Borough')"
      ]
     },
     "execution_count": 4499,
     "metadata": {},
     "output_type": "execute_result"
    },
    {
     "data": {
      "image/png": "[encoded data removed]",
      "text/plain": [
       "<Figure size 432x288 with 1 Axes>"
      ]
     },
     "metadata": {
      "needs_background": "light"
     },
     "output_type": "display_data"
    }
   ],
   "source": [
    "sns.countplot('BOROUGH',data=df,palette='Set2')\n",
    "plt.title('Sales per Borough')"
   ]
  },
  {
   "cell_type": "code",
   "execution_count": 4500,
   "metadata": {},
   "outputs": [
    {
     "data": {
      "image/png": "[encoded data removed]",
      "text/plain": [
       "<Figure size 864x432 with 1 Axes>"
      ]
     },
     "metadata": {
      "needs_background": "light"
     },
     "output_type": "display_data"
    }
   ],
   "source": [
    "plt.figure(figsize=(12,6))\n",
    "sns.boxplot(y = 'BOROUGH', x = 'SALE PRICE', data = df )\n",
    "plt.title('Box plots for SALE PRICE on each BOROUGH')\n",
    "plt.show()"
   ]
  },
  {
   "cell_type": "markdown",
   "metadata": {},
   "source": [
    "## Cleaning Year Built"
   ]
  },
  {
   "cell_type": "code",
   "execution_count": 4501,
   "metadata": {},
   "outputs": [
    {
     "data": {
      "text/plain": [
       "0      1900\n",
       "3      1913\n",
       "4      1900\n",
       "6      1920\n",
       "172    1910\n",
       "173    1900\n",
       "174    1910\n",
       "195    1899\n",
       "206    1901\n",
       "212    1920\n",
       "Name: YEAR BUILT, dtype: int64"
      ]
     },
     "execution_count": 4501,
     "metadata": {},
     "output_type": "execute_result"
    }
   ],
   "source": [
    "df['YEAR BUILT'].head(10)"
   ]
  },
  {
   "cell_type": "code",
   "execution_count": 4502,
   "metadata": {},
   "outputs": [],
   "source": [
    "df['YEAR BUILT'] = df['YEAR BUILT'].astype('category')"
   ]
  },
  {
   "cell_type": "code",
   "execution_count": 4503,
   "metadata": {},
   "outputs": [
    {
     "data": {
      "image/png": "[encoded data removed]",
      "text/plain": [
       "<Figure size 432x288 with 1 Axes>"
      ]
     },
     "metadata": {
      "needs_background": "light"
     },
     "output_type": "display_data"
    }
   ],
   "source": [
    "df=df[df['YEAR BUILT']!=0]\n",
    "sns.distplot(df['YEAR BUILT'], bins=50, rug=True)\n",
    "plt.show()"
   ]
  },
  {
   "cell_type": "markdown",
   "metadata": {},
   "source": [
    "## Cleaning \"... Units\""
   ]
  },
  {
   "cell_type": "code",
   "execution_count": 4504,
   "metadata": {},
   "outputs": [
    {
     "data": {
      "text/plain": [
       "1    12655\n",
       "2     9858\n",
       "3     2394\n",
       "0     1024\n",
       "4      676\n",
       "Name: RESIDENTIAL UNITS, dtype: int64"
      ]
     },
     "execution_count": 4504,
     "metadata": {},
     "output_type": "execute_result"
    }
   ],
   "source": [
    "df['RESIDENTIAL UNITS'].value_counts().head()"
   ]
  },
  {
   "cell_type": "code",
   "execution_count": 4505,
   "metadata": {},
   "outputs": [
    {
     "data": {
      "text/plain": [
       "0    25528\n",
       "1     1661\n",
       "2      377\n",
       "3      104\n",
       "4       61\n",
       "Name: COMMERCIAL UNITS, dtype: int64"
      ]
     },
     "execution_count": 4505,
     "metadata": {},
     "output_type": "execute_result"
    }
   ],
   "source": [
    "df['COMMERCIAL UNITS'].value_counts().head()"
   ]
  },
  {
   "cell_type": "code",
   "execution_count": 4506,
   "metadata": {},
   "outputs": [],
   "source": [
    "df = df.drop(['TOTAL UNITS'], axis=1)"
   ]
  },
  {
   "cell_type": "markdown",
   "metadata": {},
   "source": [
    "## Cleaning Neighborhood"
   ]
  },
  {
   "cell_type": "code",
   "execution_count": 4507,
   "metadata": {},
   "outputs": [],
   "source": [
    "df['NEIGHBORHOOD'] = df['NEIGHBORHOOD'].astype('category')"
   ]
  },
  {
   "cell_type": "markdown",
   "metadata": {},
   "source": [
    "## Overview"
   ]
  },
  {
   "cell_type": "code",
   "execution_count": 4508,
   "metadata": {},
   "outputs": [],
   "source": [
    "#df.head(10)"
   ]
  },
  {
   "cell_type": "code",
   "execution_count": 4509,
   "metadata": {},
   "outputs": [
    {
     "name": "stdout",
     "output_type": "stream",
     "text": [
      "<class 'pandas.core.frame.DataFrame'>\n",
      "Int64Index: 27832 entries, 0 to 84547\n",
      "Data columns (total 15 columns):\n",
      "BOROUGH                           27832 non-null category\n",
      "NEIGHBORHOOD                      27832 non-null category\n",
      "BUILDING CLASS CATEGORY           27832 non-null category\n",
      "TAX CLASS AT PRESENT              27832 non-null category\n",
      "BUILDING CLASS AT PRESENT         27832 non-null category\n",
      "RESIDENTIAL UNITS                 27832 non-null int64\n",
      "COMMERCIAL UNITS                  27832 non-null int64\n",
      "LAND SQUARE FEET                  27832 non-null float64\n",
      "GROSS SQUARE FEET                 27832 non-null float64\n",
      "YEAR BUILT                        27832 non-null category\n",
      "TAX CLASS AT TIME OF SALE         27832 non-null category\n",
      "BUILDING CLASS AT TIME OF SALE    27832 non-null category\n",
      "SALE PRICE                        27832 non-null float64\n",
      "YEAR SOLD                         27832 non-null int64\n",
      "MONTH SOLD                        27832 non-null int64\n",
      "dtypes: category(8), float64(3), int64(4)\n",
      "memory usage: 2.0 MB\n"
     ]
    }
   ],
   "source": [
    "df.info()"
   ]
  },
  {
   "cell_type": "code",
   "execution_count": 4510,
   "metadata": {},
   "outputs": [
    {
     "data": {
      "text/plain": [
       "(27832, 15)"
      ]
     },
     "execution_count": 4510,
     "metadata": {},
     "output_type": "execute_result"
    }
   ],
   "source": [
    "df.shape"
   ]
  },
  {
   "cell_type": "code",
   "execution_count": 4511,
   "metadata": {},
   "outputs": [],
   "source": [
    "num_df = df._get_numeric_data()\n",
    "cat_df = df.drop(df._get_numeric_data(), axis=1)"
   ]
  },
  {
   "cell_type": "code",
   "execution_count": 4512,
   "metadata": {},
   "outputs": [
    {
     "name": "stdout",
     "output_type": "stream",
     "text": [
      "(27832, 7)\n",
      "(27832, 8)\n"
     ]
    }
   ],
   "source": [
    "print(num_df.shape)\n",
    "print(cat_df.shape)"
   ]
  },
  {
   "cell_type": "markdown",
   "metadata": {},
   "source": [
    "## Data Preprocessing"
   ]
  },
  {
   "cell_type": "code",
   "execution_count": 4513,
   "metadata": {},
   "outputs": [
    {
     "data": {
      "text/plain": [
       "[Manhattan, Bronx, Brooklyn, Queens, Staten Island]\n",
       "Categories (5, object): [Manhattan, Bronx, Brooklyn, Queens, Staten Island]"
      ]
     },
     "execution_count": 4513,
     "metadata": {},
     "output_type": "execute_result"
    }
   ],
   "source": [
    "df['BOROUGH'].unique()"
   ]
  },
  {
   "cell_type": "code",
   "execution_count": 4514,
   "metadata": {},
   "outputs": [
    {
     "data": {
      "text/plain": [
       "{0: 'Bronx', 1: 'Brooklyn', 2: 'Manhattan', 3: 'Queens', 4: 'Staten Island'}"
      ]
     },
     "execution_count": 4514,
     "metadata": {},
     "output_type": "execute_result"
    }
   ],
   "source": [
    "labelEn = LabelEncoder()\n",
    "borough_label = labelEn.fit_transform(df['BOROUGH'])\n",
    "borough_mapping = {index: label for index, label in \n",
    "                  enumerate(labelEn.classes_)}\n",
    "\n",
    "borough_mapping"
   ]
  },
  {
   "cell_type": "code",
   "execution_count": 4515,
   "metadata": {},
   "outputs": [
    {
     "data": {
      "text/plain": [
       "[ALPHABET CITY, CHELSEA, CHINATOWN, CIVIC CENTER, CLINTON, ..., TRAVIS, WEST NEW BRIGHTON, WESTERLEIGH, WILLOWBROOK, WOODROW]\n",
       "Length: 245\n",
       "Categories (245, object): [ALPHABET CITY, CHELSEA, CHINATOWN, CIVIC CENTER, ..., WEST NEW BRIGHTON, WESTERLEIGH, WILLOWBROOK, WOODROW]"
      ]
     },
     "execution_count": 4515,
     "metadata": {},
     "output_type": "execute_result"
    }
   ],
   "source": [
    "df['NEIGHBORHOOD'].unique()"
   ]
  },
  {
   "cell_type": "code",
   "execution_count": 4516,
   "metadata": {},
   "outputs": [],
   "source": [
    "one_hot_features = ['BOROUGH', 'TAX CLASS AT PRESENT', 'TAX CLASS AT TIME OF SALE', 'BUILDING CLASS AT PRESENT', \n",
    "                    'BUILDING CLASS AT TIME OF SALE', 'BUILDING CLASS CATEGORY']"
   ]
  },
  {
   "cell_type": "code",
   "execution_count": 4517,
   "metadata": {},
   "outputs": [],
   "source": [
    "one_hot_encoded = pd.get_dummies(df[one_hot_features])"
   ]
  },
  {
   "cell_type": "code",
   "execution_count": 4518,
   "metadata": {},
   "outputs": [],
   "source": [
    "new_df = df.drop(one_hot_features,axis=1)\n",
    "new_df = pd.concat([new_df, one_hot_encoded] ,axis=1)"
   ]
  },
  {
   "cell_type": "markdown",
   "metadata": {},
   "source": [
    "# SALES PREDICTION"
   ]
  },
  {
   "cell_type": "markdown",
   "metadata": {},
   "source": [
    "## Regression"
   ]
  },
  {
   "cell_type": "code",
   "execution_count": 4520,
   "metadata": {},
   "outputs": [
    {
     "name": "stdout",
     "output_type": "stream",
     "text": [
      "The shape of the target set: (27832,)\n",
      "The shape of the dataset: (27832, 270)\n"
     ]
    }
   ],
   "source": [
    "y = new_df['SALE PRICE']\n",
    "x = new_df.drop(['SALE PRICE', 'NEIGHBORHOOD'], axis = 1)\n",
    "\n",
    "print(\"The shape of the target set:\", y.shape)\n",
    "print(\"The shape of the dataset:\", x.shape)"
   ]
  },
  {
   "cell_type": "code",
   "execution_count": 4521,
   "metadata": {},
   "outputs": [
    {
     "name": "stdout",
     "output_type": "stream",
     "text": [
      "(20874, 270)\n",
      "(20874,)\n",
      "(6958, 270)\n",
      "(6958,)\n"
     ]
    }
   ],
   "source": [
    "x_train, x_test , y_train, y_test = train_test_split(x , y, random_state = 1)\n",
    "\n",
    "print(x_train.shape)\n",
    "print(y_train.shape)\n",
    "print(x_test.shape)\n",
    "print(y_test.shape)"
   ]
  },
  {
   "cell_type": "code",
   "execution_count": 4522,
   "metadata": {},
   "outputs": [
    {
     "ename": "ValueError",
     "evalue": "could not convert string to float: 'Brooklyn'",
     "output_type": "error",
     "traceback": [
      "\u001b[1;31m---------------------------------------------------------------------------\u001b[0m",
      "\u001b[1;31mValueError\u001b[0m                                Traceback (most recent call last)",
      "\u001b[1;32m<ipython-input-4522-40c8429436b3>\u001b[0m in \u001b[0;36m<module>\u001b[1;34m\u001b[0m\n\u001b[1;32m----> 1\u001b[1;33m \u001b[0mlr\u001b[0m \u001b[1;33m=\u001b[0m \u001b[0mLinearRegression\u001b[0m\u001b[1;33m(\u001b[0m\u001b[1;33m)\u001b[0m\u001b[1;33m.\u001b[0m\u001b[0mfit\u001b[0m\u001b[1;33m(\u001b[0m\u001b[0mX_train\u001b[0m \u001b[1;33m,\u001b[0m \u001b[0my_train\u001b[0m\u001b[1;33m)\u001b[0m\u001b[1;33m\u001b[0m\u001b[1;33m\u001b[0m\u001b[0m\n\u001b[0m\u001b[0;32m      2\u001b[0m \u001b[1;33m\u001b[0m\u001b[0m\n\u001b[0;32m      3\u001b[0m \u001b[0mprint\u001b[0m\u001b[1;33m(\u001b[0m\u001b[1;34m\"Training set score: {:.2f}\"\u001b[0m\u001b[1;33m.\u001b[0m\u001b[0mformat\u001b[0m\u001b[1;33m(\u001b[0m\u001b[0mlr\u001b[0m\u001b[1;33m.\u001b[0m\u001b[0mscore\u001b[0m\u001b[1;33m(\u001b[0m\u001b[0mX_train\u001b[0m\u001b[1;33m,\u001b[0m \u001b[0my_train\u001b[0m\u001b[1;33m)\u001b[0m\u001b[1;33m)\u001b[0m\u001b[1;33m)\u001b[0m\u001b[1;33m\u001b[0m\u001b[1;33m\u001b[0m\u001b[0m\n\u001b[0;32m      4\u001b[0m \u001b[0mprint\u001b[0m\u001b[1;33m(\u001b[0m\u001b[1;34m\"Test set score: {:.2f}\"\u001b[0m\u001b[1;33m.\u001b[0m\u001b[0mformat\u001b[0m\u001b[1;33m(\u001b[0m\u001b[0mlr\u001b[0m\u001b[1;33m.\u001b[0m\u001b[0mscore\u001b[0m\u001b[1;33m(\u001b[0m\u001b[0mX_test\u001b[0m\u001b[1;33m,\u001b[0m \u001b[0my_test\u001b[0m\u001b[1;33m)\u001b[0m\u001b[1;33m)\u001b[0m\u001b[1;33m)\u001b[0m\u001b[1;33m\u001b[0m\u001b[1;33m\u001b[0m\u001b[0m\n",
      "\u001b[1;32m~\\Anaconda3\\lib\\site-packages\\sklearn\\linear_model\\base.py\u001b[0m in \u001b[0;36mfit\u001b[1;34m(self, X, y, sample_weight)\u001b[0m\n\u001b[0;32m    461\u001b[0m         \u001b[0mn_jobs_\u001b[0m \u001b[1;33m=\u001b[0m \u001b[0mself\u001b[0m\u001b[1;33m.\u001b[0m\u001b[0mn_jobs\u001b[0m\u001b[1;33m\u001b[0m\u001b[1;33m\u001b[0m\u001b[0m\n\u001b[0;32m    462\u001b[0m         X, y = check_X_y(X, y, accept_sparse=['csr', 'csc', 'coo'],\n\u001b[1;32m--> 463\u001b[1;33m                          y_numeric=True, multi_output=True)\n\u001b[0m\u001b[0;32m    464\u001b[0m \u001b[1;33m\u001b[0m\u001b[0m\n\u001b[0;32m    465\u001b[0m         \u001b[1;32mif\u001b[0m \u001b[0msample_weight\u001b[0m \u001b[1;32mis\u001b[0m \u001b[1;32mnot\u001b[0m \u001b[1;32mNone\u001b[0m \u001b[1;32mand\u001b[0m \u001b[0mnp\u001b[0m\u001b[1;33m.\u001b[0m\u001b[0matleast_1d\u001b[0m\u001b[1;33m(\u001b[0m\u001b[0msample_weight\u001b[0m\u001b[1;33m)\u001b[0m\u001b[1;33m.\u001b[0m\u001b[0mndim\u001b[0m \u001b[1;33m>\u001b[0m \u001b[1;36m1\u001b[0m\u001b[1;33m:\u001b[0m\u001b[1;33m\u001b[0m\u001b[1;33m\u001b[0m\u001b[0m\n",
      "\u001b[1;32m~\\Anaconda3\\lib\\site-packages\\sklearn\\utils\\validation.py\u001b[0m in \u001b[0;36mcheck_X_y\u001b[1;34m(X, y, accept_sparse, accept_large_sparse, dtype, order, copy, force_all_finite, ensure_2d, allow_nd, multi_output, ensure_min_samples, ensure_min_features, y_numeric, warn_on_dtype, estimator)\u001b[0m\n\u001b[0;32m    717\u001b[0m                     \u001b[0mensure_min_features\u001b[0m\u001b[1;33m=\u001b[0m\u001b[0mensure_min_features\u001b[0m\u001b[1;33m,\u001b[0m\u001b[1;33m\u001b[0m\u001b[1;33m\u001b[0m\u001b[0m\n\u001b[0;32m    718\u001b[0m                     \u001b[0mwarn_on_dtype\u001b[0m\u001b[1;33m=\u001b[0m\u001b[0mwarn_on_dtype\u001b[0m\u001b[1;33m,\u001b[0m\u001b[1;33m\u001b[0m\u001b[1;33m\u001b[0m\u001b[0m\n\u001b[1;32m--> 719\u001b[1;33m                     estimator=estimator)\n\u001b[0m\u001b[0;32m    720\u001b[0m     \u001b[1;32mif\u001b[0m \u001b[0mmulti_output\u001b[0m\u001b[1;33m:\u001b[0m\u001b[1;33m\u001b[0m\u001b[1;33m\u001b[0m\u001b[0m\n\u001b[0;32m    721\u001b[0m         y = check_array(y, 'csr', force_all_finite=True, ensure_2d=False,\n",
      "\u001b[1;32m~\\Anaconda3\\lib\\site-packages\\sklearn\\utils\\validation.py\u001b[0m in \u001b[0;36mcheck_array\u001b[1;34m(array, accept_sparse, accept_large_sparse, dtype, order, copy, force_all_finite, ensure_2d, allow_nd, ensure_min_samples, ensure_min_features, warn_on_dtype, estimator)\u001b[0m\n\u001b[0;32m    534\u001b[0m         \u001b[1;31m# make sure we actually converted to numeric:\u001b[0m\u001b[1;33m\u001b[0m\u001b[1;33m\u001b[0m\u001b[1;33m\u001b[0m\u001b[0m\n\u001b[0;32m    535\u001b[0m         \u001b[1;32mif\u001b[0m \u001b[0mdtype_numeric\u001b[0m \u001b[1;32mand\u001b[0m \u001b[0marray\u001b[0m\u001b[1;33m.\u001b[0m\u001b[0mdtype\u001b[0m\u001b[1;33m.\u001b[0m\u001b[0mkind\u001b[0m \u001b[1;33m==\u001b[0m \u001b[1;34m\"O\"\u001b[0m\u001b[1;33m:\u001b[0m\u001b[1;33m\u001b[0m\u001b[1;33m\u001b[0m\u001b[0m\n\u001b[1;32m--> 536\u001b[1;33m             \u001b[0marray\u001b[0m \u001b[1;33m=\u001b[0m \u001b[0marray\u001b[0m\u001b[1;33m.\u001b[0m\u001b[0mastype\u001b[0m\u001b[1;33m(\u001b[0m\u001b[0mnp\u001b[0m\u001b[1;33m.\u001b[0m\u001b[0mfloat64\u001b[0m\u001b[1;33m)\u001b[0m\u001b[1;33m\u001b[0m\u001b[1;33m\u001b[0m\u001b[0m\n\u001b[0m\u001b[0;32m    537\u001b[0m         \u001b[1;32mif\u001b[0m \u001b[1;32mnot\u001b[0m \u001b[0mallow_nd\u001b[0m \u001b[1;32mand\u001b[0m \u001b[0marray\u001b[0m\u001b[1;33m.\u001b[0m\u001b[0mndim\u001b[0m \u001b[1;33m>=\u001b[0m \u001b[1;36m3\u001b[0m\u001b[1;33m:\u001b[0m\u001b[1;33m\u001b[0m\u001b[1;33m\u001b[0m\u001b[0m\n\u001b[0;32m    538\u001b[0m             raise ValueError(\"Found array with dim %d. %s expected <= 2.\"\n",
      "\u001b[1;31mValueError\u001b[0m: could not convert string to float: 'Brooklyn'"
     ]
    }
   ],
   "source": [
    "lr = LinearRegression().fit(X_train , y_train)\n",
    "\n",
    "print(\"Training set score: {:.2f}\".format(lr.score(X_train, y_train)))\n",
    "print(\"Test set score: {:.2f}\".format(lr.score(X_test, y_test)))"
   ]
  },
  {
   "cell_type": "code",
   "execution_count": null,
   "metadata": {},
   "outputs": [],
   "source": []
  },
  {
   "cell_type": "code",
   "execution_count": null,
   "metadata": {},
   "outputs": [],
   "source": []
  },
  {
   "cell_type": "markdown",
   "metadata": {},
   "source": [
    "## Classification"
   ]
  },
  {
   "cell_type": "code",
   "execution_count": null,
   "metadata": {},
   "outputs": [],
   "source": []
  },
  {
   "cell_type": "code",
   "execution_count": null,
   "metadata": {},
   "outputs": [],
   "source": []
  },
  {
   "cell_type": "code",
   "execution_count": null,
   "metadata": {},
   "outputs": [],
   "source": []
  },
  {
   "cell_type": "code",
   "execution_count": null,
   "metadata": {},
   "outputs": [],
   "source": []
  },
  {
   "cell_type": "code",
   "execution_count": null,
   "metadata": {},
   "outputs": [],
   "source": []
  },
  {
   "cell_type": "code",
   "execution_count": null,
   "metadata": {},
   "outputs": [],
   "source": []
  }
 ],
 "metadata": {
  "kernelspec": {
   "display_name": "Python 3",
   "language": "python",
   "name": "python3"
  },
  "language_info": {
   "codemirror_mode": {
    "name": "ipython",
    "version": 3
   },
   "file_extension": ".py",
   "mimetype": "text/x-python",
   "name": "python",
   "nbconvert_exporter": "python",
   "pygments_lexer": "ipython3",
   "version": "3.7.3"
  }
 },
 "nbformat": 4,
 "nbformat_minor": 2
}